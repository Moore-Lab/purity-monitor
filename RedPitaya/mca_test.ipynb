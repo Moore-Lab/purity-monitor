{
 "cells": [
  {
   "cell_type": "code",
   "execution_count": 1,
   "metadata": {},
   "outputs": [],
   "source": [
    "import time\n",
    "import redpitaya_mca as mca\n",
    "import matplotlib.pyplot as plt\n",
    "from IPython import display\n",
    "%matplotlib inline"
   ]
  },
  {
   "cell_type": "code",
   "execution_count": 2,
   "metadata": {},
   "outputs": [],
   "source": [
    "rp = mca.mca()\n",
    "channel_to_use = 1 ## 0 or 1"
   ]
  },
  {
   "cell_type": "code",
   "execution_count": 3,
   "metadata": {},
   "outputs": [],
   "source": [
    "rp.setup_mca(chan=channel_to_use, baseline_level=0)\n",
    "rp.reset_histo(chan=channel_to_use)\n",
    "rp.start_histo(chan=1)"
   ]
  },
  {
   "cell_type": "code",
   "execution_count": 4,
   "metadata": {},
   "outputs": [
    {
     "data": {
      "image/png": "[encoded data removed]",
      "text/plain": [
       "<Figure size 432x288 with 1 Axes>"
      ]
     },
     "metadata": {},
     "output_type": "display_data"
    }
   ],
   "source": [
    "fig=plt.figure()\n",
    "fig.patch.set_facecolor('white')\n",
    "\n",
    "hfig = display.display(fig, display_id=True)\n",
    "\n",
    "\n",
    "for i in range(20):\n",
    "    dat = rp.read_histo_data(chan=1)\n",
    "\n",
    "    plt.clf()\n",
    "    plt.plot(dat, color='k')\n",
    "    #plt.xlim(15850, 15950)\n",
    "    plt.ylim(0,1000)\n",
    "    hfig.update(fig)\n",
    "    time.sleep(1.0)\n",
    "\n"
   ]
  },
  {
   "cell_type": "code",
   "execution_count": 8,
   "metadata": {},
   "outputs": [],
   "source": [
    "rp.close()"
   ]
  },
  {
   "cell_type": "code",
   "execution_count": null,
   "metadata": {},
   "outputs": [],
   "source": []
  }
 ],
 "metadata": {
  "interpreter": {
   "hash": "e5e622b25f84b7135d4643d5fac34167b855b0a6d41d1f6695eb3e0f89a915df"
  },
  "kernelspec": {
   "display_name": "Python 3.8.5 ('base')",
   "language": "python",
   "name": "python3"
  },
  "language_info": {
   "codemirror_mode": {
    "name": "ipython",
    "version": 3
   },
   "file_extension": ".py",
   "mimetype": "text/x-python",
   "name": "python",
   "nbconvert_exporter": "python",
   "pygments_lexer": "ipython3",
   "version": "3.8.5"
  },
  "orig_nbformat": 4
 },
 "nbformat": 4,
 "nbformat_minor": 2
}
