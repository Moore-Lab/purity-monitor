{
 "cells": [
  {
   "cell_type": "code",
   "execution_count": 4,
   "id": "5239a643",
   "metadata": {},
   "outputs": [],
   "source": [
    "import datetime as dt\n",
    "import pandas as pd\n",
    "import numpy as np\n",
    "import sys\n",
    "\n",
    "import glob\n",
    "import matplotlib.colors as colors\n",
    "import matplotlib.pyplot as plt \n",
    "from mpl_toolkits.axes_grid1 import make_axes_locatable\n",
    "params = {'font.size':14,'font.family':'lmodern','xtick.labelsize':16, 'ytick.labelsize':16,}\n",
    "\n",
    "# plt.style.use('../../style.mplstyle')\n",
    "# colors = plt.rcParams['axes.prop_cycle'].by_key()['color']\n",
    "\n",
    "sys.path.insert(0, '../purity-monitor/')\n",
    "sys.path.insert(0, '../../WaveformAnalysis/')\n",
    "# import Dataset as Dataset\n",
    "# import StandMonitor as Monitor\n",
    "# import PlotFunctions as Plt\n",
    "# import importlib\n",
    "# importlib.reload(Dataset)\n",
    "# importlib.reload(Monitor)\n",
    "# importlib.reload(Plt)\n",
    "# import scipy as sp\n",
    "# from scipy.optimize import curve_fit\n",
    "# from scipy.stats import norm\n",
    "# from scipy.special import erfc\n",
    "# import scipy.signal as spsig"
   ]
  },
  {
   "cell_type": "code",
   "execution_count": 1,
   "id": "70620cf0",
   "metadata": {},
   "outputs": [
    {
     "data": {
      "text/plain": [
       "'/gpfs/loomis/project/david_moore/ab2935/purity-monitor/Jupyter'"
      ]
     },
     "execution_count": 1,
     "metadata": {},
     "output_type": "execute_result"
    }
   ],
   "source": [
    "pwd"
   ]
  },
  {
   "cell_type": "code",
   "execution_count": null,
   "id": "23f4ecfc",
   "metadata": {},
   "outputs": [],
   "source": []
  }
 ],
 "metadata": {
  "kernelspec": {
   "display_name": "Python 3",
   "language": "python",
   "name": "python3"
  },
  "language_info": {
   "codemirror_mode": {
    "name": "ipython",
    "version": 3
   },
   "file_extension": ".py",
   "mimetype": "text/x-python",
   "name": "python",
   "nbconvert_exporter": "python",
   "pygments_lexer": "ipython3",
   "version": "3.6.9"
  }
 },
 "nbformat": 4,
 "nbformat_minor": 5
}
