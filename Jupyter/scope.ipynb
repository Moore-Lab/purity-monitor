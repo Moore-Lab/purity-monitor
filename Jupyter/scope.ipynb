{
 "cells": [
  {
   "cell_type": "code",
   "execution_count": 1,
   "metadata": {},
   "outputs": [],
   "source": [
    "from RsInstrument import *  # The RsInstrument package is hosted on pypi.org, see Readme.txt for more details\n",
    "from time import time\n",
    "import matplotlib.pyplot as plt\n",
    "import numpy as np"
   ]
  },
  {
   "cell_type": "code",
   "execution_count": 2,
   "metadata": {},
   "outputs": [],
   "source": [
    "rtb = RsInstrument('TCPIP::169.254.146.117::INSTR', True, False)\n",
    "rtb.visa_timeout = 10000  # Timeout for VISA Read Operations\n",
    "rtb.opc_timeout = 15000  # Timeout for opc-synchronised operations\n",
    "rtb.instrument_status_checking = True  # Error check after each command"
   ]
  },
  {
   "cell_type": "code",
   "execution_count": 3,
   "metadata": {},
   "outputs": [
    {
     "name": "stdout",
     "output_type": "stream",
     "text": [
      "RTB2000 IDN: Rohde&Schwarz,RTB2004,1333.1005k04/102215,01.210\n",
      "RTB2000 Options: B242\n"
     ]
    }
   ],
   "source": [
    "print(f'RTB2000 IDN: {rtb.idn_string}')\n",
    "print(f'RTB2000 Options: {\",\".join(rtb.instrument_options)}')\n",
    "\n",
    "rtb.clear_status()\n",
    "rtb.reset()"
   ]
  },
  {
   "cell_type": "code",
   "execution_count": 4,
   "metadata": {},
   "outputs": [],
   "source": [
    "rtb.write_str(\"TIM:ACQT 0.0001\")  # 10ms Acquisition time\n",
    "rtb.write_str(\"CHAN1:RANG 10\")  # Horizontal range 5V (0.5V/div)\n",
    "rtb.write_str(\"CHAN1:OFFS 0.0\")  # Offset 0\n",
    "rtb.write_str(\"CHAN1:COUP ACL\")  # Coupling AC 1MOhm\n",
    "rtb.write_str(\"CHAN1:STAT ON\")  # Switch Channel 1 ON"
   ]
  },
  {
   "cell_type": "code",
   "execution_count": 5,
   "metadata": {},
   "outputs": [
    {
     "data": {
      "text/plain": [
       "True"
      ]
     },
     "execution_count": 5,
     "metadata": {},
     "output_type": "execute_result"
    }
   ],
   "source": [
    "rtb.write_str(\"TRIG:A:MODE NORM\")  # Trigger Auto mode in case of no signal is applied\n",
    "rtb.write_str(\"TRIG:A:TYPE EDGE;:TRIG:A:EDGE:SLOP POS\")  # Trigger type Edge Positive\n",
    "rtb.write_str(\"TRIG:A:SOUR CH1\")  # Trigger source CH1\n",
    "rtb.write_str(\"TRIG:A:LEV1 1\")  # Trigger level 0.05V\n",
    "rtb.query_opc()  # Using *OPC? query waits until all the instrument settings are finished"
   ]
  },
  {
   "cell_type": "code",
   "execution_count": 6,
   "metadata": {},
   "outputs": [],
   "source": [
    "# rtb.write_str(\"SYSTem:COMMunicate:INTerface:ETHernet:TRANsfer FD100\")\n",
    "# rtb.write_str(\"CHAN1:TYPE HRES\")\n",
    "# rtb.write_str(\"CHAN1:DATA:POIN DMAX\")\n"
   ]
  },
  {
   "cell_type": "code",
   "execution_count": 7,
   "metadata": {},
   "outputs": [],
   "source": [
    "rtb.VisaTimeout = 10000  # Acquisition timeout - set it higher than the acquisition time\n"
   ]
  },
  {
   "cell_type": "code",
   "execution_count": 8,
   "metadata": {},
   "outputs": [
    {
     "data": {
      "text/plain": [
       "True"
      ]
     },
     "execution_count": 8,
     "metadata": {},
     "output_type": "execute_result"
    }
   ],
   "source": [
    "rtb.query_opc()  # Using *OPC? query waits until the instrument finished the Acquisition"
   ]
  },
  {
   "cell_type": "code",
   "execution_count": null,
   "metadata": {},
   "outputs": [],
   "source": []
  },
  {
   "cell_type": "code",
   "execution_count": 9,
   "metadata": {},
   "outputs": [
    {
     "ename": "StatusException",
     "evalue": "'TCPIP::169.254.146.117::INSTR': Query 'ACQuire:SEGM:STAT ON' - VISA Timeout error occurred (10000 milliseconds) and ... Instrument error detected: -113,\"Undefined header\"",
     "output_type": "error",
     "traceback": [
      "\u001b[1;31m---------------------------------------------------------------------------\u001b[0m",
      "\u001b[1;31mVisaIOError\u001b[0m                               Traceback (most recent call last)",
      "\u001b[1;32m~\\anaconda3\\lib\\site-packages\\RsInstrument\\Internal\\VisaSession.py\u001b[0m in \u001b[0;36mquery_str\u001b[1;34m(self, query)\u001b[0m\n\u001b[0;32m    807\u001b[0m                 \u001b[1;32mtry\u001b[0m\u001b[1;33m:\u001b[0m\u001b[1;33m\u001b[0m\u001b[1;33m\u001b[0m\u001b[0m\n\u001b[1;32m--> 808\u001b[1;33m                         \u001b[0mresponse\u001b[0m \u001b[1;33m=\u001b[0m \u001b[0mself\u001b[0m\u001b[1;33m.\u001b[0m\u001b[0m_read_str\u001b[0m\u001b[1;33m(\u001b[0m\u001b[1;33m)\u001b[0m\u001b[1;33m\u001b[0m\u001b[1;33m\u001b[0m\u001b[0m\n\u001b[0m\u001b[0;32m    809\u001b[0m                 \u001b[1;32mexcept\u001b[0m \u001b[0mpyvisa\u001b[0m\u001b[1;33m.\u001b[0m\u001b[0mVisaIOError\u001b[0m\u001b[1;33m:\u001b[0m\u001b[1;33m\u001b[0m\u001b[1;33m\u001b[0m\u001b[0m\n",
      "\u001b[1;32m~\\anaconda3\\lib\\site-packages\\RsInstrument\\Internal\\VisaSession.py\u001b[0m in \u001b[0;36m_read_str\u001b[1;34m(self)\u001b[0m\n\u001b[0;32m    798\u001b[0m                 \u001b[0mstream\u001b[0m \u001b[1;33m=\u001b[0m \u001b[0mStreamWriter\u001b[0m\u001b[1;33m.\u001b[0m\u001b[0mas_string_var\u001b[0m\u001b[1;33m(\u001b[0m\u001b[1;33m)\u001b[0m\u001b[1;33m\u001b[0m\u001b[1;33m\u001b[0m\u001b[0m\n\u001b[1;32m--> 799\u001b[1;33m                 \u001b[0mself\u001b[0m\u001b[1;33m.\u001b[0m\u001b[0m_read_unknown_len\u001b[0m\u001b[1;33m(\u001b[0m\u001b[0mstream\u001b[0m\u001b[1;33m,\u001b[0m \u001b[1;32mTrue\u001b[0m\u001b[1;33m)\u001b[0m\u001b[1;33m\u001b[0m\u001b[1;33m\u001b[0m\u001b[0m\n\u001b[0m\u001b[0;32m    800\u001b[0m                 \u001b[1;32mreturn\u001b[0m \u001b[0mstream\u001b[0m\u001b[1;33m.\u001b[0m\u001b[0mcontent\u001b[0m\u001b[1;33m\u001b[0m\u001b[1;33m\u001b[0m\u001b[0m\n",
      "\u001b[1;32m~\\anaconda3\\lib\\site-packages\\RsInstrument\\Internal\\VisaSession.py\u001b[0m in \u001b[0;36m_read_unknown_len\u001b[1;34m(self, stream, allow_chunk_events, prepend_data)\u001b[0m\n\u001b[0;32m    712\u001b[0m                                         \u001b[0mchunk_size\u001b[0m \u001b[1;33m=\u001b[0m \u001b[0mself\u001b[0m\u001b[1;33m.\u001b[0m\u001b[0m_data_chunk_size\u001b[0m\u001b[1;33m\u001b[0m\u001b[1;33m\u001b[0m\u001b[0m\n\u001b[1;32m--> 713\u001b[1;33m                                 \u001b[0mchunk\u001b[0m\u001b[1;33m,\u001b[0m \u001b[0mself\u001b[0m\u001b[1;33m.\u001b[0m\u001b[0mlast_status\u001b[0m \u001b[1;33m=\u001b[0m \u001b[0mself\u001b[0m\u001b[1;33m.\u001b[0m\u001b[0m_session\u001b[0m\u001b[1;33m.\u001b[0m\u001b[0mvisalib\u001b[0m\u001b[1;33m.\u001b[0m\u001b[0mread\u001b[0m\u001b[1;33m(\u001b[0m\u001b[0mself\u001b[0m\u001b[1;33m.\u001b[0m\u001b[0m_session\u001b[0m\u001b[1;33m.\u001b[0m\u001b[0msession\u001b[0m\u001b[1;33m,\u001b[0m \u001b[0mchunk_size\u001b[0m\u001b[1;33m)\u001b[0m\u001b[1;33m\u001b[0m\u001b[1;33m\u001b[0m\u001b[0m\n\u001b[0m\u001b[0;32m    714\u001b[0m                                 \u001b[1;32mif\u001b[0m \u001b[0mchunk_ix\u001b[0m \u001b[1;33m==\u001b[0m \u001b[1;36m0\u001b[0m \u001b[1;32mand\u001b[0m \u001b[0mprepend_data\u001b[0m\u001b[1;33m:\u001b[0m\u001b[1;33m\u001b[0m\u001b[1;33m\u001b[0m\u001b[0m\n",
      "\u001b[1;32m~\\anaconda3\\lib\\site-packages\\pyvisa\\ctwrapper\\functions.py\u001b[0m in \u001b[0;36mread\u001b[1;34m(library, session, count)\u001b[0m\n\u001b[0;32m   2336\u001b[0m     \u001b[0mreturn_count\u001b[0m \u001b[1;33m=\u001b[0m \u001b[0mViUInt32\u001b[0m\u001b[1;33m(\u001b[0m\u001b[1;33m)\u001b[0m\u001b[1;33m\u001b[0m\u001b[1;33m\u001b[0m\u001b[0m\n\u001b[1;32m-> 2337\u001b[1;33m     \u001b[0mret\u001b[0m \u001b[1;33m=\u001b[0m \u001b[0mlibrary\u001b[0m\u001b[1;33m.\u001b[0m\u001b[0mviRead\u001b[0m\u001b[1;33m(\u001b[0m\u001b[0msession\u001b[0m\u001b[1;33m,\u001b[0m \u001b[0mbuffer\u001b[0m\u001b[1;33m,\u001b[0m \u001b[0mcount\u001b[0m\u001b[1;33m,\u001b[0m \u001b[0mbyref\u001b[0m\u001b[1;33m(\u001b[0m\u001b[0mreturn_count\u001b[0m\u001b[1;33m)\u001b[0m\u001b[1;33m)\u001b[0m\u001b[1;33m\u001b[0m\u001b[1;33m\u001b[0m\u001b[0m\n\u001b[0m\u001b[0;32m   2338\u001b[0m     \u001b[1;32mreturn\u001b[0m \u001b[0mbuffer\u001b[0m\u001b[1;33m.\u001b[0m\u001b[0mraw\u001b[0m\u001b[1;33m[\u001b[0m\u001b[1;33m:\u001b[0m \u001b[0mreturn_count\u001b[0m\u001b[1;33m.\u001b[0m\u001b[0mvalue\u001b[0m\u001b[1;33m]\u001b[0m\u001b[1;33m,\u001b[0m \u001b[0mret\u001b[0m\u001b[1;33m\u001b[0m\u001b[1;33m\u001b[0m\u001b[0m\n",
      "\u001b[1;32m~\\anaconda3\\lib\\site-packages\\pyvisa\\ctwrapper\\highlevel.py\u001b[0m in \u001b[0;36m_return_handler\u001b[1;34m(self, ret_value, func, arguments)\u001b[0m\n\u001b[0;32m    221\u001b[0m \u001b[1;33m\u001b[0m\u001b[0m\n\u001b[1;32m--> 222\u001b[1;33m         \u001b[1;32mreturn\u001b[0m \u001b[0mself\u001b[0m\u001b[1;33m.\u001b[0m\u001b[0mhandle_return_value\u001b[0m\u001b[1;33m(\u001b[0m\u001b[0msession\u001b[0m\u001b[1;33m,\u001b[0m \u001b[0mret_value\u001b[0m\u001b[1;33m)\u001b[0m  \u001b[1;31m# type: ignore\u001b[0m\u001b[1;33m\u001b[0m\u001b[1;33m\u001b[0m\u001b[0m\n\u001b[0m\u001b[0;32m    223\u001b[0m \u001b[1;33m\u001b[0m\u001b[0m\n",
      "\u001b[1;32m~\\anaconda3\\lib\\site-packages\\pyvisa\\highlevel.py\u001b[0m in \u001b[0;36mhandle_return_value\u001b[1;34m(self, session, status_code)\u001b[0m\n\u001b[0;32m    250\u001b[0m         \u001b[1;32mif\u001b[0m \u001b[0mrv\u001b[0m \u001b[1;33m<\u001b[0m \u001b[1;36m0\u001b[0m\u001b[1;33m:\u001b[0m\u001b[1;33m\u001b[0m\u001b[1;33m\u001b[0m\u001b[0m\n\u001b[1;32m--> 251\u001b[1;33m             \u001b[1;32mraise\u001b[0m \u001b[0merrors\u001b[0m\u001b[1;33m.\u001b[0m\u001b[0mVisaIOError\u001b[0m\u001b[1;33m(\u001b[0m\u001b[0mrv\u001b[0m\u001b[1;33m)\u001b[0m\u001b[1;33m\u001b[0m\u001b[1;33m\u001b[0m\u001b[0m\n\u001b[0m\u001b[0;32m    252\u001b[0m \u001b[1;33m\u001b[0m\u001b[0m\n",
      "\u001b[1;31mVisaIOError\u001b[0m: VI_ERROR_TMO (-1073807339): Timeout expired before operation completed.",
      "\nDuring handling of the above exception, another exception occurred:\n",
      "\u001b[1;31mStatusException\u001b[0m                           Traceback (most recent call last)",
      "\u001b[1;32m<ipython-input-9-95cf84fb2c8b>\u001b[0m in \u001b[0;36m<module>\u001b[1;34m\u001b[0m\n\u001b[0;32m      4\u001b[0m \u001b[0mrtb\u001b[0m\u001b[1;33m.\u001b[0m\u001b[0mwrite_str\u001b[0m\u001b[1;33m(\u001b[0m\u001b[1;34m\"ACQuire:POINts 10000\"\u001b[0m\u001b[1;33m)\u001b[0m\u001b[1;33m\u001b[0m\u001b[1;33m\u001b[0m\u001b[0m\n\u001b[0;32m      5\u001b[0m \u001b[0mrtb\u001b[0m\u001b[1;33m.\u001b[0m\u001b[0mwrite_str\u001b[0m\u001b[1;33m(\u001b[0m\u001b[1;34m\"ACQuire:NSINgle:COUNt 10\"\u001b[0m\u001b[1;33m)\u001b[0m\u001b[1;33m\u001b[0m\u001b[1;33m\u001b[0m\u001b[0m\n\u001b[1;32m----> 6\u001b[1;33m \u001b[0mrtb\u001b[0m\u001b[1;33m.\u001b[0m\u001b[0mquery\u001b[0m\u001b[1;33m(\u001b[0m\u001b[1;34m\"ACQuire:SEGM:STAT ON\"\u001b[0m\u001b[1;33m)\u001b[0m\u001b[1;33m\u001b[0m\u001b[1;33m\u001b[0m\u001b[0m\n\u001b[0m\u001b[0;32m      7\u001b[0m \u001b[0mprint\u001b[0m\u001b[1;33m(\u001b[0m\u001b[0mrtb\u001b[0m\u001b[1;33m.\u001b[0m\u001b[0mquery\u001b[0m\u001b[1;33m(\u001b[0m\u001b[1;34m\"ACQuire:POINts?\"\u001b[0m\u001b[1;33m)\u001b[0m\u001b[1;33m)\u001b[0m\u001b[1;33m\u001b[0m\u001b[1;33m\u001b[0m\u001b[0m\n\u001b[0;32m      8\u001b[0m \u001b[0mprint\u001b[0m\u001b[1;33m(\u001b[0m\u001b[0mrtb\u001b[0m\u001b[1;33m.\u001b[0m\u001b[0mquery\u001b[0m\u001b[1;33m(\u001b[0m\u001b[1;34m\"ACQuire:SRATe?\"\u001b[0m\u001b[1;33m)\u001b[0m\u001b[1;33m)\u001b[0m\u001b[1;33m\u001b[0m\u001b[1;33m\u001b[0m\u001b[0m\n",
      "\u001b[1;32m~\\anaconda3\\lib\\site-packages\\RsInstrument\\RsInstrument.py\u001b[0m in \u001b[0;36mquery\u001b[1;34m(self, query)\u001b[0m\n\u001b[0;32m    349\u001b[0m                 \u001b[0mThe\u001b[0m \u001b[0mresponse\u001b[0m \u001b[1;32mis\u001b[0m \u001b[0mtrimmed\u001b[0m \u001b[0mof\u001b[0m \u001b[0many\u001b[0m \u001b[0mtrailing\u001b[0m \u001b[0mLF\u001b[0m \u001b[0mcharacters\u001b[0m \u001b[1;32mand\u001b[0m \u001b[0mhas\u001b[0m \u001b[0mno\u001b[0m \u001b[0mlength\u001b[0m \u001b[0mlimit\u001b[0m\u001b[1;33m.\u001b[0m\u001b[1;33m\u001b[0m\u001b[1;33m\u001b[0m\u001b[0m\n\u001b[0;32m    350\u001b[0m \t\tThis method is an alias to the query_str() method.\"\"\"\n\u001b[1;32m--> 351\u001b[1;33m                 \u001b[1;32mreturn\u001b[0m \u001b[0mself\u001b[0m\u001b[1;33m.\u001b[0m\u001b[0m_core\u001b[0m\u001b[1;33m.\u001b[0m\u001b[0mio\u001b[0m\u001b[1;33m.\u001b[0m\u001b[0mquery_str\u001b[0m\u001b[1;33m(\u001b[0m\u001b[0mquery\u001b[0m\u001b[1;33m)\u001b[0m\u001b[1;33m\u001b[0m\u001b[1;33m\u001b[0m\u001b[0m\n\u001b[0m\u001b[0;32m    352\u001b[0m \u001b[1;33m\u001b[0m\u001b[0m\n\u001b[0;32m    353\u001b[0m         \u001b[1;32mdef\u001b[0m \u001b[0mquery_str\u001b[0m\u001b[1;33m(\u001b[0m\u001b[0mself\u001b[0m\u001b[1;33m,\u001b[0m \u001b[0mquery\u001b[0m\u001b[1;33m:\u001b[0m \u001b[0mstr\u001b[0m\u001b[1;33m)\u001b[0m \u001b[1;33m->\u001b[0m \u001b[0mstr\u001b[0m\u001b[1;33m:\u001b[0m\u001b[1;33m\u001b[0m\u001b[1;33m\u001b[0m\u001b[0m\n",
      "\u001b[1;32m~\\anaconda3\\lib\\site-packages\\RsInstrument\\Internal\\Instrument.py\u001b[0m in \u001b[0;36mquery_str\u001b[1;34m(self, query, block_callback, log_info)\u001b[0m\n\u001b[0;32m    609\u001b[0m                                 \u001b[0mself\u001b[0m\u001b[1;33m.\u001b[0m\u001b[0mstart_send_read_event\u001b[0m\u001b[1;33m(\u001b[0m\u001b[0mquery\u001b[0m\u001b[1;33m,\u001b[0m \u001b[1;32mFalse\u001b[0m\u001b[1;33m)\u001b[0m\u001b[1;33m\u001b[0m\u001b[1;33m\u001b[0m\u001b[0m\n\u001b[0;32m    610\u001b[0m                                 \u001b[0mself\u001b[0m\u001b[1;33m.\u001b[0m\u001b[0m_call_pre_query_handler\u001b[0m\u001b[1;33m(\u001b[0m\u001b[0mquery\u001b[0m\u001b[1;33m,\u001b[0m \u001b[0mblock_callback\u001b[0m\u001b[1;33m)\u001b[0m\u001b[1;33m\u001b[0m\u001b[1;33m\u001b[0m\u001b[0m\n\u001b[1;32m--> 611\u001b[1;33m                                 \u001b[0mresponse\u001b[0m \u001b[1;33m=\u001b[0m \u001b[0mself\u001b[0m\u001b[1;33m.\u001b[0m\u001b[0m_session\u001b[0m\u001b[1;33m.\u001b[0m\u001b[0mquery_str\u001b[0m\u001b[1;33m(\u001b[0m\u001b[0mquery\u001b[0m\u001b[1;33m)\u001b[0m\u001b[1;33m\u001b[0m\u001b[1;33m\u001b[0m\u001b[0m\n\u001b[0m\u001b[0;32m    612\u001b[0m                                 \u001b[0mself\u001b[0m\u001b[1;33m.\u001b[0m\u001b[0mend_send_read_event\u001b[0m\u001b[1;33m(\u001b[0m\u001b[1;33m)\u001b[0m\u001b[1;33m\u001b[0m\u001b[1;33m\u001b[0m\u001b[0m\n\u001b[0;32m    613\u001b[0m                                 \u001b[0mself\u001b[0m\u001b[1;33m.\u001b[0m\u001b[0m_log_info\u001b[0m\u001b[1;33m(\u001b[0m\u001b[0mlog_info\u001b[0m\u001b[1;33m,\u001b[0m \u001b[1;34mf'{query} {response}'\u001b[0m\u001b[1;33m)\u001b[0m\u001b[1;33m\u001b[0m\u001b[1;33m\u001b[0m\u001b[0m\n",
      "\u001b[1;32m~\\anaconda3\\lib\\site-packages\\RsInstrument\\Internal\\VisaSession.py\u001b[0m in \u001b[0;36mquery_str\u001b[1;34m(self, query)\u001b[0m\n\u001b[0;32m    808\u001b[0m                         \u001b[0mresponse\u001b[0m \u001b[1;33m=\u001b[0m \u001b[0mself\u001b[0m\u001b[1;33m.\u001b[0m\u001b[0m_read_str\u001b[0m\u001b[1;33m(\u001b[0m\u001b[1;33m)\u001b[0m\u001b[1;33m\u001b[0m\u001b[1;33m\u001b[0m\u001b[0m\n\u001b[0;32m    809\u001b[0m                 \u001b[1;32mexcept\u001b[0m \u001b[0mpyvisa\u001b[0m\u001b[1;33m.\u001b[0m\u001b[0mVisaIOError\u001b[0m\u001b[1;33m:\u001b[0m\u001b[1;33m\u001b[0m\u001b[1;33m\u001b[0m\u001b[0m\n\u001b[1;32m--> 810\u001b[1;33m                         \u001b[0mself\u001b[0m\u001b[1;33m.\u001b[0m\u001b[0m_narrow_down_io_tout_error\u001b[0m\u001b[1;33m(\u001b[0m\u001b[1;34mf\"Query '{query.rstrip(self._term_char)}' - \"\u001b[0m\u001b[1;33m)\u001b[0m\u001b[1;33m\u001b[0m\u001b[1;33m\u001b[0m\u001b[0m\n\u001b[0m\u001b[0;32m    811\u001b[0m                 \u001b[1;32mreturn\u001b[0m \u001b[0mresponse\u001b[0m\u001b[1;33m\u001b[0m\u001b[1;33m\u001b[0m\u001b[0m\n\u001b[0;32m    812\u001b[0m \u001b[1;33m\u001b[0m\u001b[0m\n",
      "\u001b[1;32m~\\anaconda3\\lib\\site-packages\\RsInstrument\\Internal\\VisaSession.py\u001b[0m in \u001b[0;36m_narrow_down_io_tout_error\u001b[1;34m(self, context, visa_timeout)\u001b[0m\n\u001b[0;32m    407\u001b[0m                 \u001b[0mcontext\u001b[0m \u001b[1;33m=\u001b[0m \u001b[0mcontext\u001b[0m \u001b[1;33m+\u001b[0m \u001b[1;34mf'VISA Timeout error occurred ({visa_timeout} milliseconds)'\u001b[0m\u001b[1;33m\u001b[0m\u001b[1;33m\u001b[0m\u001b[0m\n\u001b[0;32m    408\u001b[0m                 \u001b[1;32mif\u001b[0m \u001b[0mstb\u001b[0m \u001b[1;33m&\u001b[0m \u001b[0mStatusByte\u001b[0m\u001b[1;33m.\u001b[0m\u001b[0merror_queue_not_empty\u001b[0m\u001b[1;33m:\u001b[0m\u001b[1;33m\u001b[0m\u001b[1;33m\u001b[0m\u001b[0m\n\u001b[1;32m--> 409\u001b[1;33m                         \u001b[0mInstrumentErrors\u001b[0m\u001b[1;33m.\u001b[0m\u001b[0massert_no_instrument_status_errors\u001b[0m\u001b[1;33m(\u001b[0m\u001b[0mself\u001b[0m\u001b[1;33m.\u001b[0m\u001b[0mresource_name\u001b[0m\u001b[1;33m,\u001b[0m \u001b[0mself\u001b[0m\u001b[1;33m.\u001b[0m\u001b[0mquery_all_syst_errors\u001b[0m\u001b[1;33m(\u001b[0m\u001b[1;33m)\u001b[0m\u001b[1;33m,\u001b[0m \u001b[0mcontext\u001b[0m \u001b[1;33m+\u001b[0m \u001b[1;34m' and ...'\u001b[0m\u001b[1;33m,\u001b[0m \u001b[0mfirst_exc\u001b[0m\u001b[1;33m=\u001b[0m\u001b[0mInstrumentErrors\u001b[0m\u001b[1;33m.\u001b[0m\u001b[0mTimeoutException\u001b[0m\u001b[1;33m)\u001b[0m\u001b[1;33m\u001b[0m\u001b[1;33m\u001b[0m\u001b[0m\n\u001b[0m\u001b[0;32m    410\u001b[0m                 \u001b[1;31m# In case none of the previous exceptions is thrown\u001b[0m\u001b[1;33m\u001b[0m\u001b[1;33m\u001b[0m\u001b[1;33m\u001b[0m\u001b[0m\n\u001b[0;32m    411\u001b[0m                 \u001b[1;32mraise\u001b[0m \u001b[0mInstrumentErrors\u001b[0m\u001b[1;33m.\u001b[0m\u001b[0mTimeoutException\u001b[0m\u001b[1;33m(\u001b[0m\u001b[0mcontext_stripped\u001b[0m\u001b[1;33m)\u001b[0m\u001b[1;33m\u001b[0m\u001b[1;33m\u001b[0m\u001b[0m\n",
      "\u001b[1;32m~\\anaconda3\\lib\\site-packages\\RsInstrument\\Internal\\InstrumentErrors.py\u001b[0m in \u001b[0;36massert_no_instrument_status_errors\u001b[1;34m(rsrc_name, errors, context, first_exc)\u001b[0m\n\u001b[0;32m     70\u001b[0m         \u001b[0mmsg\u001b[0m \u001b[1;33m=\u001b[0m \u001b[0mget_instrument_status_errors\u001b[0m\u001b[1;33m(\u001b[0m\u001b[0mrsrc_name\u001b[0m\u001b[1;33m,\u001b[0m \u001b[0merrors\u001b[0m\u001b[1;33m,\u001b[0m \u001b[0mcontext\u001b[0m\u001b[1;33m)\u001b[0m\u001b[1;33m\u001b[0m\u001b[1;33m\u001b[0m\u001b[0m\n\u001b[0;32m     71\u001b[0m         \u001b[1;32mif\u001b[0m \u001b[0mmsg\u001b[0m\u001b[1;33m:\u001b[0m\u001b[1;33m\u001b[0m\u001b[1;33m\u001b[0m\u001b[0m\n\u001b[1;32m---> 72\u001b[1;33m                 \u001b[1;32mraise\u001b[0m \u001b[0mStatusException\u001b[0m\u001b[1;33m(\u001b[0m\u001b[0mrsrc_name\u001b[0m\u001b[1;33m,\u001b[0m \u001b[0mmsg\u001b[0m\u001b[1;33m,\u001b[0m \u001b[0merrors\u001b[0m\u001b[1;33m,\u001b[0m \u001b[0mfirst_exc\u001b[0m\u001b[1;33m=\u001b[0m\u001b[0mfirst_exc\u001b[0m\u001b[1;33m)\u001b[0m\u001b[1;33m\u001b[0m\u001b[1;33m\u001b[0m\u001b[0m\n\u001b[0m\u001b[0;32m     73\u001b[0m \u001b[1;33m\u001b[0m\u001b[0m\n\u001b[0;32m     74\u001b[0m \u001b[1;33m\u001b[0m\u001b[0m\n",
      "\u001b[1;31mStatusException\u001b[0m: 'TCPIP::169.254.146.117::INSTR': Query 'ACQuire:SEGM:STAT ON' - VISA Timeout error occurred (10000 milliseconds) and ... Instrument error detected: -113,\"Undefined header\""
     ]
    }
   ],
   "source": [
    "# rtb.write_str(\"RUNContinous\")\n",
    "rtb.write_str(\"SINGle\")\n",
    "rtb.write_str(\"ACQuire:POINts:AUT OFF\")\n",
    "rtb.write_str(\"ACQuire:POINts 10000\")\n",
    "rtb.write_str(\"ACQuire:NSINgle:COUNt 10\")\n",
    "rtb.query(\"ACQuire:SEGM:STAT ON\")\n",
    "print(rtb.query(\"ACQuire:POINts?\"))\n",
    "print(rtb.query(\"ACQuire:SRATe?\"))\n",
    "rtb.data_chunk_size = 1e20\n",
    "traces = []\n",
    "for x in range(100):        \n",
    "    # rtb.query_bin_block_to_file('FORM REAL,32;:CHAN1:DATA?',\"C:/Users/nEXO/Desktop/test/test.bin\",append=True)\n",
    "    traces.append(rtb.query_bin_or_ascii_float_list('CHAN1:DATA?'))  # Query ascii array of floats\n",
    "    print(rtb.query(\"CHANnel1:DATA:HEADer?\"))\n",
    "print(np.shape(np.array(traces)))"
   ]
  },
  {
   "cell_type": "code",
   "execution_count": null,
   "metadata": {},
   "outputs": [
    {
     "name": "stdout",
     "output_type": "stream",
     "text": [
      "83336\n",
      "6256\n",
      "6256\n",
      "6256\n",
      "6256\n",
      "6256\n",
      "6256\n",
      "6256\n",
      "6256\n",
      "6256\n",
      "6256\n",
      "6256\n",
      "6256\n",
      "6256\n",
      "6256\n",
      "6256\n",
      "6256\n",
      "6256\n",
      "6256\n",
      "6256\n",
      "6256\n",
      "6256\n",
      "6256\n",
      "6256\n",
      "6256\n",
      "6256\n",
      "6256\n",
      "6256\n",
      "6256\n",
      "6256\n",
      "6256\n",
      "6256\n",
      "6256\n",
      "6256\n",
      "6256\n",
      "6256\n",
      "6256\n",
      "6256\n",
      "6256\n",
      "6256\n",
      "6256\n",
      "6256\n",
      "6256\n",
      "6256\n",
      "6256\n",
      "6256\n",
      "6256\n",
      "6256\n",
      "6256\n",
      "6256\n",
      "6256\n",
      "6256\n",
      "6256\n",
      "6256\n",
      "6256\n",
      "6256\n",
      "6256\n",
      "6256\n",
      "6256\n",
      "6256\n",
      "6256\n",
      "6256\n",
      "6256\n",
      "6256\n",
      "6256\n",
      "6256\n",
      "6256\n",
      "6256\n",
      "6256\n",
      "6256\n",
      "6256\n",
      "6256\n",
      "6256\n",
      "6256\n",
      "6256\n",
      "6256\n",
      "6256\n",
      "6256\n",
      "6256\n",
      "6256\n",
      "6256\n",
      "6256\n",
      "6256\n",
      "6256\n",
      "6256\n",
      "6256\n",
      "6256\n",
      "6256\n",
      "6256\n",
      "6256\n",
      "6256\n",
      "6256\n",
      "6256\n",
      "6256\n",
      "6256\n",
      "6256\n",
      "6256\n",
      "6256\n",
      "6256\n",
      "6256\n"
     ]
    },
    {
     "data": {
      "image/png": "[encoded data removed]",
      "text/plain": [
       "<Figure size 432x288 with 1 Axes>"
      ]
     },
     "metadata": {
      "needs_background": "light"
     },
     "output_type": "display_data"
    }
   ],
   "source": [
    "for trace in traces:\n",
    "    # print(trace)\n",
    "    print(len(trace))\n",
    "    plt.plot(trace)\n",
    "# plt.xlim(6000,6500)"
   ]
  },
  {
   "cell_type": "code",
   "execution_count": null,
   "metadata": {},
   "outputs": [],
   "source": []
  }
 ],
 "metadata": {
  "interpreter": {
   "hash": "192d5ab799b59a7848116bd7a0f9274bf70b1ac8a3a183665784aee7d10d7493"
  },
  "kernelspec": {
   "display_name": "Python 3.8.5 64-bit ('base': conda)",
   "language": "python",
   "name": "python3"
  },
  "language_info": {
   "codemirror_mode": {
    "name": "ipython",
    "version": 3
   },
   "file_extension": ".py",
   "mimetype": "text/x-python",
   "name": "python",
   "nbconvert_exporter": "python",
   "pygments_lexer": "ipython3",
   "version": "3.8.5"
  },
  "orig_nbformat": 4
 },
 "nbformat": 4,
 "nbformat_minor": 2
}
