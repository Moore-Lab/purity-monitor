{
 "cells": [
  {
   "cell_type": "code",
   "execution_count": 10,
   "metadata": {},
   "outputs": [],
   "source": [
    "from RsInstrument import *  # The RsInstrument package is hosted on pypi.org, see Readme.txt for more details\n",
    "from time import time\n",
    "import matplotlib.pyplot as plt"
   ]
  },
  {
   "cell_type": "code",
   "execution_count": 11,
   "metadata": {},
   "outputs": [],
   "source": [
    "rtb = RsInstrument('TCPIP::169.254.146.117::INSTR', True, False)\n",
    "rtb.visa_timeout = 3000  # Timeout for VISA Read Operations\n",
    "rtb.opc_timeout = 15000  # Timeout for opc-synchronised operations\n",
    "rtb.instrument_status_checking = True  # Error check after each command"
   ]
  },
  {
   "cell_type": "code",
   "execution_count": 12,
   "metadata": {},
   "outputs": [
    {
     "name": "stdout",
     "output_type": "stream",
     "text": [
      "RTB2000 IDN: Rohde&Schwarz,RTB2004,1333.1005k04/102215,01.210\n",
      "RTB2000 Options: B242\n"
     ]
    }
   ],
   "source": [
    "print(f'RTB2000 IDN: {rtb.idn_string}')\n",
    "print(f'RTB2000 Options: {\",\".join(rtb.instrument_options)}')\n",
    "\n",
    "rtb.clear_status()\n",
    "rtb.reset()"
   ]
  },
  {
   "cell_type": "code",
   "execution_count": 13,
   "metadata": {},
   "outputs": [],
   "source": [
    "rtb.write_str(\"TIM:ACQT 0.00001\")  # 10ms Acquisition time\n",
    "rtb.write_str(\"CHAN1:RANG 10\")  # Horizontal range 5V (0.5V/div)\n",
    "rtb.write_str(\"CHAN1:OFFS 0.0\")  # Offset 0\n",
    "rtb.write_str(\"CHAN1:COUP ACL\")  # Coupling AC 1MOhm\n",
    "rtb.write_str(\"CHAN1:STAT ON\")  # Switch Channel 1 ON"
   ]
  },
  {
   "cell_type": "code",
   "execution_count": 14,
   "metadata": {},
   "outputs": [
    {
     "data": {
      "text/plain": [
       "True"
      ]
     },
     "execution_count": 14,
     "metadata": {},
     "output_type": "execute_result"
    }
   ],
   "source": [
    "rtb.write_str(\"TRIG:A:MODE NORM\")  # Trigger Auto mode in case of no signal is applied\n",
    "rtb.write_str(\"TRIG:A:TYPE EDGE;:TRIG:A:EDGE:SLOP POS\")  # Trigger type Edge Positive\n",
    "rtb.write_str(\"TRIG:A:SOUR CH1\")  # Trigger source CH1\n",
    "rtb.write_str(\"TRIG:A:LEV1 1\")  # Trigger level 0.05V\n",
    "rtb.query_opc()  # Using *OPC? query waits until all the instrument settings are finished"
   ]
  },
  {
   "cell_type": "code",
   "execution_count": 20,
   "metadata": {},
   "outputs": [],
   "source": [
    "rtb.write_str(\"SYSTem:COMMunicate:INTerface:ETHernet:TRANsfer FD100\")\n",
    "rtb.write_str(\"CHAN1:TYPE HRES\")"
   ]
  },
  {
   "cell_type": "code",
   "execution_count": 21,
   "metadata": {},
   "outputs": [],
   "source": [
    "rtb.VisaTimeout = 2000  # Acquisition timeout - set it higher than the acquisition time\n",
    "rtb.write_str(\"RUNContinous\")"
   ]
  },
  {
   "cell_type": "code",
   "execution_count": 22,
   "metadata": {},
   "outputs": [
    {
     "data": {
      "text/plain": [
       "True"
      ]
     },
     "execution_count": 22,
     "metadata": {},
     "output_type": "execute_result"
    }
   ],
   "source": [
    "rtb.query_opc()  # Using *OPC? query waits until the instrument finished the Acquisition"
   ]
  },
  {
   "cell_type": "code",
   "execution_count": 24,
   "metadata": {},
   "outputs": [],
   "source": [
    "rtb.data_chunk_size = 1000000\n",
    "traces = []\n",
    "for x in range(100):        \n",
    "    # rtb.query_bin_block_to_file('FORM REAL,32;:CHAN1:DATA?',\"C:/Users/nEXO/Desktop/test/test.bin\",append=True)\n",
    "    traces.append(rtb.query_bin_or_ascii_float_list('FORM ASC;:CHAN1:DATA?'))  # Query ascii array of floats"
   ]
  },
  {
   "cell_type": "code",
   "execution_count": 25,
   "metadata": {},
   "outputs": [
    {
     "data": {
      "image/png": "[encoded data removed]",
      "text/plain": [
       "<Figure size 432x288 with 1 Axes>"
      ]
     },
     "metadata": {
      "needs_background": "light"
     },
     "output_type": "display_data"
    }
   ],
   "source": [
    "for trace in traces:\n",
    "    plt.plot(trace)"
   ]
  },
  {
   "cell_type": "code",
   "execution_count": null,
   "metadata": {},
   "outputs": [],
   "source": []
  }
 ],
 "metadata": {
  "interpreter": {
   "hash": "192d5ab799b59a7848116bd7a0f9274bf70b1ac8a3a183665784aee7d10d7493"
  },
  "kernelspec": {
   "display_name": "Python 3.8.5 64-bit ('base': conda)",
   "language": "python",
   "name": "python3"
  },
  "language_info": {
   "codemirror_mode": {
    "name": "ipython",
    "version": 3
   },
   "file_extension": ".py",
   "mimetype": "text/x-python",
   "name": "python",
   "nbconvert_exporter": "python",
   "pygments_lexer": "ipython3",
   "version": "3.8.5"
  },
  "orig_nbformat": 4
 },
 "nbformat": 4,
 "nbformat_minor": 2
}
