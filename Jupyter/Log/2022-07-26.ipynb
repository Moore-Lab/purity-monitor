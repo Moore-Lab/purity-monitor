{
 "cells": [
  {
   "cell_type": "code",
   "execution_count": 1,
   "metadata": {},
   "outputs": [
    {
     "name": "stdout",
     "output_type": "stream",
     "text": [
      "Looking at /Users/tizi/Documents/YALE_WL.nosync/data/20220812/4Vpp_2min_0.5V_intervals/0.5kHz/mca_keith*\n",
      "\u001b[32m [05:12:52PM - __init__]:  1 files of MCA data loaded for 30.00 OV \u001b[0m\n",
      "MCA data -> peaks: 4, bins: 9\n",
      "\u001b[36m [05:12:52PM - __find_best_MCA]:  Best fit for /Users/tizi/Documents/YALE_WL.nosync/data/20220812/4Vpp_2min_0.5V_intervals/0.5kHz/mca_keith_30.00OV_0.h5 using 152460 permutations. \u001b[0m\n"
     ]
    },
    {
     "data": {
      "application/vnd.jupyter.widget-view+json": {
       "model_id": "86a36bdc0e554fb998428e688c689f43",
       "version_major": 2,
       "version_minor": 0
      },
      "text/plain": [
       "IntProgress(value=0, bar_style='info', description='Loading MCA perms...', layout=Layout(width='100%'), max=15…"
      ]
     },
     "metadata": {},
     "output_type": "display_data"
    },
    {
     "name": "stdout",
     "output_type": "stream",
     "text": [
      "\u001b[33m [05:12:52PM - __find_best_MCA]:  Multiprocessing does not support progress bars. Disregard it. \u001b[0m\n",
      "\u001b[36m [05:12:53PM - __find_best_MCA]:  Started multiprocessing on 8 CPUs \u001b[0m\n",
      "\u001b[36m [05:22:09PM - __find_best_MCA]:  Best fit analysis for MCA data completed. Now running on single thread \u001b[0m\n",
      "\u001b[32m [05:22:10PM - __find_best_MCA]:  Runtime: 557.3 seconds \u001b[0m\n",
      "\u001b[32m [05:22:10PM - __find_best_MCA]:  Best found at prominence 40, distance 26, bins 89 for 796 trials \u001b[0m\n",
      "MCA data from /Users/tizi/Documents/YALE_WL.nosync/data/20220812/4Vpp_2min_0.5V_intervals/0.5kHz/mca_keith_30.00OV_0.h5\n"
     ]
    },
    {
     "data": {
      "image/png": "[encoded data removed]",
      "text/plain": [
       "<Figure size 864x144 with 3 Axes>"
      ]
     },
     "metadata": {
      "needs_background": "light"
     },
     "output_type": "display_data"
    },
    {
     "ename": "SystemExit",
     "evalue": "",
     "output_type": "error",
     "traceback": [
      "An exception has occurred, use %tb to see the full traceback.\n",
      "\u001b[0;31mSystemExit\u001b[0m\n"
     ]
    }
   ],
   "source": [
    "# IMPORTS\n",
    "import glob, os, sys\n",
    "import numpy as np\n",
    "sys.path.insert(0,'../../')\n",
    "sys.path.insert(0,'/Library/TeX/texbin/')\n",
    "sys.path.insert(0,'../../WaveformAnalysis')\n",
    "sys.path.insert(0,'/home/tb829/project/purity-monitor/WaveformAnalysis/')\n",
    "#from Gat import Gat\n",
    "from Gat_HPC import Gat_HPC as Gat\n",
    "\n",
    "#reload(Gat)\n",
    "import matplotlib as mpl\n",
    "mpl.rcParams['figure.dpi']= 200\n",
    "\n",
    "RATE_367 = r'/Users/tizi/Documents/YALE_WL.nosync/data/20220810/3.67kHz/'\n",
    "RATE_05 = r'/Users/tizi/Documents/YALE_WL.nosync/data/20220810/4.0Vpp/0.5kHz/'\n",
    "#50,6pks, dist 1\n",
    "#NO_FIELD = r'/Users/tizi/Documents/YALE_WL.nosync/data/Avinay/NO_FIELD/'\n",
    "# NO_FIELD_BINS = 9\n",
    "# POS_FIELD = r'/Users/tizi/Documents/YALE_WL.nosync/data/Avinay/POS_FIELD/'\n",
    "# POS_FIELD_BINS = 10\n",
    "# NEG_FIELD = r'/Users/tizi/Documents/YALE_WL.nosync/data/Avinay/NEG_FIELD/'\n",
    "# NEG_FIELD_BINS = 11\n",
    "\n",
    "for volt in np.arange(30.0,30.20,0.2):\n",
    "    gat = Gat(r'/Users/tizi/Documents/YALE_WL.nosync/data/20220812/4Vpp_2min_0.5V_intervals/0.5kHz/','mca_keith*',np.round(volt,2),debug=True,force=True,notify=False,data_type=Gat.MCA)\n",
    "    NO_FIELD_calib_pe,NO_FIELD_calib_count,NO_FIELD_gain_list,NO_FIELD_gain_err = gat.eval_gain(total_bins=9,min=4,find_best=True,min_bin=45,max_bin=100,min_distance=2,max_distance=30,min_prominence=10,max_prominence=1000)\n",
    "sys.exit()\n",
    "\n",
    "gat2 = Gat(POS_FIELD,'mca_keith*',31.00,debug=True,force=True,notify=False,data_type=Gat.MCA)\n",
    "POS_FIELD_calib_pe,POS_FIELD_calib_count,POS_FIELD_gain_list,POS_FIELD_gain_err = gat2.eval_gain(31.00,total_bins=POS_FIELD_BINS,min=4) #LEARN TO HANDLE MISSING PARAMS\n",
    "\n",
    "gat3 = Gat(NEG_FIELD,'mca_keith*',31.00,debug=True,force=True,notify=False,data_type=Gat.MCA)\n",
    "NEG_FIELD_calib_pe,NEG_FIELD_calib_count,NEG_FIELD_gain_list,NEG_FIELD_gain_err = gat3.eval_gain(31.00,total_bins=NEG_FIELD_BINS,min=4) #LEARN TO HANDLE MISSING PARAMS\n",
    "\n",
    "# DATA SOURCE\n",
    "#path = r'/home/tb829/sipm_data/202206[0-1]*/'\n",
    "#path = r'/Users/tizi/Documents/YALE_WL.nosync/data/202206[0-1]*/'s\n",
    "\n",
    "#gat = Gat(path, 'wave*',6.0,debug=True,notify=False)"
   ]
  },
  {
   "cell_type": "code",
   "execution_count": null,
   "metadata": {
    "scrolled": false
   },
   "outputs": [],
   "source": [
    "NO_FIELD_gain_list = np.asarray(NO_FIELD_gain_list)\n",
    "NEG_FIELD_gain_list = np.asarray(NEG_FIELD_gain_list)\n",
    "POS_FIELD_gain_list = np.asarray(POS_FIELD_gain_list)\n",
    "NO_FIELD_gain_err = np.asarray(NO_FIELD_gain_err)\n",
    "NEG_FIELD_gain_err = np.asarray(NEG_FIELD_gain_err)\n",
    "POS_FIELD_gain_err = np.asarray(POS_FIELD_gain_err)\n",
    "NO_FIELD_calib_pe = np.asarray(NO_FIELD_calib_pe)\n",
    "NEG_FIELD_calib_pe = np.asarray(NEG_FIELD_calib_pe)\n",
    "POS_FIELD_calib_pe = np.asarray(POS_FIELD_calib_pe)\n",
    "NO_FIELD_calib_count = np.asarray(NO_FIELD_calib_count)\n",
    "NEG_FIELD_calib_count = np.asarray(NEG_FIELD_calib_count)\n",
    "POS_FIELD_calib_count = np.asarray(POS_FIELD_calib_count)"
   ]
  },
  {
   "cell_type": "code",
   "execution_count": null,
   "metadata": {},
   "outputs": [],
   "source": [
    "from matplotlib import pyplot as plt\n",
    "\n",
    "plt.figure(figsize=(6,4))\n",
    "time_NO_FIELD=np.arange(0,len(NO_FIELD_gain_list))\n",
    "\n",
    "plt.errorbar(time_NO_FIELD,NO_FIELD_gain_list*NO_FIELD_BINS,yerr=NO_FIELD_gain_err,fmt='o',ms=7,label='Uncalibrated Gain')\n",
    "#plt.errorbar(time_NEG_FIELD,NEG_FIELD_pe_corrected_gain,yerr=NEG_FIELD_pe_corrected_gain_err,fmt='o',ms=7,label='PE Calibrated Gain')\n",
    "\n",
    "plt.ylabel('[ADC or PE]/PE')\n",
    "plt.xlabel('Time [minutes]')\n",
    "plt.title('NO_FIELD')\n",
    "plt.grid()\n",
    "plt.legend(loc='best')\n",
    "#plt.savefig('NO_FIELD_gain_comparison.pdf')\n",
    "plt.show()\n",
    "\n",
    "\n",
    "plt.figure(figsize=(6,4))\n",
    "time_POS_FIELD=np.arange(0,len(POS_FIELD_gain_list))\n",
    "\n",
    "plt.errorbar(time_POS_FIELD,POS_FIELD_gain_list*POS_FIELD_BINS,yerr=POS_FIELD_gain_err,fmt='o',ms=7,label='Uncalibrated Gain')\n",
    "#plt.errorbar(time_POS_FIELD,POS_FIELD_pe_corrected_gain,yerr=POS_FIELD_pe_corrected_gain_err,fmt='o',ms=7,label='PE Calibrated Gain')\n",
    "\n",
    "plt.ylabel('[ADC or PE]/PE')\n",
    "plt.xlabel('Time [minutes]')\n",
    "plt.title('POS_FIELD')\n",
    "plt.grid()\n",
    "plt.legend(loc='best')\n",
    "#plt.savefig('POS_FIELD_gain_comparison.pdf')\n",
    "plt.show()\n",
    "\n",
    "\n",
    "plt.figure(figsize=(6,4))\n",
    "time_NEG_FIELD=np.arange(0,len(NEG_FIELD_gain_list))\n",
    "\n",
    "plt.errorbar(time_NEG_FIELD,NEG_FIELD_gain_list*NEG_FIELD_BINS,yerr=NEG_FIELD_gain_err,fmt='o',ms=7,label='Uncalibrated Gain')\n",
    "#plt.errorbar(time_NEG_FIELD,NEG_FIELD_pe_corrected_gain,yerr=NEG_FIELD_pe_corrected_gain_err,fmt='o',ms=7,label='PE Calibrated Gain')\n",
    "\n",
    "plt.ylabel('[ADC or PE]/PE')\n",
    "plt.xlabel('Time [minutes]')\n",
    "plt.title('NEG_FIELD')\n",
    "plt.grid()\n",
    "plt.legend(loc='best')\n",
    "#plt.savefig('NEG_FIELD_gain_comparison.pdf')\n",
    "plt.show()"
   ]
  },
  {
   "cell_type": "code",
   "execution_count": null,
   "metadata": {},
   "outputs": [],
   "source": [
    "plt.figure(figsize=(5,4))\n",
    "plt.errorbar(1,np.mean(NO_FIELD_gain_list*9),yerr=np.std(NO_FIELD_gain_list*NO_FIELD_BINS),label='NO FIELD',fmt='o')\n",
    "plt.errorbar(5,np.mean(POS_FIELD_gain_list*10),yerr=np.std(POS_FIELD_gain_list*POS_FIELD_BINS),label='POS FIELD',fmt='o')\n",
    "plt.errorbar(10,np.mean(NEG_FIELD_gain_list*11),yerr=np.std(NEG_FIELD_gain_list*NEG_FIELD_BINS),label='NEG FIELD',fmt='o')\n",
    "plt.legend(loc='best')\n",
    "plt.xlim(0,12)\n",
    "plt.xlabel('')\n",
    "plt.ylabel('Gain[ADC/PE]')\n",
    "plt.grid()\n",
    "plt.tick_params(\n",
    "    axis='x',          # changes apply to the x-axis\n",
    "    which='both',      # both major and minor ticks are affected\n",
    "    bottom=False,      # ticks along the bottom edge are off\n",
    "    top=False,         # ticks along the top edge are off\n",
    "    labelbottom=False) # labels along the bottom edge are off\n",
    "#plt.savefig('gain_comparison.pdf')\n",
    "plt.show()\n",
    "\n",
    "print((np.mean(POS_FIELD_gain_list*POS_FIELD_BINS)-np.mean(NO_FIELD_gain_list*NO_FIELD_BINS))/(np.mean(NO_FIELD_gain_list*NO_FIELD_BINS))*100,'%')\n",
    "print((np.mean(NEG_FIELD_gain_list*NEG_FIELD_BINS)-np.mean(NO_FIELD_gain_list*NO_FIELD_BINS))/(np.mean(NO_FIELD_gain_list*NO_FIELD_BINS))*100,'%')"
   ]
  },
  {
   "cell_type": "code",
   "execution_count": null,
   "metadata": {},
   "outputs": [],
   "source": [
    "frac_POS=(np.mean(POS_FIELD_gain_list*POS_FIELD_BINS)/np.mean(NO_FIELD_gain_list*NO_FIELD_BINS))\n",
    "frac_NEG=(np.mean(NEG_FIELD_gain_list*NEG_FIELD_BINS)/np.mean(NO_FIELD_gain_list*NO_FIELD_BINS))"
   ]
  },
  {
   "cell_type": "code",
   "execution_count": null,
   "metadata": {},
   "outputs": [],
   "source": [
    "def gauss(x,a,mu,sigma):\n",
    "    return (a*np.exp(-0.5*((x-mu)/sigma)**2))"
   ]
  },
  {
   "cell_type": "code",
   "execution_count": null,
   "metadata": {},
   "outputs": [],
   "source": [
    "from scipy.optimize import curve_fit\n",
    "from scipy.signal import find_peaks\n",
    "\n",
    "correction_factor=0.99\n",
    "\n",
    "avg_NO_FIELD=0\n",
    "avg_POS_FIELD=0\n",
    "avg_NEG_FIELD=0\n",
    "n_bins=1\n",
    "\n",
    "\n",
    "#--------- NO_FIELD  ------------\n",
    "for i in range(len(NO_FIELD_calib_pe)):\n",
    "    x_NO_FIELD,y_NO_FIELD=Gat.rebin_center(None,NO_FIELD_calib_pe[i]*correction_factor,NO_FIELD_calib_count[i],n_bins)\n",
    "    avg_NO_FIELD+=y_NO_FIELD\n",
    "    \n",
    "rate_NO_FIELD=avg_NO_FIELD/(60*len(time_NO_FIELD))\n",
    "cut_NO_FIELD=np.where((x_NO_FIELD>40) & (x_NO_FIELD<100))\n",
    "popt_NO_FIELD,pcov_NO_FIELD=curve_fit(gauss,x_NO_FIELD[cut_NO_FIELD],rate_NO_FIELD[cut_NO_FIELD],p0=[np.max(rate_NO_FIELD[cut_NO_FIELD]),65,80],maxfev=100000)\n",
    "\n",
    "#--------- POS_FIELD  ------------\n",
    "\n",
    "for i in range(len(POS_FIELD_calib_pe)):\n",
    "    x_POS_FIELD,y_POS_FIELD=Gat.rebin_center(None,POS_FIELD_calib_pe[i]*correction_factor,POS_FIELD_calib_count[i],n_bins)\n",
    "    avg_POS_FIELD+=y_POS_FIELD\n",
    "    \n",
    "rate_POS_FIELD=avg_POS_FIELD/(60*len(time_POS_FIELD))\n",
    "cut_POS_FIELD=np.where((x_POS_FIELD>25) & (x_POS_FIELD<70))\n",
    "cut_POS_FIELD_frac=np.where((x_POS_FIELD>25*frac_POS) & (x_POS_FIELD<70*frac_POS))\n",
    "popt_POS_FIELD,pcov_POS_FIELD=curve_fit(gauss,x_POS_FIELD[cut_POS_FIELD],rate_POS_FIELD[cut_POS_FIELD],p0=[np.max(rate_POS_FIELD[cut_POS_FIELD]),65,80],maxfev=100000)\n",
    "popt_POS_FIELD_frac,pcov_POS_FIELD_frac=curve_fit(gauss,x_POS_FIELD[cut_POS_FIELD_frac],rate_POS_FIELD[cut_POS_FIELD_frac],p0=[np.max(rate_POS_FIELD[cut_POS_FIELD_frac]),65**frac_POS,80],maxfev=100000)\n",
    "\n",
    "\n",
    "#--------- NEG_FIELD  ------------\n",
    "\n",
    "for i in range(len(NEG_FIELD_calib_pe)):\n",
    "    x_NEG_FIELD,y_NEG_FIELD=Gat.rebin_center(None,NEG_FIELD_calib_pe[i]*correction_factor,NEG_FIELD_calib_count[i],n_bins)\n",
    "    avg_NEG_FIELD+=y_NEG_FIELD\n",
    "    \n",
    "rate_NEG_FIELD=avg_NEG_FIELD/(60*len(time_NEG_FIELD))\n",
    "cut_NEG_FIELD=np.where((x_NEG_FIELD>25) & (x_NEG_FIELD<70))\n",
    "popt_NEG_FIELD,pcov_NEG_FIELD=curve_fit(gauss,x_NEG_FIELD[cut_NEG_FIELD],rate_NEG_FIELD[cut_NEG_FIELD],p0=[np.max(rate_NEG_FIELD[cut_NEG_FIELD]),65,80],maxfev=100000)\n",
    "cut_NEG_FIELD_frac=np.where((x_NEG_FIELD>25*frac_NEG) & (x_NEG_FIELD<70*frac_NEG))\n",
    "popt_NEG_FIELD_frac,pcov_NEG_FIELD_frac=curve_fit(gauss,x_NEG_FIELD[cut_NEG_FIELD_frac],\n",
    "                                                  rate_NEG_FIELD[cut_NEG_FIELD_frac],\n",
    "                                                  p0=[np.max(rate_NEG_FIELD[cut_NEG_FIELD_frac]),65**frac_NEG,80]\n",
    "                                                  ,maxfev=100000)"
   ]
  },
  {
   "cell_type": "code",
   "execution_count": null,
   "metadata": {},
   "outputs": [],
   "source": [
    "colors = plt.rcParams['axes.prop_cycle'].by_key()['color']\n",
    "mpl.rcParams['figure.dpi']= 200"
   ]
  },
  {
   "cell_type": "code",
   "execution_count": null,
   "metadata": {},
   "outputs": [],
   "source": [
    "plt.figure(figsize=(15,10))\n",
    "plt.subplot(2,2,1)\n",
    "plt.plot(x_NO_FIELD,rate_NO_FIELD,lw=3,label='No E Field')\n",
    "plt.plot(x_POS_FIELD,rate_POS_FIELD,lw=3,label='Pos E Field')\n",
    "plt.plot(x_NEG_FIELD,rate_NEG_FIELD,lw=3,label='Neg E Field')\n",
    "plt.xlabel('PE [Normalized to self]')\n",
    "plt.ylabel('Rate [Hz]')\n",
    "\n",
    "N_peaks=10\n",
    "\n",
    "\n",
    "#--------- NO_FIELD  ------------\n",
    "\n",
    "PROMINENCE_NO_FIELD=1E3 #This prominence is re-set here to ensure that every file starts out with a high prominence\n",
    "    \n",
    "peaks_NO_FIELD,pdict_NO_FIELD=find_peaks(rate_NO_FIELD,prominence=PROMINENCE_NO_FIELD)\n",
    "peak_length_NO_FIELD=len(peaks_NO_FIELD)\n",
    "    \n",
    "#     We want to ensure that using a high prominence gives us at least N_peaks peaks to fit a straight line to. If it doesn't we reduce prominence till we get at least 3 peaks. N_peaks is set above\n",
    "while (peak_length_NO_FIELD<N_peaks+1):\n",
    "    PROMINENCE_NO_FIELD=PROMINENCE_NO_FIELD-1\n",
    "            \n",
    "    peaks_NO_FIELD,pdict_NO_FIELD=find_peaks(rate_NO_FIELD,prominence=PROMINENCE_NO_FIELD)\n",
    "    peak_length_NO_FIELD=len(peaks_NO_FIELD)\n",
    "# plt.plot(x_NO_FIELD[peaks_NO_FIELD],rate_NO_FIELD[peaks_NO_FIELD],'*',ms=7) # plot the peak markers\n",
    "\n",
    "\n",
    "\n",
    "#--------- POS_FIELD  ------------\n",
    "\n",
    "PROMINENCE_POS_FIELD=1E3 #This prominence is re-set here to ensure that every file starts out with a high prominence\n",
    "    \n",
    "peaks_POS_FIELD,pdict_POS_FIELD=find_peaks(rate_POS_FIELD,prominence=PROMINENCE_POS_FIELD)\n",
    "peak_length_POS_FIELD=len(peaks_POS_FIELD)\n",
    "    \n",
    "#     We want to ensure that using a high prominence gives us at least N_peaks peaks to fit a straight line to. If it doesn't we reduce prominence till we get at least 3 peaks. N_peaks is set above\n",
    "while (peak_length_POS_FIELD<N_peaks+1):\n",
    "    PROMINENCE_POS_FIELD=PROMINENCE_POS_FIELD-1\n",
    "            \n",
    "    peaks_POS_FIELD,pdict_POS_FIELD=find_peaks(rate_POS_FIELD,prominence=PROMINENCE_POS_FIELD)\n",
    "    peak_length_POS_FIELD=len(peaks_POS_FIELD)\n",
    "# plt.plot(x_POS_FIELD[peaks_POS_FIELD],rate_POS_FIELD[peaks_POS_FIELD],'*',ms=7) # plot the peak markers\n",
    "\n",
    "\n",
    "#--------- NEG_FIELD  ------------\n",
    "\n",
    "\n",
    "PROMINENCE_NEG_FIELD=1E3 #This prominence is re-set here to ensure that every file starts out with a high prominence\n",
    "    \n",
    "peaks_NEG_FIELD,pdict_NEG_FIELD=find_peaks(rate_NEG_FIELD,prominence=PROMINENCE_NEG_FIELD)\n",
    "peak_length_NEG_FIELD=len(peaks_NEG_FIELD)\n",
    "    \n",
    "#     We want to ensure that using a high prominence gives us at least N_peaks peaks to fit a straight line to. If it doesn't we reduce prominence till we get at least 3 peaks. N_peaks is set above\n",
    "while (peak_length_NEG_FIELD<N_peaks+1):\n",
    "    PROMINENCE_NEG_FIELD=PROMINENCE_NEG_FIELD-1\n",
    "            \n",
    "    peaks_NEG_FIELD,pdict_NEG_FIELD=find_peaks(rate_NEG_FIELD,prominence=PROMINENCE_NEG_FIELD)\n",
    "    peak_length_NEG_FIELD=len(peaks_NEG_FIELD)\n",
    "# plt.plot(x_NEG_FIELD[peaks_NEG_FIELD],rate_NEG_FIELD[peaks_NEG_FIELD],'*',ms=7) # plot the peak markers\n",
    "\n",
    "\n",
    "\n",
    "\n",
    "plt.grid()\n",
    "plt.xlim(0,15)\n",
    "plt.ylim(0.2,1E3)\n",
    "plt.yscale('log')\n",
    "plt.legend(loc='best')\n",
    "\n",
    "\n",
    "plt.subplot(2,2,2)\n",
    "plt.plot(x_NO_FIELD,rate_NO_FIELD,color=colors[0],label='No E Field')\n",
    "plt.plot(x_NO_FIELD[cut_NO_FIELD],gauss(x_NO_FIELD[cut_NO_FIELD],*popt_NO_FIELD),'m-.',lw=5,label=\"$\\mu$: \"+str(np.round(popt_NO_FIELD[1],2))+'$\\pm$'+str(np.round(np.sqrt(np.diag(pcov_NO_FIELD)[1]),2)))\n",
    "\n",
    "\n",
    "plt.plot(x_POS_FIELD,rate_POS_FIELD,color=colors[1],label='Pos E Field')\n",
    "plt.plot(x_POS_FIELD[cut_POS_FIELD],gauss(x_POS_FIELD[cut_POS_FIELD],*popt_POS_FIELD),'k-.',lw=5,label=\"$\\mu$: \"+str(np.round(popt_POS_FIELD[1],2))+'$\\pm$'+str(np.round(np.sqrt(np.diag(pcov_POS_FIELD)[1]),2)))\n",
    "\n",
    "\n",
    "plt.plot(x_NEG_FIELD,rate_NEG_FIELD,color=colors[2],label='Neg E Field')\n",
    "plt.plot(x_NEG_FIELD[cut_NEG_FIELD],gauss(x_NEG_FIELD[cut_NEG_FIELD],*popt_NEG_FIELD),'r-.',lw=5,label=\"$\\mu$: \"+str(np.round(popt_NEG_FIELD[1],2))+'$\\pm$'+str(np.round(np.sqrt(np.diag(pcov_NEG_FIELD)[1]),2)))\n",
    "\n",
    "plt.xlim(10,150)\n",
    "plt.ylim(0,0.3)\n",
    "plt.legend(loc='best')\n",
    "plt.grid()\n",
    "plt.xlabel('PE [Normalized to self]')\n",
    "plt.ylabel('Rate [Hz]')\n",
    "\n",
    "plt.subplot(2,2,3)\n",
    "plt.plot(x_NO_FIELD,rate_NO_FIELD,lw=3,label='No E Field')\n",
    "plt.plot(x_POS_FIELD*frac_POS,rate_POS_FIELD,lw=3,label='Pos E Field')\n",
    "plt.plot(x_NEG_FIELD*frac_NEG,rate_NEG_FIELD,lw=3,label='Neg E Field')\n",
    "plt.grid()\n",
    "plt.xlim(0,15)\n",
    "plt.ylim(0.2,1E3)\n",
    "plt.yscale('log')\n",
    "plt.legend(loc='best')\n",
    "plt.xlabel('PE [Normalized to E=0 V/cm]')\n",
    "plt.ylabel('Rate [Hz]/'+str(np.round(x_NO_FIELD[1]-x_NO_FIELD[0],1))+'PE')\n",
    "\n",
    "plt.subplot(2,2,4)\n",
    "plt.plot(x_NO_FIELD,rate_NO_FIELD,color=colors[0],label='No E Field')\n",
    "plt.plot(x_NO_FIELD[cut_NO_FIELD],gauss(x_NO_FIELD[cut_NO_FIELD],*popt_NO_FIELD),'m-.',lw=5,label=\"$\\mu$: \"+str(np.round(popt_NO_FIELD[1],2))+'$\\pm$'+str(np.round(np.sqrt(np.diag(pcov_NO_FIELD)[1]),2)))\n",
    "\n",
    "\n",
    "plt.plot(x_POS_FIELD*frac_POS,rate_POS_FIELD,color=colors[1],label='Pos E Field')\n",
    "plt.plot(x_POS_FIELD[cut_POS_FIELD_frac]*frac_POS,gauss(x_POS_FIELD[cut_POS_FIELD_frac],*popt_POS_FIELD_frac),'k-.',lw=5,label=\"$\\mu$: \"+str(np.round(popt_POS_FIELD_frac[1],2))+'$\\pm$'+str(np.round(np.sqrt(np.diag(pcov_POS_FIELD_frac)[1]),2)))\n",
    "\n",
    "\n",
    "plt.plot(x_NEG_FIELD*frac_NEG,rate_NEG_FIELD,color=colors[2],label='Neg E Field')\n",
    "plt.plot(x_NEG_FIELD[cut_NEG_FIELD_frac]*frac_NEG,gauss(x_NEG_FIELD[cut_NEG_FIELD_frac],*popt_NEG_FIELD_frac),'r-.',lw=5,label=\"$\\mu$: \"+str(np.round(popt_NEG_FIELD_frac[1],2))+'$\\pm$'+str(np.round(np.sqrt(np.diag(pcov_NEG_FIELD_frac)[1]),2)))\n",
    "\n",
    "\n",
    "\n",
    "\n",
    "plt.xlim(10,150)\n",
    "plt.ylim(0,0.3)\n",
    "# plt.yscale('log')\n",
    "plt.legend(loc='best')\n",
    "plt.grid()\n",
    "plt.xlabel('PE [Normalized to E=0 V/cm]')\n",
    "plt.ylabel('Rate [Hz]/'+str(np.round(x_NO_FIELD[1]-x_NO_FIELD[0],1))+'PE')\n",
    "plt.tight_layout()\n",
    "\n",
    "#plt.savefig('Source_PDE.pdf')\n",
    "plt.show()\n",
    "\n",
    "print(x_NO_FIELD[1]-x_NO_FIELD[0],x_POS_FIELD[1]-x_POS_FIELD[0],x_NEG_FIELD[1]-x_NEG_FIELD[0])"
   ]
  },
  {
   "cell_type": "code",
   "execution_count": null,
   "metadata": {},
   "outputs": [],
   "source": [
    "sys.exit()\n",
    "print(len(gat.SiPM.Ch[0].Time))\n",
    "\n",
    "time = gat.SiPM.Ch[0].Time\n",
    "wave = gat.SiPM.Ch[0].Amp[0]\n",
    "\n",
    "from matplotlib import pyplot as plt\n",
    "\n",
    "peak_x_ind = np.argmax(wave)\n",
    "peak_A = wave[peak_x_ind]\n",
    "peak_x = time[peak_x_ind]\n",
    "fall_value = (peak_A)*(np.e**-1)\n",
    "tau_ind = np.where(wave[peak_x_ind:] < fall_value)[0][0]\n",
    "tau_est = np.abs(time[tau_ind] - time[peak_x_ind])\n",
    "value_at = wave[peak_x_ind+tau_ind]\n",
    "tau_est = time[tau_ind]\n",
    "tau_ind_est = int(np.abs(peak_x_ind-tau_ind)/(1/(gat.SiPM.sampling_freq/1000000)))\n",
    "\n",
    "plt.plot(time,wave)\n",
    "plt.xlim(180,400)\n",
    "plt.show()\n",
    "print()"
   ]
  },
  {
   "cell_type": "code",
   "execution_count": null,
   "metadata": {},
   "outputs": [],
   "source": [
    "NO_FIELD = r'/Users/tizi/Documents/YALE_WL.nosync/data/Avinay/NO_FIELD/'\n",
    "POS_FIELD = r'/Users/tizi/Documents/YALE_WL.nosync/data/Avinay/POS_FIELD/'\n",
    "NEG_FIELD = r'/Users/tizi/Documents/YALE_WL.nosync/data/Avinay/NEG_FIELD/'\n",
    "\n",
    "#gat = Gat(NO_FIELD,'mca_keith',31.00,debug=False,force=True,notify=False,data_type=Gat.MCA)"
   ]
  },
  {
   "cell_type": "code",
   "execution_count": null,
   "metadata": {},
   "outputs": [],
   "source": [
    "#gat.eval_gain(31.00,total_bins=9,min=4)"
   ]
  },
  {
   "cell_type": "code",
   "execution_count": null,
   "metadata": {},
   "outputs": [],
   "source": [
    "#gat.mca_gain_corrected()"
   ]
  },
  {
   "cell_type": "code",
   "execution_count": null,
   "metadata": {},
   "outputs": [],
   "source": [
    "gat2 = Gat(path, 'wave*',7,debug=False,notify=False)"
   ]
  },
  {
   "cell_type": "code",
   "execution_count": null,
   "metadata": {},
   "outputs": [],
   "source": [
    "gat2.eval_waveform_func_fit()\n",
    "import matplotlib as mpl\n",
    "mpl.rcParams['figure.dpi']= 200\n",
    "gat2.eval_gain(5.00,plot=False,find_best=True,fix_params=True)"
   ]
  },
  {
   "cell_type": "code",
   "execution_count": null,
   "metadata": {},
   "outputs": [],
   "source": [
    "gat2.plot(hist=True)\n",
    "gat2.plot(hist=True,gain=False,hist_fit=True)\n",
    "gat2.plot(hist=True,gain=True,hist_fit=True)\n",
    "gat2.plot(hist=True,gain=True,hist_fit=False)\n",
    "gat2.plot(gain=True)"
   ]
  },
  {
   "cell_type": "code",
   "execution_count": null,
   "metadata": {},
   "outputs": [],
   "source": [
    "print(1/gat2.SiPM.sampling_freq)\n",
    "/print(gat2.SiPM.Ch[0].Time[1]-gat.SiPMs[5.00].Ch[0].Time[0]) #TIME IN MICROSECONDS IF USING .TIME"
   ]
  },
  {
   "cell_type": "code",
   "execution_count": null,
   "metadata": {},
   "outputs": [],
   "source": []
  }
 ],
 "metadata": {
  "kernelspec": {
   "display_name": "Python 3.10.1 64-bit",
   "language": "python",
   "name": "python3"
  },
  "language_info": {
   "codemirror_mode": {
    "name": "ipython",
    "version": 3
   },
   "file_extension": ".py",
   "mimetype": "text/x-python",
   "name": "python",
   "nbconvert_exporter": "python",
   "pygments_lexer": "ipython3",
   "version": "3.10.1"
  },
  "vscode": {
   "interpreter": {
    "hash": "98590ff4fe04c8543246b2a01debd3de3c5ca9b666f43f1fa87d5110c692004c"
   }
  }
 },
 "nbformat": 4,
 "nbformat_minor": 2
}
