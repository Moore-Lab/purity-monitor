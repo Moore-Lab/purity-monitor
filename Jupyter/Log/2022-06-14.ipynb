{
 "cells": [
  {
   "cell_type": "code",
   "execution_count": 1,
   "metadata": {},
   "outputs": [],
   "source": [
    "import importlib \n",
    "import matplotlib.pyplot as plt\n",
    "import numpy as np\n",
    "import time"
   ]
  },
  {
   "cell_type": "code",
   "execution_count": 2,
   "metadata": {},
   "outputs": [],
   "source": [
    "import sys \n",
    "sys.path.append(\"../../RedPitaya\")"
   ]
  },
  {
   "cell_type": "code",
   "execution_count": 3,
   "metadata": {},
   "outputs": [],
   "source": [
    "import redpitaya_mca as mca\n",
    "# importlib.reload(mca)"
   ]
  },
  {
   "cell_type": "code",
   "execution_count": 4,
   "metadata": {},
   "outputs": [],
   "source": [
    "# import os\n",
    "# response = os.system(\"ping {}\".format(\"172.28.175.57\"))\n",
    "# print(response)\n",
    "# if response:\n",
    "#     pass\n",
    "\n",
    "importlib.reload(mca)\n",
    "red_mca = mca.mca()\n",
    "ssh = red_mca.ssh_connect()\n",
    "# red_mca.start_mca()"
   ]
  },
  {
   "cell_type": "code",
   "execution_count": 5,
   "metadata": {},
   "outputs": [],
   "source": [
    "length = 65536\n",
    "nbytes = 2\n",
    "dec = 8\n",
    "chan = 1\n",
    "freq = 125e6/dec\n",
    "sample = 1/freq \n",
    "# red_mca.config_scope(dec=dec, trig_chan=chan, trig_slope=0, trig_mode=0, trig_level=1000)\n",
    "red_mca.command(4,0,dec)\n",
    "# time.sleep(2)"
   ]
  },
  {
   "cell_type": "code",
   "execution_count": 9,
   "metadata": {},
   "outputs": [
    {
     "name": "stdout",
     "output_type": "stream",
     "text": [
      "0 119007 -37.730150327291675 1\n",
      "1 99353 -408.64777107888034 2\n",
      "2 101193 -182.00842943681874 2\n"
     ]
    },
    {
     "data": {
      "image/png": "[encoded data removed]",
      "text/plain": [
       "<Figure size 1152x360 with 2 Axes>"
      ]
     },
     "metadata": {},
     "output_type": "display_data"
    }
   ],
   "source": [
    "samples_pre = 5000\n",
    "trig_level = 1000\n",
    "fig,ax = plt.subplots(figsize=(16,5), ncols=2, nrows=1, sharey=True, facecolor='white')\n",
    "for x in range(3):  \n",
    "    count = 0\n",
    "    while True:  \n",
    "        red_mca.acq_scope(dec=dec, trig_chan=chan, trig_slope=0, trig_mode=0, trig_level=trig_level, samples_pre=samples_pre, samples_total=length, wait=.2) \n",
    "        time.sleep(1)   \n",
    "        data = red_mca._socket.recv(length*nbytes*2)\n",
    "        converted_data = []\n",
    "        for i in range(int(len(data)/nbytes)):\n",
    "            converted_data.append(int.from_bytes(data[(i*nbytes):((i+1)*nbytes)], byteorder='little', signed=True))\n",
    "        count += 1\n",
    "        if np.mean(converted_data) != 0:\n",
    "            print(x,len(converted_data), np.mean(converted_data), count)\n",
    "            ax[0].plot(converted_data[0::2])\n",
    "            ax[1].plot(converted_data[1::2])\n",
    "            break\n",
    "# ax[0].set_xlim(samples_pre,samples_pre+2000)\n",
    "# ax[1].set_xlim(samples_pre,samples_pre+2000)\n",
    "# ax[0].set_ylim(-600,10)\n",
    "# ax[1].set_ylim(-600,10)\n",
    "plt.show()"
   ]
  },
  {
   "cell_type": "code",
   "execution_count": 7,
   "metadata": {},
   "outputs": [],
   "source": [
    "# ssh.exec_command('reboot')\n",
    "# red_mca.stop_mca()\n",
    "# red_mca.close()"
   ]
  },
  {
   "cell_type": "code",
   "execution_count": null,
   "metadata": {},
   "outputs": [],
   "source": []
  }
 ],
 "metadata": {
  "kernelspec": {
   "display_name": "Python 3.8.5 ('base')",
   "language": "python",
   "name": "python3"
  },
  "language_info": {
   "codemirror_mode": {
    "name": "ipython",
    "version": 3
   },
   "file_extension": ".py",
   "mimetype": "text/x-python",
   "name": "python",
   "nbconvert_exporter": "python",
   "pygments_lexer": "ipython3",
   "version": "3.8.5"
  },
  "orig_nbformat": 4,
  "vscode": {
   "interpreter": {
    "hash": "e5e622b25f84b7135d4643d5fac34167b855b0a6d41d1f6695eb3e0f89a915df"
   }
  }
 },
 "nbformat": 4,
 "nbformat_minor": 2
}
