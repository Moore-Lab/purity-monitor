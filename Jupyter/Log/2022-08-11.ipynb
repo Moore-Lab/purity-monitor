{
 "cells": [
  {
   "cell_type": "code",
   "execution_count": 10,
   "metadata": {},
   "outputs": [],
   "source": [
    "# IMPORTS\n",
    "import glob, os, sys, h5py\n",
    "import numpy as np\n",
    "sys.path.insert(0,'../../')\n",
    "sys.path.insert(0,'/Library/TeX/texbin/')\n",
    "sys.path.insert(0,'../../WaveformAnalysis')\n",
    "sys.path.insert(0,'/home/tb829/project/purity-monitor/WaveformAnalysis/')\n",
    "from Gat_HPC import Gat_HPC as Gat\n",
    "from scipy.signal import find_peaks, find_peaks_cwt, peak_widths, peak_prominences\n",
    "from natsort import natsorted\n",
    "\n",
    "import matplotlib as mpl\n",
    "import matplotlib.pyplot as plt\n",
    "mpl.rcParams['figure.dpi']= 100"
   ]
  },
  {
   "cell_type": "code",
   "execution_count": 12,
   "metadata": {},
   "outputs": [
    {
     "ename": "FileNotFoundError",
     "evalue": "[Errno 2] Unable to open file (unable to open file: name = '/gpfs/gibbs/project/david_moore/ab2935/Data/20220811/Fine_Binned_Vpp/4.0Vpp/0.5kHz/mca_keith_30.00OV_0.h5', errno = 2, error message = 'No such file or directory', flags = 0, o_flags = 0)",
     "output_type": "error",
     "traceback": [
      "\u001b[0;31m---------------------------------------------------------------------------\u001b[0m",
      "\u001b[0;31mFileNotFoundError\u001b[0m                         Traceback (most recent call last)",
      "\u001b[1;32m/home/tb829/project/purity-monitor/Jupyter/Log/2022-08-11.ipynb Cell 2\u001b[0m in \u001b[0;36m<cell line: 2>\u001b[0;34m()\u001b[0m\n\u001b[1;32m      <a href='vscode-notebook-cell://ssh-remote%2Bgrace2.hpc.yale.edu/home/tb829/project/purity-monitor/Jupyter/Log/2022-08-11.ipynb#W1sdnNjb2RlLXJlbW90ZQ%3D%3D?line=0'>1</a>\u001b[0m FILE \u001b[39m=\u001b[39m \u001b[39mr\u001b[39m\u001b[39m'\u001b[39m\u001b[39m/gpfs/gibbs/project/david_moore/ab2935/Data/20220811/Fine_Binned_Vpp/4.0Vpp/0.5kHz/mca_keith_30.00OV_0.h5\u001b[39m\u001b[39m'\u001b[39m\n\u001b[0;32m----> <a href='vscode-notebook-cell://ssh-remote%2Bgrace2.hpc.yale.edu/home/tb829/project/purity-monitor/Jupyter/Log/2022-08-11.ipynb#W1sdnNjb2RlLXJlbW90ZQ%3D%3D?line=1'>2</a>\u001b[0m f \u001b[39m=\u001b[39m h5py\u001b[39m.\u001b[39;49mFile(FILE, \u001b[39m'\u001b[39;49m\u001b[39mr\u001b[39;49m\u001b[39m'\u001b[39;49m)  \n\u001b[1;32m      <a href='vscode-notebook-cell://ssh-remote%2Bgrace2.hpc.yale.edu/home/tb829/project/purity-monitor/Jupyter/Log/2022-08-11.ipynb#W1sdnNjb2RlLXJlbW90ZQ%3D%3D?line=2'>3</a>\u001b[0m ch2 \u001b[39m=\u001b[39m f\u001b[39m.\u001b[39mget(\u001b[39m'\u001b[39m\u001b[39mch2\u001b[39m\u001b[39m'\u001b[39m)\n\u001b[1;32m      <a href='vscode-notebook-cell://ssh-remote%2Bgrace2.hpc.yale.edu/home/tb829/project/purity-monitor/Jupyter/Log/2022-08-11.ipynb#W1sdnNjb2RlLXJlbW90ZQ%3D%3D?line=3'>4</a>\u001b[0m \u001b[39mfor\u001b[39;00m key \u001b[39min\u001b[39;00m ch2\u001b[39m.\u001b[39mkeys(): \n",
      "File \u001b[0;32m/gpfs/gibbs/project/david_moore/tb829/conda_envs/t_env/lib/python3.8/site-packages/h5py/_hl/files.py:533\u001b[0m, in \u001b[0;36mFile.__init__\u001b[0;34m(self, name, mode, driver, libver, userblock_size, swmr, rdcc_nslots, rdcc_nbytes, rdcc_w0, track_order, fs_strategy, fs_persist, fs_threshold, fs_page_size, page_buf_size, min_meta_keep, min_raw_keep, locking, alignment_threshold, alignment_interval, **kwds)\u001b[0m\n\u001b[1;32m    525\u001b[0m     fapl \u001b[39m=\u001b[39m make_fapl(driver, libver, rdcc_nslots, rdcc_nbytes, rdcc_w0,\n\u001b[1;32m    526\u001b[0m                      locking, page_buf_size, min_meta_keep, min_raw_keep,\n\u001b[1;32m    527\u001b[0m                      alignment_threshold\u001b[39m=\u001b[39malignment_threshold,\n\u001b[1;32m    528\u001b[0m                      alignment_interval\u001b[39m=\u001b[39malignment_interval,\n\u001b[1;32m    529\u001b[0m                      \u001b[39m*\u001b[39m\u001b[39m*\u001b[39mkwds)\n\u001b[1;32m    530\u001b[0m     fcpl \u001b[39m=\u001b[39m make_fcpl(track_order\u001b[39m=\u001b[39mtrack_order, fs_strategy\u001b[39m=\u001b[39mfs_strategy,\n\u001b[1;32m    531\u001b[0m                      fs_persist\u001b[39m=\u001b[39mfs_persist, fs_threshold\u001b[39m=\u001b[39mfs_threshold,\n\u001b[1;32m    532\u001b[0m                      fs_page_size\u001b[39m=\u001b[39mfs_page_size)\n\u001b[0;32m--> 533\u001b[0m     fid \u001b[39m=\u001b[39m make_fid(name, mode, userblock_size, fapl, fcpl, swmr\u001b[39m=\u001b[39;49mswmr)\n\u001b[1;32m    535\u001b[0m \u001b[39mif\u001b[39;00m \u001b[39misinstance\u001b[39m(libver, \u001b[39mtuple\u001b[39m):\n\u001b[1;32m    536\u001b[0m     \u001b[39mself\u001b[39m\u001b[39m.\u001b[39m_libver \u001b[39m=\u001b[39m libver\n",
      "File \u001b[0;32m/gpfs/gibbs/project/david_moore/tb829/conda_envs/t_env/lib/python3.8/site-packages/h5py/_hl/files.py:226\u001b[0m, in \u001b[0;36mmake_fid\u001b[0;34m(name, mode, userblock_size, fapl, fcpl, swmr)\u001b[0m\n\u001b[1;32m    224\u001b[0m     \u001b[39mif\u001b[39;00m swmr \u001b[39mand\u001b[39;00m swmr_support:\n\u001b[1;32m    225\u001b[0m         flags \u001b[39m|\u001b[39m\u001b[39m=\u001b[39m h5f\u001b[39m.\u001b[39mACC_SWMR_READ\n\u001b[0;32m--> 226\u001b[0m     fid \u001b[39m=\u001b[39m h5f\u001b[39m.\u001b[39;49mopen(name, flags, fapl\u001b[39m=\u001b[39;49mfapl)\n\u001b[1;32m    227\u001b[0m \u001b[39melif\u001b[39;00m mode \u001b[39m==\u001b[39m \u001b[39m'\u001b[39m\u001b[39mr+\u001b[39m\u001b[39m'\u001b[39m:\n\u001b[1;32m    228\u001b[0m     fid \u001b[39m=\u001b[39m h5f\u001b[39m.\u001b[39mopen(name, h5f\u001b[39m.\u001b[39mACC_RDWR, fapl\u001b[39m=\u001b[39mfapl)\n",
      "File \u001b[0;32mh5py/_objects.pyx:54\u001b[0m, in \u001b[0;36mh5py._objects.with_phil.wrapper\u001b[0;34m()\u001b[0m\n",
      "File \u001b[0;32mh5py/_objects.pyx:55\u001b[0m, in \u001b[0;36mh5py._objects.with_phil.wrapper\u001b[0;34m()\u001b[0m\n",
      "File \u001b[0;32mh5py/h5f.pyx:106\u001b[0m, in \u001b[0;36mh5py.h5f.open\u001b[0;34m()\u001b[0m\n",
      "\u001b[0;31mFileNotFoundError\u001b[0m: [Errno 2] Unable to open file (unable to open file: name = '/gpfs/gibbs/project/david_moore/ab2935/Data/20220811/Fine_Binned_Vpp/4.0Vpp/0.5kHz/mca_keith_30.00OV_0.h5', errno = 2, error message = 'No such file or directory', flags = 0, o_flags = 0)"
     ]
    }
   ],
   "source": [
    "FILE = r'/gpfs/gibbs/project/david_moore/ab2935/Data/20220811/Fine_Binned_Vpp/4.0Vpp/0.5kHz/mca_keith_30.00OV_0.h5'\n",
    "f = h5py.File(FILE, 'r')  \n",
    "ch2 = f.get('ch2')\n",
    "for key in ch2.keys(): \n",
    "    df = np.array(ch2.get(key))\n",
    "h = df\n",
    "hx = np.arange(0,len(h),1)"
   ]
  },
  {
   "cell_type": "code",
   "execution_count": 31,
   "metadata": {},
   "outputs": [],
   "source": [
    "def rebin(hx,h,bins):\n",
    "    bins = int(bins)\n",
    "    h_rebin=[]\n",
    "    for i in range(int(len(h)/bins)):\n",
    "        start_idx=i*bins\n",
    "        end_idx=(i+1)*bins\n",
    "        h_rebin.append(np.sum(h[start_idx:end_idx]))\n",
    "    hx_rebin=range(len(h_rebin))\n",
    "    return np.array(hx_rebin), np.array(h_rebin)"
   ]
  },
  {
   "cell_type": "code",
   "execution_count": 32,
   "metadata": {},
   "outputs": [],
   "source": [
    "#x, y = rebin(hx,h,40)\n",
    "x,y = hx, h"
   ]
  },
  {
   "cell_type": "code",
   "execution_count": null,
   "metadata": {},
   "outputs": [],
   "source": [
    "pind, pdict = find_peaks(y, prominence=2000)\n",
    "print(pind)\n",
    "print(pdict)"
   ]
  },
  {
   "cell_type": "code",
   "execution_count": null,
   "metadata": {},
   "outputs": [],
   "source": [
    "mpl.rcParams['figure.dpi']= 200\n",
    "\n",
    "plt.plot(x,y)\n",
    "\n",
    "rix_ind = 0\n",
    "lix_ind = 0\n",
    "rix_ind_ar = x[int(pind):][y[int(pind):] <= pdict['right_bases']]\n",
    "if len(rix_ind_ar) == 0: rix_ind = (len(x)-1)\n",
    "else: rix_ind = rix_ind_ar[0]\n",
    "lix_ind_ar = x[:int(pind)][y[:int(pind)] <= pdict['left_bases']]\n",
    "if len(lix_ind_ar) == 0: lix_ind = 0\n",
    "else: lix_ind = lix_ind_ar[0]\n",
    "\n",
    "plt.vlines(np.asarray([pind,lix_ind,rix_ind]),0,pdict['prominences'].max(),colors=['red'])\n",
    "plt.vlines(np.asarray([pdict['left_bases'],pdict['right_bases']]),0,pdict['prominences'].max(),colors=['blue'])\n",
    "plt.xlim(lix_ind-10,rix_ind+150)\n",
    "plt.show()"
   ]
  },
  {
   "cell_type": "code",
   "execution_count": null,
   "metadata": {},
   "outputs": [],
   "source": [
    "x = x[int(pdict['right_bases']):]\n",
    "y = y[int(pdict['right_bases']):]"
   ]
  },
  {
   "cell_type": "code",
   "execution_count": null,
   "metadata": {},
   "outputs": [],
   "source": [
    "plt.plot(x,y)\n",
    "plt.show()"
   ]
  },
  {
   "cell_type": "code",
   "execution_count": null,
   "metadata": {},
   "outputs": [],
   "source": [
    "x = x[y > 8]\n",
    "y = y[y > 8]"
   ]
  },
  {
   "cell_type": "code",
   "execution_count": null,
   "metadata": {},
   "outputs": [],
   "source": [
    "plt.plot(x,y)\n",
    "plt.show()\n",
    "\n",
    "if len(x) < 10: print('There is nothing here for me too analyze! Have a good night :)')"
   ]
  },
  {
   "cell_type": "code",
   "execution_count": 17,
   "metadata": {},
   "outputs": [],
   "source": [
    "files = glob.glob('/gpfs/gibbs/project/david_moore/ab2935/Data/20220811/Fine_Binned_Vpp/**/**/*.h5',recursive=True)\n",
    "for file in natsorted(files):\n",
    "    \n",
    "    f = h5py.File(FILE, 'r')  \n",
    "    ch2 = f.get('ch2')\n",
    "    for key in ch2.keys(): \n",
    "        df = np.array(ch2.get(key))\n",
    "    h = df\n",
    "    hx = np.arange(0,len(h),1)\n",
    "\n",
    "    pind, pdict = find_peaks(h, prominence=1000)\n",
    "\n",
    "    x = hx[int(pdict['right_bases'][0]):]\n",
    "    y = h[int(pdict['right_bases'][0]):]\n",
    "\n",
    "    x = x[y > 8]\n",
    "    y = y[y > 8]\n",
    "\n",
    "    comps = file.split(os.path.sep)\n",
    "    print(f'{comps[7]} - {comps[9]} @ {comps[10]}: {comps[11]} -> ',end='')\n",
    "    if len(x) > 10:\n",
    "        print('\\u001b[33mMAY BE USABLE\\u001b[0m')\n",
    "        plt.plot(x,y)\n",
    "        plt.show()\n",
    "    else: print('\\u001b[31mUNUSABLE\\u001b[0m')"
   ]
  },
  {
   "cell_type": "code",
   "execution_count": null,
   "metadata": {},
   "outputs": [],
   "source": []
  }
 ],
 "metadata": {
  "kernelspec": {
   "display_name": "Python 3 (ipykernel)",
   "language": "python",
   "name": "python3"
  },
  "language_info": {
   "codemirror_mode": {
    "name": "ipython",
    "version": 3
   },
   "file_extension": ".py",
   "mimetype": "text/x-python",
   "name": "python",
   "nbconvert_exporter": "python",
   "pygments_lexer": "ipython3",
   "version": "3.8.13"
  },
  "vscode": {
   "interpreter": {
    "hash": "98590ff4fe04c8543246b2a01debd3de3c5ca9b666f43f1fa87d5110c692004c"
   }
  }
 },
 "nbformat": 4,
 "nbformat_minor": 2
}
