{
 "cells": [
  {
   "cell_type": "code",
   "execution_count": 1,
   "metadata": {},
   "outputs": [],
   "source": [
    "import numpy as np\n",
    "import time"
   ]
  },
  {
   "cell_type": "code",
   "execution_count": 2,
   "metadata": {},
   "outputs": [],
   "source": [
    "import sys \n",
    "sys.path.append(\"../../devices\")"
   ]
  },
  {
   "cell_type": "code",
   "execution_count": 3,
   "metadata": {},
   "outputs": [],
   "source": [
    "from functiongenerator import AFG2225\n",
    "from picoammeter import Keithley6487\n",
    "from powersupply import NGE100"
   ]
  },
  {
   "cell_type": "code",
   "execution_count": 4,
   "metadata": {},
   "outputs": [],
   "source": [
    "nge = NGE100('USB0::0x0AAD::0x0197::5601.1414k03-100771::INSTR')"
   ]
  },
  {
   "cell_type": "code",
   "execution_count": 4,
   "metadata": {},
   "outputs": [],
   "source": [
    "func = AFG2225('ASRL19::INSTR')\n",
    "func.open()"
   ]
  },
  {
   "cell_type": "code",
   "execution_count": 5,
   "metadata": {},
   "outputs": [],
   "source": [
    "pico = Keithley6487('ASRL9::INSTR')"
   ]
  },
  {
   "cell_type": "code",
   "execution_count": 9,
   "metadata": {},
   "outputs": [],
   "source": [
    "nge.output(ch=1, state=True)\n",
    "nge.output(ch=2, state=True)\n",
    "\n",
    "for x in np.arange(0,10,1):\n",
    "    nge.voltage(ch=1, volt=x)\n",
    "    nge.voltage(ch=2, volt=x)\n",
    "    time.sleep(0.5)\n",
    "\n",
    "nge.output(ch=1, state=False)\n",
    "nge.output(ch=2, state=False)"
   ]
  },
  {
   "cell_type": "code",
   "execution_count": 6,
   "metadata": {},
   "outputs": [],
   "source": [
    "pico.write(\"*RST\")\n",
    "pico.voltage_source_state(False)\n",
    "pico.voltage_source_state(True)\n",
    "pico.write(\"SOUR:VOLT:RANG 50\")\n",
    "time.sleep(2)\n",
    "for x in np.arange(1,40,1):\n",
    "    pico.voltage(x)\n",
    "    time.sleep(0.1)\n",
    "pico.voltage(0)\n",
    "pico.voltage_source_state(False)"
   ]
  },
  {
   "cell_type": "code",
   "execution_count": 7,
   "metadata": {},
   "outputs": [],
   "source": [
    "for x in np.arange(0.5,5.1,0.5):\n",
    "    func.set_amplitude(2, x)\n",
    "    func.set_offset(2, x/2.0)"
   ]
  }
 ],
 "metadata": {
  "interpreter": {
   "hash": "192d5ab799b59a7848116bd7a0f9274bf70b1ac8a3a183665784aee7d10d7493"
  },
  "kernelspec": {
   "display_name": "Python 3.8.5 ('base')",
   "language": "python",
   "name": "python3"
  },
  "language_info": {
   "codemirror_mode": {
    "name": "ipython",
    "version": 3
   },
   "file_extension": ".py",
   "mimetype": "text/x-python",
   "name": "python",
   "nbconvert_exporter": "python",
   "pygments_lexer": "ipython3",
   "version": "3.7.0"
  },
  "orig_nbformat": 4
 },
 "nbformat": 4,
 "nbformat_minor": 2
}
