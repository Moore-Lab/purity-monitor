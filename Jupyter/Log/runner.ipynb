{
 "cells": [
  {
   "cell_type": "code",
   "execution_count": 5,
   "metadata": {},
   "outputs": [],
   "source": [
    "# IMPORTS\n",
    "import glob, os, sys, h5py\n",
    "import numpy as np\n",
    "sys.path.insert(0,'../../')\n",
    "sys.path.insert(0,'/Library/TeX/texbin/')\n",
    "sys.path.insert(0,'../../WaveformAnalysis')\n",
    "sys.path.insert(0,'/home/tb829/project/purity-monitor/WaveformAnalysis/')\n",
    "from scipy.signal import find_peaks, find_peaks_cwt, peak_widths, peak_prominences\n",
    "from natsort import natsorted\n",
    "from scipy.optimize import curve_fit\n",
    "from multiprocessing import Pool, Manager\n",
    "from ipywidgets import IntProgress\n",
    "from IPython.display import display\n",
    "import itertools\n",
    "\n",
    "import matplotlib as mpl\n",
    "import matplotlib.pyplot as plt\n",
    "mpl.rcParams['figure.dpi']= 100\n",
    "\n",
    "class Runner:\n",
    "\n",
    "    def __init__(self):\n",
    "        return None\n",
    "\n",
    "    def forrest(self):\n",
    "        #files = glob.glob(r'/Users/tizi/Documents/YALE_WL.nosync/data/20220812/4Vpp_3min_0.2V_intervals/**/*')\n",
    "        files = glob.glob(r'/gpfs/gibbs/project/david_moore/ab2935/Data/20220812/SRS_Gain_100/4Vpp_3min_0.2V_intervals/10.0kHz/*')\n",
    "\n",
    "        with Manager() as manager:\n",
    "            final_dict = manager.dict()\n",
    "            args = []\n",
    "\n",
    "            for file in files:\n",
    "                args.append([file,final_dict])\n",
    "\n",
    "            pool = Pool()\n",
    "            pool.starmap(self.magic, args)\n",
    "            pool.close()\n",
    "\n",
    "            for key in final_dict.keys():\n",
    "                print(f'{key} -> {final_dict[key]}')\n",
    "            return final_dict\n",
    "\n",
    "    def magic(self, file, final_dict):\n",
    "        f = h5py.File(file, 'r')  \n",
    "        ch2 = f.get('ch2')\n",
    "        for key in ch2.keys(): \n",
    "            df = np.array(ch2.get(key))\n",
    "        h = df\n",
    "        hx = np.arange(0,len(h),1)\n",
    "        x,y = hx, h\n",
    "\n",
    "        voltage = file.split('_')[-2]\n",
    "        voltage = float(voltage.split('OV')[0])\n",
    "\n",
    "        frequency = float(file.split('/')[-2].split('kHz')[0])\n",
    "        print(voltage,' @ ',frequency)\n",
    "        \n",
    "        if os.path.exists(f'/home/tb829/data/{voltage}@{frequency}.txt'):\n",
    "            try: self.load_file(file,final_dict)\n",
    "            except: pass\n",
    "            else: return True\n",
    "            \n",
    "\n",
    "        pind, pdict = find_peaks(y, prominence=2000)\n",
    "        #print(pind)\n",
    "        #print(pdict)\n",
    "        print(f'Working on {os.path.split(file)[1]}')\n",
    "        mpl.rcParams['figure.dpi']= 200\n",
    "        #plt.plot(x,y)\n",
    "        #plt.show()\n",
    "        #plt.plot(x,y)\n",
    "\n",
    "        rix_ind = 0\n",
    "        lix_ind = 0\n",
    "        rix_ind_ar = x[int(pind):][y[int(pind):] <= pdict['right_bases']]\n",
    "        if len(rix_ind_ar) == 0: rix_ind = (len(x)-1)\n",
    "        else: rix_ind = rix_ind_ar[0]\n",
    "        lix_ind_ar = x[:int(pind)][y[:int(pind)] <= pdict['left_bases']]\n",
    "        if len(lix_ind_ar) == 0: lix_ind = 0\n",
    "        else: lix_ind = lix_ind_ar[0]\n",
    "\n",
    "        #plt.vlines([pind,lix_ind,rix_ind],0,pdict['prominences'].max(),colors=['red'])\n",
    "        #plt.vlines([pdict['left_bases'],pdict['right_bases']],0,pdict['prominences'].max(),colors=['blue'])\n",
    "        #plt.xlim(lix_ind-10,rix_ind+300)\n",
    "        #plt.show()\n",
    "\n",
    "        x = x[int(pdict['right_bases']):]\n",
    "        y = y[int(pdict['right_bases']):]\n",
    "\n",
    "        #plt.plot(x,y)\n",
    "        #plt.show()\n",
    "\n",
    "        x1, y1 = self.rebin(x,y,100)\n",
    "        #plt.plot(x1,y1)\n",
    "        #plt.show()\n",
    "\n",
    "        bin_start = 5\n",
    "        bin_stop = 50\n",
    "        bin_step = 2 #  DO NOT SET THIS TO FLOAT VALUES --> REBIN ONLY TAKES INTS AND CONVERTS TO INT ANYWAY!!!!!!\n",
    "\n",
    "        prominence_start = 8\n",
    "        prominence_stop = 100\n",
    "        prominence_step = 2\n",
    "\n",
    "        distance_start = 5\n",
    "        distance_stop = 50\n",
    "        distance_step = 2\n",
    "        #1250/bins\n",
    "\n",
    "        min_peaks = 5\n",
    "        max_error = 1.0\n",
    "\n",
    "        perms = [item for item in itertools.product(np.arange(bin_start, bin_stop,bin_step),np.arange(prominence_start, prominence_stop,prominence_step))]\n",
    "\n",
    "        f = IntProgress(value=0,min=0,max=len(perms),step=1,description='Loading MCA perms...',bar_style='info',layout={\"width\": \"100%\"})\n",
    "        display(f)\n",
    "\n",
    "        trials = {}\n",
    "        for perm in perms:\n",
    "            f.value += 1\n",
    "            self.perm_run(perm,x,y,min_peaks,max_error,trials)\n",
    "\n",
    "        #{'fitted':fitted,'fitted_errs':fitted_errs,'low_comb':lowest_comb,'total_sel':total_selected,'index_sel':index_selected,'gain_sel':gain_selected,'perr_sel':perr_selected,'cumulative':cumulative}\n",
    "        fits_obtained = {}\n",
    "        if len(*trials) == 0:\n",
    "            print(f'\\u001b[31mERROR: Could not load {file}\\u001b[0m')\n",
    "            self.plot_run((40,20),x,y,min_peaks,max_error,True)\n",
    "        for p in trials.keys():\n",
    "            fitted_peaks = trials[p]['fitted']\n",
    "            fitted_sigmas = trials[p]['fitted_errs']\n",
    "            lowest_comb_value = trials[p]['low_comb']\n",
    "            total_selected = trials[p]['total_sel']\n",
    "            index_selected = trials[p]['index_sel']\n",
    "            gain_selected = trials[p]['gain_sel']\n",
    "            sigma_selected = trials[p]['perr_sel']\n",
    "            cumulative_error = trials[p]['cumulative']\n",
    "\n",
    "            fit_quality = total_selected/sigma_selected\n",
    "            fits_obtained[fit_quality] = p\n",
    "\n",
    "        try:\n",
    "            best_fit_quality = np.max([*fits_obtained])\n",
    "            best_fit_perm = fits_obtained[best_fit_quality]\n",
    "            print(f'Selected {best_fit_perm} for {best_fit_quality} best quality!')\n",
    "            self.plot_run(best_fit_perm,x,y,min_peaks,max_error,True)\n",
    "            final_dict[f'{voltage:02f}@{frequency:0.2f}'] = (trials[best_fit_perm]['gain_sel'],trials[best_fit_perm]['perr_sel'])\n",
    "        except Exception as e:\n",
    "            if not os.path.exists('./data'): os.mkdir('data')\n",
    "            with open(f'data/backup_{voltage}@{frequency}.txt','w') as f:\n",
    "                for k in trials.keys():\n",
    "                    f.write(f'{k}:{trials[k]}')\n",
    "                f.close()\n",
    "        else:\n",
    "            if not os.path.exists('./data'): os.mkdir('data')\n",
    "            with open(f'data/{voltage}@{frequency}.txt','w') as f:\n",
    "                for k in final_dict.keys():\n",
    "                    f.write(f'{k}:{final_dict[k]}')\n",
    "                f.close()\n",
    "\n",
    "\n",
    "    def rebin(self, hx,h,bins):\n",
    "        bins = int(bins)\n",
    "        h_rebin=[]\n",
    "        for i in range(int(len(h)/bins)):\n",
    "            start_idx=i*bins\n",
    "            end_idx=(i+1)*bins\n",
    "            h_rebin.append(np.sum(h[start_idx:end_idx]))\n",
    "        hx_rebin=range(len(h_rebin))\n",
    "        return np.array(hx_rebin), np.array(h_rebin)\n",
    "\n",
    "    def gauss(self, x,a,mu,sigma): return (a*np.exp(-0.5*((x-mu)/sigma)**2))\n",
    "\n",
    "    def line(self, x,a,b): return a*(x-b)\n",
    "    \n",
    "    def load_file(self, file, final_dict):\n",
    "        print(f'Loading {os.path.split(file)[1]}')\n",
    "        frequencies = {}\n",
    "\n",
    "        if not 'backup' in f:\n",
    "            filename = os.path.split(f)[1]\n",
    "            voltage = float(filename.split('@')[0])\n",
    "            frequency = float(filename.split('@')[1].split('.')[0])\n",
    "\n",
    "            with open(f,'r') as opened:\n",
    "                lines = opened.read().split(')')\n",
    "                for line in lines:\n",
    "                    if len(line) == 0: continue\n",
    "                    key = line.split(':(')[0]\n",
    "                    value = line.split(':(')[1]\n",
    "                    voltage = float(key.split('@')[0])\n",
    "                    frequency = float(key.split('@')[1].split('.txt')[0])\n",
    "                    if frequency == 0.00:\n",
    "                        print(filename)\n",
    "                        print(line)\n",
    "                    gain = float(value.split(',')[0])\n",
    "                    error = float(value.split(',')[1])\n",
    "                    final_dict[f'{voltage:02f}@{freq:0.2f}'] = (gain,error)\n",
    "                    if not frequency in list(frequencies.keys()): frequencies[frequency] = []\n",
    "                    frequencies[frequency].append((voltage, (gain,error)))\n",
    "\n",
    "                    #plt.scatter([voltage],[gain],30,c='red',marker='*')\n",
    "        #plt.clf()\n",
    "\n",
    "\n",
    "    def perm_run(self, p,x,y,min_peaks,max_error,trials, plot=False): # False if it fails, \n",
    "    \n",
    "        best_index = None\n",
    "        \n",
    "        bins = p[0]\n",
    "        prominence = p[1]\n",
    "        distance = 500/bins\n",
    "\n",
    "        try:\n",
    "            x1, y1 = self.rebin(x,y,bins)\n",
    "\n",
    "            pks, pdict = find_peaks(y1,prominence=prominence,distance=distance)\n",
    "\n",
    "            if len(pks) < min_peaks or len(pks) == 0: return False\n",
    "\n",
    "            if plot: plt.scatter([pks],[y1[pks]],20,'red','*')\n",
    "\n",
    "            x2 = np.flip(x1)\n",
    "            y2 = np.flip(y1)\n",
    "            flat_end = np.argwhere(y2 > 2)[0][0]\n",
    "            x2 = x2[flat_end:]\n",
    "            y2 = y2[flat_end:]\n",
    "            x1 = np.flip(x2)\n",
    "            y1 = np.flip(y2)\n",
    "\n",
    "            if plot: plt.plot(x1,y1)\n",
    "            #plt.show()\n",
    "\n",
    "            cumulative = 0\n",
    "            fitted = []\n",
    "            fitted_errs = []\n",
    "\n",
    "            for ii in np.arange(0,len(pks),1):\n",
    "                tolerance = 0.2\n",
    "                y_cut = y1\n",
    "\n",
    "                while len(find_peaks(y_cut,prominence=prominence,distance=distance)[0]) > 1 and tolerance < 0.8:\n",
    "                    index = pks[ii]\n",
    "\n",
    "                    peak_lx, peak_rx = None, None\n",
    "                    try: peak_lx = int(index - np.argwhere(np.flip(y1[:index]) < tolerance*y1[index])[0][0]*1.1)\n",
    "                    except: peak_lx = pdict['left_bases'][ii]\n",
    "                    try: peak_rx = int((index + np.argwhere(y1[index:] < tolerance*y1[index])[0][0])*1.1)\n",
    "                    except: peak_rx = pdict['right_bases'][ii]\n",
    "\n",
    "                    x_cut = x1[int(peak_lx):peak_rx]\n",
    "                    y_cut = y1[int(peak_lx):peak_rx]\n",
    "\n",
    "                    if len(find_peaks(y_cut,prominence=prominence)[0]) > 1: tolerance += 0.05\n",
    "\n",
    "                if np.abs(np.abs(index-peak_lx) - np.abs(peak_rx-index)) > np.abs(index-peak_lx)*0.2:\n",
    "                    peak_rx = index + np.abs(index-peak_lx)\n",
    "                    x_cut = x1[int(peak_lx):peak_rx]\n",
    "                    y_cut = y1[int(peak_lx):peak_rx]\n",
    "\n",
    "                try: sigma = np.abs(int(index - np.argwhere(np.flip(y1[:index]) < 0.5*y1[index])[0][0]))\n",
    "                except: sigma = np.abs(index-peak_lx)\n",
    "\n",
    "                try:popt, pcov = curve_fit(self.gauss,x_cut,y_cut,p0=[y1[index],np.abs(index-peak_lx),sigma],maxfev=10000000)\n",
    "                except Exception as e: continue\n",
    "                \n",
    "                perr = np.sqrt(np.diag(pcov))[1]\n",
    "                if perr > max_error: continue       # will skip this peak fit due to the error being too large\n",
    "                cumulative += perr\n",
    "\n",
    "                fitted.append(popt[1])\n",
    "                fitted_errs.append(perr)\n",
    "                cumulative += perr\n",
    "\n",
    "            cumulative = cumulative/len(pks)\n",
    "\n",
    "            lowest_comb = 1000\n",
    "            popt, pcov, perr = None, None, None\n",
    "            total_selected = None\n",
    "            index_selected = None\n",
    "            gain_selected = None\n",
    "            perr_selected = None\n",
    "\n",
    "            for ii in np.arange(len(fitted),min_peaks-1,-1):\n",
    "                for yy in np.arange(0,len(fitted)-ii+1,1):\n",
    "                    peaks = np.asarray(fitted[yy:yy+ii])*bins\n",
    "                    perrs = np.asarray(fitted_errs[yy:yy+ii])*bins\n",
    "\n",
    "                    try: popt,pcov = curve_fit(self.line,np.arange(1,len(peaks)+1),peaks,maxfev=100000,sigma=perrs)\n",
    "                    except: continue\n",
    "                    perr = np.sqrt(np.diag(pcov))[1]\n",
    "                    comb = perr/ii\n",
    "                    if comb < lowest_comb:\n",
    "                        lowest_comb = comb\n",
    "                        total_selected = ii\n",
    "                        index_selected = yy\n",
    "                        gain_selected = popt[0]\n",
    "                        perr_selected = perr\n",
    "            if total_selected is None: return False\n",
    "\n",
    "            trials[p] = {'fitted':fitted,'fitted_errs':fitted_errs,'low_comb':lowest_comb,'total_sel':total_selected,'index_sel':index_selected,'gain_sel':gain_selected,'perr_sel':perr_selected,'cumulative':cumulative}\n",
    "\n",
    "        except Exception as e:\n",
    "            print(e)\n",
    "            return False\n",
    "\n",
    "    def plot_run(self, p,x,y,min_peaks,max_error, plot=True): # False if it fails, \n",
    "    \n",
    "        bins = p[0]\n",
    "        prominence = p[1]\n",
    "        distance = 500/bins\n",
    "\n",
    "        try:\n",
    "            x1, y1 = self.rebin(x,y,bins)\n",
    "\n",
    "            pks, pdict = find_peaks(y1,prominence=prominence,distance=distance)\n",
    "\n",
    "            if len(pks) < min_peaks or len(pks) == 0: return False\n",
    "\n",
    "            if plot: plt.scatter([pks],[y1[pks]],20,'red','*')\n",
    "\n",
    "            x2 = np.flip(x1)\n",
    "            y2 = np.flip(y1)\n",
    "            flat_end = np.argwhere(y2 > 2)[0][0]\n",
    "            x2 = x2[flat_end:]\n",
    "            y2 = y2[flat_end:]\n",
    "            x1 = np.flip(x2)\n",
    "            y1 = np.flip(y2)\n",
    "\n",
    "            plt.subplot(1,2,1)\n",
    "            plt.plot(x1,y1)\n",
    "            #plt.show()\n",
    "\n",
    "            cumulative = 0\n",
    "            fitted = []\n",
    "            fitted_errs = []\n",
    "\n",
    "            for ii in np.arange(0,len(pks),1):\n",
    "                tolerance = 0.2\n",
    "                y_cut = y1\n",
    "\n",
    "                while len(find_peaks(y_cut,prominence=prominence,distance=distance)[0]) > 1 and tolerance < 0.8:\n",
    "                    index = pks[ii]\n",
    "\n",
    "                    peak_lx, peak_rx = None, None\n",
    "                    try: peak_lx = int(index - np.argwhere(np.flip(y1[:index]) < tolerance*y1[index])[0][0]*1.1)\n",
    "                    except: peak_lx = pdict['left_bases'][ii]\n",
    "                    try: peak_rx = int((index + np.argwhere(y1[index:] < tolerance*y1[index])[0][0])*1.1)\n",
    "                    except: peak_rx = pdict['right_bases'][ii]\n",
    "\n",
    "                    x_cut = x1[int(peak_lx):peak_rx]\n",
    "                    y_cut = y1[int(peak_lx):peak_rx]\n",
    "\n",
    "                    if len(find_peaks(y_cut,prominence=prominence)[0]) > 1: tolerance += 0.05\n",
    "\n",
    "                if np.abs(np.abs(index-peak_lx) - np.abs(peak_rx-index)) > np.abs(index-peak_lx)*0.2:\n",
    "                    peak_rx = index + np.abs(index-peak_lx)\n",
    "                    x_cut = x1[int(peak_lx):peak_rx]\n",
    "                    y_cut = y1[int(peak_lx):peak_rx]\n",
    "\n",
    "                try: sigma = np.abs(int(index - np.argwhere(np.flip(y1[:index]) < 0.5*y1[index])[0][0]))\n",
    "                except: sigma = np.abs(index-peak_lx)\n",
    "\n",
    "                try:popt, pcov = curve_fit(self.gauss,x_cut,y_cut,p0=[y1[index],np.abs(index-peak_lx),sigma],maxfev=10000000)\n",
    "                except Exception as e: continue\n",
    "                \n",
    "                perr = np.sqrt(np.diag(pcov))[1]\n",
    "                if perr > max_error:       # will skip this peak fit due to the error being too large\n",
    "                    plt.plot(x1[peak_lx:peak_rx],self.gauss(x1[peak_lx:peak_rx],*popt),color='red')\n",
    "                    plt.vlines(fitted,0,50,colors=['blue'],linestyles='dotted')\n",
    "                    plt.scatter([pks[ii]],[y1[pks[ii]]],30,'magenta','*')\n",
    "                else:\n",
    "                    plt.plot(x1[peak_lx:peak_rx],self.gauss(x1[peak_lx:peak_rx],*popt),color='lime')\n",
    "                    plt.vlines(fitted,0,50,colors=['blue'],linestyles='dotted')\n",
    "                    plt.scatter([pks[ii]],[y1[pks[ii]]],30,'red','*')\n",
    "\n",
    "                fitted.append(popt[1])\n",
    "                fitted_errs.append(perr)\n",
    "                cumulative += perr\n",
    "\n",
    "            cumulative = cumulative/len(pks)\n",
    "\n",
    "            plt.subplot(1,2,2)\n",
    "            lowest_comb = 1000\n",
    "            popt, pcov, perr = None, None, None\n",
    "            total_selected = None\n",
    "            index_selected = None\n",
    "            gain_selected = None\n",
    "            perr_selected = None\n",
    "\n",
    "            for ii in np.arange(len(fitted),min_peaks-1,-1):\n",
    "                for yy in np.arange(0,len(fitted)-ii+1,1):\n",
    "                    peaks = np.asarray(fitted[yy:yy+ii])*bins\n",
    "                    perrs = np.asarray(fitted_errs[yy:yy+ii])*bins\n",
    "                    x_data = np.arange(1,len(peaks)+1)\n",
    "\n",
    "                    try: popt,pcov = curve_fit(self.line,x_data,peaks,maxfev=100000,sigma=perrs)\n",
    "                    except: continue\n",
    "                    perr = np.sqrt(np.diag(pcov))[1]\n",
    "                    comb = perr/ii\n",
    "                    if comb < lowest_comb:\n",
    "                        lowest_comb = comb\n",
    "                        total_selected = ii\n",
    "                        index_selected = yy\n",
    "                        gain_selected = popt[0]\n",
    "                        perr_selected = perr\n",
    "            if total_selected is None: raise Exception()\n",
    "\n",
    "            peaks = np.asarray(fitted[index_selected:index_selected+total_selected])\n",
    "            perrs = np.asarray(fitted_errs[index_selected:index_selected+total_selected])\n",
    "            x_data = np.arange(1,len(peaks)+1)\n",
    "            popt,pcov = curve_fit(self.line,x_data,peaks,maxfev=100000,sigma=perrs)\n",
    "            perr = np.sqrt(p.diag(pcov))[1]\n",
    "            plt.scatter(x_data, peaks,30,'slateblue')\n",
    "            plt.plot(x_data,self.line(x_data,*popt),'--',label=f'Gain {popt[0]:0.2f} $\\pm$ {perr}')\n",
    "            plt.suptitle(f'Gain {popt[0]:0.2f} $\\pm$ {perr}')\n",
    "\n",
    "        except Exception as e:\n",
    "            print(e)\n",
    "            plt.clf()\n",
    "            return False\n",
    "        plt.show()"
   ]
  },
  {
   "cell_type": "code",
   "execution_count": 6,
   "metadata": {},
   "outputs": [
    {
     "name": "stdout",
     "output_type": "stream",
     "text": [
      "34.032.4  @   10.031.430.2\n",
      "  @ Loading mca_keith_32.40OV_0.h5 @ 33.6  31.8\n",
      " Working on mca_keith_32.40OV_0.h510.0  32.2 @  @ 32.0\n",
      "10.0 \n",
      "31.0  @   @ 31.6 10.0 30.610.0\n",
      " @  Loading mca_keith_34.00OV_0.h5  \n",
      "\n",
      "32.8  10.0Working on mca_keith_30.20OV_0.h5 @ \n",
      "33.8 @ Loading mca_keith_31.40OV_0.h5Loading mca_keith_33.60OV_0.h5 @ \n",
      "10.010.0  Working on mca_keith_34.00OV_0.h533.0\n",
      "\n",
      "\n",
      "Loading mca_keith_32.20OV_0.h5\n",
      "   \n",
      "30.0Working on mca_keith_31.40OV_0.h5 @ 10.0"
     ]
    },
    {
     "data": {
      "application/vnd.jupyter.widget-view+json": {
       "model_id": "992dd45bbcec4a32bba6360aa120431b",
       "version_major": 2,
       "version_minor": 0
      },
      "text/plain": [
       "IntProgress(value=0, bar_style='info', description='Loading MCA perms...', layout=Layout(width='100%'), max=10…"
      ]
     },
     "metadata": {},
     "output_type": "display_data"
    },
    {
     "name": "stdout",
     "output_type": "stream",
     "text": [
      "Working on mca_keith_33.60OV_0.h5 \n",
      "10.010.0Loading mca_keith_32.00OV_0.h5\n",
      "  \n",
      "\n",
      "\n",
      "\n",
      "\n",
      "Working on mca_keith_32.20OV_0.h5 @ 33.4Loading mca_keith_31.80OV_0.h5\n",
      " @ 10.0Working on mca_keith_30.60OV_0.h5 @  \n",
      "33.2\n",
      " Working on mca_keith_32.00OV_0.h5Working on mca_keith_31.00OV_0.h5Loading mca_keith_31.60OV_0.h5 \n",
      "31.2"
     ]
    },
    {
     "data": {
      "application/vnd.jupyter.widget-view+json": {
       "model_id": "da052c2f8e4d4aefa9fe9fccf1d34500",
       "version_major": 2,
       "version_minor": 0
      },
      "text/plain": [
       "IntProgress(value=0, bar_style='info', description='Loading MCA perms...', layout=Layout(width='100%'), max=10…"
      ]
     },
     "metadata": {},
     "output_type": "display_data"
    },
    {
     "name": "stdout",
     "output_type": "stream",
     "text": [
      "\n",
      "\n",
      " 10.0 @ \n",
      "10.0  Working on mca_keith_31.80OV_0.h5\n",
      "30.410.0Loading mca_keith_32.80OV_0.h5Working on mca_keith_31.60OV_0.h5 \n",
      "30.8\n",
      "\n",
      " @ "
     ]
    },
    {
     "data": {
      "application/vnd.jupyter.widget-view+json": {
       "model_id": "09d68b7e602c401c859aba6a04ff7f94",
       "version_major": 2,
       "version_minor": 0
      },
      "text/plain": [
       "IntProgress(value=0, bar_style='info', description='Loading MCA perms...', layout=Layout(width='100%'), max=10…"
      ]
     },
     "metadata": {},
     "output_type": "display_data"
    },
    {
     "name": "stdout",
     "output_type": "stream",
     "text": [
      "\n",
      " \n"
     ]
    },
    {
     "data": {
      "application/vnd.jupyter.widget-view+json": {
       "model_id": "9a38b0ea110a43cba3262dc937a6469d",
       "version_major": 2,
       "version_minor": 0
      },
      "text/plain": [
       "IntProgress(value=0, bar_style='info', description='Loading MCA perms...', layout=Layout(width='100%'), max=10…"
      ]
     },
     "metadata": {},
     "output_type": "display_data"
    },
    {
     "data": {
      "application/vnd.jupyter.widget-view+json": {
       "model_id": "97b859b0881b465ab74afeb7827b9a1d",
       "version_major": 2,
       "version_minor": 0
      },
      "text/plain": [
       "IntProgress(value=0, bar_style='info', description='Loading MCA perms...', layout=Layout(width='100%'), max=10…"
      ]
     },
     "metadata": {},
     "output_type": "display_data"
    },
    {
     "name": "stdout",
     "output_type": "stream",
     "text": [
      "\n",
      " @ 32.6Working on mca_keith_30.00OV_0.h510.0Loading mca_keith_33.80OV_0.h5  Working on mca_keith_32.80OV_0.h5 @ Loading mca_keith_33.00OV_0.h5 \n",
      "\n",
      " \n",
      " @ 10.0"
     ]
    },
    {
     "data": {
      "application/vnd.jupyter.widget-view+json": {
       "model_id": "9eaf6c4900dd42b2aac1a008f277611a",
       "version_major": 2,
       "version_minor": 0
      },
      "text/plain": [
       "IntProgress(value=0, bar_style='info', description='Loading MCA perms...', layout=Layout(width='100%'), max=10…"
      ]
     },
     "metadata": {},
     "output_type": "display_data"
    },
    {
     "data": {
      "application/vnd.jupyter.widget-view+json": {
       "model_id": "7abe363c15774d0fb2679f870797a501",
       "version_major": 2,
       "version_minor": 0
      },
      "text/plain": [
       "IntProgress(value=0, bar_style='info', description='Loading MCA perms...', layout=Layout(width='100%'), max=10…"
      ]
     },
     "metadata": {},
     "output_type": "display_data"
    },
    {
     "name": "stdout",
     "output_type": "stream",
     "text": [
      "\n",
      " \n",
      "10.0Loading mca_keith_33.40OV_0.h5 @  \n",
      "Working on mca_keith_33.80OV_0.h5"
     ]
    },
    {
     "data": {
      "application/vnd.jupyter.widget-view+json": {
       "model_id": "b7989de1029f4768984ac7d1db5862b1",
       "version_major": 2,
       "version_minor": 0
      },
      "text/plain": [
       "IntProgress(value=0, bar_style='info', description='Loading MCA perms...', layout=Layout(width='100%'), max=10…"
      ]
     },
     "metadata": {},
     "output_type": "display_data"
    },
    {
     "data": {
      "application/vnd.jupyter.widget-view+json": {
       "model_id": "a623af81f03d4a309458c7ba7f52fca3",
       "version_major": 2,
       "version_minor": 0
      },
      "text/plain": [
       "IntProgress(value=0, bar_style='info', description='Loading MCA perms...', layout=Layout(width='100%'), max=10…"
      ]
     },
     "metadata": {},
     "output_type": "display_data"
    },
    {
     "name": "stdout",
     "output_type": "stream",
     "text": [
      "10.0Working on mca_keith_33.00OV_0.h5\n"
     ]
    },
    {
     "data": {
      "application/vnd.jupyter.widget-view+json": {
       "model_id": "fc1c9191043d4214b4243277c21be429",
       "version_major": 2,
       "version_minor": 0
      },
      "text/plain": [
       "IntProgress(value=0, bar_style='info', description='Loading MCA perms...', layout=Layout(width='100%'), max=10…"
      ]
     },
     "metadata": {},
     "output_type": "display_data"
    },
    {
     "name": "stdout",
     "output_type": "stream",
     "text": [
      "\n",
      "\n",
      "\n",
      " 10.0Loading mca_keith_33.20OV_0.h5\n",
      "10.0Working on mca_keith_33.40OV_0.h5\n",
      "\n",
      "Working on mca_keith_30.40OV_0.h5Loading mca_keith_31.20OV_0.h5"
     ]
    },
    {
     "data": {
      "application/vnd.jupyter.widget-view+json": {
       "model_id": "d1edcfa3ad2242ffab63577b68bd2702",
       "version_major": 2,
       "version_minor": 0
      },
      "text/plain": [
       "IntProgress(value=0, bar_style='info', description='Loading MCA perms...', layout=Layout(width='100%'), max=10…"
      ]
     },
     "metadata": {},
     "output_type": "display_data"
    },
    {
     "name": "stdout",
     "output_type": "stream",
     "text": [
      "\n"
     ]
    },
    {
     "data": {
      "application/vnd.jupyter.widget-view+json": {
       "model_id": "cc81bc044c5b4fb59e990d536bc88654",
       "version_major": 2,
       "version_minor": 0
      },
      "text/plain": [
       "IntProgress(value=0, bar_style='info', description='Loading MCA perms...', layout=Layout(width='100%'), max=10…"
      ]
     },
     "metadata": {},
     "output_type": "display_data"
    },
    {
     "name": "stdout",
     "output_type": "stream",
     "text": [
      "Loading mca_keith_30.80OV_0.h5\n",
      "Working on mca_keith_33.20OV_0.h5\n",
      "\n",
      "\n",
      "Loading mca_keith_32.60OV_0.h5\n",
      "Working on mca_keith_31.20OV_0.h5"
     ]
    },
    {
     "data": {
      "application/vnd.jupyter.widget-view+json": {
       "model_id": "84c490165a7146fab81623b70e3fc7e4",
       "version_major": 2,
       "version_minor": 0
      },
      "text/plain": [
       "IntProgress(value=0, bar_style='info', description='Loading MCA perms...', layout=Layout(width='100%'), max=10…"
      ]
     },
     "metadata": {},
     "output_type": "display_data"
    },
    {
     "name": "stdout",
     "output_type": "stream",
     "text": [
      "\n",
      "Working on mca_keith_30.80OV_0.h5\n",
      "Working on mca_keith_32.60OV_0.h5"
     ]
    },
    {
     "data": {
      "application/vnd.jupyter.widget-view+json": {
       "model_id": "7077ff2961e74f2b9ce8b4cd5c304cf6",
       "version_major": 2,
       "version_minor": 0
      },
      "text/plain": [
       "IntProgress(value=0, bar_style='info', description='Loading MCA perms...', layout=Layout(width='100%'), max=10…"
      ]
     },
     "metadata": {},
     "output_type": "display_data"
    },
    {
     "name": "stdout",
     "output_type": "stream",
     "text": [
      "\n"
     ]
    },
    {
     "data": {
      "application/vnd.jupyter.widget-view+json": {
       "model_id": "e87a7d17f837469a8caefca9590439bc",
       "version_major": 2,
       "version_minor": 0
      },
      "text/plain": [
       "IntProgress(value=0, bar_style='info', description='Loading MCA perms...', layout=Layout(width='100%'), max=10…"
      ]
     },
     "metadata": {},
     "output_type": "display_data"
    },
    {
     "data": {
      "application/vnd.jupyter.widget-view+json": {
       "model_id": "f63f8931c5d84092a4372d7ca9f94e7c",
       "version_major": 2,
       "version_minor": 0
      },
      "text/plain": [
       "IntProgress(value=0, bar_style='info', description='Loading MCA perms...', layout=Layout(width='100%'), max=10…"
      ]
     },
     "metadata": {},
     "output_type": "display_data"
    },
    {
     "name": "stdout",
     "output_type": "stream",
     "text": [
      "\n"
     ]
    },
    {
     "data": {
      "application/vnd.jupyter.widget-view+json": {
       "model_id": "7eeef4724c074cccac128811e8ac0e95",
       "version_major": 2,
       "version_minor": 0
      },
      "text/plain": [
       "IntProgress(value=0, bar_style='info', description='Loading MCA perms...', layout=Layout(width='100%'), max=10…"
      ]
     },
     "metadata": {},
     "output_type": "display_data"
    },
    {
     "data": {
      "application/vnd.jupyter.widget-view+json": {
       "model_id": "afe7443866fa4d5c87863f00e53fa818",
       "version_major": 2,
       "version_minor": 0
      },
      "text/plain": [
       "IntProgress(value=0, bar_style='info', description='Loading MCA perms...', layout=Layout(width='100%'), max=10…"
      ]
     },
     "metadata": {},
     "output_type": "display_data"
    },
    {
     "data": {
      "application/vnd.jupyter.widget-view+json": {
       "model_id": "d5d6a3e6efe24b7091546b1ec52aa87d",
       "version_major": 2,
       "version_minor": 0
      },
      "text/plain": [
       "IntProgress(value=0, bar_style='info', description='Loading MCA perms...', layout=Layout(width='100%'), max=10…"
      ]
     },
     "metadata": {},
     "output_type": "display_data"
    },
    {
     "data": {
      "application/vnd.jupyter.widget-view+json": {
       "model_id": "b389b04afb7c4e49b0826902eb0ad54c",
       "version_major": 2,
       "version_minor": 0
      },
      "text/plain": [
       "IntProgress(value=0, bar_style='info', description='Loading MCA perms...', layout=Layout(width='100%'), max=10…"
      ]
     },
     "metadata": {},
     "output_type": "display_data"
    },
    {
     "data": {
      "application/vnd.jupyter.widget-view+json": {
       "model_id": "27ba023dcc6b4e2b993044290c7b1f00",
       "version_major": 2,
       "version_minor": 0
      },
      "text/plain": [
       "IntProgress(value=0, bar_style='info', description='Loading MCA perms...', layout=Layout(width='100%'), max=10…"
      ]
     },
     "metadata": {},
     "output_type": "display_data"
    },
    {
     "name": "stderr",
     "output_type": "stream",
     "text": [
      "/gpfs/gibbs/project/david_moore/tb829/conda_envs/t_env/lib/python3.8/site-packages/scipy/optimize/_minpack_py.py:833: OptimizeWarning: Covariance of the parameters could not be estimated\n",
      "  warnings.warn('Covariance of the parameters could not be estimated',\n",
      "/tmp/ipykernel_235610/1903272268.py:267: RuntimeWarning: invalid value encountered in sqrt\n",
      "  perr = np.sqrt(np.diag(pcov))[1]\n",
      "/gpfs/gibbs/project/david_moore/tb829/conda_envs/t_env/lib/python3.8/site-packages/scipy/optimize/_minpack_py.py:833: OptimizeWarning: Covariance of the parameters could not be estimated\n",
      "  warnings.warn('Covariance of the parameters could not be estimated',\n",
      "/gpfs/gibbs/project/david_moore/tb829/conda_envs/t_env/lib/python3.8/site-packages/scipy/optimize/_minpack_py.py:833: OptimizeWarning: Covariance of the parameters could not be estimated\n",
      "  warnings.warn('Covariance of the parameters could not be estimated',\n",
      "/gpfs/gibbs/project/david_moore/tb829/conda_envs/t_env/lib/python3.8/site-packages/scipy/optimize/_minpack_py.py:833: OptimizeWarning: Covariance of the parameters could not be estimated\n",
      "  warnings.warn('Covariance of the parameters could not be estimated',\n",
      "/gpfs/gibbs/project/david_moore/tb829/conda_envs/t_env/lib/python3.8/site-packages/scipy/optimize/_minpack_py.py:833: OptimizeWarning: Covariance of the parameters could not be estimated\n",
      "  warnings.warn('Covariance of the parameters could not be estimated',\n",
      "/gpfs/gibbs/project/david_moore/tb829/conda_envs/t_env/lib/python3.8/site-packages/scipy/optimize/_minpack_py.py:833: OptimizeWarning: Covariance of the parameters could not be estimated\n",
      "  warnings.warn('Covariance of the parameters could not be estimated',\n",
      "/gpfs/gibbs/project/david_moore/tb829/conda_envs/t_env/lib/python3.8/site-packages/scipy/optimize/_minpack_py.py:833: OptimizeWarning: Covariance of the parameters could not be estimated\n",
      "  warnings.warn('Covariance of the parameters could not be estimated',\n",
      "/gpfs/gibbs/project/david_moore/tb829/conda_envs/t_env/lib/python3.8/site-packages/scipy/optimize/_minpack_py.py:833: OptimizeWarning: Covariance of the parameters could not be estimated\n",
      "  warnings.warn('Covariance of the parameters could not be estimated',\n",
      "/gpfs/gibbs/project/david_moore/tb829/conda_envs/t_env/lib/python3.8/site-packages/scipy/optimize/_minpack_py.py:833: OptimizeWarning: Covariance of the parameters could not be estimated\n",
      "  warnings.warn('Covariance of the parameters could not be estimated',\n",
      "/tmp/ipykernel_235610/1903272268.py:267: RuntimeWarning: invalid value encountered in sqrt\n",
      "  perr = np.sqrt(np.diag(pcov))[1]\n",
      "/gpfs/gibbs/project/david_moore/tb829/conda_envs/t_env/lib/python3.8/site-packages/scipy/optimize/_minpack_py.py:833: OptimizeWarning: Covariance of the parameters could not be estimated\n",
      "  warnings.warn('Covariance of the parameters could not be estimated',\n",
      "/gpfs/gibbs/project/david_moore/tb829/conda_envs/t_env/lib/python3.8/site-packages/scipy/optimize/_minpack_py.py:833: OptimizeWarning: Covariance of the parameters could not be estimated\n",
      "  warnings.warn('Covariance of the parameters could not be estimated',\n",
      "/tmp/ipykernel_235610/1903272268.py:267: RuntimeWarning: invalid value encountered in sqrt\n",
      "  perr = np.sqrt(np.diag(pcov))[1]\n",
      "/gpfs/gibbs/project/david_moore/tb829/conda_envs/t_env/lib/python3.8/site-packages/scipy/optimize/_minpack_py.py:833: OptimizeWarning: Covariance of the parameters could not be estimated\n",
      "  warnings.warn('Covariance of the parameters could not be estimated',\n",
      "/tmp/ipykernel_235610/1903272268.py:267: RuntimeWarning: invalid value encountered in sqrt\n",
      "  perr = np.sqrt(np.diag(pcov))[1]\n",
      "/gpfs/gibbs/project/david_moore/tb829/conda_envs/t_env/lib/python3.8/site-packages/scipy/optimize/_minpack_py.py:833: OptimizeWarning: Covariance of the parameters could not be estimated\n",
      "  warnings.warn('Covariance of the parameters could not be estimated',\n",
      "/tmp/ipykernel_235610/1903272268.py:267: RuntimeWarning: invalid value encountered in sqrt\n",
      "  perr = np.sqrt(np.diag(pcov))[1]\n",
      "/tmp/ipykernel_235610/1903272268.py:267: RuntimeWarning: invalid value encountered in sqrt\n",
      "  perr = np.sqrt(np.diag(pcov))[1]\n",
      "/tmp/ipykernel_235610/1903272268.py:267: RuntimeWarning: invalid value encountered in sqrt\n",
      "  perr = np.sqrt(np.diag(pcov))[1]\n",
      "/gpfs/gibbs/project/david_moore/tb829/conda_envs/t_env/lib/python3.8/site-packages/scipy/optimize/_minpack_py.py:833: OptimizeWarning: Covariance of the parameters could not be estimated\n",
      "  warnings.warn('Covariance of the parameters could not be estimated',\n",
      "/tmp/ipykernel_235610/1903272268.py:267: RuntimeWarning: invalid value encountered in sqrt\n",
      "  perr = np.sqrt(np.diag(pcov))[1]\n",
      "/tmp/ipykernel_235610/1903272268.py:267: RuntimeWarning: invalid value encountered in sqrt\n",
      "  perr = np.sqrt(np.diag(pcov))[1]\n",
      "/tmp/ipykernel_235610/1903272268.py:267: RuntimeWarning: invalid value encountered in sqrt\n",
      "  perr = np.sqrt(np.diag(pcov))[1]\n",
      "/gpfs/gibbs/project/david_moore/tb829/conda_envs/t_env/lib/python3.8/site-packages/scipy/optimize/_minpack_py.py:833: OptimizeWarning: Covariance of the parameters could not be estimated\n",
      "  warnings.warn('Covariance of the parameters could not be estimated',\n",
      "/tmp/ipykernel_235610/1903272268.py:267: RuntimeWarning: invalid value encountered in sqrt\n",
      "  perr = np.sqrt(np.diag(pcov))[1]\n",
      "/tmp/ipykernel_235610/1903272268.py:267: RuntimeWarning: invalid value encountered in sqrt\n",
      "  perr = np.sqrt(np.diag(pcov))[1]\n",
      "/tmp/ipykernel_235610/1903272268.py:267: RuntimeWarning: invalid value encountered in sqrt\n",
      "  perr = np.sqrt(np.diag(pcov))[1]\n",
      "/gpfs/gibbs/project/david_moore/tb829/conda_envs/t_env/lib/python3.8/site-packages/scipy/optimize/_minpack_py.py:756: RuntimeWarning: divide by zero encountered in divide\n",
      "  transform = 1.0 / sigma\n"
     ]
    },
    {
     "ename": "TypeError",
     "evalue": "len() takes exactly one argument (0 given)",
     "output_type": "error",
     "traceback": [
      "\u001b[0;31m---------------------------------------------------------------------------\u001b[0m",
      "\u001b[0;31mRemoteTraceback\u001b[0m                           Traceback (most recent call last)",
      "\u001b[0;31mRemoteTraceback\u001b[0m: \n\"\"\"\nTraceback (most recent call last):\n  File \"/gpfs/gibbs/project/david_moore/tb829/conda_envs/t_env/lib/python3.8/multiprocessing/pool.py\", line 125, in worker\n    result = (True, func(*args, **kwds))\n  File \"/gpfs/gibbs/project/david_moore/tb829/conda_envs/t_env/lib/python3.8/multiprocessing/pool.py\", line 51, in starmapstar\n    return list(itertools.starmap(args[0], args[1]))\n  File \"/tmp/ipykernel_235610/1903272268.py\", line 126, in magic\n    if len(*trials) == 0:\nTypeError: len() takes exactly one argument (0 given)\n\"\"\"",
      "\nThe above exception was the direct cause of the following exception:\n",
      "\u001b[0;31mTypeError\u001b[0m                                 Traceback (most recent call last)",
      "Input \u001b[0;32mIn [6]\u001b[0m, in \u001b[0;36m<cell line: 1>\u001b[0;34m()\u001b[0m\n\u001b[0;32m----> 1\u001b[0m Bolt \u001b[38;5;241m=\u001b[39m \u001b[43mRunner\u001b[49m\u001b[43m(\u001b[49m\u001b[43m)\u001b[49m\u001b[38;5;241;43m.\u001b[39;49m\u001b[43mforrest\u001b[49m\u001b[43m(\u001b[49m\u001b[43m)\u001b[49m\n\u001b[1;32m      2\u001b[0m \u001b[38;5;28mprint\u001b[39m(Bolt)\n",
      "Input \u001b[0;32mIn [5]\u001b[0m, in \u001b[0;36mRunner.forrest\u001b[0;34m(self)\u001b[0m\n\u001b[1;32m     34\u001b[0m     args\u001b[38;5;241m.\u001b[39mappend([file,final_dict])\n\u001b[1;32m     36\u001b[0m pool \u001b[38;5;241m=\u001b[39m Pool()\n\u001b[0;32m---> 37\u001b[0m \u001b[43mpool\u001b[49m\u001b[38;5;241;43m.\u001b[39;49m\u001b[43mstarmap\u001b[49m\u001b[43m(\u001b[49m\u001b[38;5;28;43mself\u001b[39;49m\u001b[38;5;241;43m.\u001b[39;49m\u001b[43mmagic\u001b[49m\u001b[43m,\u001b[49m\u001b[43m \u001b[49m\u001b[43margs\u001b[49m\u001b[43m)\u001b[49m\n\u001b[1;32m     38\u001b[0m pool\u001b[38;5;241m.\u001b[39mclose()\n\u001b[1;32m     40\u001b[0m \u001b[38;5;28;01mfor\u001b[39;00m key \u001b[38;5;129;01min\u001b[39;00m final_dict\u001b[38;5;241m.\u001b[39mkeys():\n",
      "File \u001b[0;32m/gpfs/gibbs/project/david_moore/tb829/conda_envs/t_env/lib/python3.8/multiprocessing/pool.py:372\u001b[0m, in \u001b[0;36mPool.starmap\u001b[0;34m(self, func, iterable, chunksize)\u001b[0m\n\u001b[1;32m    366\u001b[0m \u001b[38;5;28;01mdef\u001b[39;00m \u001b[38;5;21mstarmap\u001b[39m(\u001b[38;5;28mself\u001b[39m, func, iterable, chunksize\u001b[38;5;241m=\u001b[39m\u001b[38;5;28;01mNone\u001b[39;00m):\n\u001b[1;32m    367\u001b[0m     \u001b[38;5;124;03m'''\u001b[39;00m\n\u001b[1;32m    368\u001b[0m \u001b[38;5;124;03m    Like `map()` method but the elements of the `iterable` are expected to\u001b[39;00m\n\u001b[1;32m    369\u001b[0m \u001b[38;5;124;03m    be iterables as well and will be unpacked as arguments. Hence\u001b[39;00m\n\u001b[1;32m    370\u001b[0m \u001b[38;5;124;03m    `func` and (a, b) becomes func(a, b).\u001b[39;00m\n\u001b[1;32m    371\u001b[0m \u001b[38;5;124;03m    '''\u001b[39;00m\n\u001b[0;32m--> 372\u001b[0m     \u001b[38;5;28;01mreturn\u001b[39;00m \u001b[38;5;28;43mself\u001b[39;49m\u001b[38;5;241;43m.\u001b[39;49m\u001b[43m_map_async\u001b[49m\u001b[43m(\u001b[49m\u001b[43mfunc\u001b[49m\u001b[43m,\u001b[49m\u001b[43m \u001b[49m\u001b[43miterable\u001b[49m\u001b[43m,\u001b[49m\u001b[43m \u001b[49m\u001b[43mstarmapstar\u001b[49m\u001b[43m,\u001b[49m\u001b[43m \u001b[49m\u001b[43mchunksize\u001b[49m\u001b[43m)\u001b[49m\u001b[38;5;241;43m.\u001b[39;49m\u001b[43mget\u001b[49m\u001b[43m(\u001b[49m\u001b[43m)\u001b[49m\n",
      "File \u001b[0;32m/gpfs/gibbs/project/david_moore/tb829/conda_envs/t_env/lib/python3.8/multiprocessing/pool.py:771\u001b[0m, in \u001b[0;36mApplyResult.get\u001b[0;34m(self, timeout)\u001b[0m\n\u001b[1;32m    769\u001b[0m     \u001b[38;5;28;01mreturn\u001b[39;00m \u001b[38;5;28mself\u001b[39m\u001b[38;5;241m.\u001b[39m_value\n\u001b[1;32m    770\u001b[0m \u001b[38;5;28;01melse\u001b[39;00m:\n\u001b[0;32m--> 771\u001b[0m     \u001b[38;5;28;01mraise\u001b[39;00m \u001b[38;5;28mself\u001b[39m\u001b[38;5;241m.\u001b[39m_value\n",
      "\u001b[0;31mTypeError\u001b[0m: len() takes exactly one argument (0 given)"
     ]
    }
   ],
   "source": [
    "Bolt = Runner().forrest()\n",
    "print(Bolt)"
   ]
  },
  {
   "cell_type": "code",
   "execution_count": 161,
   "metadata": {},
   "outputs": [
    {
     "ename": "BrokenPipeError",
     "evalue": "[Errno 32] Broken pipe",
     "output_type": "error",
     "traceback": [
      "\u001b[0;31m---------------------------------------------------------------------------\u001b[0m",
      "\u001b[0;31mBrokenPipeError\u001b[0m                           Traceback (most recent call last)",
      "Input \u001b[0;32mIn [161]\u001b[0m, in \u001b[0;36m<cell line: 1>\u001b[0;34m()\u001b[0m\n\u001b[0;32m----> 1\u001b[0m \u001b[38;5;28mprint\u001b[39m(\u001b[43mBolt\u001b[49m\u001b[38;5;241;43m.\u001b[39;49m\u001b[43mkeys\u001b[49m\u001b[43m(\u001b[49m\u001b[43m)\u001b[49m)\n\u001b[1;32m      2\u001b[0m \u001b[38;5;124;03m\"\"\"frequencies = {}\u001b[39;00m\n\u001b[1;32m      3\u001b[0m \n\u001b[1;32m      4\u001b[0m \u001b[38;5;124;03mfor key in Bolt.keys():\u001b[39;00m\n\u001b[0;32m   (...)\u001b[0m\n\u001b[1;32m     12\u001b[0m \u001b[38;5;124;03m    frequencies[freq][1].append(gain)\u001b[39;00m\n\u001b[1;32m     13\u001b[0m \u001b[38;5;124;03m    frequencies[freq][2].append(error)\"\"\"\u001b[39;00m\n",
      "File \u001b[0;32m<string>:2\u001b[0m, in \u001b[0;36mkeys\u001b[0;34m(self, *args, **kwds)\u001b[0m\n",
      "File \u001b[0;32m/gpfs/gibbs/project/david_moore/tb829/conda_envs/t_env/lib/python3.8/multiprocessing/managers.py:834\u001b[0m, in \u001b[0;36mBaseProxy._callmethod\u001b[0;34m(self, methodname, args, kwds)\u001b[0m\n\u001b[1;32m    831\u001b[0m     \u001b[38;5;28mself\u001b[39m\u001b[38;5;241m.\u001b[39m_connect()\n\u001b[1;32m    832\u001b[0m     conn \u001b[38;5;241m=\u001b[39m \u001b[38;5;28mself\u001b[39m\u001b[38;5;241m.\u001b[39m_tls\u001b[38;5;241m.\u001b[39mconnection\n\u001b[0;32m--> 834\u001b[0m \u001b[43mconn\u001b[49m\u001b[38;5;241;43m.\u001b[39;49m\u001b[43msend\u001b[49m\u001b[43m(\u001b[49m\u001b[43m(\u001b[49m\u001b[38;5;28;43mself\u001b[39;49m\u001b[38;5;241;43m.\u001b[39;49m\u001b[43m_id\u001b[49m\u001b[43m,\u001b[49m\u001b[43m \u001b[49m\u001b[43mmethodname\u001b[49m\u001b[43m,\u001b[49m\u001b[43m \u001b[49m\u001b[43margs\u001b[49m\u001b[43m,\u001b[49m\u001b[43m \u001b[49m\u001b[43mkwds\u001b[49m\u001b[43m)\u001b[49m\u001b[43m)\u001b[49m\n\u001b[1;32m    835\u001b[0m kind, result \u001b[38;5;241m=\u001b[39m conn\u001b[38;5;241m.\u001b[39mrecv()\n\u001b[1;32m    837\u001b[0m \u001b[38;5;28;01mif\u001b[39;00m kind \u001b[38;5;241m==\u001b[39m \u001b[38;5;124m'\u001b[39m\u001b[38;5;124m#RETURN\u001b[39m\u001b[38;5;124m'\u001b[39m:\n",
      "File \u001b[0;32m/gpfs/gibbs/project/david_moore/tb829/conda_envs/t_env/lib/python3.8/multiprocessing/connection.py:206\u001b[0m, in \u001b[0;36m_ConnectionBase.send\u001b[0;34m(self, obj)\u001b[0m\n\u001b[1;32m    204\u001b[0m \u001b[38;5;28mself\u001b[39m\u001b[38;5;241m.\u001b[39m_check_closed()\n\u001b[1;32m    205\u001b[0m \u001b[38;5;28mself\u001b[39m\u001b[38;5;241m.\u001b[39m_check_writable()\n\u001b[0;32m--> 206\u001b[0m \u001b[38;5;28;43mself\u001b[39;49m\u001b[38;5;241;43m.\u001b[39;49m\u001b[43m_send_bytes\u001b[49m\u001b[43m(\u001b[49m\u001b[43m_ForkingPickler\u001b[49m\u001b[38;5;241;43m.\u001b[39;49m\u001b[43mdumps\u001b[49m\u001b[43m(\u001b[49m\u001b[43mobj\u001b[49m\u001b[43m)\u001b[49m\u001b[43m)\u001b[49m\n",
      "File \u001b[0;32m/gpfs/gibbs/project/david_moore/tb829/conda_envs/t_env/lib/python3.8/multiprocessing/connection.py:411\u001b[0m, in \u001b[0;36mConnection._send_bytes\u001b[0;34m(self, buf)\u001b[0m\n\u001b[1;32m    405\u001b[0m     \u001b[38;5;28mself\u001b[39m\u001b[38;5;241m.\u001b[39m_send(buf)\n\u001b[1;32m    406\u001b[0m \u001b[38;5;28;01melse\u001b[39;00m:\n\u001b[1;32m    407\u001b[0m     \u001b[38;5;66;03m# Issue #20540: concatenate before sending, to avoid delays due\u001b[39;00m\n\u001b[1;32m    408\u001b[0m     \u001b[38;5;66;03m# to Nagle's algorithm on a TCP socket.\u001b[39;00m\n\u001b[1;32m    409\u001b[0m     \u001b[38;5;66;03m# Also note we want to avoid sending a 0-length buffer separately,\u001b[39;00m\n\u001b[1;32m    410\u001b[0m     \u001b[38;5;66;03m# to avoid \"broken pipe\" errors if the other end closed the pipe.\u001b[39;00m\n\u001b[0;32m--> 411\u001b[0m     \u001b[38;5;28;43mself\u001b[39;49m\u001b[38;5;241;43m.\u001b[39;49m\u001b[43m_send\u001b[49m\u001b[43m(\u001b[49m\u001b[43mheader\u001b[49m\u001b[43m \u001b[49m\u001b[38;5;241;43m+\u001b[39;49m\u001b[43m \u001b[49m\u001b[43mbuf\u001b[49m\u001b[43m)\u001b[49m\n",
      "File \u001b[0;32m/gpfs/gibbs/project/david_moore/tb829/conda_envs/t_env/lib/python3.8/multiprocessing/connection.py:368\u001b[0m, in \u001b[0;36mConnection._send\u001b[0;34m(self, buf, write)\u001b[0m\n\u001b[1;32m    366\u001b[0m remaining \u001b[38;5;241m=\u001b[39m \u001b[38;5;28mlen\u001b[39m(buf)\n\u001b[1;32m    367\u001b[0m \u001b[38;5;28;01mwhile\u001b[39;00m \u001b[38;5;28;01mTrue\u001b[39;00m:\n\u001b[0;32m--> 368\u001b[0m     n \u001b[38;5;241m=\u001b[39m \u001b[43mwrite\u001b[49m\u001b[43m(\u001b[49m\u001b[38;5;28;43mself\u001b[39;49m\u001b[38;5;241;43m.\u001b[39;49m\u001b[43m_handle\u001b[49m\u001b[43m,\u001b[49m\u001b[43m \u001b[49m\u001b[43mbuf\u001b[49m\u001b[43m)\u001b[49m\n\u001b[1;32m    369\u001b[0m     remaining \u001b[38;5;241m-\u001b[39m\u001b[38;5;241m=\u001b[39m n\n\u001b[1;32m    370\u001b[0m     \u001b[38;5;28;01mif\u001b[39;00m remaining \u001b[38;5;241m==\u001b[39m \u001b[38;5;241m0\u001b[39m:\n",
      "\u001b[0;31mBrokenPipeError\u001b[0m: [Errno 32] Broken pipe"
     ]
    }
   ],
   "source": [
    "print(Bolt.keys())\n",
    "\"\"\"frequencies = {}\n",
    "\n",
    "for key in Bolt.keys():\n",
    "    voltage = float(str(key).split('@')[0])\n",
    "    freq = float(str(key).split('@')[1])\n",
    "    gain, error = Bolt[key]\n",
    "\n",
    "    if not freq in list(frequencies.keys()): frequencies[freq] = ([],[],[])\n",
    "\n",
    "    frequencies[freq][0].append(voltage)\n",
    "    frequencies[freq][1].append(gain)\n",
    "    frequencies[freq][2].append(error)\"\"\""
   ]
  },
  {
   "cell_type": "code",
   "execution_count": 162,
   "metadata": {},
   "outputs": [
    {
     "data": {
      "text/plain": [
       "'for f in frequencies.keys():\\n    voltages = frequencies[f][0]\\n    gains = frequencies[f][1]\\n    errors = frequencies[f][2]\\n    plt.scatter(voltages,gains)\\n    plt.show()'"
      ]
     },
     "execution_count": 162,
     "metadata": {},
     "output_type": "execute_result"
    }
   ],
   "source": [
    "\"\"\"for f in frequencies.keys():\n",
    "    voltages = frequencies[f][0]\n",
    "    gains = frequencies[f][1]\n",
    "    errors = frequencies[f][2]\n",
    "    plt.scatter(voltages,gains)\n",
    "    plt.show()\"\"\""
   ]
  },
  {
   "cell_type": "code",
   "execution_count": 163,
   "metadata": {},
   "outputs": [],
   "source": [
    "mpl.rcParams['figure.dpi']= 200\n",
    "\n",
    "files = glob.glob('/home/tb829/*@*.txt')\n",
    "\n",
    "frequencies = {}\n",
    "\n",
    "for f in files:\n",
    "    if not 'backup' in f:\n",
    "        filename = os.path.split(f)[1]\n",
    "        voltage = float(filename.split('@')[0])\n",
    "        frequency = float(filename.split('@')[1].split('.')[0])\n",
    "        \n",
    "        with open(f,'r') as opened:\n",
    "            lines = opened.read().split(')')\n",
    "            for line in lines:\n",
    "                if len(line) == 0: continue\n",
    "                key = line.split(':(')[0]\n",
    "                value = line.split(':(')[1]\n",
    "                voltage = float(key.split('@')[0])\n",
    "                frequency = float(key.split('@')[1].split('.txt')[0])\n",
    "                if frequency == 0.00:\n",
    "                    print(filename)\n",
    "                    print(line)\n",
    "                gain = float(value.split(',')[0])\n",
    "                error = float(value.split(',')[1])\n",
    "                if not frequency in list(frequencies.keys()): frequencies[frequency] = []\n",
    "                frequencies[frequency].append((voltage, (gain,error)))\n",
    "\n",
    "                #plt.scatter([voltage],[gain],30,c='red',marker='*')\n",
    "    #plt.clf()\n",
    "                \n",
    "frequencies_un = np.unique(list(frequencies.keys()))\n",
    "#with open(f'{voltage}@{frequency}.txt','w') as f:"
   ]
  },
  {
   "cell_type": "code",
   "execution_count": 164,
   "metadata": {},
   "outputs": [
    {
     "name": "stdout",
     "output_type": "stream",
     "text": [
      "0.50kHz ->  192.42353 ± 0.00225      (slateblue)\n",
      "0.60kHz ->  193.58632 ± 0.00241      (green)\n",
      "0.70kHz ->  196.10608 ± 0.00202      (brown)\n",
      "0.80kHz ->  169.99816 ± 0.00397      (yellow)\n",
      "0.90kHz ->  170.34314 ± 0.00441      (red)\n",
      "1.00kHz ->  169.90458 ± 0.00151      (blue)\n",
      "2.00kHz ->  143.64509 ± 0.00248      (navy)\n",
      "5.00kHz ->  104.93988 ± 0.00423      (magenta)\n",
      "7.00kHz ->  89.61547 ± 0.00999      (orange)\n",
      "10.00kHz ->  75.66535 ± 0.00462      (purple)\n"
     ]
    },
    {
     "data": {
      "image/png": "[encoded data removed]",
      "text/plain": [
       "<Figure size 1200x800 with 1 Axes>"
      ]
     },
     "metadata": {},
     "output_type": "display_data"
    }
   ],
   "source": [
    "colors = ['slateblue', 'green', 'brown', 'yellow', 'red', 'blue', 'navy','magenta','orange','purple']\n",
    "def line(x,a,b): return a*(x-b)\n",
    "plt.figure(facecolor='white')\n",
    "for ii, freq in enumerate(frequencies_un):\n",
    "    values = frequencies[freq]\n",
    "    color = colors[ii]\n",
    "    voltages = []\n",
    "    gains = []\n",
    "    errors = []\n",
    "    for value in values:\n",
    "        voltage, data_val = value\n",
    "        gain, error = data_val\n",
    "        if freq == 10.0 and voltage < 31.8: continue\n",
    "        if freq == 7.0 and voltage < 31.0: continue\n",
    "        if freq == 5.0 and voltage < 30.4: continue\n",
    "        voltages.append(voltage)\n",
    "        gains.append(gain)\n",
    "        errors.append(error)\n",
    "    \n",
    "    plt.scatter(voltages,gains,30,c=color,marker='o')\n",
    "    popt,pcov = curve_fit(line,voltages,gains,maxfev=1000000)\n",
    "    plt.plot(voltages,line(voltages,*popt),color=color,label=str(freq)+'kHz')\n",
    "    print(f'{freq:.02f}kHz ->  {popt[0]:.5f} ± {np.sqrt(np.diag(pcov))[1]:.5f}      ({color})')\n",
    "plt.legend(loc='upper left')\n",
    "plt.xlabel('[volts]')\n",
    "plt.show()"
   ]
  },
  {
   "cell_type": "code",
   "execution_count": null,
   "metadata": {},
   "outputs": [],
   "source": []
  }
 ],
 "metadata": {
  "kernelspec": {
   "display_name": "Python 3 (ipykernel)",
   "language": "python",
   "name": "python3"
  },
  "language_info": {
   "codemirror_mode": {
    "name": "ipython",
    "version": 3
   },
   "file_extension": ".py",
   "mimetype": "text/x-python",
   "name": "python",
   "nbconvert_exporter": "python",
   "pygments_lexer": "ipython3",
   "version": "3.8.13"
  },
  "vscode": {
   "interpreter": {
    "hash": "31f2aee4e71d21fbe5cf8b01ff0e069b9275f58929596ceb00d14d90e3e16cd6"
   }
  }
 },
 "nbformat": 4,
 "nbformat_minor": 2
}
