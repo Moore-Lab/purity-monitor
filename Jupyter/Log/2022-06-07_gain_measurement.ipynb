{
 "cells": [
  {
   "cell_type": "markdown",
   "metadata": {},
   "source": [
    "This notebook acquires data to measure the gain of the SiPM. It sets the overvoltage and then takes scope and MCA data with the Red Pitaya. The scope is setup to trigger on the LED."
   ]
  },
  {
   "cell_type": "code",
   "execution_count": 2,
   "metadata": {},
   "outputs": [],
   "source": [
    "import numpy as np\n",
    "import time,datetime\n",
    "import matplotlib.pyplot as plt\n",
    "from IPython import display\n",
    "%matplotlib inline\n",
    "plt.style.use('../../style.mplstyle')\n",
    "import sys \n",
    "sys.path.append(\"../../devices\")\n",
    "sys.path.append(\"../../RedPitaya\")\n",
    "from datetime import datetime"
   ]
  },
  {
   "cell_type": "code",
   "execution_count": 3,
   "metadata": {},
   "outputs": [],
   "source": [
    "#### set data taking parameters here #####\n",
    "\n",
    "save_dir = \"\" ## name of director to save, leave empty to use todays date as default\n",
    "make_plots = True ## make diagnostic plots\n",
    "\n",
    "breakdown_voltage = 27.5 ## Volts, breakdown to sweep keithley relative to\n",
    "ov_list = np.arange(3.5, 7.5, 0.5) ## Volts, list of overvoltages to sweep\n",
    "\n",
    "instr_to_sweep = 'keith' ## instrument to sweep over (must be 'keith' or 'synth')\n",
    "\n",
    "red_pitaya_channel = 2 ## channel for the analog signal in the RP (1 or 2), used for MCA presumably after shaper\n",
    "wf_chan_list = [1,2] ## list of RP channels to acquire waveforms for\n",
    "\n",
    "num_scope_files=10 ## number of files to save the scope traces in\n",
    "num_scope_traces = 200 ## number of traces at each overvoltage\n",
    "num_mca_events = 1000 ## number of MCA pulses in the histogram\n",
    "LED_flashing_rate = 100 ## Hz, rate at which to pulse LED"
   ]
  },
  {
   "cell_type": "code",
   "execution_count": 4,
   "metadata": {},
   "outputs": [],
   "source": [
    "## setup directories for saving data\n",
    "\n",
    "date = datetime.today().strftime('%Y%m%d')\n",
    "subdir = ''\n",
    "path = \"C:/Data/{}/{}/\".format(date,subdir)\n",
    "if not os.path.exists(path):\n",
    "    os.makedirs(path)"
   ]
  },
  {
   "cell_type": "code",
   "execution_count": 5,
   "metadata": {},
   "outputs": [],
   "source": [
    "## import instrument control as needed\n",
    "from pitaya import RedPitaya\n",
    "from functiongenerator import AFG2225\n",
    "from picoammeter import Keithley6487\n",
    "from powersupply import NGE100\n",
    "import redpitaya_mca as mca"
   ]
  },
  {
   "cell_type": "code",
   "execution_count": 6,
   "metadata": {},
   "outputs": [],
   "source": [
    "nge = NGE100('USB0::0x0AAD::0x0197::5601.1414k03-100771::INSTR')\n",
    "pico = Keithley6487('ASRL9::INSTR')\n",
    "func = AFG2225('ASRL19::INSTR')"
   ]
  },
  {
   "cell_type": "code",
   "execution_count": 7,
   "metadata": {},
   "outputs": [],
   "source": [
    "## turn on 24 Volts to power the cremat pre-amplifier\n",
    "output_channel = 1 ## channel to turn on\n",
    "output_voltage = 24 # Volts\n",
    "nge.output(ch=output_channel, state=False)\n",
    "nge.voltage(ch=output_channel, volt=output_voltage)\n",
    "nge.output(ch=output_channel, state=True)"
   ]
  },
  {
   "cell_type": "code",
   "execution_count": 19,
   "metadata": {},
   "outputs": [
    {
     "data": {
      "text/plain": [
       "True"
      ]
     },
     "execution_count": 19,
     "metadata": {},
     "output_type": "execute_result"
    }
   ],
   "source": [
    "# set the function generator to trigger the LED\n",
    "synth_channel = 2\n",
    "pulse_frequency = LED_flashing_rate ## Hz, rate of pulses\n",
    "pulse_amplitude = 2.0 ## V, voltage for driving LED\n",
    "amplitude_offset = pulse_amplitude/2.0 #pulse_amplitude/2 ## V, offset to give positive going pulse\n",
    "\n",
    "func.set_frequency(synth_channel, pulse_frequency)\n",
    "func.set_amplitude(synth_channel, pulse_amplitude)\n",
    "func.set_offset(synth_channel, amplitude_offset)\n",
    "func.set_output_load(synth_channel, \"HZ\") ## make sure the channel is set for high impedance\n",
    "func.set_output_onoff(synth_channel, 1) ## turn on channel"
   ]
  },
  {
   "cell_type": "code",
   "execution_count": 9,
   "metadata": {},
   "outputs": [],
   "source": [
    "## setup the Keithley and turn it on to the breakdown voltage so it starts ramping up\n",
    "\n",
    "keithley_time_delay = 5 ## seconds, time to wait for the keithley to stabilize at a given voltage\n",
    "\n",
    "if(instr_to_sweep == 'keith'):\n",
    "    pico.voltage_source_state(0) ## turn off source\n",
    "    pico.voltage_source_range(breakdown_voltage+np.max(ov_list)) ## set the range to accomodate the highest voltage needed\n",
    "    pico.voltage(breakdown_voltage) ## set to breakdown\n",
    "    pico.voltage_source_state(1) ## turn on source\n",
    "    time.sleep(keithley_time_delay) ## wait for the voltage to ramp up\n",
    "pico.voltage(30) ## set to breakdown"
   ]
  },
  {
   "cell_type": "code",
   "execution_count": 17,
   "metadata": {},
   "outputs": [],
   "source": [
    "pico.voltage(0) ## set to breakdown"
   ]
  },
  {
   "cell_type": "code",
   "execution_count": null,
   "metadata": {},
   "outputs": [],
   "source": [
    "## setup the Red Pitaya for waveform acquisition and for the MCA\n",
    "\n",
    "## parameters for scope acquisition (via SCPI)\n",
    "rp_size = 2048 ## number of samples to acquire\n",
    "rp_delay = 8192-rp_size/2. ## trigger delay relative to start of the waveform"
   ]
  },
  {
   "cell_type": "code",
   "execution_count": null,
   "metadata": {},
   "outputs": [],
   "source": [
    "## helper function to take waveform data\n",
    "\n",
    "def get_waveform_data(rp, chan, num_wfs, trig='ext', trig_params = {'ch': 2, 'level': 20, 'delay': rp_delay}):\n",
    "    \n",
    "    wvf_array=[]\n",
    "    for wf_idx in range(num_wfs):\n",
    "        rp.configure(dec_fac=64)\n",
    "        rp.start()\n",
    "        \n",
    "        if trig == 'ext':\n",
    "            rp.ext_trigger()\n",
    "        elif trig in [1,2]:\n",
    "            rp.trigger(**trig_params)\n",
    "        else:\n",
    "            print(\"Trigger must be '''ext''' or 1,2 for channel\")\n",
    "            return None\n",
    "\n",
    "        t, data = rp.acquire(ch=chan, size=rp_size, ascii=True)\n",
    "        wvf_array.append(data)\n",
    "\n",
    "    return np.array(wvf_array), t"
   ]
  },
  {
   "cell_type": "markdown",
   "metadata": {},
   "source": [
    "!!!! Before running this cell make sure the SCPI server is running !!!"
   ]
  },
  {
   "cell_type": "code",
   "execution_count": null,
   "metadata": {},
   "outputs": [],
   "source": [
    "## loop over overvoltages, and set the keithley. then take scope and MCA data as desired\n",
    "\n",
    "red = RedPitaya('172.28.175.57', username='root', password='root')\n",
    "\n",
    "for ov in ov_list:\n",
    "\n",
    "    ## set keithley to desired voltage (assumes wired reverse biased, so positive voltages):\n",
    "    if(instr_to_sweep == 'keith'):\n",
    "        pico.voltage(breakdown_voltage + ov) \n",
    "        time.sleep(keithley_time_delay) ## wait for voltage to ramp up\n",
    "    elif(instr_to_sweep == 'synth'):\n",
    "        func.set_amplitude(synth_channel, ov)\n",
    "    else:\n",
    "        print(\"Warning, not sweeping -- set instr_to_sweep to '''keith''' or '''synth''' \")\n",
    "    \n",
    "    for file_idx in range(num_scope_files):\n",
    "        wf_dict = {}\n",
    "        for curr_chan in wf_chan_list:\n",
    "            wf_data, t = get_waveform_data(red, curr_chan, num_scope_traces)    \n",
    "            wf_dict[curr_chan] = wf_data\n",
    "        red.save(t, wf_dict, tag='wavefms_keith_{:.2f}OV_{}'.format(ov,file_idx), path=path)\n",
    "\n",
    "    if(make_plots):\n",
    "        plt.figure()\n",
    "        for curr_chan in wf_chan_list:\n",
    "            plt.plot(t, wf_dict[curr_chan][0,:])\n",
    "        plt.show()   "
   ]
  },
  {
   "cell_type": "markdown",
   "metadata": {},
   "source": [
    "New test functions to get digital data from MCA code before filled into histogram"
   ]
  },
  {
   "cell_type": "code",
   "execution_count": null,
   "metadata": {},
   "outputs": [],
   "source": [
    "red_mca = mca.mca()\n",
    "ssh = red_mca.ssh_connect()\n",
    "ssh.exec_command('reboot')"
   ]
  },
  {
   "cell_type": "code",
   "execution_count": 12,
   "metadata": {},
   "outputs": [
    {
     "data": {
      "text/plain": [
       "<module 'redpitaya_mca' from '../../RedPitaya\\\\redpitaya_mca.py'>"
      ]
     },
     "execution_count": 12,
     "metadata": {},
     "output_type": "execute_result"
    }
   ],
   "source": [
    "import sys \n",
    "sys.path.append(\"../../RedPitaya\")\n",
    "import redpitaya_mca as mca\n",
    "import importlib \n",
    "import matplotlib\n",
    "importlib.reload(mca)"
   ]
  },
  {
   "cell_type": "code",
   "execution_count": 13,
   "metadata": {},
   "outputs": [],
   "source": [
    "red_mca = mca.mca()\n",
    "ssh = red_mca.ssh_connect()"
   ]
  },
  {
   "cell_type": "code",
   "execution_count": 14,
   "metadata": {},
   "outputs": [
    {
     "name": "stdout",
     "output_type": "stream",
     "text": [
      "6237\n"
     ]
    },
    {
     "ename": "NameError",
     "evalue": "name 'plt' is not defined",
     "output_type": "error",
     "traceback": [
      "\u001b[1;31m---------------------------------------------------------------------------\u001b[0m",
      "\u001b[1;31mNameError\u001b[0m                                 Traceback (most recent call last)",
      "\u001b[1;32m<ipython-input-14-73cd2cbf7425>\u001b[0m in \u001b[0;36m<module>\u001b[1;34m\u001b[0m\n\u001b[0;32m     16\u001b[0m         \u001b[0mprint\u001b[0m\u001b[1;33m(\u001b[0m\u001b[0mlen\u001b[0m\u001b[1;33m(\u001b[0m\u001b[0mconverted_data\u001b[0m\u001b[1;33m)\u001b[0m\u001b[1;33m)\u001b[0m\u001b[1;33m\u001b[0m\u001b[1;33m\u001b[0m\u001b[0m\n\u001b[0;32m     17\u001b[0m         \u001b[0mlength\u001b[0m \u001b[1;33m=\u001b[0m \u001b[0mint\u001b[0m\u001b[1;33m(\u001b[0m\u001b[0mlen\u001b[0m\u001b[1;33m(\u001b[0m\u001b[0mconverted_data\u001b[0m\u001b[1;33m[\u001b[0m\u001b[1;36m0\u001b[0m\u001b[1;33m:\u001b[0m\u001b[1;33m:\u001b[0m\u001b[1;36m2\u001b[0m\u001b[1;33m]\u001b[0m\u001b[1;33m)\u001b[0m\u001b[1;33m)\u001b[0m\u001b[1;33m\u001b[0m\u001b[1;33m\u001b[0m\u001b[0m\n\u001b[1;32m---> 18\u001b[1;33m         \u001b[0mplt\u001b[0m\u001b[1;33m.\u001b[0m\u001b[0mplot\u001b[0m\u001b[1;33m(\u001b[0m\u001b[0mnp\u001b[0m\u001b[1;33m.\u001b[0m\u001b[0mlinspace\u001b[0m\u001b[1;33m(\u001b[0m\u001b[1;36m0\u001b[0m\u001b[1;33m,\u001b[0m\u001b[0mlength\u001b[0m\u001b[1;33m*\u001b[0m\u001b[0msample\u001b[0m\u001b[1;33m,\u001b[0m\u001b[0mlength\u001b[0m\u001b[1;33m)\u001b[0m\u001b[1;33m*\u001b[0m\u001b[1;36m1e6\u001b[0m\u001b[1;33m,\u001b[0m \u001b[0mconverted_data\u001b[0m\u001b[1;33m[\u001b[0m\u001b[1;36m0\u001b[0m\u001b[1;33m:\u001b[0m\u001b[1;33m:\u001b[0m\u001b[1;36m2\u001b[0m\u001b[1;33m]\u001b[0m\u001b[1;33m,\u001b[0m \u001b[0mzorder\u001b[0m\u001b[1;33m=\u001b[0m\u001b[1;36m10\u001b[0m\u001b[1;33m)\u001b[0m\u001b[1;33m\u001b[0m\u001b[1;33m\u001b[0m\u001b[0m\n\u001b[0m\u001b[0;32m     19\u001b[0m \u001b[0mplt\u001b[0m\u001b[1;33m.\u001b[0m\u001b[0mxlabel\u001b[0m\u001b[1;33m(\u001b[0m\u001b[1;34m\"Time [$\\mu$s]\"\u001b[0m\u001b[1;33m)\u001b[0m\u001b[1;33m\u001b[0m\u001b[1;33m\u001b[0m\u001b[0m\n\u001b[0;32m     20\u001b[0m \u001b[0mplt\u001b[0m\u001b[1;33m.\u001b[0m\u001b[0mylabel\u001b[0m\u001b[1;33m(\u001b[0m\u001b[1;34m'Amplitude [ADC Units]'\u001b[0m\u001b[1;33m)\u001b[0m\u001b[1;33m\u001b[0m\u001b[1;33m\u001b[0m\u001b[0m\n",
      "\u001b[1;31mNameError\u001b[0m: name 'plt' is not defined"
     ]
    }
   ],
   "source": [
    "length = 65536\n",
    "nbytes = 2\n",
    "chan = 1\n",
    "dec = 4\n",
    "freq = 125e6/dec\n",
    "sample = 1/freq \n",
    "for x in range(10):\n",
    "    #dred_mca.command(2,chan)\n",
    "    red_mca.config_scope(dec=dec, chan=chan, trig_chan=chan, trig_slope=0, trig_mode=0, trig_level=10000)\n",
    "    red_mca.acq_scope(dec=dec, chan=chan, trig_chan=chan, trig_slope=0, trig_mode=0, trig_level=10000, samples_pre=5000, samples_total=length, wait=1)\n",
    "    for y in range(1):\n",
    "        data = red_mca._socket.recv(length*nbytes*2)\n",
    "        converted_data = []\n",
    "        for i in range(int(len(data)/nbytes)):\n",
    "            converted_data.append(int.from_bytes(data[(i*nbytes):((i+1)*nbytes)], byteorder='little', signed=True))\n",
    "        print(len(converted_data))\n",
    "        length = int(len(converted_data[0::2]))\n",
    "        plt.plot(np.linspace(0,length*sample,length)*1e6, converted_data[0::2], zorder=10)\n",
    "plt.xlabel(\"Time [$\\mu$s]\")\n",
    "plt.ylabel('Amplitude [ADC Units]')\n",
    "plt.show() "
   ]
  },
  {
   "cell_type": "code",
   "execution_count": null,
   "metadata": {},
   "outputs": [],
   "source": [
    "red_mca.stop_mca()\n",
    "red_mca.close()"
   ]
  },
  {
   "cell_type": "markdown",
   "metadata": {},
   "source": [
    "!!!! Before running this section, make sure to start the MCA app via the web interface !!!"
   ]
  },
  {
   "cell_type": "code",
   "execution_count": null,
   "metadata": {},
   "outputs": [],
   "source": [
    "def setup_mca_data(channel_to_use):\n",
    "\n",
    "    rp = mca.mca()\n",
    "\n",
    "    rp.setup_mca(chan=channel_to_use, baseline_level=2**16-1000, dec=4)\n",
    "    rp.reset_histo(chan=channel_to_use)\n",
    "    rp.start_histo(chan=channel_to_use)\n",
    "\n",
    "    return rp"
   ]
  },
  {
   "cell_type": "code",
   "execution_count": null,
   "metadata": {},
   "outputs": [],
   "source": [
    "num_mca_events = 10000\n",
    "int_time = int(num_mca_events/LED_flashing_rate)\n",
    "\n",
    "for ov in ov_list[:1]:\n",
    "\n",
    "    ## set keithley to desired voltage (assumes wired reverse biased, so positive voltages):\n",
    "    if(instr_to_sweep == 'keith'):\n",
    "        pico.voltage(breakdown_voltage + ov) \n",
    "        time.sleep(keithley_time_delay) ## wait for voltage to ramp up\n",
    "    elif(instr_to_sweep == 'synth'):\n",
    "        func.set_amplitude(synth_channel, ov)\n",
    "    else:\n",
    "        print(\"Warning, not sweeping -- set instr_to_sweep to '''keith''' or '''synth''' \")\n",
    "\n",
    "    red_mca = setup_mca_data(channel_to_use=red_pitaya_channel-1) # 0 indexing for the channel, unlike above\n",
    "    time.sleep(1) ## wait for setup to be ready -- otherwise it will read before buffer is full\n",
    "\n",
    "    if(make_plots):\n",
    "        fig=plt.figure()\n",
    "        fig.patch.set_facecolor('white')\n",
    "        hfig = display.display(fig, display_id=True)\n",
    "\n",
    "    for i in range(int_time):\n",
    "        dat = red_mca.read_histo_data(chan=1)\n",
    "\n",
    "        if(make_plots):\n",
    "            plt.clf()\n",
    "            plt.yscale('log')\n",
    "            plt.plot(dat, color='k')\n",
    "            plt.ylim(0.1,10000)\n",
    "            hfig.update(fig)\n",
    "            time.sleep(1.0)\n",
    "\n",
    "    red_mca.save(dat, ch=red_pitaya_channel, tag='mca_keith_{:.2f}OV'.format(ov), path=path)\n",
    "\n",
    "    red_mca.close()"
   ]
  }
 ],
 "metadata": {
  "interpreter": {
   "hash": "e5e622b25f84b7135d4643d5fac34167b855b0a6d41d1f6695eb3e0f89a915df"
  },
  "kernelspec": {
   "display_name": "Python 3.8.5 ('base')",
   "language": "python",
   "name": "python3"
  },
  "language_info": {
   "codemirror_mode": {
    "name": "ipython",
    "version": 3
   },
   "file_extension": ".py",
   "mimetype": "text/x-python",
   "name": "python",
   "nbconvert_exporter": "python",
   "pygments_lexer": "ipython3",
   "version": "3.8.5"
  },
  "orig_nbformat": 4
 },
 "nbformat": 4,
 "nbformat_minor": 2
}
