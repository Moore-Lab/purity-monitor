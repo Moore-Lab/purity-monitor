{
 "cells": [
  {
   "cell_type": "code",
   "execution_count": 16,
   "metadata": {},
   "outputs": [],
   "source": [
    "import numpy as np\n",
    "import matplotlib.pyplot as plt"
   ]
  },
  {
   "cell_type": "code",
   "execution_count": 17,
   "metadata": {},
   "outputs": [],
   "source": [
    "import sys, glob\n",
    "sys.path.insert(0,'../../')\n",
    "sys.path.insert(0,'../../WaveformAnalysis')\n",
    "import SiPM\n",
    "import Waveform"
   ]
  },
  {
   "cell_type": "code",
   "execution_count": 18,
   "metadata": {},
   "outputs": [],
   "source": [
    "def fit_hist(bc,hh, numsig=4, max_peaks=5):\n",
    "    \n",
    "    out_vals = []\n",
    "    \n",
    "    hh[bc < 10] =0\n",
    "    \n",
    "    spe_loc = bc[np.argmax(hh)]\n",
    "    sig = spe_loc*0.05\n",
    "    fpts = np.logical_and( bc >= spe_loc - numsig*sig, bc <= spe_loc + numsig*sig)\n",
    "    \n",
    "    bestp, covp = curve_fit(gauss_fun, bc[fpts], hh[fpts], p0=[1, spe_loc, sig])\n",
    "    \n",
    "    out_vals.append([1, bestp[1], np.sqrt(covp[1,1])])\n",
    "    \n",
    "    xx = np.linspace( spe_loc - numsig*sig, spe_loc + numsig*sig, 100 )\n",
    "    plt.plot( xx, gauss_fun(xx, *bestp), 'r' )\n",
    "    \n",
    "    spe_loc = bestp[1]\n",
    "    sig = np.abs(bestp[2])\n",
    "    \n",
    "    for n in range(2,max_peaks):\n",
    "        \n",
    "        fpts = np.logical_and( bc >= n*spe_loc - numsig*sig, bc <= n*spe_loc + numsig*sig)\n",
    "        if(np.sum(fpts) == 0): \n",
    "            continue\n",
    "        \n",
    "        bestp, covp = curve_fit(gauss_fun, bc[fpts], hh[fpts], p0=[1, n*spe_loc, sig])\n",
    "        \n",
    "        out_vals.append([n, bestp[1], np.sqrt(covp[1,1])])\n",
    "        \n",
    "        xx = np.linspace( n*spe_loc - numsig*sig, n*spe_loc + numsig*sig, 100 )\n",
    "        plt.plot( xx, gauss_fun(xx, *bestp), 'r' )\n",
    "        \n",
    "        sig = np.abs(bestp[2])\n",
    "        \n",
    "        \n",
    "    return np.array(out_vals)"
   ]
  },
  {
   "cell_type": "code",
   "execution_count": 29,
   "metadata": {},
   "outputs": [
    {
     "name": "stdout",
     "output_type": "stream",
     "text": [
      "List of overvoltages:  [0.1  0.15 0.2  0.25 0.3  0.35 0.4  0.45]\n",
      "C:/Data/20220616\\mca_keith_0.10OV.h5\n"
     ]
    },
    {
     "ename": "TypeError",
     "evalue": "unsupported operand type(s) for *: 'NoneType' and 'float'",
     "output_type": "error",
     "traceback": [
      "\u001b[1;31m---------------------------------------------------------------------------\u001b[0m",
      "\u001b[1;31mTypeError\u001b[0m                                 Traceback (most recent call last)",
      "\u001b[1;32m<ipython-input-29-9639cd96d2b8>\u001b[0m in \u001b[0;36m<module>\u001b[1;34m\u001b[0m\n\u001b[0;32m     20\u001b[0m     \u001b[1;32mfor\u001b[0m \u001b[0mFile\u001b[0m \u001b[1;32min\u001b[0m \u001b[0mhist_files\u001b[0m\u001b[1;33m[\u001b[0m\u001b[0mov\u001b[0m\u001b[1;33m]\u001b[0m\u001b[1;33m.\u001b[0m\u001b[0mFiles\u001b[0m\u001b[1;33m:\u001b[0m\u001b[1;33m\u001b[0m\u001b[1;33m\u001b[0m\u001b[0m\n\u001b[0;32m     21\u001b[0m         \u001b[0mprint\u001b[0m\u001b[1;33m(\u001b[0m\u001b[0mFile\u001b[0m\u001b[1;33m)\u001b[0m\u001b[1;33m\u001b[0m\u001b[1;33m\u001b[0m\u001b[0m\n\u001b[1;32m---> 22\u001b[1;33m         \u001b[0mhist_files\u001b[0m\u001b[1;33m[\u001b[0m\u001b[0mov\u001b[0m\u001b[1;33m]\u001b[0m\u001b[1;33m.\u001b[0m\u001b[0mImportDataFromHDF5\u001b[0m\u001b[1;33m(\u001b[0m\u001b[0mFile\u001b[0m\u001b[1;33m,\u001b[0m \u001b[0mhist_files\u001b[0m\u001b[1;33m[\u001b[0m\u001b[0mov\u001b[0m\u001b[1;33m]\u001b[0m\u001b[1;33m.\u001b[0m\u001b[0mCh\u001b[0m\u001b[1;33m,\u001b[0m \u001b[0mvar\u001b[0m\u001b[1;33m=\u001b[0m\u001b[1;33m[\u001b[0m\u001b[1;33m]\u001b[0m\u001b[1;33m)\u001b[0m\u001b[1;33m\u001b[0m\u001b[1;33m\u001b[0m\u001b[0m\n\u001b[0m\u001b[0;32m     23\u001b[0m \u001b[1;33m\u001b[0m\u001b[0m\n\u001b[0;32m     24\u001b[0m         \u001b[0mplt\u001b[0m\u001b[1;33m.\u001b[0m\u001b[0mplot\u001b[0m\u001b[1;33m(\u001b[0m\u001b[0mhist_files\u001b[0m\u001b[1;33m[\u001b[0m\u001b[0mov\u001b[0m\u001b[1;33m]\u001b[0m\u001b[1;33m)\u001b[0m\u001b[1;33m\u001b[0m\u001b[1;33m\u001b[0m\u001b[0m\n",
      "\u001b[1;32mc:\\Users\\nEXO\\purity-monitor\\WaveformAnalysis\\Dataset.py\u001b[0m in \u001b[0;36mImportDataFromHDF5\u001b[1;34m(self, File, channels, var)\u001b[0m\n\u001b[0;32m     43\u001b[0m         \u001b[0mKeys\u001b[0m \u001b[1;33m=\u001b[0m \u001b[0mlist\u001b[0m\u001b[1;33m(\u001b[0m\u001b[0mf\u001b[0m\u001b[1;33m.\u001b[0m\u001b[0mkeys\u001b[0m\u001b[1;33m(\u001b[0m\u001b[1;33m)\u001b[0m\u001b[1;33m)\u001b[0m\u001b[1;33m\u001b[0m\u001b[1;33m\u001b[0m\u001b[0m\n\u001b[0;32m     44\u001b[0m         \u001b[1;32mfor\u001b[0m \u001b[0mch\u001b[0m \u001b[1;32min\u001b[0m \u001b[0mchannels\u001b[0m\u001b[1;33m:\u001b[0m\u001b[1;33m\u001b[0m\u001b[1;33m\u001b[0m\u001b[0m\n\u001b[1;32m---> 45\u001b[1;33m             \u001b[0mch\u001b[0m\u001b[1;33m.\u001b[0m\u001b[0mTime\u001b[0m \u001b[1;33m=\u001b[0m \u001b[0mnp\u001b[0m\u001b[1;33m.\u001b[0m\u001b[0marray\u001b[0m\u001b[1;33m(\u001b[0m\u001b[0mf\u001b[0m\u001b[1;33m.\u001b[0m\u001b[0mget\u001b[0m\u001b[1;33m(\u001b[0m\u001b[1;34m'Time'\u001b[0m\u001b[1;33m)\u001b[0m\u001b[1;33m)\u001b[0m\u001b[1;33m.\u001b[0m\u001b[0mflatten\u001b[0m\u001b[1;33m(\u001b[0m\u001b[1;33m)\u001b[0m \u001b[1;33m*\u001b[0m \u001b[0mch\u001b[0m\u001b[1;33m.\u001b[0m\u001b[0mTScale\u001b[0m\u001b[1;33m\u001b[0m\u001b[1;33m\u001b[0m\u001b[0m\n\u001b[0m\u001b[0;32m     46\u001b[0m             \u001b[1;32mif\u001b[0m \u001b[1;34m'trig'\u001b[0m \u001b[1;32min\u001b[0m \u001b[0mvar\u001b[0m\u001b[1;33m:\u001b[0m\u001b[1;33m\u001b[0m\u001b[1;33m\u001b[0m\u001b[0m\n\u001b[0;32m     47\u001b[0m                 \u001b[0mch\u001b[0m\u001b[1;33m.\u001b[0m\u001b[0mTrigger\u001b[0m \u001b[1;33m=\u001b[0m \u001b[0mnp\u001b[0m\u001b[1;33m.\u001b[0m\u001b[0marray\u001b[0m\u001b[1;33m(\u001b[0m\u001b[0mf\u001b[0m\u001b[1;33m.\u001b[0m\u001b[0mget\u001b[0m\u001b[1;33m(\u001b[0m\u001b[1;34m'Trigger'\u001b[0m\u001b[1;33m)\u001b[0m\u001b[1;33m)\u001b[0m\u001b[1;33m.\u001b[0m\u001b[0mflatten\u001b[0m\u001b[1;33m(\u001b[0m\u001b[1;33m)\u001b[0m \u001b[1;33m*\u001b[0m \u001b[0mch\u001b[0m\u001b[1;33m.\u001b[0m\u001b[0mVScale\u001b[0m\u001b[1;33m\u001b[0m\u001b[1;33m\u001b[0m\u001b[0m\n",
      "\u001b[1;31mTypeError\u001b[0m: unsupported operand type(s) for *: 'NoneType' and 'float'"
     ]
    },
    {
     "data": {
      "text/plain": [
       "<Figure size 432x288 with 0 Axes>"
      ]
     },
     "metadata": {},
     "output_type": "display_data"
    }
   ],
   "source": [
    "data_dir = '20220616'\n",
    "\n",
    "Path = os.path.join(\"C:/Data/{}/\".format(data_dir))\n",
    "\n",
    "file_list = glob.glob(Path + \"mca_*.h5\")\n",
    "ov_list = []\n",
    "for f in file_list:\n",
    "    cov = float( f.split('_')[-1][:-5]) ## overvoltage\n",
    "    ov_list.append(cov)\n",
    "ov_list = np.unique(ov_list)\n",
    "\n",
    "print(\"List of overvoltages: \", ov_list)\n",
    "\n",
    "plt.figure()\n",
    "hist_files = {}\n",
    "hist = {}\n",
    "for ov in ov_list:\n",
    "    "
   ]
  },
  {
   "cell_type": "code",
   "execution_count": null,
   "metadata": {},
   "outputs": [],
   "source": []
  }
 ],
 "metadata": {
  "kernelspec": {
   "display_name": "Python 3.8.5 ('base')",
   "language": "python",
   "name": "python3"
  },
  "language_info": {
   "codemirror_mode": {
    "name": "ipython",
    "version": 3
   },
   "file_extension": ".py",
   "mimetype": "text/x-python",
   "name": "python",
   "nbconvert_exporter": "python",
   "pygments_lexer": "ipython3",
   "version": "3.8.5"
  },
  "orig_nbformat": 4,
  "vscode": {
   "interpreter": {
    "hash": "e5e622b25f84b7135d4643d5fac34167b855b0a6d41d1f6695eb3e0f89a915df"
   }
  }
 },
 "nbformat": 4,
 "nbformat_minor": 2
}
