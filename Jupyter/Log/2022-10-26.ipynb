{
 "cells": [
  {
   "cell_type": "code",
   "execution_count": 1,
   "metadata": {},
   "outputs": [],
   "source": [
    "import numpy as np\n",
    "import time,datetime\n",
    "import matplotlib.pyplot as plt\n",
    "from IPython import display\n",
    "%matplotlib inline\n",
    "plt.style.use('../../style.mplstyle')\n",
    "import sys \n",
    "sys.path.append(\"../../devices\")\n",
    "sys.path.append(\"../../RedPitaya\")\n",
    "from datetime import datetime\n",
    "import pyautogui\n",
    "from ipywidgets import IntProgress"
   ]
  },
  {
   "cell_type": "code",
   "execution_count": 2,
   "metadata": {},
   "outputs": [],
   "source": [
    "from functiongenerator import AFG2225"
   ]
  },
  {
   "cell_type": "code",
   "execution_count": 3,
   "metadata": {},
   "outputs": [],
   "source": [
    "func = AFG2225('ASRL19::INSTR')"
   ]
  },
  {
   "cell_type": "code",
   "execution_count": 4,
   "metadata": {},
   "outputs": [],
   "source": [
    "# set the function generator to trigger the LED\n",
    "# synth_channel = 2\n",
    "# pulse_frequency = LED_flashing_rate ## Hz, rate of pulses\n",
    "# pulse_amplitude = 2.0 ## V, voltage for driving LED\n",
    "# amplitude_offset = pulse_amplitude/2.0 #pulse_amplitude/2 ## V, offset to give positive going pulse\n",
    "\n",
    "# func.set_frequency(synth_channel, pulse_frequency)\n",
    "# func.set_amplitude(synth_channel, pulse_amplitude)\n",
    "# func.set_offset(synth_channel, amplitude_offset)\n",
    "# func.set_output_load(synth_channel, \"HZ\") ## make sure the channel is set for high impedance\n",
    "# func.set_output_onoff(synth_channel, 1) ## turn on channel\n",
    "\n",
    "# ## set up channel 1 on the synth as a trigger\n",
    "# synth_trig_channel = 1\n",
    "# func.set_amplitude(synth_trig_channel, 5) ## set 5V TTL\n",
    "# func.set_offset(synth_trig_channel, 2.5)\n",
    "# func.set_output_load(synth_trig_channel, \"HZ\") ## make sure the channel is set for high impedance\n",
    "# func.set_output_onoff(synth_trig_channel, 1) ## turn on channel\n",
    "# ## couple to same freq as led channel\n",
    "# func.couple_channel(synth_trig_channel,'on')"
   ]
  },
  {
   "cell_type": "code",
   "execution_count": 6,
   "metadata": {},
   "outputs": [],
   "source": [
    "func.set_burst(channel=1,state='ON',mode='TRIG',period=10)"
   ]
  },
  {
   "cell_type": "code",
   "execution_count": null,
   "metadata": {},
   "outputs": [],
   "source": []
  }
 ],
 "metadata": {
  "interpreter": {
   "hash": "e5e622b25f84b7135d4643d5fac34167b855b0a6d41d1f6695eb3e0f89a915df"
  },
  "kernelspec": {
   "display_name": "Python 3.8.5 ('base')",
   "language": "python",
   "name": "python3"
  },
  "language_info": {
   "codemirror_mode": {
    "name": "ipython",
    "version": 3
   },
   "file_extension": ".py",
   "mimetype": "text/x-python",
   "name": "python",
   "nbconvert_exporter": "python",
   "pygments_lexer": "ipython3",
   "version": "3.8.5"
  },
  "orig_nbformat": 4
 },
 "nbformat": 4,
 "nbformat_minor": 2
}
