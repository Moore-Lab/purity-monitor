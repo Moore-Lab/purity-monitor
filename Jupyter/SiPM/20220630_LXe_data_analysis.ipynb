{
 "cells": [
  {
   "cell_type": "code",
   "execution_count": 1,
   "metadata": {},
   "outputs": [],
   "source": [
    "import numpy as np\n",
    "import matplotlib.pyplot as plt\n",
    "import glob, sys\n",
    "sys.path.append(\"../..\")\n",
    "from MCAAnalysis import MCAAnalysis as MCA"
   ]
  },
  {
   "cell_type": "code",
   "execution_count": 2,
   "metadata": {},
   "outputs": [],
   "source": [
    "data_path_vacuum = '/Users/dcmoore/loomis/aj487/Data_WL110/LXe_Setup/SiPM/20220629/'\n",
    "data_path_lxe = '/Users/dcmoore/loomis/aj487/Data_WL110/LXe_Setup/SiPM/20220630/'\n",
    "\n",
    "LED_folders = [data_path_vacuum + \"vacuum_-118C_setpoint\", ## Vacuum gain data, LED, MCA\n",
    "               data_path_lxe + \"LXe_Full_-109C_setpoint\", ## in LXe data\n",
    "              ]"
   ]
  },
  {
   "cell_type": "code",
   "execution_count": 4,
   "metadata": {},
   "outputs": [
    {
     "name": "stdout",
     "output_type": "stream",
     "text": [
      "Found 11 files in path /Users/dcmoore/loomis/aj487/Data_WL110/LXe_Setup/SiPM/20220629/vacuum_-118C_setpoint\n",
      "['/Users/dcmoore/loomis/aj487/Data_WL110/LXe_Setup/SiPM/20220629/vacuum_-118C_setpoint/mca_keith_30.98OV_0.h5', '/Users/dcmoore/loomis/aj487/Data_WL110/LXe_Setup/SiPM/20220629/vacuum_-118C_setpoint/mca_keith_30.78OV_0.h5', '/Users/dcmoore/loomis/aj487/Data_WL110/LXe_Setup/SiPM/20220629/vacuum_-118C_setpoint/mca_keith_29.58OV_0.h5', '/Users/dcmoore/loomis/aj487/Data_WL110/LXe_Setup/SiPM/20220629/vacuum_-118C_setpoint/mca_keith_29.98OV_0.h5', '/Users/dcmoore/loomis/aj487/Data_WL110/LXe_Setup/SiPM/20220629/vacuum_-118C_setpoint/mca_keith_30.58OV_0.h5', '/Users/dcmoore/loomis/aj487/Data_WL110/LXe_Setup/SiPM/20220629/vacuum_-118C_setpoint/mca_keith_29.38OV_0.h5', '/Users/dcmoore/loomis/aj487/Data_WL110/LXe_Setup/SiPM/20220629/vacuum_-118C_setpoint/mca_keith_31.18OV_0.h5', '/Users/dcmoore/loomis/aj487/Data_WL110/LXe_Setup/SiPM/20220629/vacuum_-118C_setpoint/mca_keith_30.38OV_0.h5', '/Users/dcmoore/loomis/aj487/Data_WL110/LXe_Setup/SiPM/20220629/vacuum_-118C_setpoint/mca_keith_29.78OV_0.h5', '/Users/dcmoore/loomis/aj487/Data_WL110/LXe_Setup/SiPM/20220629/vacuum_-118C_setpoint/mca_keith_31.38OV_0.h5', '/Users/dcmoore/loomis/aj487/Data_WL110/LXe_Setup/SiPM/20220629/vacuum_-118C_setpoint/mca_keith_30.18OV_0.h5']\n",
      "Found 11 files in path /Users/dcmoore/loomis/aj487/Data_WL110/LXe_Setup/SiPM/20220630/LXe_Full_-109C_setpoint\n",
      "['/Users/dcmoore/loomis/aj487/Data_WL110/LXe_Setup/SiPM/20220630/LXe_Full_-109C_setpoint/mca_keith_30.98OV_0.h5', '/Users/dcmoore/loomis/aj487/Data_WL110/LXe_Setup/SiPM/20220630/LXe_Full_-109C_setpoint/mca_keith_30.78OV_0.h5', '/Users/dcmoore/loomis/aj487/Data_WL110/LXe_Setup/SiPM/20220630/LXe_Full_-109C_setpoint/mca_keith_29.58OV_0.h5', '/Users/dcmoore/loomis/aj487/Data_WL110/LXe_Setup/SiPM/20220630/LXe_Full_-109C_setpoint/mca_keith_29.98OV_0.h5', '/Users/dcmoore/loomis/aj487/Data_WL110/LXe_Setup/SiPM/20220630/LXe_Full_-109C_setpoint/mca_keith_30.58OV_0.h5', '/Users/dcmoore/loomis/aj487/Data_WL110/LXe_Setup/SiPM/20220630/LXe_Full_-109C_setpoint/mca_keith_29.38OV_0.h5', '/Users/dcmoore/loomis/aj487/Data_WL110/LXe_Setup/SiPM/20220630/LXe_Full_-109C_setpoint/mca_keith_31.18OV_0.h5', '/Users/dcmoore/loomis/aj487/Data_WL110/LXe_Setup/SiPM/20220630/LXe_Full_-109C_setpoint/mca_keith_30.38OV_0.h5', '/Users/dcmoore/loomis/aj487/Data_WL110/LXe_Setup/SiPM/20220630/LXe_Full_-109C_setpoint/mca_keith_29.78OV_0.h5', '/Users/dcmoore/loomis/aj487/Data_WL110/LXe_Setup/SiPM/20220630/LXe_Full_-109C_setpoint/mca_keith_31.38OV_0.h5', '/Users/dcmoore/loomis/aj487/Data_WL110/LXe_Setup/SiPM/20220630/LXe_Full_-109C_setpoint/mca_keith_30.18OV_0.h5']\n"
     ]
    }
   ],
   "source": [
    "## gain for various parts through the cooldown\n",
    "for folder in LED_folders:\n",
    "    mca = MCA(Path=folder, Selection=\"/*.h5\")\n",
    "    print(mca.Files)"
   ]
  },
  {
   "cell_type": "code",
   "execution_count": null,
   "metadata": {},
   "outputs": [],
   "source": []
  }
 ],
 "metadata": {
  "kernelspec": {
   "display_name": "Python 3.9.10 64-bit",
   "language": "python",
   "name": "python3"
  },
  "language_info": {
   "codemirror_mode": {
    "name": "ipython",
    "version": 3
   },
   "file_extension": ".py",
   "mimetype": "text/x-python",
   "name": "python",
   "nbconvert_exporter": "python",
   "pygments_lexer": "ipython3",
   "version": "3.9.10"
  },
  "orig_nbformat": 4,
  "vscode": {
   "interpreter": {
    "hash": "aee8b7b246df8f9039afb4144a1f6fd8d2ca17a180786b69acc140d282b71a49"
   }
  }
 },
 "nbformat": 4,
 "nbformat_minor": 2
}
