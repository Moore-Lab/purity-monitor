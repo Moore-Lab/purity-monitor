{
 "cells": [
  {
   "cell_type": "code",
   "execution_count": 1,
   "id": "1b622084",
   "metadata": {},
   "outputs": [],
   "source": [
    "import numpy as np\n",
    "from scipy import signal\n",
    "from scipy.optimize import curve_fit\n",
    "from scipy.signal import find_peaks\n",
    "from natsort import natsorted\n",
    "import pandas as pd\n",
    "\n",
    "\n",
    "import matplotlib.pyplot as plt\n",
    "plt.style.use('../../style.mplstyle')\n",
    "colors = plt.rcParams['axes.prop_cycle'].by_key()['color']"
   ]
  },
  {
   "cell_type": "code",
   "execution_count": 2,
   "id": "ad2bfc6d",
   "metadata": {},
   "outputs": [],
   "source": [
    "import sys\n",
    "sys.path.insert(0,'../../../purity-monitor/')\n",
    "sys.path.insert(0,'../../WaveformAnalysis')"
   ]
  },
  {
   "cell_type": "code",
   "execution_count": 3,
   "id": "3de0873c",
   "metadata": {},
   "outputs": [],
   "source": [
    "import Dataset as Dataset\n",
    "import StandMonitor as Monitor\n",
    "import PlotFunctions as Plt\n",
    "import Waveform as Waveform\n",
    "import SiPM as SiPM"
   ]
  },
  {
   "cell_type": "code",
   "execution_count": 4,
   "id": "fe793014",
   "metadata": {},
   "outputs": [
    {
     "data": {
      "text/plain": [
       "<module 'SiPM' from '../../../purity-monitor/SiPM.py'>"
      ]
     },
     "execution_count": 4,
     "metadata": {},
     "output_type": "execute_result"
    }
   ],
   "source": [
    "import importlib\n",
    "importlib.reload(Dataset)\n",
    "importlib.reload(Monitor)\n",
    "importlib.reload(Plt)\n",
    "importlib.reload(SiPM)"
   ]
  },
  {
   "cell_type": "code",
   "execution_count": 6,
   "id": "acd136e1",
   "metadata": {},
   "outputs": [
    {
     "name": "stdout",
     "output_type": "stream",
     "text": [
      "233\n",
      "0 /project/david_moore/aj487/Data_WL110/LXe_Setup/TPC/20211127/GXe_SiPM_DCR_31.5V_0.h5\n",
      "Getting data...\n",
      "Getting deconvolution filter...\n",
      "1 /project/david_moore/aj487/Data_WL110/LXe_Setup/TPC/20211127/GXe_SiPM_DCR_31.5V_1.h5\n",
      "Getting data...\n",
      "2 /project/david_moore/aj487/Data_WL110/LXe_Setup/TPC/20211127/GXe_SiPM_DCR_31.5V_2.h5\n",
      "Getting data...\n",
      "3 /project/david_moore/aj487/Data_WL110/LXe_Setup/TPC/20211127/GXe_SiPM_DCR_31.5V_3.h5\n",
      "Getting data...\n",
      "4 /project/david_moore/aj487/Data_WL110/LXe_Setup/TPC/20211127/GXe_SiPM_DCR_31.5V_4.h5\n",
      "Getting data...\n",
      "5 /project/david_moore/aj487/Data_WL110/LXe_Setup/TPC/20211127/GXe_SiPM_DCR_31.5V_5.h5\n",
      "Getting data...\n",
      "6 /project/david_moore/aj487/Data_WL110/LXe_Setup/TPC/20211127/GXe_SiPM_DCR_31.5V_6.h5\n",
      "Getting data...\n",
      "7 /project/david_moore/aj487/Data_WL110/LXe_Setup/TPC/20211127/GXe_SiPM_DCR_31.5V_7.h5\n",
      "Getting data...\n",
      "8 /project/david_moore/aj487/Data_WL110/LXe_Setup/TPC/20211127/GXe_SiPM_DCR_31.5V_8.h5\n",
      "Getting data...\n",
      "9 /project/david_moore/aj487/Data_WL110/LXe_Setup/TPC/20211127/GXe_SiPM_DCR_31.5V_9.h5\n",
      "Getting data...\n",
      "10 /project/david_moore/aj487/Data_WL110/LXe_Setup/TPC/20211127/GXe_SiPM_DCR_31.5V_10.h5\n",
      "Getting data...\n",
      "11 /project/david_moore/aj487/Data_WL110/LXe_Setup/TPC/20211127/GXe_SiPM_DCR_31.5V_11.h5\n",
      "Getting data...\n",
      "12 /project/david_moore/aj487/Data_WL110/LXe_Setup/TPC/20211127/GXe_SiPM_DCR_31.5V_12.h5\n",
      "Getting data...\n",
      "13 /project/david_moore/aj487/Data_WL110/LXe_Setup/TPC/20211127/GXe_SiPM_DCR_31.5V_13.h5\n",
      "Getting data...\n",
      "14 /project/david_moore/aj487/Data_WL110/LXe_Setup/TPC/20211127/GXe_SiPM_DCR_31.5V_14.h5\n",
      "Getting data...\n",
      "15 /project/david_moore/aj487/Data_WL110/LXe_Setup/TPC/20211127/GXe_SiPM_DCR_31.5V_15.h5\n",
      "Getting data...\n",
      "16 /project/david_moore/aj487/Data_WL110/LXe_Setup/TPC/20211127/GXe_SiPM_DCR_31.5V_16.h5\n",
      "Getting data...\n",
      "17 /project/david_moore/aj487/Data_WL110/LXe_Setup/TPC/20211127/GXe_SiPM_DCR_31.5V_17.h5\n",
      "Getting data...\n",
      "18 /project/david_moore/aj487/Data_WL110/LXe_Setup/TPC/20211127/GXe_SiPM_DCR_31.5V_18.h5\n",
      "Getting data...\n",
      "19 /project/david_moore/aj487/Data_WL110/LXe_Setup/TPC/20211127/GXe_SiPM_DCR_31.5V_19.h5\n",
      "Getting data...\n",
      "20 /project/david_moore/aj487/Data_WL110/LXe_Setup/TPC/20211127/GXe_SiPM_DCR_31.5V_20.h5\n",
      "Getting data...\n",
      "21 /project/david_moore/aj487/Data_WL110/LXe_Setup/TPC/20211127/GXe_SiPM_DCR_31.5V_21.h5\n",
      "Getting data...\n",
      "22 /project/david_moore/aj487/Data_WL110/LXe_Setup/TPC/20211127/GXe_SiPM_DCR_31.5V_22.h5\n",
      "Getting data...\n",
      "23 /project/david_moore/aj487/Data_WL110/LXe_Setup/TPC/20211127/GXe_SiPM_DCR_31.5V_23.h5\n",
      "Getting data...\n",
      "24 /project/david_moore/aj487/Data_WL110/LXe_Setup/TPC/20211127/GXe_SiPM_DCR_31.5V_24.h5\n",
      "Getting data...\n",
      "25 /project/david_moore/aj487/Data_WL110/LXe_Setup/TPC/20211127/GXe_SiPM_DCR_31.5V_25.h5\n",
      "Getting data...\n",
      "26 /project/david_moore/aj487/Data_WL110/LXe_Setup/TPC/20211127/GXe_SiPM_DCR_31.5V_26.h5\n",
      "Getting data...\n",
      "27 /project/david_moore/aj487/Data_WL110/LXe_Setup/TPC/20211127/GXe_SiPM_DCR_31.5V_27.h5\n",
      "Getting data...\n",
      "28 /project/david_moore/aj487/Data_WL110/LXe_Setup/TPC/20211127/GXe_SiPM_DCR_31.5V_28.h5\n",
      "Getting data...\n",
      "29 /project/david_moore/aj487/Data_WL110/LXe_Setup/TPC/20211127/GXe_SiPM_DCR_31.5V_29.h5\n",
      "Getting data...\n",
      "30 /project/david_moore/aj487/Data_WL110/LXe_Setup/TPC/20211127/GXe_SiPM_DCR_31.5V_30.h5\n",
      "Getting data...\n",
      "31 /project/david_moore/aj487/Data_WL110/LXe_Setup/TPC/20211127/GXe_SiPM_DCR_31.5V_31.h5\n",
      "Getting data...\n",
      "32 /project/david_moore/aj487/Data_WL110/LXe_Setup/TPC/20211127/GXe_SiPM_DCR_31.5V_32.h5\n",
      "Getting data...\n",
      "33 /project/david_moore/aj487/Data_WL110/LXe_Setup/TPC/20211127/GXe_SiPM_DCR_31.5V_33.h5\n",
      "Getting data...\n",
      "34 /project/david_moore/aj487/Data_WL110/LXe_Setup/TPC/20211127/GXe_SiPM_DCR_31.5V_34.h5\n",
      "Getting data...\n",
      "35 /project/david_moore/aj487/Data_WL110/LXe_Setup/TPC/20211127/GXe_SiPM_DCR_31.5V_35.h5\n",
      "Getting data...\n",
      "36 /project/david_moore/aj487/Data_WL110/LXe_Setup/TPC/20211127/GXe_SiPM_DCR_31.5V_36.h5\n",
      "Getting data...\n",
      "37 /project/david_moore/aj487/Data_WL110/LXe_Setup/TPC/20211127/GXe_SiPM_DCR_31.5V_37.h5\n",
      "Getting data...\n",
      "38 /project/david_moore/aj487/Data_WL110/LXe_Setup/TPC/20211127/GXe_SiPM_DCR_31.5V_38.h5\n",
      "Getting data...\n",
      "39 /project/david_moore/aj487/Data_WL110/LXe_Setup/TPC/20211127/GXe_SiPM_DCR_31.5V_39.h5\n",
      "Getting data...\n",
      "40 /project/david_moore/aj487/Data_WL110/LXe_Setup/TPC/20211127/GXe_SiPM_DCR_31.5V_40.h5\n",
      "Getting data...\n",
      "41 /project/david_moore/aj487/Data_WL110/LXe_Setup/TPC/20211127/GXe_SiPM_DCR_31.5V_41.h5\n",
      "Getting data...\n",
      "42 /project/david_moore/aj487/Data_WL110/LXe_Setup/TPC/20211127/GXe_SiPM_DCR_31.5V_42.h5\n",
      "Getting data...\n",
      "43 /project/david_moore/aj487/Data_WL110/LXe_Setup/TPC/20211127/GXe_SiPM_DCR_31.5V_43.h5\n",
      "Getting data...\n",
      "44 /project/david_moore/aj487/Data_WL110/LXe_Setup/TPC/20211127/GXe_SiPM_DCR_31.5V_44.h5\n",
      "Getting data...\n",
      "45 /project/david_moore/aj487/Data_WL110/LXe_Setup/TPC/20211127/GXe_SiPM_DCR_31.5V_45.h5\n",
      "Getting data...\n",
      "46 /project/david_moore/aj487/Data_WL110/LXe_Setup/TPC/20211127/GXe_SiPM_DCR_31.5V_46.h5\n",
      "Getting data...\n",
      "47 /project/david_moore/aj487/Data_WL110/LXe_Setup/TPC/20211127/GXe_SiPM_DCR_31.5V_47.h5\n",
      "Getting data...\n",
      "48 /project/david_moore/aj487/Data_WL110/LXe_Setup/TPC/20211127/GXe_SiPM_DCR_31.5V_48.h5\n",
      "Getting data...\n",
      "49 /project/david_moore/aj487/Data_WL110/LXe_Setup/TPC/20211127/GXe_SiPM_DCR_31.5V_49.h5\n",
      "Getting data...\n"
     ]
    }
   ],
   "source": [
    "D1 = SiPM.SiPM(Path='/project/david_moore/aj487/Data_WL110/LXe_Setup/TPC/20211127/', \n",
    "                    Selection='*DCR*.h5')\n",
    "D1.Ch = [Waveform.Waveform(ID=x, Pol=1) for x in range(1,3)]\n",
    "\n",
    "print(len(D1.Files))\n",
    "for i,File in enumerate(natsorted(D1.Files)[:50]):\n",
    "    print(i, File)\n",
    "    print('Getting data...')\n",
    "    D1.ImportDataFromHDF5(File, D1.Ch)\n",
    "\n",
    "#     print('Getting sampling information...')\n",
    "    D1.get_sampling()\n",
    "\n",
    "#     print('Getting filtered waveforms...')\n",
    "    D1.Ch[0].Amp = D1.run_filter(D1.Ch[0].Amp)\n",
    "\n",
    "#     print('Getting deconvolved waveforms...')\n",
    "    D1.Ch[0].Deconv = D1.run_deconvolution(D1.Ch[0].Amp)\n",
    "\n",
    "#     print('Getting peak amplitudes and positions...')\n",
    "    D1.get_peaks(D1.Ch[0].Deconv)\n",
    "\n",
    "#     print('Clearing variables...')\n",
    "    D1.clear()"
   ]
  },
  {
   "cell_type": "code",
   "execution_count": 12,
   "id": "76c23a54",
   "metadata": {},
   "outputs": [
    {
     "name": "stdout",
     "output_type": "stream",
     "text": [
      "24.145112533877302\n"
     ]
    },
    {
     "data": {
      "image/png": "[encoded data removed]",
      "text/plain": [
       "<Figure size 800x600 with 1 Axes>"
      ]
     },
     "metadata": {},
     "output_type": "display_data"
    },
    {
     "name": "stdout",
     "output_type": "stream",
     "text": [
      "[]\n"
     ]
    }
   ],
   "source": [
    "def gauss_func(x,a,b,c):\n",
    "    return a*np.exp(-(x-b)**2/(2*c**2))\n",
    "\n",
    "h,hx = np.histogram(D1.peak_height, bins=np.arange(0,200,10))\n",
    "\n",
    "pe = np.median(D1.peak_height)\n",
    "print(pe)\n",
    "pe_fit = []\n",
    "\n",
    "plt.figure()\n",
    "for i in range(1,7):\n",
    "    cut = np.where((hx[:-1]>pe*i-6) & (hx[:-1]<pe*i+(7/i)))\n",
    "#     print (pe*i-8,pe*i+(6/i))\n",
    "    \n",
    "# #     popt,pcov = curve_fit(gauss_func, hx[:-1][cut], h[cut], \n",
    "#                           p0=[np.max(h[cut]), pe*i,10],maxfev=100000)\n",
    "# #     pe_fit.append(popt)\n",
    "# #     plt.plot(hx[:-1][cut], gauss_func(hx[:-1][cut], *popt), color='r', zorder=10)\n",
    "\n",
    "# pe_fit = np.array(pe_fit)    \n",
    "# plt.hist(D1.peak_height, bins=np.arange(0,200,1))\n",
    "plt.xlabel('Amplitude')\n",
    "plt.ylabel('Counts')\n",
    "plt.yscale('log')\n",
    "plt.step(hx[:-1], h, lw=2)\n",
    "plt.savefig('deconvolution_hist_pe_11-26-21.pdf')\n",
    "plt.show()\n",
    "print (pe_fit)"
   ]
  },
  {
   "cell_type": "code",
   "execution_count": 15,
   "id": "1f4d7da9",
   "metadata": {},
   "outputs": [
    {
     "ename": "TypeError",
     "evalue": "list indices must be integers or slices, not tuple",
     "output_type": "error",
     "traceback": [
      "\u001b[0;31m---------------------------------------------------------------------------\u001b[0m",
      "\u001b[0;31mTypeError\u001b[0m                                 Traceback (most recent call last)",
      "\u001b[0;32m/tmp/ipykernel_10483/2837699265.py\u001b[0m in \u001b[0;36m<module>\u001b[0;34m\u001b[0m\n\u001b[0;32m----> 1\u001b[0;31m \u001b[0mgain\u001b[0m \u001b[0;34m=\u001b[0m \u001b[0mnp\u001b[0m\u001b[0;34m.\u001b[0m\u001b[0mdiff\u001b[0m\u001b[0;34m(\u001b[0m\u001b[0mpe_fit\u001b[0m\u001b[0;34m[\u001b[0m\u001b[0;34m:\u001b[0m\u001b[0;34m,\u001b[0m\u001b[0;36m1\u001b[0m\u001b[0;34m]\u001b[0m\u001b[0;34m)\u001b[0m\u001b[0;34m\u001b[0m\u001b[0;34m\u001b[0m\u001b[0m\n\u001b[0m\u001b[1;32m      2\u001b[0m \u001b[0mprint\u001b[0m \u001b[0;34m(\u001b[0m\u001b[0mgain\u001b[0m\u001b[0;34m)\u001b[0m\u001b[0;34m\u001b[0m\u001b[0;34m\u001b[0m\u001b[0m\n\u001b[1;32m      3\u001b[0m \u001b[0mgain\u001b[0m \u001b[0;34m=\u001b[0m \u001b[0mnp\u001b[0m\u001b[0;34m.\u001b[0m\u001b[0minsert\u001b[0m\u001b[0;34m(\u001b[0m\u001b[0mgain\u001b[0m\u001b[0;34m,\u001b[0m\u001b[0;36m0\u001b[0m\u001b[0;34m,\u001b[0m\u001b[0mpe_fit\u001b[0m\u001b[0;34m[\u001b[0m\u001b[0;36m0\u001b[0m\u001b[0;34m,\u001b[0m\u001b[0;36m1\u001b[0m\u001b[0;34m]\u001b[0m\u001b[0;34m)\u001b[0m\u001b[0;34m\u001b[0m\u001b[0;34m\u001b[0m\u001b[0m\n\u001b[1;32m      4\u001b[0m \u001b[0mD1\u001b[0m\u001b[0;34m.\u001b[0m\u001b[0mpeak_height_calib\u001b[0m \u001b[0;34m=\u001b[0m \u001b[0mnp\u001b[0m\u001b[0;34m.\u001b[0m\u001b[0marray\u001b[0m\u001b[0;34m(\u001b[0m\u001b[0mD1\u001b[0m\u001b[0;34m.\u001b[0m\u001b[0mpeak_height\u001b[0m\u001b[0;34m)\u001b[0m\u001b[0;34m/\u001b[0m\u001b[0mnp\u001b[0m\u001b[0;34m.\u001b[0m\u001b[0mmean\u001b[0m\u001b[0;34m(\u001b[0m\u001b[0mgain\u001b[0m\u001b[0;34m)\u001b[0m\u001b[0;34m\u001b[0m\u001b[0;34m\u001b[0m\u001b[0m\n\u001b[1;32m      5\u001b[0m \u001b[0mca\u001b[0m \u001b[0;34m=\u001b[0m \u001b[0;34m(\u001b[0m\u001b[0mnp\u001b[0m\u001b[0;34m.\u001b[0m\u001b[0mmean\u001b[0m\u001b[0;34m(\u001b[0m\u001b[0mD1\u001b[0m\u001b[0;34m.\u001b[0m\u001b[0mpeak_height_calib\u001b[0m\u001b[0;34m[\u001b[0m\u001b[0;34m(\u001b[0m\u001b[0mD1\u001b[0m\u001b[0;34m.\u001b[0m\u001b[0mpeak_height_calib\u001b[0m\u001b[0;34m<\u001b[0m\u001b[0;36m7\u001b[0m\u001b[0;34m)\u001b[0m \u001b[0;34m&\u001b[0m \u001b[0;34m(\u001b[0m\u001b[0mD1\u001b[0m\u001b[0;34m.\u001b[0m\u001b[0mpeak_height_calib\u001b[0m\u001b[0;34m>\u001b[0m\u001b[0;36m0\u001b[0m\u001b[0;34m)\u001b[0m\u001b[0;34m]\u001b[0m\u001b[0;34m)\u001b[0m \u001b[0;34m-\u001b[0m \u001b[0;36m1\u001b[0m\u001b[0;34m)\u001b[0m\u001b[0;34m*\u001b[0m\u001b[0;36m100\u001b[0m\u001b[0;34m\u001b[0m\u001b[0;34m\u001b[0m\u001b[0m\n",
      "\u001b[0;31mTypeError\u001b[0m: list indices must be integers or slices, not tuple"
     ]
    }
   ],
   "source": [
    "gain = np.diff(pe_fit[:,1])\n",
    "print (gain)\n",
    "gain = np.insert(gain,0,pe_fit[0,1])\n",
    "D1.peak_height_calib = np.array(D1.peak_height)/np.mean(gain)\n",
    "ca = (np.mean(D1.peak_height_calib[(D1.peak_height_calib<7) & (D1.peak_height_calib>0)]) - 1)*100\n",
    "print (ca)\n",
    "\n",
    "h,hx = np.histogram(D1.peak_height_calib, bins=np.arange(0,10,0.05))\n",
    "\n",
    "plt.figure()\n",
    "plt.grid()\n",
    "plt.xticks(np.arange(0,10,1))\n",
    "plt.xlabel('Number of p.e.')\n",
    "plt.ylabel('Counts')\n",
    "plt.yscale('log')\n",
    "plt.step(hx[:-1], h, lw=2, where='post', label='$\\Lambda={:.2f}$\\% at 30V'.format(ca))\n",
    "plt.legend(loc='upper right')\n",
    "plt.savefig('deconvolution_hist_pe_calib_11-26-21.pdf')\n",
    "plt.show()"
   ]
  },
  {
   "cell_type": "code",
   "execution_count": 16,
   "id": "10fe9ad5",
   "metadata": {},
   "outputs": [
    {
     "ename": "TypeError",
     "evalue": "list indices must be integers or slices, not tuple",
     "output_type": "error",
     "traceback": [
      "\u001b[0;31m---------------------------------------------------------------------------\u001b[0m",
      "\u001b[0;31mTypeError\u001b[0m                                 Traceback (most recent call last)",
      "\u001b[0;32m/tmp/ipykernel_10483/1432142036.py\u001b[0m in \u001b[0;36m<module>\u001b[0;34m\u001b[0m\n\u001b[0;32m----> 1\u001b[0;31m \u001b[0mres\u001b[0m \u001b[0;34m=\u001b[0m \u001b[0mnp\u001b[0m\u001b[0;34m.\u001b[0m\u001b[0mabs\u001b[0m\u001b[0;34m(\u001b[0m\u001b[0mpe_fit\u001b[0m\u001b[0;34m[\u001b[0m\u001b[0;34m:\u001b[0m\u001b[0;34m,\u001b[0m\u001b[0;36m2\u001b[0m\u001b[0;34m]\u001b[0m\u001b[0;34m)\u001b[0m\u001b[0;34m/\u001b[0m\u001b[0mpe_fit\u001b[0m\u001b[0;34m[\u001b[0m\u001b[0;34m:\u001b[0m\u001b[0;34m,\u001b[0m\u001b[0;36m1\u001b[0m\u001b[0;34m]\u001b[0m\u001b[0;34m\u001b[0m\u001b[0;34m\u001b[0m\u001b[0m\n\u001b[0m\u001b[1;32m      2\u001b[0m \u001b[0mfit_err\u001b[0m \u001b[0;34m=\u001b[0m \u001b[0mnp\u001b[0m\u001b[0;34m.\u001b[0m\u001b[0msqrt\u001b[0m\u001b[0;34m(\u001b[0m\u001b[0mnp\u001b[0m\u001b[0;34m.\u001b[0m\u001b[0mdiag\u001b[0m\u001b[0;34m(\u001b[0m\u001b[0mpcov\u001b[0m\u001b[0;34m)\u001b[0m\u001b[0;34m)\u001b[0m\u001b[0;34m\u001b[0m\u001b[0;34m\u001b[0m\u001b[0m\n\u001b[1;32m      3\u001b[0m \u001b[0mres_err\u001b[0m \u001b[0;34m=\u001b[0m \u001b[0mnp\u001b[0m\u001b[0;34m.\u001b[0m\u001b[0msqrt\u001b[0m\u001b[0;34m(\u001b[0m\u001b[0mpe_fit\u001b[0m\u001b[0;34m[\u001b[0m\u001b[0;34m:\u001b[0m\u001b[0;34m,\u001b[0m\u001b[0;36m2\u001b[0m\u001b[0;34m]\u001b[0m\u001b[0;34m**\u001b[0m\u001b[0;36m2\u001b[0m\u001b[0;34m/\u001b[0m\u001b[0mpe_fit\u001b[0m\u001b[0;34m[\u001b[0m\u001b[0;34m:\u001b[0m\u001b[0;34m,\u001b[0m\u001b[0;36m1\u001b[0m\u001b[0;34m]\u001b[0m\u001b[0;34m**\u001b[0m\u001b[0;36m4\u001b[0m \u001b[0;34m*\u001b[0m \u001b[0mfit_err\u001b[0m\u001b[0;34m[\u001b[0m\u001b[0;36m1\u001b[0m\u001b[0;34m]\u001b[0m\u001b[0;34m**\u001b[0m\u001b[0;36m2\u001b[0m \u001b[0;34m+\u001b[0m \u001b[0;36m1.0\u001b[0m\u001b[0;34m/\u001b[0m\u001b[0mpe_fit\u001b[0m\u001b[0;34m[\u001b[0m\u001b[0;34m:\u001b[0m\u001b[0;34m,\u001b[0m\u001b[0;36m1\u001b[0m\u001b[0;34m]\u001b[0m\u001b[0;34m**\u001b[0m\u001b[0;36m2\u001b[0m \u001b[0;34m*\u001b[0m \u001b[0mfit_err\u001b[0m\u001b[0;34m[\u001b[0m\u001b[0;36m2\u001b[0m\u001b[0;34m]\u001b[0m\u001b[0;34m**\u001b[0m\u001b[0;36m2\u001b[0m\u001b[0;34m)\u001b[0m\u001b[0;34m\u001b[0m\u001b[0;34m\u001b[0m\u001b[0m\n\u001b[1;32m      4\u001b[0m \u001b[0;34m\u001b[0m\u001b[0m\n\u001b[1;32m      5\u001b[0m \u001b[0mplt\u001b[0m\u001b[0;34m.\u001b[0m\u001b[0mfigure\u001b[0m\u001b[0;34m(\u001b[0m\u001b[0;34m)\u001b[0m\u001b[0;34m\u001b[0m\u001b[0;34m\u001b[0m\u001b[0m\n",
      "\u001b[0;31mTypeError\u001b[0m: list indices must be integers or slices, not tuple"
     ]
    }
   ],
   "source": [
    "res = np.abs(pe_fit[:,2])/pe_fit[:,1]\n",
    "fit_err = np.sqrt(np.diag(pcov))\n",
    "res_err = np.sqrt(pe_fit[:,2]**2/pe_fit[:,1]**4 * fit_err[1]**2 + 1.0/pe_fit[:,1]**2 * fit_err[2]**2)\n",
    "\n",
    "plt.figure()\n",
    "plt.xticks(np.arange(0,len(res)+2,1))\n",
    "plt.xlim(0,len(res)+1)\n",
    "# plt.ylim(0,0.2)\n",
    "plt.xlabel('Number of p.e.')\n",
    "plt.ylabel('Peak Resolution [$\\sigma/\\mu$]')\n",
    "plt.errorbar(np.arange(1,len(res)+1,1), res, yerr=res_err, marker='o', ms=5, label='Data')\n",
    "plt.hlines(y=0.1, xmin=0, xmax=len(res)+1, ls=':', label='Specification')\n",
    "plt.legend(loc='upper right')\n",
    "plt.savefig('pe_resolution_11-26-21.pdf')\n",
    "plt.show()"
   ]
  },
  {
   "cell_type": "code",
   "execution_count": 17,
   "id": "ccee3f4c",
   "metadata": {},
   "outputs": [
    {
     "data": {
      "image/png": "[encoded data removed]",
      "text/plain": [
       "<Figure size 800x600 with 1 Axes>"
      ]
     },
     "metadata": {},
     "output_type": "display_data"
    }
   ],
   "source": [
    "plt.figure()\n",
    "plt.xlim(0,100)\n",
    "# plt.ylim(0,15)\n",
    "plt.xlabel('Time since start [hours]')\n",
    "plt.ylabel('Event Rate [Hz]')\n",
    "dark_count_rate_26=[]\n",
    "time_26=[]\n",
    "num = 100\n",
    "for j in range(int(len(D1.peak_num)/num)):\n",
    "    plt.scatter(j*7./60., np.sum(D1.peak_num[j*num:(j+1)*num])/(0.1*num), color='k', s=5)\n",
    "    dark_count_rate_26.append(np.sum(D1.peak_num[j*num:(j+1)*num])/(0.1*num))\n",
    "    time_26.append(j*7./60.)\n",
    "plt.savefig('dark_count_rate_vs_time_11-26-21.pdf')\n",
    "plt.show()\n"
   ]
  },
  {
   "cell_type": "code",
   "execution_count": 10,
   "id": "ad1678c0",
   "metadata": {},
   "outputs": [
    {
     "name": "stdout",
     "output_type": "stream",
     "text": [
      "Stored 'time_25' (list)\n",
      "Stored 'dark_count_rate_25' (list)\n"
     ]
    }
   ],
   "source": [
    "%store time_26\n",
    "%store dark_count_rate_26"
   ]
  },
  {
   "cell_type": "code",
   "execution_count": null,
   "id": "25169092",
   "metadata": {},
   "outputs": [],
   "source": []
  }
 ],
 "metadata": {
  "kernelspec": {
   "display_name": "Python 3 (ipykernel)",
   "language": "python",
   "name": "python3"
  },
  "language_info": {
   "codemirror_mode": {
    "name": "ipython",
    "version": 3
   },
   "file_extension": ".py",
   "mimetype": "text/x-python",
   "name": "python",
   "nbconvert_exporter": "python",
   "pygments_lexer": "ipython3",
   "version": "3.7.12"
  }
 },
 "nbformat": 4,
 "nbformat_minor": 5
}
