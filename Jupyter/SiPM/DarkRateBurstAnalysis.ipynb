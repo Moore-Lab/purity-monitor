{
 "cells": [
  {
   "cell_type": "code",
   "execution_count": 1,
   "metadata": {},
   "outputs": [],
   "source": [
    "import numpy as np\n",
    "from scipy import signal\n",
    "from scipy.signal import find_peaks\n",
    "from scipy.optimize import curve_fit\n",
    "from natsort import natsorted"
   ]
  },
  {
   "cell_type": "code",
   "execution_count": 2,
   "metadata": {},
   "outputs": [
    {
     "ename": "FileNotFoundError",
     "evalue": "[Errno 2] No such file or directory: 'Jupyter/SiPM/'",
     "output_type": "error",
     "traceback": [
      "\u001b[0;31m---------------------------------------------------------------------------\u001b[0m",
      "\u001b[0;31mFileNotFoundError\u001b[0m                         Traceback (most recent call last)",
      "\u001b[0;32m/tmp/ipykernel_5143/2001466519.py\u001b[0m in \u001b[0;36m<module>\u001b[0;34m\u001b[0m\n\u001b[1;32m      1\u001b[0m \u001b[0;32mimport\u001b[0m \u001b[0mos\u001b[0m\u001b[0;34m\u001b[0m\u001b[0;34m\u001b[0m\u001b[0m\n\u001b[0;32m----> 2\u001b[0;31m \u001b[0mos\u001b[0m\u001b[0;34m.\u001b[0m\u001b[0mchdir\u001b[0m\u001b[0;34m(\u001b[0m\u001b[0;34m'Jupyter/SiPM/'\u001b[0m\u001b[0;34m)\u001b[0m\u001b[0;34m\u001b[0m\u001b[0;34m\u001b[0m\u001b[0m\n\u001b[0m",
      "\u001b[0;31mFileNotFoundError\u001b[0m: [Errno 2] No such file or directory: 'Jupyter/SiPM/'"
     ]
    }
   ],
   "source": [
    "import os\n",
    "os.chdir('Jupyter/SiPM/')"
   ]
  },
  {
   "cell_type": "code",
   "execution_count": null,
   "metadata": {},
   "outputs": [],
   "source": [
    "import matplotlib.pyplot as plt\n",
    "plt.style.use('../../style.mplstyle')\n",
    "colors = plt.rcParams['axes.prop_cycle'].by_key()['color']"
   ]
  },
  {
   "cell_type": "code",
   "execution_count": null,
   "metadata": {},
   "outputs": [],
   "source": [
    "import sys\n",
    "sys.path.insert(0, '../../../purity-monitor/')\n",
    "sys.path.insert(0, '../../WaveformAnalysis/')"
   ]
  },
  {
   "cell_type": "code",
   "execution_count": null,
   "metadata": {},
   "outputs": [],
   "source": [
    "import Dataset as Dataset\n",
    "import StandMonitor as Monitor\n",
    "import PlotFunctions as Plt\n",
    "import Waveform as Waveform\n",
    "import SiPM as SiPM"
   ]
  },
  {
   "cell_type": "code",
   "execution_count": null,
   "metadata": {},
   "outputs": [],
   "source": [
    "import importlib\n",
    "importlib.reload(Dataset)\n",
    "importlib.reload(Monitor)\n",
    "importlib.reload(Plt)\n",
    "importlib.reload(SiPM)"
   ]
  },
  {
   "cell_type": "code",
   "execution_count": null,
   "metadata": {},
   "outputs": [],
   "source": [
    "D0 = SiPM.SiPM(Path='/project/david_moore/aj487/Data_WL110/LXe_Setup/TPC/20211119/', \n",
    "                    Selection='*DCR*.h5')\n",
    "D0.Ch = [Waveform.Waveform(ID=x, Pol=1) for x in range(1,3)]\n",
    "\n",
    "print(len(D0.Files))\n",
    "for i,File in enumerate(natsorted(D0.Files)[:400]):\n",
    "    print(i, File)\n",
    "    print('Getting data...')\n",
    "    D0.ImportDataFromHDF5(File, D0.Ch)\n",
    "\n",
    "    print('Getting sampling information...')\n",
    "    D0.get_sampling()\n",
    "\n",
    "    print('Getting filtered waveforms...')\n",
    "    D0.Ch[0].Amp = D0.run_filter(D0.Ch[0].Amp)\n",
    "\n",
    "    print('Getting deconvolved waveforms...')\n",
    "    D0.Ch[0].Deconv = D0.run_deconvolution(D0.Ch[0].Amp)\n",
    "\n",
    "    print('Getting peak amplitudes and positions...')\n",
    "    D0.get_peaks(D0.Ch[0].Deconv)\n",
    "\n",
    "    print('Clearing variables...')\n",
    "    D0.clear()"
   ]
  },
  {
   "cell_type": "code",
   "execution_count": null,
   "metadata": {},
   "outputs": [],
   "source": [
    "def gauss_func(x,a,b,c):\n",
    "    return a*np.exp(-(x-b)**2/(2*c**2))\n",
    "\n",
    "h,hx = np.histogram(D0.peak_height, bins=np.arange(0,300,1))\n",
    "\n",
    "pe = np.median(D0.peak_height)\n",
    "pe_fit = []\n",
    "\n",
    "plt.figure()\n",
    "for i in range(1,7):\n",
    "    cut = np.where((hx[:-1]>pe*i-3) & (hx[:-1]<pe*i+6+2*i))\n",
    "    \n",
    "    popt,pcov = curve_fit(gauss_func, hx[:-1][cut], h[cut], \n",
    "                          p0=[np.max(h[cut]), pe*i,10])\n",
    "    pe_fit.append(popt)\n",
    "    plt.plot(hx[:-1][cut], gauss_func(hx[:-1][cut], *popt), color='r', zorder=10)\n",
    "\n",
    "pe_fit = np.array(pe_fit)    \n",
    "\n",
    "plt.xlabel('Amplitude')\n",
    "plt.ylabel('Counts')\n",
    "plt.yscale('log')\n",
    "plt.step(hx[:-1], h, lw=2)\n",
    "plt.savefig('deconvolution_hist_pe.pdf')\n",
    "plt.show()"
   ]
  },
  {
   "cell_type": "code",
   "execution_count": null,
   "metadata": {},
   "outputs": [],
   "source": [
    "gain = np.diff(pe_fit[:,1])\n",
    "gain = np.insert(gain,0,pe_fit[0,1])\n",
    "D0.peak_height_calib = np.array(D0.peak_height)/np.mean(gain)\n",
    "ca = (np.mean(D0.peak_height_calib[(D0.peak_height_calib<7) & (D0.peak_height_calib>0)]) - 1)*100\n",
    "\n",
    "h,hx = np.histogram(D0.peak_height_calib, bins=np.arange(0,10,0.05))\n",
    "\n",
    "plt.figure()\n",
    "plt.grid()\n",
    "plt.xticks(np.arange(0,10,1))\n",
    "plt.xlabel('Number of p.e.')\n",
    "plt.ylabel('Counts')\n",
    "plt.yscale('log')\n",
    "plt.step(hx[:-1], h, lw=2, where='post', label='$\\Lambda={:.2f}$\\% at 32V'.format(ca))\n",
    "plt.legend(loc='upper right')\n",
    "plt.savefig('deconvolution_hist_pe_calib.pdf')\n",
    "plt.show()"
   ]
  },
  {
   "cell_type": "code",
   "execution_count": null,
   "metadata": {},
   "outputs": [],
   "source": [
    "res = np.abs(pe_fit[:,2])/pe_fit[:,1]\n",
    "fit_err = np.sqrt(np.diag(pcov))\n",
    "res_err = np.sqrt(pe_fit[:,2]**2/pe_fit[:,1]**4 * fit_err[1]**2 + 1.0/pe_fit[:,1]**2 * fit_err[2]**2)\n",
    "\n",
    "plt.figure()\n",
    "plt.xticks(np.arange(0,len(res)+2,1))\n",
    "plt.xlim(0,len(res)+1)\n",
    "plt.ylim(0,0.2)\n",
    "plt.xlabel('Number of p.e.')\n",
    "plt.ylabel('Peak Resolution [$\\sigma/\\mu$]')\n",
    "plt.errorbar(np.arange(1,len(res)+1,1), res, yerr=res_err, marker='o', ms=5, label='Data')\n",
    "plt.hlines(y=0.1, xmin=0, xmax=len(res)+1, ls=':', label='Specification')\n",
    "plt.legend(loc='upper right')\n",
    "plt.savefig('pe_resolution.pdf')\n",
    "plt.show()"
   ]
  },
  {
   "cell_type": "code",
   "execution_count": null,
   "metadata": {},
   "outputs": [],
   "source": [
    "plt.figure()\n",
    "plt.xlim(0,100)\n",
    "plt.ylim(0,15)\n",
    "plt.xlabel('Time since start [hours]')\n",
    "plt.ylabel('Event Rate [Hz]')\n",
    "num = 100\n",
    "for j in range(int(len(D0.peak_num)/num)):\n",
    "    plt.scatter(j*7./60., np.sum(D0.peak_num[j*num:(j+1)*num])/(0.1*num), color='k', s=5)\n",
    "\n",
    "plt.savefig('dark_count_rate_vs_time.pdf')\n",
    "plt.show()"
   ]
  },
  {
   "cell_type": "code",
   "execution_count": null,
   "metadata": {},
   "outputs": [],
   "source": []
  }
 ],
 "metadata": {
  "kernelspec": {
   "display_name": "Python 3 (ipykernel)",
   "language": "python",
   "name": "python3"
  },
  "language_info": {
   "codemirror_mode": {
    "name": "ipython",
    "version": 3
   },
   "file_extension": ".py",
   "mimetype": "text/x-python",
   "name": "python",
   "nbconvert_exporter": "python",
   "pygments_lexer": "ipython3",
   "version": "3.7.12"
  }
 },
 "nbformat": 4,
 "nbformat_minor": 2
}
