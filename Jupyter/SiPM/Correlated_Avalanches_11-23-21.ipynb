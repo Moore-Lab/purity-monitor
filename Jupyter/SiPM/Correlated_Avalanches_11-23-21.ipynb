{
 "cells": [
  {
   "cell_type": "code",
   "execution_count": null,
   "id": "1b622084",
   "metadata": {},
   "outputs": [],
   "source": [
    "import numpy as np\n",
    "from scipy import signal\n",
    "from scipy.optimize import curve_fit\n",
    "from scipy.signal import find_peaks\n",
    "from natsort import natsorted\n",
    "import pandas as pd\n",
    "\n",
    "\n",
    "import matplotlib.pyplot as plt\n",
    "plt.style.use('../../style.mplstyle')\n",
    "colors = plt.rcParams['axes.prop_cycle'].by_key()['color']"
   ]
  },
  {
   "cell_type": "code",
   "execution_count": null,
   "id": "ad2bfc6d",
   "metadata": {},
   "outputs": [],
   "source": [
    "import sys\n",
    "sys.path.insert(0,'../../../purity-monitor/')\n",
    "sys.path.insert(0,'../../WaveformAnalysis')"
   ]
  },
  {
   "cell_type": "code",
   "execution_count": null,
   "id": "3de0873c",
   "metadata": {},
   "outputs": [],
   "source": [
    "import Dataset as Dataset\n",
    "import StandMonitor as Monitor\n",
    "import PlotFunctions as Plt\n",
    "import Waveform as Waveform\n",
    "import SiPM as SiPM"
   ]
  },
  {
   "cell_type": "code",
   "execution_count": null,
   "id": "fe793014",
   "metadata": {},
   "outputs": [],
   "source": [
    "import importlib\n",
    "importlib.reload(Dataset)\n",
    "importlib.reload(Monitor)\n",
    "importlib.reload(Plt)\n",
    "importlib.reload(SiPM)"
   ]
  },
  {
   "cell_type": "code",
   "execution_count": null,
   "id": "acd136e1",
   "metadata": {},
   "outputs": [],
   "source": [
    "D1 = SiPM.SiPM(Path='/project/david_moore/aj487/Data_WL110/LXe_Setup/TPC/20211123/', \n",
    "                    Selection='*DCR*.h5')\n",
    "D1.Ch = [Waveform.Waveform(ID=x, Pol=1) for x in range(1,3)]\n",
    "\n",
    "print(len(D1.Files))\n",
    "for i,File in enumerate(natsorted(D1.Files)):\n",
    "    print(i, File)\n",
    "    print('Getting data...')\n",
    "    D1.ImportDataFromHDF5(File, D1.Ch)\n",
    "\n",
    "#     print('Getting sampling information...')\n",
    "    D1.get_sampling()\n",
    "\n",
    "#     print('Getting filtered waveforms...')\n",
    "    D1.Ch[0].Amp = D1.run_filter(D1.Ch[0].Amp)\n",
    "\n",
    "#     print('Getting deconvolved waveforms...')\n",
    "    D1.Ch[0].Deconv = D1.run_deconvolution(D1.Ch[0].Amp)\n",
    "\n",
    "#     print('Getting peak amplitudes and positions...')\n",
    "    D1.get_peaks(D1.Ch[0].Deconv)\n",
    "\n",
    "#     print('Clearing variables...')\n",
    "    D1.clear()"
   ]
  },
  {
   "cell_type": "code",
   "execution_count": null,
   "id": "76c23a54",
   "metadata": {},
   "outputs": [],
   "source": [
    "def gauss_func(x,a,b,c):\n",
    "    return a*np.exp(-(x-b)**2/(2*c**2))\n",
    "\n",
    "h,hx = np.histogram(D1.peak_height, bins=np.arange(0,400,1))\n",
    "\n",
    "pe = np.median(D1.peak_height)\n",
    "print (pe)\n",
    "pe_fit = []\n",
    "\n",
    "plt.figure()\n",
    "for i in range(1,7):\n",
    "    cut = np.where((hx[:-1]>pe*i-(6)) & (hx[:-1]<pe*i+(7/i)))\n",
    "    print(pe*i-(6),pe*i+(7/i))\n",
    "    \n",
    "    popt,pcov = curve_fit(gauss_func, hx[:-1][cut], h[cut], \n",
    "                          p0=[np.max(h[cut]), pe*i,10],maxfev=100000)\n",
    "    pe_fit.append(popt)\n",
    "    plt.plot(hx[:-1][cut], gauss_func(hx[:-1][cut], *popt), color='r', zorder=10)\n",
    "\n",
    "pe_fit = np.array(pe_fit)    \n",
    "# plt.hist(D1.peak_height, bi7s=np.arange(0,400,1))\n",
    "plt.xlabel('Amplitude')\n",
    "plt.ylabel('Counts')\n",
    "plt.yscale('log')\n",
    "plt.step(hx[:-1], h, lw=2)\n",
    "plt.savefig('deconvolution_hist_pe_11-23-21.pdf')\n",
    "plt.show()"
   ]
  },
  {
   "cell_type": "code",
   "execution_count": null,
   "id": "1f4d7da9",
   "metadata": {},
   "outputs": [],
   "source": [
    "gain = np.diff(pe_fit[:,1])\n",
    "gain = np.insert(gain,0,pe_fit[0,1])\n",
    "D1.peak_height_calib = np.array(D1.peak_height)/np.mean(gain)\n",
    "ca = (np.mean(D1.peak_height_calib[(D1.peak_height_calib<7) & (D1.peak_height_calib>0)]) - 1)*100\n",
    "\n",
    "h,hx = np.histogram(D1.peak_height_calib, bins=np.arange(0,10,0.05))\n",
    "\n",
    "plt.figure()\n",
    "plt.grid()\n",
    "plt.xticks(np.arange(0,10,1))\n",
    "plt.xlabel('Number of p.e.')\n",
    "plt.ylabel('Counts')\n",
    "plt.yscale('log')\n",
    "plt.step(hx[:-1], h, lw=2, where='post', label='$\\Lambda={:.2f}$\\% at 33V'.format(ca))\n",
    "plt.legend(loc='upper right')\n",
    "plt.savefig('deconvolution_hist_pe_calib_11-23-21.pdf')\n",
    "plt.show()"
   ]
  },
  {
   "cell_type": "code",
   "execution_count": null,
   "id": "10fe9ad5",
   "metadata": {},
   "outputs": [],
   "source": [
    "res = np.abs(pe_fit[:,2])/pe_fit[:,1]\n",
    "fit_err = np.sqrt(np.diag(pcov))\n",
    "res_err = np.sqrt(pe_fit[:,2]**2/pe_fit[:,1]**4 * fit_err[1]**2 + 1.0/pe_fit[:,1]**2 * fit_err[2]**2)\n",
    "\n",
    "plt.figure()\n",
    "plt.xticks(np.arange(0,len(res)+2,1))\n",
    "plt.xlim(0,len(res)+1)\n",
    "# plt.ylim(0,0.2)\n",
    "plt.xlabel('Number of p.e.')\n",
    "plt.ylabel('Peak Resolution [$\\sigma/\\mu$]')\n",
    "plt.errorbar(np.arange(1,len(res)+1,1), res, yerr=res_err, marker='o', ms=5, label='Data')\n",
    "plt.hlines(y=0.1, xmin=0, xmax=len(res)+1, ls=':', label='Specification')\n",
    "plt.legend(loc='upper right')\n",
    "plt.savefig('pe_resolution_11-23-21.pdf')\n",
    "plt.show()"
   ]
  },
  {
   "cell_type": "code",
   "execution_count": null,
   "id": "ccee3f4c",
   "metadata": {},
   "outputs": [],
   "source": [
    "plt.figure()\n",
    "plt.xlim(0,100)\n",
    "plt.ylim(0,15)\n",
    "plt.xlabel('Time since start [hours]')\n",
    "plt.ylabel('Event Rate [Hz]')\n",
    "dark_count_rate_23=[]\n",
    "time_23=[]\n",
    "num = 100\n",
    "for j in range(int(len(D1.peak_num)/num)):\n",
    "    plt.scatter(j*7./60., np.sum(D1.peak_num[j*num:(j+1)*num])/(0.1*num), color='k', s=5)\n",
    "    dark_count_rate_23.append(np.sum(D1.peak_num[j*num:(j+1)*num])/(0.1*num))\n",
    "    time_23.append(j*7./60.)\n",
    "plt.savefig('dark_count_rate_vs_time_11-23-21.pdf')\n",
    "plt.show()\n",
    "# %store dark_count_rate_23\n",
    "# %store time_23"
   ]
  },
  {
   "cell_type": "code",
   "execution_count": null,
   "id": "6d4eee5e",
   "metadata": {},
   "outputs": [],
   "source": []
  }
 ],
 "metadata": {
  "kernelspec": {
   "display_name": "Python 3 (ipykernel)",
   "language": "python",
   "name": "python3"
  },
  "language_info": {
   "codemirror_mode": {
    "name": "ipython",
    "version": 3
   },
   "file_extension": ".py",
   "mimetype": "text/x-python",
   "name": "python",
   "nbconvert_exporter": "python",
   "pygments_lexer": "ipython3",
   "version": "3.7.12"
  }
 },
 "nbformat": 4,
 "nbformat_minor": 5
}
