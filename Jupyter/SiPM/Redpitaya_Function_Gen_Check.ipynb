{
 "cells": [
  {
   "cell_type": "code",
   "execution_count": 1,
   "id": "50597061",
   "metadata": {},
   "outputs": [],
   "source": [
    "import pandas as pd\n",
    "import numpy as np\n",
    "import natsort\n",
    "import glob\n",
    "import os\n",
    "import matplotlib.pyplot as plt\n",
    "from scipy.stats import norm\n",
    "from scipy.optimize import curve_fit"
   ]
  },
  {
   "cell_type": "code",
   "execution_count": 2,
   "id": "d72f1a96",
   "metadata": {
    "scrolled": true
   },
   "outputs": [],
   "source": [
    "dir='/project/david_moore/aj487/Data_WL110/LXe_Setup/TPC/20220117/Function_Generator_MCA_Check/'\n",
    "filenames=[]\n",
    "for file in os.listdir(dir):\n",
    "    filenames.append(dir+file)\n",
    "total_counts_list=[]\n",
    "for files in natsort.natsorted(filenames):\n",
    "    df_temp=pd.read_csv(files)\n",
    "    real_time=df_temp.columns[1]\n",
    "    df=pd.read_csv(files,skiprows=1)\n",
    "    total_counts=np.sum(df['Counts'])\n",
    "    total_counts_list.append(total_counts)\n",
    "    time_delay=total_counts*12.8E-6\n",
    "#     print('Real Time: ',real_time,'Total Counts: ',total_counts,'Time Delay: ',time_delay)"
   ]
  },
  {
   "cell_type": "code",
   "execution_count": 7,
   "id": "5a643c07",
   "metadata": {},
   "outputs": [
    {
     "data": {
      "image/png": "[encoded data removed]",
      "text/plain": [
       "<Figure size 432x288 with 1 Axes>"
      ]
     },
     "metadata": {
      "needs_background": "light"
     },
     "output_type": "display_data"
    }
   ],
   "source": [
    "BINS=np.linspace(50000,70000,45)\n",
    "def gauss(x,a,mu,sigma):\n",
    "    return a*np.exp(-0.5*((x-mu)/sigma)**2)\n",
    "vals,bine=np.histogram(total_counts_list,bins=BINS)\n",
    "plt.hist(total_counts_list,bins=BINS)\n",
    "binc=0.5*(bine[1:]+bine[:-1])\n",
    "cut=np.where((binc>57500) & (binc<61000))\n",
    "popt,pcov=curve_fit(gauss,binc[cut],vals[cut],p0=[35,59000,200])\n",
    "plt.plot(binc[cut],gauss(binc[cut],*popt),lw=3)\n",
    "plt.xlim(55000,62500)\n",
    "plt.show()"
   ]
  },
  {
   "cell_type": "code",
   "execution_count": null,
   "id": "c09f9992",
   "metadata": {},
   "outputs": [],
   "source": []
  }
 ],
 "metadata": {
  "kernelspec": {
   "display_name": "Python 3 (ipykernel)",
   "language": "python",
   "name": "python3"
  },
  "language_info": {
   "codemirror_mode": {
    "name": "ipython",
    "version": 3
   },
   "file_extension": ".py",
   "mimetype": "text/x-python",
   "name": "python",
   "nbconvert_exporter": "python",
   "pygments_lexer": "ipython3",
   "version": "3.7.12"
  }
 },
 "nbformat": 4,
 "nbformat_minor": 5
}
