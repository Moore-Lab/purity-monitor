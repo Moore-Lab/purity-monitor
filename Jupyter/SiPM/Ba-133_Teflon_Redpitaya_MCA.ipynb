{
 "cells": [
  {
   "cell_type": "code",
   "execution_count": null,
   "id": "394c3cb8",
   "metadata": {},
   "outputs": [],
   "source": [
    "import pandas as pd\n",
    "import numpy as np\n",
    "import matplotlib.pyplot as plt\n",
    "from scipy.optimize import curve_fit\n",
    "import os\n",
    "import datetime as dt\n",
    "import natsort \n",
    "import glob"
   ]
  },
  {
   "cell_type": "code",
   "execution_count": null,
   "id": "914a9e9a",
   "metadata": {},
   "outputs": [],
   "source": [
    "def rebin(hx,h, bin=1):\n",
    "    h_rebin = []\n",
    "    for i,x in enumerate(h[:int(len(h)/bin)]):\n",
    "        num = i*bin\n",
    "        h_rebin.append(h[num]+h[num+1])\n",
    "    hx_rebin = [x for x in range(int(len(hx)/bin))]\n",
    "    return np.array(hx_rebin), np.array(h_rebin)"
   ]
  },
  {
   "cell_type": "code",
   "execution_count": null,
   "id": "748ad089",
   "metadata": {},
   "outputs": [],
   "source": [
    "def gauss(x,a,mu,sigma):\n",
    "    return (a*np.exp(-0.5*((x-mu)/sigma)**2))\n",
    "\n",
    "def exp(x,h,b,c):\n",
    "    return(h*np.exp(-x*b)+c)\n",
    "\n",
    "def func(x,h,b,c,a,mu,sigma):\n",
    "    return(h*np.exp(-x*b)+c+(a*np.exp(-0.5*((x-mu)/sigma)**2)))"
   ]
  },
  {
   "cell_type": "code",
   "execution_count": null,
   "id": "d3a198b4",
   "metadata": {},
   "outputs": [],
   "source": [
    "dir='/project/david_moore/aj487/Data_WL110/LXe_Setup/TPC/20220117/source_data_32V/'\n",
    "filename=[]\n",
    "count_sum=0\n",
    "channel_sum=0\n",
    "for filenames in os.listdir(dir):\n",
    "    filename.append(dir+filenames)\n",
    "for files in natsort.natsorted(filename):\n",
    "    df=pd.read_csv(files,skiprows=1)\n",
    "    count_sum+=df['Counts']\n",
    "    channel_sum+=df['Channel']\n",
    "    \n",
    "hx,h=rebin(np.array(channel_sum),np.array(count_sum),100)\n",
    "cut=np.where((hx>=0) & (hx<90))\n",
    "popt,pcov=curve_fit(func,hx[cut],h[cut],p0=[np.max(h[cut]),0.1,2,np.max(h[cut]),50,10],maxfev=100000)\n",
    "plt.figure(figsize=(8,6))\n",
    "plt.plot(hx[cut],func(hx[cut],*popt),color='r',zorder=10,label='Fit',lw=5)\n",
    "plt.step(hx,h,lw=5)\n",
    "plt.yscale('log')\n",
    "plt.show()"
   ]
  },
  {
   "cell_type": "code",
   "execution_count": null,
   "id": "59532a86",
   "metadata": {
    "scrolled": true
   },
   "outputs": [],
   "source": [
    "dir='/project/david_moore/aj487/Data_WL110/LXe_Setup/TPC/20220117/source_data_32V/'\n",
    "filename=[]\n",
    "time_s=[]\n",
    "popt_list=[]\n",
    "pcov_list=[]\n",
    "for filenames in os.listdir(dir):\n",
    "    filename.append(dir+filenames)\n",
    "for file in natsort.natsorted(filename):\n",
    "    df=pd.read_csv(file)\n",
    "    time=(str(round(int(df.columns[1])/60))+' Minutes')\n",
    "    time_s.append(int(df.columns[1]))\n",
    "    df=pd.read_csv(file,skiprows=1)\n",
    "    hx,h=rebin(np.array(df['Channel']),np.array(df['Counts']),100)\n",
    "    if np.max(h)!=0:\n",
    "        plt.step(hx,h,lw=3)\n",
    "        cut=cut=np.where((hx>=0) & (hx<80))\n",
    "        popt,pcov=curve_fit(func,hx[cut],h[cut],p0=[np.max(h[cut]),0.1,2,np.max(h[cut]),50,10],maxfev=100000)\n",
    "        popt_list.append(popt)\n",
    "        pcov_list.append(pcov)\n",
    "        plt.plot(hx[cut],func(hx[cut],*popt),color='r',zorder=10,label='Fit',lw=3)\n",
    "        plt.legend(loc=1)  \n",
    "        plt.title(time)\n",
    "        plt.yscale('log')\n",
    "        plt.show()"
   ]
  },
  {
   "cell_type": "code",
   "execution_count": null,
   "id": "c9b5f509",
   "metadata": {},
   "outputs": [],
   "source": [
    "mu_list=[]\n",
    "for array in popt_list:\n",
    "#     print(array[4])\n",
    "    mu_list.append(array[4])\n",
    "print(len(time_s))\n",
    "print(len(mu_list))"
   ]
  },
  {
   "cell_type": "code",
   "execution_count": null,
   "id": "188c14e3",
   "metadata": {},
   "outputs": [],
   "source": [
    "plt.figure(figsize=(10,8))\n",
    "plt.scatter(time_s[:-8],mu_list)\n",
    "plt.xlabel('Time(s)')\n",
    "plt.ylabel('$\\mu$')\n",
    "plt.ylim(0,100)\n",
    "plt.show()"
   ]
  },
  {
   "cell_type": "code",
   "execution_count": null,
   "id": "f11e7ff7",
   "metadata": {},
   "outputs": [],
   "source": [
    "dir='/project/david_moore/aj487/Data_WL110/LXe_Setup/TPC/20220117/source_data_field_32V/'\n",
    "filename_field=[]\n",
    "time_s_field=[]\n",
    "popt_list_field=[]\n",
    "pcov_list_field=[]\n",
    "for filenames in os.listdir(dir):\n",
    "    filename_field.append(dir+filenames)\n",
    "for file in natsort.natsorted(filename_field):#[:10]:\n",
    "    df=pd.read_csv(file)\n",
    "    time=(str(round(int(df.columns[1])/60))+' Minutes')\n",
    "    time_s_field.append(int(df.columns[1]))\n",
    "    df=pd.read_csv(file,skiprows=1)\n",
    "    hx,h=rebin(np.array(df['Channel']),np.array(df['Counts']),100)\n",
    "    if np.max(h)!=0:\n",
    "        plt.step(hx,h,lw=3)\n",
    "        cut=cut=np.where((hx>=0) & (hx<80))\n",
    "        popt,pcov=curve_fit(func,hx[cut],h[cut],p0=[np.max(h[cut]),0.1,2,np.max(h[cut]),50,10],maxfev=100000)\n",
    "#         print(popt)\n",
    "        popt_list_field.append(popt)\n",
    "        pcov_list_field.append(pcov)\n",
    "        plt.plot(hx[cut],func(hx[cut],*popt),color='r',zorder=10,label='Fit',lw=3)\n",
    "        plt.legend(loc=1)  \n",
    "        plt.title(time)\n",
    "        plt.yscale('log')\n",
    "        plt.show()"
   ]
  },
  {
   "cell_type": "code",
   "execution_count": null,
   "id": "b8b9fbbf",
   "metadata": {},
   "outputs": [],
   "source": [
    "print(len(time_s_field[:-16]))"
   ]
  },
  {
   "cell_type": "code",
   "execution_count": null,
   "id": "7bd25fee",
   "metadata": {},
   "outputs": [],
   "source": [
    "arr=([1,4,8,19],[10,12,16,23],[2,7,18,16],[22,15,16,19])\n",
    "arr= (np.array(arr))\n",
    "print(arr)"
   ]
  },
  {
   "cell_type": "code",
   "execution_count": null,
   "id": "bacc977b",
   "metadata": {},
   "outputs": [],
   "source": [
    "print(arr[0][0])"
   ]
  },
  {
   "cell_type": "code",
   "execution_count": null,
   "id": "d8cfaca1",
   "metadata": {},
   "outputs": [],
   "source": [
    "n=len(arr)\n",
    "for i,vals in enumerate(arr):\n",
    "    print(arr[i][0])\n",
    "    "
   ]
  },
  {
   "cell_type": "code",
   "execution_count": null,
   "id": "3aae56f6",
   "metadata": {},
   "outputs": [],
   "source": []
  }
 ],
 "metadata": {
  "kernelspec": {
   "display_name": "Python 3 (ipykernel)",
   "language": "python",
   "name": "python3"
  },
  "language_info": {
   "codemirror_mode": {
    "name": "ipython",
    "version": 3
   },
   "file_extension": ".py",
   "mimetype": "text/x-python",
   "name": "python",
   "nbconvert_exporter": "python",
   "pygments_lexer": "ipython3",
   "version": "3.7.12"
  }
 },
 "nbformat": 4,
 "nbformat_minor": 5
}
