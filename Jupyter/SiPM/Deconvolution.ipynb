{
 "cells": [
  {
   "cell_type": "code",
   "execution_count": 1,
   "metadata": {},
   "outputs": [],
   "source": [
    "import numpy as np\n",
    "from scipy import signal\n",
    "from scipy.signal import find_peaks\n",
    "from scipy.optimize import curve_fit"
   ]
  },
  {
   "cell_type": "code",
   "execution_count": 2,
   "metadata": {},
   "outputs": [],
   "source": [
    "import matplotlib.pyplot as plt\n",
    "plt.style.use('../../style.mplstyle')\n",
    "colors = plt.rcParams['axes.prop_cycle'].by_key()['color']"
   ]
  },
  {
   "cell_type": "code",
   "execution_count": 3,
   "metadata": {},
   "outputs": [],
   "source": [
    "import sys\n",
    "sys.path.insert(0, '../../../purity-monitor/')\n",
    "sys.path.insert(0, '../../WaveformAnalysis/')"
   ]
  },
  {
   "cell_type": "code",
   "execution_count": 4,
   "metadata": {},
   "outputs": [],
   "source": [
    "import Dataset as Dataset\n",
    "import StandMonitor as Monitor\n",
    "import PlotFunctions as Plt\n",
    "import Waveform as Waveform\n",
    "import SiPM as SiPM"
   ]
  },
  {
   "cell_type": "code",
   "execution_count": 5,
   "metadata": {},
   "outputs": [
    {
     "data": {
      "text/plain": [
       "<module 'SiPM' from '../../../purity-monitor/SiPM.py'>"
      ]
     },
     "execution_count": 5,
     "metadata": {},
     "output_type": "execute_result"
    }
   ],
   "source": [
    "import importlib\n",
    "importlib.reload(Dataset)\n",
    "importlib.reload(Monitor)\n",
    "importlib.reload(Plt)\n",
    "importlib.reload(SiPM)"
   ]
  },
  {
   "cell_type": "code",
   "execution_count": 6,
   "metadata": {},
   "outputs": [
    {
     "name": "stdout",
     "output_type": "stream",
     "text": [
      "224\n"
     ]
    }
   ],
   "source": [
    "D0 = SiPM.SiPM(Path='/project/david_moore/aj487/Data_WL110/LXe_Setup/TPC/20211119/', \n",
    "                    Selection='*DCR*.h5')\n",
    "D0.Ch = [Waveform.Waveform(ID=x, Pol=1) for x in range(1,3)]\n",
    "\n",
    "print(len(D0.Files))\n",
    "for File in D0.Files[:100]:\n",
    "    D0.ImportDataFromHDF5(File, D0.Ch)"
   ]
  },
  {
   "cell_type": "code",
   "execution_count": 8,
   "metadata": {},
   "outputs": [],
   "source": [
    "def gauss(x,mu=0,sigma=0.5):\n",
    "    x = x-mu\n",
    "    return np.exp(-np.square((x-mu)/sigma)/2)/(sigma*np.sqrt(2*np.pi))"
   ]
  },
  {
   "cell_type": "code",
   "execution_count": 10,
   "metadata": {},
   "outputs": [],
   "source": [
    "time = D0.Ch[0].Time\n",
    "desire_x = np.arange(-500,500,time[1]-time[0])\n",
    "desire_y = gauss(desire_x, mu=0,sigma=1)\n",
    "resp_x = np.arange(0,1000,time[1]-time[0])\n",
    "resp_y = D0.func(resp_x, 0, 1, 1.83, 46.93, 0)"
   ]
  },
  {
   "cell_type": "code",
   "execution_count": 12,
   "metadata": {},
   "outputs": [
    {
     "data": {
      "text/plain": [
       "[<matplotlib.lines.Line2D at 0x2b108c9755c0>]"
      ]
     },
     "execution_count": 12,
     "metadata": {},
     "output_type": "execute_result"
    },
    {
     "data": {
      "image/png": "[encoded data removed]",
      "text/plain": [
       "<Figure size 432x288 with 1 Axes>"
      ]
     },
     "metadata": {
      "needs_background": "light"
     },
     "output_type": "display_data"
    }
   ],
   "source": [
    "plt.plot(resp_x, resp_y,label='Response')\n",
    "plt.plot(desire_x, desire_y,label='Desired')"
   ]
  },
  {
   "cell_type": "code",
   "execution_count": 13,
   "metadata": {},
   "outputs": [],
   "source": [
    "resp_f = np.fft.fft(resp_y)\n",
    "desire_f = np.fft.fft(desire_y)\n",
    "filter_f = desire_f/resp_f\n",
    "filter_y = np.real(np.fft.ifft(filter_f))"
   ]
  },
  {
   "cell_type": "code",
   "execution_count": 14,
   "metadata": {},
   "outputs": [],
   "source": [
    "times = [50,51,52,100,150,400,600]\n",
    "ampl = [1,0.5,0.5,1,0.8,1,1,1]\n",
    "f_sing = [D0.func(resp_x, 0, ampl[i], 1.83, 46.93, times[i]) for i in range(len(times))]\n",
    "    \n",
    "f_sum = np.sum(f_sing, axis=0)\n",
    "deconv_y = np.convolve(f_sum,filter_y,'same')"
   ]
  },
  {
   "cell_type": "code",
   "execution_count": 15,
   "metadata": {},
   "outputs": [
    {
     "data": {
      "image/png": "[encoded data removed]",
      "text/plain": [
       "<Figure size 432x288 with 1 Axes>"
      ]
     },
     "metadata": {
      "needs_background": "light"
     },
     "output_type": "display_data"
    }
   ],
   "source": [
    "plt.figure()\n",
    "plt.xlabel('Time[us]')\n",
    "plt.ylabel('Amplitude')\n",
    "plt.ylim(-0.1,2)\n",
    "plt.plot(resp_x, f_sum,label='Response')\n",
    "plt.plot(resp_x, deconv_y/np.max(deconv_y),label='Deconvolved')\n",
    "plt.savefig('deconvolution.pdf')\n",
    "plt.show()"
   ]
  },
  {
   "cell_type": "code",
   "execution_count": 16,
   "metadata": {},
   "outputs": [],
   "source": [
    "count = 0\n",
    "filt = D0.get_filtered_waveform(D0.Ch[0].Time, D0.Ch[0].Amp[0], lowfreq=100, highfreq=100000, type='band', order=3)\n",
    "for j in range(100):\n",
    "    if np.max(filt[1000*j:1000*(j+1)])>20:\n",
    "        count +=1\n",
    "        deconv = np.convolve(filt[1000*j:1000*(j+1)]*count,filter_y,'same')\n",
    "        print(np.max(deconv))\n",
    "        plt.figure()\n",
    "        plt.plot(time[1000*j:1000*(j+1)], filt[1000*j:1000*(j+1)],label='Response')\n",
    "        plt.plot(time[1000*j:1000*(j+1)], deconv,label='Deconvolved')\n",
    "        plt.show()"
   ]
  },
  {
   "cell_type": "code",
   "execution_count": 17,
   "metadata": {},
   "outputs": [
    {
     "name": "stdout",
     "output_type": "stream",
     "text": [
      "-50000.327999999994 100000.65599999999 1000 100\n"
     ]
    }
   ],
   "source": [
    "start = D0.Ch[0].Time[0]\n",
    "length = D0.Ch[0].Time[-1] - D0.Ch[0].Time[0]\n",
    "window = 1000\n",
    "count = int(length/window)\n",
    "print(start, length,window, count)"
   ]
  },
  {
   "cell_type": "code",
   "execution_count": 18,
   "metadata": {},
   "outputs": [],
   "source": [
    "maxval = []\n",
    "for i,Amp in enumerate(D0.Ch[0].Amp):\n",
    "    filt = D0.get_filtered_waveform(D0.Ch[0].Time, Amp, lowfreq=100, highfreq=100000, type='band', order=3)\n",
    "    for j in range(count-1):\n",
    "        if np.max(filt[1000*j:1000*(j+1)])>20:\n",
    "            deconv = np.convolve(filt[1000*j:1000*(j+1)],filter_y,'same')        \n",
    "            peaks,pdict = find_peaks(deconv, height=5, width=1, distance=10)\n",
    "            if len(pdict['peak_heights'])>0:\n",
    "                for p in pdict['peak_heights']:\n",
    "                    maxval.append(p)"
   ]
  },
  {
   "cell_type": "code",
   "execution_count": 19,
   "metadata": {},
   "outputs": [
    {
     "data": {
      "image/png": "[encoded data removed]",
      "text/plain": [
       "<Figure size 432x288 with 1 Axes>"
      ]
     },
     "metadata": {
      "needs_background": "light"
     },
     "output_type": "display_data"
    }
   ],
   "source": [
    "plt.figure()\n",
    "plt.xlabel('Amplitude')\n",
    "plt.ylabel('Counts')\n",
    "plt.yscale('log')\n",
    "plt.hist(maxval, bins=np.arange(0,50,0.3), histtype='step', lw=2)\n",
    "plt.savefig('deconvolution_hist_pe.pdf')\n",
    "plt.show()"
   ]
  }
 ],
 "metadata": {
  "kernelspec": {
   "display_name": "py37s",
   "language": "python",
   "name": "py37s"
  },
  "language_info": {
   "codemirror_mode": {
    "name": "ipython",
    "version": 3
   },
   "file_extension": ".py",
   "mimetype": "text/x-python",
   "name": "python",
   "nbconvert_exporter": "python",
   "pygments_lexer": "ipython3",
   "version": "3.7.3"
  }
 },
 "nbformat": 4,
 "nbformat_minor": 2
}
