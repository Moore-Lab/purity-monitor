{
 "cells": [
  {
   "cell_type": "markdown",
   "metadata": {},
   "source": [
    "This notebook acquires data to measure the gain of the SiPM. It sets the overvoltage and then takes scope and MCA data with the Red Pitaya. The scope is setup to trigger on the LED."
   ]
  },
  {
   "cell_type": "code",
   "execution_count": 40,
   "metadata": {},
   "outputs": [],
   "source": [
    "import numpy as np\n",
    "import time,datetime\n",
    "import matplotlib.pyplot as plt\n",
    "from IPython import display\n",
    "%matplotlib inline\n",
    "plt.style.use('../../style.mplstyle')\n",
    "import sys \n",
    "sys.path.append(\"../../devices\")\n",
    "sys.path.append(\"../../RedPitaya\")\n",
    "from datetime import datetime\n",
    "import pyautogui\n",
    "from ipywidgets import IntProgress\n",
    "import importlib \n",
    "import matplotlib\n",
    "import os"
   ]
  },
  {
   "cell_type": "code",
   "execution_count": 126,
   "metadata": {},
   "outputs": [],
   "source": [
    "#### set data taking parameters here #####\n",
    "\n",
    "save_dir = \"\" ## name of directory to save, leave empty to use todays date as default\n",
    "make_plots = True ## make diagnostic plots\n",
    "\n",
    "breakdown_voltage = 27.4 ## Volts, breakdown to sweep keithley relative to\n",
    "ov_list = np.arange(2, 7, 0.5) ## Volts, list of overvoltages to sweep\n",
    "\n",
    "instr_to_sweep = 'keith' ## instrument to sweep over (must be 'keith' or 'synth')\n",
    "\n",
    "red_pitaya_channel = 2 ## channel for the analog signal in the RP (1 or 2), used for MCA presumably after shaper\n",
    "\n",
    "mca_thresh = 0 ## minimum threshold [ADC bins] for mca to record pedestal\n",
    "\n",
    "LED_flashing_rate = 4e3\n"
   ]
  },
  {
   "cell_type": "code",
   "execution_count": 42,
   "metadata": {},
   "outputs": [],
   "source": [
    "## setup directories for saving data\n",
    "def setup_save_dir(save_dir):\n",
    "\n",
    "    if len(save_dir) > 0:\n",
    "        path = \"C:/Data/{}/\".format(save_dir)\n",
    "    else:\n",
    "        date = datetime.today().strftime('%Y%m%d')\n",
    "        subdir = ''\n",
    "        path = \"C:/Data/{}/{}/\".format(date,subdir)\n",
    "    \n",
    "    if not os.path.exists(path):\n",
    "        os.makedirs(path)\n",
    "    \n",
    "    return path"
   ]
  },
  {
   "cell_type": "code",
   "execution_count": 43,
   "metadata": {},
   "outputs": [],
   "source": [
    "## import instrument control as needed\n",
    "from pitaya import RedPitaya\n",
    "from functiongenerator import AFG2225\n",
    "from picoammeter import Keithley6487\n",
    "from powersupply import NGE100\n",
    "import redpitaya_mca as mca"
   ]
  },
  {
   "cell_type": "code",
   "execution_count": 44,
   "metadata": {},
   "outputs": [],
   "source": [
    "nge = NGE100('USB0::0x0AAD::0x0197::5601.1414k03-100771::INSTR')\n",
    "pico = Keithley6487('ASRL9::INSTR')\n",
    "func = AFG2225('ASRL19::INSTR') ## first function generator\n",
    "func2 = AFG2225('ASRL20::INSTR') ## second function generator"
   ]
  },
  {
   "cell_type": "code",
   "execution_count": 45,
   "metadata": {},
   "outputs": [],
   "source": [
    "## turn on +/-24 Volts to power the cremat preamp\n",
    "output_channel = 1 ## channel to turn on\n",
    "output_voltage = 24 # Volts\n",
    "nge.output(ch=output_channel, state=False)\n",
    "nge.voltage(ch=output_channel, volt=output_voltage)\n",
    "nge.output(ch=output_channel, state=True)"
   ]
  },
  {
   "cell_type": "code",
   "execution_count": 46,
   "metadata": {},
   "outputs": [],
   "source": [
    "## setup the Keithley ahead of time and turn it on to the breakdown voltage so it starts ramping up\n",
    "## will set the precise settings and loop through voltages later in the notebook\n",
    "\n",
    "keithley_time_delay = 5 ## seconds, time to wait for the keithley to stabilize at a given voltage\n",
    "\n",
    "if(instr_to_sweep == 'keith'):\n",
    "    pico.voltage_source_state(0) ## turn off source\n",
    "    pico.voltage_source_range(breakdown_voltage+np.max(ov_list)) ## set the range to accomodate the highest voltage needed\n",
    "    pico.voltage(breakdown_voltage) ## set to breakdown\n",
    "    pico.voltage_source_state(1) ## turn on source\n",
    "    time.sleep(keithley_time_delay) ## wait for the voltage to ramp up"
   ]
  },
  {
   "cell_type": "code",
   "execution_count": 83,
   "metadata": {},
   "outputs": [],
   "source": [
    "LED_dictionary = {\n",
    "    'Blue': {\n",
    "        'do_flash': True,\n",
    "        'synth': func2,\n",
    "        'channel': 1,\n",
    "        'wavelength': 405,\n",
    "        'pulse_width_gain': 300,\n",
    "        'pulse_width_pde': 300,\n",
    "        'amplitude_gain': 3.5,\n",
    "        'amplitude_pde': 10.0\n",
    "    },\n",
    "    'UV': {\n",
    "        'do_flash': True,\n",
    "        'synth': func,\n",
    "        'channel': 1,\n",
    "        'wavelength': 310,\n",
    "        'pulse_width_gain': 750,\n",
    "        'pulse_width_pde': 750, # 750 could be ok, DO NOT go above\n",
    "        'amplitude_gain': 8.0,\n",
    "        'amplitude_pde': 10.0 \n",
    "    }\n",
    "}"
   ]
  },
  {
   "cell_type": "markdown",
   "metadata": {},
   "source": [
    "!!!! Before running this section, make sure to start the MCA app via the web interface !!!"
   ]
  },
  {
   "cell_type": "code",
   "execution_count": 129,
   "metadata": {},
   "outputs": [],
   "source": [
    "def setup_mca_data(channel_to_use, integ_time=100, min_thresh=0):\n",
    "\n",
    "    rp = mca.mca()\n",
    "    ## chan = 1/2\n",
    "    ## baseline is baseline level to subtract in MCA in bits (16 bit unsigned integer). Positive values from zero to 2^15-1\n",
    "    ## negative values from 2^16-1 to 2^15 \n",
    "    ## integ_time is time per file in seconds\n",
    "    ## min_thresh is threshold in bits at which to ignore peaks, set to non-zero to avoid collecting pedestal data\n",
    "    ## baseline_mode is set to auto (can see MCA plot in red pitaya GUI to see what this does)\n",
    "\n",
    "    rp.setup_mca(chan=channel_to_use, baseline_level=0, dec=32, integ_time = integ_time, min_thresh=min_thresh, baseline_mode='auto')\n",
    "    rp.reset_histo(chan=channel_to_use)\n",
    "    rp.start_histo(chan=channel_to_use)\n",
    "\n",
    "    return rp"
   ]
  },
  {
   "cell_type": "code",
   "execution_count": 130,
   "metadata": {},
   "outputs": [],
   "source": [
    "def collect_single_mca_file(red_pitaya_channel, time_per_file, mca_thresh, path, int_time, ov, fidx, label):\n",
    "    # making mca histogram\n",
    "        red_mca = setup_mca_data(channel_to_use=red_pitaya_channel-1, integ_time=time_per_file, min_thresh=mca_thresh) # 0 indexing for the channel, unlike above\n",
    "        time.sleep(1) ## wait for setup to be ready -- otherwise it will read before buffer is full\n",
    "\n",
    "        if(make_plots):\n",
    "            fig=plt.figure()\n",
    "            fig.patch.set_facecolor('white')\n",
    "            hfig = display.display(fig, display_id=True)\n",
    "\n",
    "        for i in range(int_time):\n",
    "            dat = red_mca.read_histo_data(chan=1)\n",
    "            #curr_time = red_mca.read_timer(chan=1)\n",
    "            #print(curr_time)\n",
    "\n",
    "            if(make_plots):\n",
    "                plt.clf()\n",
    "                plt.yscale('log')\n",
    "                plt.plot(dat, color='k')\n",
    "                plt.ylim(0.1,10000)\n",
    "                plt.xlim(0,2000)\n",
    "                hfig.update(fig)\n",
    "            time.sleep(0.5) # adjust due to dead time\n",
    "\n",
    "        if(make_plots):\n",
    "            plt.show(fig)\n",
    "\n",
    "        \n",
    "        if fidx==-1:\n",
    "            red_mca.save(dat, ch=red_pitaya_channel, tag='mca_keith_{:.2f}OV_source_{}'.format(breakdown_voltage+ov, fidx), path=path)\n",
    "        else:\n",
    "            red_mca.save(dat, ch=red_pitaya_channel, tag='mca_keith_{:.2f}OV_{}_{}'.format(breakdown_voltage+ov, label, fidx), path=path)\n",
    "\n",
    "        red_mca.close()"
   ]
  },
  {
   "cell_type": "code",
   "execution_count": 50,
   "metadata": {},
   "outputs": [],
   "source": [
    "def setup_LED_flash(func, synth_channel, pulse_amplitude, LED_flashing_rate, pulse_width):\n",
    "    # set the LED to flash the way we want them\n",
    "    # function generator (func or func2), channel (1 or 2), voltage amplitude (V), LED flashing frequency (Hz), pulse width (ns): 1ns for gain measurements, 1 us for PDE \n",
    "    amplitude_offset = pulse_amplitude/2.0 ## V, offset to give positive going pulse\n",
    "\n",
    "    func.set_output_onoff(synth_channel, 0) ## turn off channel\n",
    "    func.set_wavetype(synth_channel, \"PULS\") \n",
    "    func.set_pulse_width(synth_channel, pulse_width) \n",
    "    func.set_frequency(synth_channel, LED_flashing_rate)\n",
    "    func.set_amplitude(synth_channel, pulse_amplitude)\n",
    "    func.set_offset(synth_channel, amplitude_offset)\n",
    "    func.set_output_load(synth_channel, \"HZ\") ## make sure the channel is set for high impedance\n",
    "    func.set_output_onoff(synth_channel, 1) ## turn on channel\n"
   ]
  },
  {
   "cell_type": "code",
   "execution_count": 93,
   "metadata": {},
   "outputs": [],
   "source": [
    "setup_LED_flash(func2, 1, 3.5, 4e3, 300)"
   ]
  },
  {
   "cell_type": "code",
   "execution_count": 127,
   "metadata": {},
   "outputs": [],
   "source": [
    "save_dir = r\"20230321/step14/\"\n",
    "\n",
    "## warn about overwriting files\n",
    "path = setup_save_dir(save_dir)\n",
    "#if( os.path.isfile(os.path.join(path, 'wavefms_keith_{:.2f}OV_{}.h5'.format(ov_list[0],0))) ):\n",
    "#    resp = pyautogui.confirm(\"File already exists, overwrite?\")\n",
    "#    if( resp == \"Cancel\" ):\n",
    "#        raise KeyboardInterrupt\n",
    "\n",
    "def setup_measurement(meas_type, time_per_file, do_flash):\n",
    "\n",
    "    if meas_type == 'gain':\n",
    "\n",
    "        #time_per_file = 30 ## seconds ## for bv curve 10s per file\n",
    "        int_time = int(time_per_file) #int(num_mca_events/LED_flashing_rate)\n",
    "        num_files_per_ov = 1 ## 1 for bv ## more for longer source data\n",
    "        \n",
    "        # led\n",
    "\n",
    "        if do_flash == True:\n",
    "            for i in LED_dictionary:\n",
    "                setup_LED_flash(LED_dictionary[i]['synth'], LED_dictionary[i]['channel'], LED_dictionary[i]['amplitude_gain'], LED_flashing_rate, LED_dictionary[i]['pulse_width_gain'])\n",
    "\n",
    "                for ov in ov_list:\n",
    "\n",
    "                    pico.voltage(breakdown_voltage + ov) \n",
    "                    time.sleep(keithley_time_delay) ## wait for voltage to ramp up\n",
    "\n",
    "                    for fidx in range(num_files_per_ov):\n",
    "\n",
    "                        ## collect the source file (no LED flashes)\n",
    "                        collect_single_mca_file(red_pitaya_channel, time_per_file, mca_thresh, path, int_time, ov, fidx, LED_dictionary[i]['wavelength'])\n",
    "\n",
    "                LED_dictionary[i]['synth'].set_output_onoff(LED_dictionary[i]['channel'], 0)\n",
    "\n",
    "        else: \n",
    "            for ov in ov_list:\n",
    "\n",
    "                pico.voltage(breakdown_voltage + ov) \n",
    "                time.sleep(keithley_time_delay) ## wait for voltage to ramp up\n",
    "\n",
    "                for fidx in range(num_files_per_ov):\n",
    "\n",
    "                    ## collect the source file (no LED flashes)\n",
    "                    collect_single_mca_file(red_pitaya_channel, time_per_file, mca_thresh, path, int_time, ov, fidx, 'source')\n",
    "\n",
    "    elif meas_type == 'pde':\n",
    "        ov = 4 ## OV for PDE measurement\n",
    "        #time_per_file = 60 ## in seconds - for source 1 min per file\n",
    "        int_time = int(time_per_file) #int(num_mca_events/LED_flashing_rate)\n",
    "\n",
    "        ## leds\n",
    "        #pulse_width = 1000 ## in ns (1 us for PDE)\n",
    "        time_per_file_LED = 10\n",
    "        num_files_per_LED = 1\n",
    "\n",
    "        #######################\n",
    "        total_time = 6000 #7200 ## in seconds -- total run time\n",
    "        num_iterations = total_time/(time_per_file+2*time_per_file_LED)\n",
    "\n",
    "        #######################\n",
    "        pico.voltage(breakdown_voltage + ov) \n",
    "        time.sleep(keithley_time_delay) ## wait for voltage to ramp up\n",
    "\n",
    "        for fidx in range(int(num_iterations)):\n",
    "\n",
    "            ## collect the source file (no LED flashes)\n",
    "            collect_single_mca_file(red_pitaya_channel, time_per_file, mca_thresh, path, int_time, ov, fidx, 'source')\n",
    "\n",
    "            for i in LED_dictionary:\n",
    "                setup_LED_flash(LED_dictionary[i]['synth'], LED_dictionary[i]['channel'], LED_dictionary[i]['amplitude_pde'], LED_flashing_rate, LED_dictionary[i]['pulse_width_pde'])\n",
    "                collect_single_mca_file(red_pitaya_channel, time_per_file_LED, mca_thresh, path, int(time_per_file_LED), ov, fidx, LED_dictionary[i]['wavelength'])\n",
    "                LED_dictionary[i]['synth'].set_output_onoff(LED_dictionary[i]['channel'], 0)\n",
    "\n",
    "    else:\n",
    "        print(\"Warning, no measurement type defined -- set meas_type to '''gain''' or '''pde''' \")"
   ]
  },
  {
   "cell_type": "code",
   "execution_count": 131,
   "metadata": {},
   "outputs": [
    {
     "data": {
      "image/png": "[encoded data removed]",
      "text/plain": [
       "<Figure size 800x600 with 1 Axes>"
      ]
     },
     "metadata": {},
     "output_type": "display_data"
    },
    {
     "data": {
      "image/png": "[encoded data removed]",
      "text/plain": [
       "<Figure size 800x600 with 1 Axes>"
      ]
     },
     "metadata": {},
     "output_type": "display_data"
    }
   ],
   "source": [
    "#True if gain meas and want LEDs, otherwise False; time_per_file = 10 (SRSgain 100), =30 (SRSgain 10 or 5), =60 (pde meas) \n",
    "setup_measurement('gain', 10, True)"
   ]
  },
  {
   "cell_type": "code",
   "execution_count": 33,
   "metadata": {},
   "outputs": [],
   "source": [
    "red_mca.close()"
   ]
  }
 ],
 "metadata": {
  "interpreter": {
   "hash": "e5e622b25f84b7135d4643d5fac34167b855b0a6d41d1f6695eb3e0f89a915df"
  },
  "kernelspec": {
   "display_name": "Python 3.8.5 ('base')",
   "language": "python",
   "name": "python3"
  },
  "language_info": {
   "codemirror_mode": {
    "name": "ipython",
    "version": 3
   },
   "file_extension": ".py",
   "mimetype": "text/x-python",
   "name": "python",
   "nbconvert_exporter": "python",
   "pygments_lexer": "ipython3",
   "version": "3.8.5"
  },
  "orig_nbformat": 4
 },
 "nbformat": 4,
 "nbformat_minor": 2
}
