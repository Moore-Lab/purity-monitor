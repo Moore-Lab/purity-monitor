{
 "cells": [
  {
   "cell_type": "code",
   "execution_count": 1,
   "metadata": {},
   "outputs": [],
   "source": [
    "import numpy as np\n",
    "import pandas as pd\n",
    "import matplotlib.pyplot as plt\n",
    "import datetime\n",
    "import scipy.optimize as spo\n",
    "import scipy.stats as sts\n",
    "plt.style.use('seaborn')"
   ]
  },
  {
   "cell_type": "markdown",
   "metadata": {},
   "source": [
    "#### Unimportant Warnings"
   ]
  },
  {
   "cell_type": "code",
   "execution_count": 2,
   "metadata": {},
   "outputs": [],
   "source": [
    "import warnings\n",
    "warnings.simplefilter(action='ignore', category=FutureWarning)\n",
    "warnings.simplefilter(action='ignore', category=pd.errors.PerformanceWarning)"
   ]
  },
  {
   "cell_type": "markdown",
   "metadata": {},
   "source": [
    "## New HDF5 Data Import\n",
    "The long waiting time has been relegated to a different notebook, and now this notebook imports the clean data directly from an HDF5 file."
   ]
  },
  {
   "cell_type": "code",
   "execution_count": 3,
   "metadata": {},
   "outputs": [],
   "source": [
    "run_label = '2020_11_09' ## Change this to look at different runs\n",
    "hdf_name = '{}_clean_data.h5'.format(run_label)"
   ]
  },
  {
   "cell_type": "code",
   "execution_count": 4,
   "metadata": {},
   "outputs": [],
   "source": [
    "gases = ['H2', 'H2O', 'N2', 'O2', 'CO2']\n",
    "gas_tables = [] # appendable list of gas data tables from HDF5\n",
    "\n",
    "for gas in gases:\n",
    "    gas_tables.append(pd.read_hdf(hdf_name, key=gas))"
   ]
  },
  {
   "cell_type": "markdown",
   "metadata": {},
   "source": [
    "### Curve Fitting\n",
    "$$p(t,T) = A\\cdot \\exp\\left(-\\frac{b}{T}\\right)\\cdot\\exp\\left(-c\\cdot t\\cdot \\exp\\left(-\\frac{b}{T}\\right)\\right)$$"
   ]
  },
  {
   "cell_type": "code",
   "execution_count": 5,
   "metadata": {},
   "outputs": [],
   "source": [
    "def pressure_fit(tT, A, b, c):\n",
    "    # (k,M) array if there are k predictors\n",
    "    factor = np.exp(-1.0*b/tT[1])\n",
    "    return A * factor * np.exp(-1.0*c*tT[0]*factor)"
   ]
  },
  {
   "cell_type": "code",
   "execution_count": 6,
   "metadata": {},
   "outputs": [],
   "source": [
    "#O2_jump1 = O2_final_data[O2_final_data['Datetime'].between(51000, 65000)]"
   ]
  },
  {
   "cell_type": "code",
   "execution_count": 7,
   "metadata": {},
   "outputs": [],
   "source": [
    "jump_bounds = [[51000, 64600],[64400, 89500],[90000, 110200],[110200, 150000]]\n",
    "init_params = [7, 5900, 800]"
   ]
  },
  {
   "cell_type": "code",
   "execution_count": 8,
   "metadata": {},
   "outputs": [],
   "source": [
    "def jump_analysis(data_table, bounds, params):\n",
    "    \"\"\"Output the time, pressure data, and fit values for one CO2 jump defined\n",
    "    by the bounds.\n",
    "    \n",
    "    Arguments\n",
    "    bounds: a two-element list of [lower bound, upper bound]\n",
    "    params: a three-element list of [A, b, c] from the pressure_fit function\"\"\"\n",
    "\n",
    "    jump_table = data_table[data_table['exp_time'].between(bounds[0], bounds[1])]\n",
    "    jump_time_start = jump_table['exp_time'].unique()[0]\n",
    "    jump_table['jump_time'] = jump_table['exp_time'] - jump_time_start\n",
    "    time_temp_vals = jump_table[['jump_time', 'temp_est']].T.to_numpy()\n",
    "    fit_jump = jump_table['pressure'].to_numpy()\n",
    "    popt, pcov = spo.curve_fit(pressure_fit, time_temp_vals, fit_jump, p0=params, maxfev=100000)\n",
    "    jump_fits = pressure_fit(time_temp_vals, popt[0], popt[1], popt[2])\n",
    "    \n",
    "    return jump_table['exp_time'], jump_table['CO2_Pressure'], jump_fits, popt, pcov, time_temp_vals"
   ]
  },
  {
   "cell_type": "code",
   "execution_count": 9,
   "metadata": {},
   "outputs": [],
   "source": [
    "def alt_jump_analysis(data_table, bounds, params):\n",
    "    \"\"\"Output the time, pressure data, and fit values for one CO2 jump defined\n",
    "    by the bounds.\n",
    "    \n",
    "    Arguments\n",
    "    bounds: a two-element list of [lower bound, upper bound]\n",
    "    params: a three-element list of [A, b, c] from the pressure_fit function\"\"\"\n",
    "\n",
    "    jump_table = data_table[data_table['exp_time'].between(bounds[0], bounds[1])]\n",
    "    jump_time_start = jump_table['exp_time'].unique()[0]\n",
    "    jump_table['jump_time'] = jump_table['exp_time'] - jump_time_start\n",
    "    time_temp_vals = jump_table[['jump_time', 'ch1_lerp']].T.to_numpy()\n",
    "    fit_jump = jump_table['pressure'].to_numpy()\n",
    "    popt, pcov = spo.curve_fit(pressure_fit, time_temp_vals, fit_jump, p0=params, maxfev=100000)\n",
    "    jump_fits = pressure_fit(time_temp_vals, popt[0], popt[1], popt[2])\n",
    "    \n",
    "    return jump_table['exp_time'], jump_table['pressure'], jump_fits, popt, pcov, time_temp_vals"
   ]
  },
  {
   "cell_type": "code",
   "execution_count": 10,
   "metadata": {},
   "outputs": [
    {
     "data": {
      "text/plain": [
       "64400"
      ]
     },
     "execution_count": 10,
     "metadata": {},
     "output_type": "execute_result"
    }
   ],
   "source": [
    "jump_bounds[1][0]"
   ]
  },
  {
   "cell_type": "code",
   "execution_count": 11,
   "metadata": {},
   "outputs": [],
   "source": [
    "def fitting_scan(data_table, bounds, Ea_range, D_range, num_values):\n",
    "    \n",
    "    Ea_vals = np.linspace(Ea_range[0], Ea_range[1], num=num_values)\n",
    "    D_vals = np.linspace(D_range[0], D_range[1], num=num_values)\n",
    "    #Ea_D_array = np.transpose([np.tile(Ea_vals, len(D_vals)), np.repeat(D_vals, len(Ea_vals))])\n",
    "    \n",
    "    gas_ssq = np.zeros((Ea_vals.shape[0], D_vals.shape[0]))\n",
    "    \n",
    "    for idx, jump_bound in enumerate(bounds):\n",
    "        jump_table = data_table[data_table['exp_time'].between(jump_bound[0], jump_bound[1])]\n",
    "        jump_time_start = jump_table['exp_time'].unique()[0]\n",
    "        jump_table['jump_time'] = jump_table['exp_time'] - jump_time_start\n",
    "        time_temp_vals = jump_table[['jump_time', 'ch1_lerp']].T.to_numpy()\n",
    "        fit_jump = jump_table['pressure'].to_numpy()\n",
    "        for x, Ea in enumerate(Ea_vals):\n",
    "            for y, D in enumerate(D_vals):\n",
    "                popt, pcov = spo.curve_fit(lambda tT, A: pressure_fit(tT, A, Ea, D),\n",
    "                                       time_temp_vals, fit_jump, p0=[7], maxfev=100000)\n",
    "                jump_fits = pressure_fit(time_temp_vals, popt[0], Ea, D)\n",
    "                resids = jump_fits - fit_jump\n",
    "                resids = resids\n",
    "                ssq = np.dot(resids, resids)/(7.5e-10**2)\n",
    "                gas_ssq[x, y] += ssq\n",
    "    \n",
    "    return Ea_vals, D_vals, gas_ssq"
   ]
  },
  {
   "cell_type": "code",
   "execution_count": 12,
   "metadata": {},
   "outputs": [],
   "source": [
    "%%capture\n",
    "Ea_range = [1.85e+03, 1.92e+03]\n",
    "D_range = [5.3e-03, 5.4e-03]\n",
    "CO2_Ea, CO2_D, CO2_ssq = fitting_scan(gas_tables[4], jump_bounds, Ea_range, D_range, num_values=75)"
   ]
  },
  {
   "cell_type": "code",
   "execution_count": 13,
   "metadata": {},
   "outputs": [],
   "source": [
    "%%capture\n",
    "Ea_range = [5000, 7000]\n",
    "D_range = [0, 1]\n",
    "O2_Ea, O2_D, O2_ssq = fitting_scan(gas_tables[3], jump_bounds, Ea_range, D_range, num_values=75)"
   ]
  },
  {
   "cell_type": "code",
   "execution_count": 14,
   "metadata": {},
   "outputs": [
    {
     "data": {
      "text/html": [
       "<div>\n",
       "<style scoped>\n",
       "    .dataframe tbody tr th:only-of-type {\n",
       "        vertical-align: middle;\n",
       "    }\n",
       "\n",
       "    .dataframe tbody tr th {\n",
       "        vertical-align: top;\n",
       "    }\n",
       "\n",
       "    .dataframe thead th {\n",
       "        text-align: right;\n",
       "    }\n",
       "</style>\n",
       "<table border=\"1\" class=\"dataframe\">\n",
       "  <thead>\n",
       "    <tr style=\"text-align: right;\">\n",
       "      <th></th>\n",
       "      <th>0</th>\n",
       "      <th>1</th>\n",
       "      <th>2</th>\n",
       "      <th>3</th>\n",
       "      <th>4</th>\n",
       "      <th>5</th>\n",
       "      <th>6</th>\n",
       "      <th>7</th>\n",
       "      <th>8</th>\n",
       "      <th>9</th>\n",
       "      <th>...</th>\n",
       "      <th>65</th>\n",
       "      <th>66</th>\n",
       "      <th>67</th>\n",
       "      <th>68</th>\n",
       "      <th>69</th>\n",
       "      <th>70</th>\n",
       "      <th>71</th>\n",
       "      <th>72</th>\n",
       "      <th>73</th>\n",
       "      <th>74</th>\n",
       "    </tr>\n",
       "  </thead>\n",
       "  <tbody>\n",
       "    <tr>\n",
       "      <th>0</th>\n",
       "      <td>73993.775506</td>\n",
       "      <td>74096.133925</td>\n",
       "      <td>74198.611045</td>\n",
       "      <td>74301.206859</td>\n",
       "      <td>74403.921357</td>\n",
       "      <td>74506.754531</td>\n",
       "      <td>74609.706371</td>\n",
       "      <td>74712.776870</td>\n",
       "      <td>74815.966017</td>\n",
       "      <td>74919.273805</td>\n",
       "      <td>...</td>\n",
       "      <td>80893.588108</td>\n",
       "      <td>81003.643808</td>\n",
       "      <td>81113.817634</td>\n",
       "      <td>81224.109579</td>\n",
       "      <td>81334.519632</td>\n",
       "      <td>81445.047786</td>\n",
       "      <td>81555.694030</td>\n",
       "      <td>81666.458357</td>\n",
       "      <td>81777.340757</td>\n",
       "      <td>81888.341220</td>\n",
       "    </tr>\n",
       "    <tr>\n",
       "      <th>1</th>\n",
       "      <td>72801.458316</td>\n",
       "      <td>72902.130855</td>\n",
       "      <td>73002.921503</td>\n",
       "      <td>73103.830250</td>\n",
       "      <td>73204.857087</td>\n",
       "      <td>73306.002007</td>\n",
       "      <td>73407.265000</td>\n",
       "      <td>73508.646058</td>\n",
       "      <td>73610.145172</td>\n",
       "      <td>73711.762333</td>\n",
       "      <td>...</td>\n",
       "      <td>79590.458476</td>\n",
       "      <td>79698.789928</td>\n",
       "      <td>79807.238921</td>\n",
       "      <td>79915.805445</td>\n",
       "      <td>80024.489492</td>\n",
       "      <td>80133.291052</td>\n",
       "      <td>80242.210117</td>\n",
       "      <td>80351.246677</td>\n",
       "      <td>80460.400725</td>\n",
       "      <td>80569.672252</td>\n",
       "    </tr>\n",
       "    <tr>\n",
       "      <th>2</th>\n",
       "      <td>71628.815761</td>\n",
       "      <td>71727.814247</td>\n",
       "      <td>71826.930248</td>\n",
       "      <td>71926.163758</td>\n",
       "      <td>72025.514767</td>\n",
       "      <td>72124.983267</td>\n",
       "      <td>72224.569250</td>\n",
       "      <td>72324.272706</td>\n",
       "      <td>72424.093627</td>\n",
       "      <td>72524.032005</td>\n",
       "      <td>...</td>\n",
       "      <td>78307.776741</td>\n",
       "      <td>78414.395915</td>\n",
       "      <td>78521.132045</td>\n",
       "      <td>78627.985121</td>\n",
       "      <td>78734.955136</td>\n",
       "      <td>78842.042080</td>\n",
       "      <td>78949.245945</td>\n",
       "      <td>79056.566721</td>\n",
       "      <td>79164.004401</td>\n",
       "      <td>79271.558976</td>\n",
       "    </tr>\n",
       "    <tr>\n",
       "      <th>3</th>\n",
       "      <td>70475.711119</td>\n",
       "      <td>70573.047315</td>\n",
       "      <td>70670.500438</td>\n",
       "      <td>70768.070480</td>\n",
       "      <td>70865.757432</td>\n",
       "      <td>70963.561286</td>\n",
       "      <td>71061.482033</td>\n",
       "      <td>71159.519666</td>\n",
       "      <td>71257.674175</td>\n",
       "      <td>71355.945552</td>\n",
       "      <td>...</td>\n",
       "      <td>77045.402232</td>\n",
       "      <td>77150.321036</td>\n",
       "      <td>77255.356212</td>\n",
       "      <td>77360.507753</td>\n",
       "      <td>77465.775650</td>\n",
       "      <td>77571.159895</td>\n",
       "      <td>77676.660478</td>\n",
       "      <td>77782.277392</td>\n",
       "      <td>77888.010627</td>\n",
       "      <td>77993.860175</td>\n",
       "    </tr>\n",
       "    <tr>\n",
       "      <th>4</th>\n",
       "      <td>69342.008371</td>\n",
       "      <td>69437.693981</td>\n",
       "      <td>69533.495931</td>\n",
       "      <td>69629.414213</td>\n",
       "      <td>69725.448819</td>\n",
       "      <td>69821.599740</td>\n",
       "      <td>69917.866968</td>\n",
       "      <td>70014.250494</td>\n",
       "      <td>70110.750311</td>\n",
       "      <td>70207.366409</td>\n",
       "      <td>...</td>\n",
       "      <td>75803.194992</td>\n",
       "      <td>75906.425272</td>\n",
       "      <td>76009.771345</td>\n",
       "      <td>76113.233202</td>\n",
       "      <td>76216.810836</td>\n",
       "      <td>76320.504237</td>\n",
       "      <td>76424.313397</td>\n",
       "      <td>76528.238308</td>\n",
       "      <td>76632.278961</td>\n",
       "      <td>76736.435347</td>\n",
       "    </tr>\n",
       "    <tr>\n",
       "      <th>...</th>\n",
       "      <td>...</td>\n",
       "      <td>...</td>\n",
       "      <td>...</td>\n",
       "      <td>...</td>\n",
       "      <td>...</td>\n",
       "      <td>...</td>\n",
       "      <td>...</td>\n",
       "      <td>...</td>\n",
       "      <td>...</td>\n",
       "      <td>...</td>\n",
       "      <td>...</td>\n",
       "      <td>...</td>\n",
       "      <td>...</td>\n",
       "      <td>...</td>\n",
       "      <td>...</td>\n",
       "      <td>...</td>\n",
       "      <td>...</td>\n",
       "      <td>...</td>\n",
       "      <td>...</td>\n",
       "      <td>...</td>\n",
       "      <td>...</td>\n",
       "    </tr>\n",
       "    <tr>\n",
       "      <th>70</th>\n",
       "      <td>31179.978631</td>\n",
       "      <td>31189.728232</td>\n",
       "      <td>31199.560307</td>\n",
       "      <td>31209.474854</td>\n",
       "      <td>31219.471868</td>\n",
       "      <td>31229.551346</td>\n",
       "      <td>31239.713285</td>\n",
       "      <td>31249.957681</td>\n",
       "      <td>31260.284530</td>\n",
       "      <td>31270.693830</td>\n",
       "      <td>...</td>\n",
       "      <td>31985.096038</td>\n",
       "      <td>32000.199145</td>\n",
       "      <td>32015.384496</td>\n",
       "      <td>32030.652087</td>\n",
       "      <td>32046.001915</td>\n",
       "      <td>32061.433977</td>\n",
       "      <td>32076.948268</td>\n",
       "      <td>32092.544785</td>\n",
       "      <td>32108.223524</td>\n",
       "      <td>32123.984483</td>\n",
       "    </tr>\n",
       "    <tr>\n",
       "      <th>71</th>\n",
       "      <td>31071.180637</td>\n",
       "      <td>31079.935694</td>\n",
       "      <td>31088.772784</td>\n",
       "      <td>31097.691904</td>\n",
       "      <td>31106.693050</td>\n",
       "      <td>31115.776218</td>\n",
       "      <td>31124.941406</td>\n",
       "      <td>31134.188610</td>\n",
       "      <td>31143.517826</td>\n",
       "      <td>31152.929050</td>\n",
       "      <td>...</td>\n",
       "      <td>31810.736305</td>\n",
       "      <td>31824.816265</td>\n",
       "      <td>31838.978031</td>\n",
       "      <td>31853.221599</td>\n",
       "      <td>31867.546966</td>\n",
       "      <td>31881.954127</td>\n",
       "      <td>31896.443080</td>\n",
       "      <td>31911.013820</td>\n",
       "      <td>31925.666345</td>\n",
       "      <td>31940.400651</td>\n",
       "    </tr>\n",
       "    <tr>\n",
       "      <th>72</th>\n",
       "      <td>30974.063674</td>\n",
       "      <td>30981.832221</td>\n",
       "      <td>30989.682361</td>\n",
       "      <td>30997.614092</td>\n",
       "      <td>31005.627409</td>\n",
       "      <td>31013.722309</td>\n",
       "      <td>31021.898789</td>\n",
       "      <td>31030.156846</td>\n",
       "      <td>31038.496476</td>\n",
       "      <td>31046.917675</td>\n",
       "      <td>...</td>\n",
       "      <td>31648.583982</td>\n",
       "      <td>31661.648960</td>\n",
       "      <td>31674.795308</td>\n",
       "      <td>31688.023021</td>\n",
       "      <td>31701.332096</td>\n",
       "      <td>31714.722530</td>\n",
       "      <td>31728.194319</td>\n",
       "      <td>31741.747459</td>\n",
       "      <td>31755.381948</td>\n",
       "      <td>31769.097781</td>\n",
       "    </tr>\n",
       "    <tr>\n",
       "      <th>73</th>\n",
       "      <td>30888.534829</td>\n",
       "      <td>30895.324852</td>\n",
       "      <td>30902.196031</td>\n",
       "      <td>30909.148362</td>\n",
       "      <td>30916.181843</td>\n",
       "      <td>30923.296470</td>\n",
       "      <td>30930.492239</td>\n",
       "      <td>30937.769147</td>\n",
       "      <td>30945.127191</td>\n",
       "      <td>30952.566368</td>\n",
       "      <td>...</td>\n",
       "      <td>31498.543084</td>\n",
       "      <td>31510.601198</td>\n",
       "      <td>31522.740246</td>\n",
       "      <td>31534.960225</td>\n",
       "      <td>31547.261132</td>\n",
       "      <td>31559.642963</td>\n",
       "      <td>31572.105715</td>\n",
       "      <td>31584.649385</td>\n",
       "      <td>31597.273968</td>\n",
       "      <td>31609.979462</td>\n",
       "    </tr>\n",
       "    <tr>\n",
       "      <th>74</th>\n",
       "      <td>30814.501733</td>\n",
       "      <td>30820.321171</td>\n",
       "      <td>30826.221330</td>\n",
       "      <td>30832.202206</td>\n",
       "      <td>30838.263796</td>\n",
       "      <td>30844.406096</td>\n",
       "      <td>30850.629104</td>\n",
       "      <td>30856.932815</td>\n",
       "      <td>30863.317227</td>\n",
       "      <td>30869.782336</td>\n",
       "      <td>...</td>\n",
       "      <td>31360.518183</td>\n",
       "      <td>31371.577501</td>\n",
       "      <td>31382.717322</td>\n",
       "      <td>31393.937641</td>\n",
       "      <td>31405.238455</td>\n",
       "      <td>31416.619762</td>\n",
       "      <td>31428.081557</td>\n",
       "      <td>31439.623837</td>\n",
       "      <td>31451.246599</td>\n",
       "      <td>31462.949839</td>\n",
       "    </tr>\n",
       "  </tbody>\n",
       "</table>\n",
       "<p>75 rows × 75 columns</p>\n",
       "</div>"
      ],
      "text/plain": [
       "              0             1             2             3             4   \\\n",
       "0   73993.775506  74096.133925  74198.611045  74301.206859  74403.921357   \n",
       "1   72801.458316  72902.130855  73002.921503  73103.830250  73204.857087   \n",
       "2   71628.815761  71727.814247  71826.930248  71926.163758  72025.514767   \n",
       "3   70475.711119  70573.047315  70670.500438  70768.070480  70865.757432   \n",
       "4   69342.008371  69437.693981  69533.495931  69629.414213  69725.448819   \n",
       "..           ...           ...           ...           ...           ...   \n",
       "70  31179.978631  31189.728232  31199.560307  31209.474854  31219.471868   \n",
       "71  31071.180637  31079.935694  31088.772784  31097.691904  31106.693050   \n",
       "72  30974.063674  30981.832221  30989.682361  30997.614092  31005.627409   \n",
       "73  30888.534829  30895.324852  30902.196031  30909.148362  30916.181843   \n",
       "74  30814.501733  30820.321171  30826.221330  30832.202206  30838.263796   \n",
       "\n",
       "              5             6             7             8             9   ...  \\\n",
       "0   74506.754531  74609.706371  74712.776870  74815.966017  74919.273805  ...   \n",
       "1   73306.002007  73407.265000  73508.646058  73610.145172  73711.762333  ...   \n",
       "2   72124.983267  72224.569250  72324.272706  72424.093627  72524.032005  ...   \n",
       "3   70963.561286  71061.482033  71159.519666  71257.674175  71355.945552  ...   \n",
       "4   69821.599740  69917.866968  70014.250494  70110.750311  70207.366409  ...   \n",
       "..           ...           ...           ...           ...           ...  ...   \n",
       "70  31229.551346  31239.713285  31249.957681  31260.284530  31270.693830  ...   \n",
       "71  31115.776218  31124.941406  31134.188610  31143.517826  31152.929050  ...   \n",
       "72  31013.722309  31021.898789  31030.156846  31038.496476  31046.917675  ...   \n",
       "73  30923.296470  30930.492239  30937.769147  30945.127191  30952.566368  ...   \n",
       "74  30844.406096  30850.629104  30856.932815  30863.317227  30869.782336  ...   \n",
       "\n",
       "              65            66            67            68            69  \\\n",
       "0   80893.588108  81003.643808  81113.817634  81224.109579  81334.519632   \n",
       "1   79590.458476  79698.789928  79807.238921  79915.805445  80024.489492   \n",
       "2   78307.776741  78414.395915  78521.132045  78627.985121  78734.955136   \n",
       "3   77045.402232  77150.321036  77255.356212  77360.507753  77465.775650   \n",
       "4   75803.194992  75906.425272  76009.771345  76113.233202  76216.810836   \n",
       "..           ...           ...           ...           ...           ...   \n",
       "70  31985.096038  32000.199145  32015.384496  32030.652087  32046.001915   \n",
       "71  31810.736305  31824.816265  31838.978031  31853.221599  31867.546966   \n",
       "72  31648.583982  31661.648960  31674.795308  31688.023021  31701.332096   \n",
       "73  31498.543084  31510.601198  31522.740246  31534.960225  31547.261132   \n",
       "74  31360.518183  31371.577501  31382.717322  31393.937641  31405.238455   \n",
       "\n",
       "              70            71            72            73            74  \n",
       "0   81445.047786  81555.694030  81666.458357  81777.340757  81888.341220  \n",
       "1   80133.291052  80242.210117  80351.246677  80460.400725  80569.672252  \n",
       "2   78842.042080  78949.245945  79056.566721  79164.004401  79271.558976  \n",
       "3   77571.159895  77676.660478  77782.277392  77888.010627  77993.860175  \n",
       "4   76320.504237  76424.313397  76528.238308  76632.278961  76736.435347  \n",
       "..           ...           ...           ...           ...           ...  \n",
       "70  32061.433977  32076.948268  32092.544785  32108.223524  32123.984483  \n",
       "71  31881.954127  31896.443080  31911.013820  31925.666345  31940.400651  \n",
       "72  31714.722530  31728.194319  31741.747459  31755.381948  31769.097781  \n",
       "73  31559.642963  31572.105715  31584.649385  31597.273968  31609.979462  \n",
       "74  31416.619762  31428.081557  31439.623837  31451.246599  31462.949839  \n",
       "\n",
       "[75 rows x 75 columns]"
      ]
     },
     "execution_count": 14,
     "metadata": {},
     "output_type": "execute_result"
    }
   ],
   "source": [
    "pd.DataFrame(data=CO2_ssq)"
   ]
  },
  {
   "cell_type": "code",
   "execution_count": 15,
   "metadata": {},
   "outputs": [],
   "source": [
    "CO2_min_index = np.unravel_index(np.argmin(CO2_ssq), CO2_ssq.shape)\n",
    "CO2_best_Ea = CO2_Ea[CO2_min_index[0]]\n",
    "CO2_best_D = CO2_D[CO2_min_index[1]]"
   ]
  },
  {
   "cell_type": "code",
   "execution_count": 16,
   "metadata": {},
   "outputs": [
    {
     "data": {
      "text/plain": [
       "0.0053"
      ]
     },
     "execution_count": 16,
     "metadata": {},
     "output_type": "execute_result"
    }
   ],
   "source": [
    "CO2_best_D"
   ]
  },
  {
   "cell_type": "code",
   "execution_count": 26,
   "metadata": {},
   "outputs": [
    {
     "data": {
      "image/png": "[encoded data removed]",
      "text/plain": [
       "<Figure size 720x432 with 2 Axes>"
      ]
     },
     "metadata": {
      "needs_background": "light"
     },
     "output_type": "display_data"
    }
   ],
   "source": [
    "fig, ax = plt.subplots(figsize=(10,6))\n",
    "CO2_heat = ax.pcolormesh(CO2_D, CO2_Ea, CO2_ssq, cmap='viridis', shading='gouraud')\n",
    "ax.set_title('$CO_2$ Scan')\n",
    "ax.set_ylabel('$E_a$ [$K$]')\n",
    "ax.set_xlabel('$D_0$ [$s^{-1}$]')\n",
    "plt.colorbar(CO2_heat)\n",
    "\n",
    "#O2_heat = ax[1].pcolormesh(np.log(O2_ssq), cmap='viridis', shading='gouraud')\n",
    "#ax[1].set_title('$O_2$ Scan')\n",
    "#ax[1].set_ylabel('$E_a$')\n",
    "#ax[1].set_xlabel('$D_0$')\n",
    "\n",
    "fig.savefig('images/co2_scan_2020_11_09.png', dpi=144)\n",
    "plt.show()"
   ]
  },
  {
   "cell_type": "code",
   "execution_count": 23,
   "metadata": {},
   "outputs": [],
   "source": [
    "%%capture\n",
    "alt_jump_outs = []\n",
    "# Warnings incoming. Not a problem\n",
    "for idx, gas in enumerate(gases):\n",
    "    gas_jumps = []\n",
    "    for listed_jump in jump_bounds:\n",
    "        gas_jump_out = alt_jump_analysis(gas_tables[idx], listed_jump, init_params)\n",
    "        gas_jumps.append(gas_jump_out)\n",
    "    alt_jump_outs.append(gas_jumps)"
   ]
  },
  {
   "cell_type": "markdown",
   "metadata": {},
   "source": [
    "The code from the above cell creates a 3-layer nested list.\n",
    "- First index: which gas\n",
    "- Second index: which jump\n",
    "- Third index: times, pressures, fit pressures, fitted parameter values, covariance matrix, time-and-temperature table"
   ]
  },
  {
   "cell_type": "code",
   "execution_count": 24,
   "metadata": {},
   "outputs": [
    {
     "data": {
      "text/plain": [
       "array([6.86386181e-05, 1.89812147e+03, 5.34528993e-03])"
      ]
     },
     "execution_count": 24,
     "metadata": {},
     "output_type": "execute_result"
    }
   ],
   "source": [
    "# Sample output: the popt values from CO2 jump 1\n",
    "alt_jump_outs[4][0][3]"
   ]
  },
  {
   "cell_type": "markdown",
   "metadata": {},
   "source": [
    "### Plotting"
   ]
  },
  {
   "cell_type": "code",
   "execution_count": null,
   "metadata": {},
   "outputs": [],
   "source": [
    "CO2_Ea_vals = np.array([alt_jump_outs[4][0][3][1], alt_jump_outs[4][1][3][1], alt_jump_outs[4][2][3][1], alt_jump_outs[4][3][3][1]])\n",
    "CO2_Ea_errs = np.array([alt_jump_outs[4][0][4][1][1], alt_jump_outs[4][1][4][1][1], alt_jump_outs[4][2][4][1][1], alt_jump_outs[4][3][4][1][1]])\n",
    "CO2_D_vals = np.array([alt_jump_outs[4][0][3][2], alt_jump_outs[4][1][3][2], alt_jump_outs[4][2][3][2], alt_jump_outs[4][3][3][2]])\n",
    "CO2_D_errs = np.array([alt_jump_outs[4][0][4][2][2], alt_jump_outs[4][1][4][2][2], alt_jump_outs[4][2][4][2][2], alt_jump_outs[4][3][4][2][2]])\n",
    "\n",
    "k_B = 8.617e-5 # Boltzmann constant in eV/K\n",
    "\n",
    "fig, ax = plt.subplots(figsize=(10,6))\n",
    "ax.errorbar(CO2_D_vals, CO2_Ea_vals*k_B, yerr=CO2_Ea_errs*k_B, xerr=CO2_D_errs, fmt='o', color='navy')\n",
    "ax.scatter(CO2_best_D, CO2_best_Ea*k_B, color='red')\n",
    "\n",
    "ax.set_title('CO2 Measured Activation Energies by Jump')\n",
    "ax.set_xlabel('$c$ $\\\\left[s^{-1}\\\\right]$')\n",
    "ax.set_ylabel('Activation Energy [eV]')\n",
    "ax.set_xscale('log')\n",
    "\n",
    "fig.savefig('images/co2_Ea_vals_2020_11_09.png', dpi=144)\n",
    "plt.show()"
   ]
  },
  {
   "cell_type": "code",
   "execution_count": null,
   "metadata": {},
   "outputs": [],
   "source": [
    "fig, ax = plt.subplots(figsize=(10,6))\n",
    "for i in range(4):\n",
    "    ax.scatter(alt_jump_outs[4][i][0]/3600, alt_jump_outs[4][i][1], marker='.')\n",
    "    ax.plot(alt_jump_outs[4][i][0]/3600, alt_jump_outs[4][i][2], color='black')\n",
    "\n",
    "#for idx, guess in enumerate(CO2_Ea_guesses):\n",
    "#    ax.plot(CO2_jump4_alt[0]/3600, CO2_jump4_guessfits[idx], label='Ea = {}'.format(guess))\n",
    "ax.set_ylabel('Partial Pressure [torr]')\n",
    "ax.set_xlabel('Experiment Time [hours]')\n",
    "ax.set_title('$CO_2$ Jumps Plot and Fit')\n",
    "#ax.legend()\n",
    "ax.set_yscale('log')\n",
    "fig.savefig('images/co2_all_fits_2020_11_09.png', dpi=144)\n",
    "\n",
    "plt.show()"
   ]
  },
  {
   "cell_type": "code",
   "execution_count": null,
   "metadata": {},
   "outputs": [],
   "source": [
    "fig, ax = plt.subplots(figsize=(10,6))\n",
    "for i in range(len(jump_bounds)):\n",
    "    ax.scatter(alt_jump_outs[3][i][0]/3600, alt_jump_outs[3][i][1], marker='.')\n",
    "    ax.plot(alt_jump_outs[3][i][0]/3600, alt_jump_outs[3][i][2], color='black')\n",
    "\n",
    "#for idx, guess in enumerate(CO2_Ea_guesses):\n",
    "#    ax.plot(CO2_jump4_alt[0]/3600, CO2_jump4_guessfits[idx], label='Ea = {}'.format(guess))\n",
    "ax.set_ylabel('Partial Pressure [torr]')\n",
    "ax.set_xlabel('Experiment Time [hours]')\n",
    "ax.set_title('$O_2$ Jumps Plot and Fit')\n",
    "#ax.legend()\n",
    "ax.set_yscale('log')\n",
    "fig.savefig('images/o2_all_fits_2020_11_09.png', dpi=144)\n",
    "\n",
    "plt.show()"
   ]
  },
  {
   "cell_type": "code",
   "execution_count": null,
   "metadata": {},
   "outputs": [],
   "source": [
    "fig, ax1 = plt.subplots(figsize=(10,6))\n",
    "ax1.scatter(alt_jump_outs[4][3][0]/3600, alt_jump_outs[4][3][1], marker='.', color='blue', label='RGA Output')\n",
    "ax1.plot(alt_jump_outs[4][3][0]/3600, alt_jump_outs[4][3][2], color='red', label='RGA Fit')\n",
    "\n",
    "ax1.set_title('Jump 4 RGA Output (Fit to Top Channel)')\n",
    "ax1.set_xlabel('Experiment Time [hours]')\n",
    "ax1.set_ylabel('Pressure [torr]')\n",
    "#ax1.set_yscale('log')\n",
    "\n",
    "plt.savefig('images/co2_4_alt_2020_11_09.png', dpi=144)\n",
    "\n",
    "plt.show()"
   ]
  },
  {
   "cell_type": "code",
   "execution_count": null,
   "metadata": {},
   "outputs": [],
   "source": [
    "jump4_temps = gas_tables[4][gas_tables[4]['exp_time'].between(jump_bounds[3][0], jump_bounds[3][1])][['ch1_lerp', 'ch2_lerp', 'mean_temp']]\n",
    "\n",
    "fig, ax1 = plt.subplots(figsize=(10,6))\n",
    "ax1.scatter(alt_jump_outs[4][3][0]/3600, alt_jump_outs[4][3][1], marker='.', color='black', label='RGA Output')\n",
    "ax1.plot(alt_jump_outs[4][3][0]/3600, alt_jump_outs[4][3][2], color='red', label='RGA Fit')\n",
    "\n",
    "ax2 = ax1.twinx()\n",
    "\n",
    "ax2.plot(alt_jump_outs[4][3][0]/3600, jump4_temps['ch2_lerp'], color='darkorange', label='Bottom Channel')\n",
    "ax2.plot(alt_jump_outs[4][3][0]/3600, jump4_temps['mean_temp'], color='purple', label='Two-Channel Mean')\n",
    "ax2.plot(alt_jump_outs[4][3][0]/3600, jump4_temps['ch1_lerp'], color='darkblue', label='Top Channel')\n",
    "\n",
    "ax1.set_title('Jump 4 RGA Output and Temperature Readings')\n",
    "ax1.set_xlabel('Experiment Time [hours]')\n",
    "ax1.set_ylabel('Pressure [torr]')\n",
    "ax1.legend(loc='right')\n",
    "\n",
    "ax2.set_ylabel('Temperature [K]')\n",
    "ax2.legend(loc='lower center')\n",
    "\n",
    "plt.savefig('images/co2_4_fit_2020_11_09.png', dpi=144)\n",
    "plt.show()"
   ]
  },
  {
   "cell_type": "code",
   "execution_count": null,
   "metadata": {},
   "outputs": [],
   "source": [
    "fig, ax = plt.subplots(figsize=(10,6))\n",
    "ax.scatter(alt_jump_outs[4][3][0]/3600, alt_jump_outs[4][3][1] - alt_jump_outs[4][3][2], marker='.', color='maroon', label='Fit from Top Channel')\n",
    "ax.set_ylabel('Partial Pressure Residual [torr]')\n",
    "ax.set_xlabel('Experiment Time [hours]')\n",
    "ax.axhline(color='k')\n",
    "ax.set_title('$CO_2$ Jump 4 Residuals')\n",
    "ax.legend()\n",
    "\n",
    "fig.savefig('images/co2_4_resid_2020_11_09.png', dpi=144)\n",
    "\n",
    "plt.show()"
   ]
  },
  {
   "cell_type": "code",
   "execution_count": null,
   "metadata": {},
   "outputs": [],
   "source": [
    "#CO2_data['Pressure'].iloc[np.array(CO2_times.between(50000,110000))]"
   ]
  },
  {
   "cell_type": "markdown",
   "metadata": {},
   "source": [
    "### Finding the Bounds of Each Jump"
   ]
  },
  {
   "cell_type": "code",
   "execution_count": null,
   "metadata": {},
   "outputs": [],
   "source": [
    "bnds = [110200, 150000]\n",
    "\n",
    "fig, ax = plt.subplots(figsize=(10,6))\n",
    "ax.scatter(gas_tables[4]['exp_time'].iloc[np.array(gas_tables[4]['exp_time'].between(bnds[0],bnds[1]))],\n",
    "           gas_tables[4]['pressure'].iloc[np.array(gas_tables[4]['exp_time'].between(bnds[0],bnds[1]))], marker='.', label='Carbon Dioxide')\n",
    "ax.set_title('RGA Output for $CO_2$')\n",
    "ax.set_xlabel('Time [s]')\n",
    "ax.set_ylabel('Partial Pressure [torr]')\n",
    "ax.legend()\n",
    "ax.set_yscale('log')\n",
    "\n",
    "plt.show()"
   ]
  },
  {
   "cell_type": "code",
   "execution_count": null,
   "metadata": {},
   "outputs": [],
   "source": [
    "fig, ax = plt.subplots(figsize=(10,6))\n",
    "\n",
    "for idx, gas in enumerate(gases):\n",
    "    ax.scatter(gas_tables[idx]['exp_time'], gas_tables[idx]['pressure'], marker='.', label=gas)\n",
    "\n",
    "ax.set_title('RGA Output for Impurities')\n",
    "ax.set_xlabel('Time')\n",
    "ax.set_ylabel('Partial Pressure (torr)')\n",
    "ax.legend()\n",
    "ax.set_yscale('log')\n",
    "\n",
    "#ax[1].plot(temp_times, pd.to_numeric(Temp['CH1']), label='Channel 1')\n",
    "#ax[1].plot(temp_times, pd.to_numeric(Temp['CH2']), label='Channel 2', color='darkorange')\n",
    "#ax[1].set_title('Temperature over Time from Top and Bottom Channels')\n",
    "#ax[1].set_xlabel('Time [sec]')\n",
    "#ax[1].set_ylabel('Temperature (C)')\n",
    "#ax[1].legend()\n",
    "\n",
    "fig.savefig('plot_out_{}.png'.format(run_label), dpi=300)\n",
    "plt.show()"
   ]
  },
  {
   "cell_type": "code",
   "execution_count": null,
   "metadata": {},
   "outputs": [],
   "source": [
    "fig, ax = plt.subplots(figsize=(10,6))\n",
    "ax.plot(gas_tables[4]['exp_time'], gas_tables[4]['ch1_lerp'], label='Interpolated CH1', color='darkblue')\n",
    "ax.plot(gas_tables[4]['exp_time'], gas_tables[4]['ch2_lerp'], label='Interpolated CH2', color='darkorange')\n",
    "ax.plot(gas_tables[4]['exp_time'], gas_tables[4]['mean_temp'], label='Average Interpolated', color='purple')\n",
    "ax.legend()\n",
    "\n",
    "plt.show()"
   ]
  },
  {
   "cell_type": "code",
   "execution_count": null,
   "metadata": {},
   "outputs": [],
   "source": [
    "#IO.RemoveZipDir()"
   ]
  },
  {
   "cell_type": "code",
   "execution_count": null,
   "metadata": {},
   "outputs": [],
   "source": []
  }
 ],
 "metadata": {
  "kernelspec": {
   "display_name": "Python 3",
   "language": "python",
   "name": "python3"
  },
  "language_info": {
   "codemirror_mode": {
    "name": "ipython",
    "version": 3
   },
   "file_extension": ".py",
   "mimetype": "text/x-python",
   "name": "python",
   "nbconvert_exporter": "python",
   "pygments_lexer": "ipython3",
   "version": "3.7.8"
  }
 },
 "nbformat": 4,
 "nbformat_minor": 4
}
