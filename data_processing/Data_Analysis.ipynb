{
 "cells": [
  {
   "cell_type": "code",
   "execution_count": 1,
   "metadata": {},
   "outputs": [],
   "source": [
    "import numpy as np\n",
    "import pandas as pd\n",
    "import matplotlib.pyplot as plt\n",
    "import os\n",
    "import datetime\n",
    "import scipy.optimize as spo\n",
    "plt.style.use('seaborn')\n",
    "\n",
    "from datetime import datetime as dt"
   ]
  },
  {
   "cell_type": "markdown",
   "metadata": {},
   "source": [
    "#### Unimportant Warnings"
   ]
  },
  {
   "cell_type": "code",
   "execution_count": 2,
   "metadata": {},
   "outputs": [],
   "source": [
    "import warnings\n",
    "warnings.simplefilter(action='ignore', category=FutureWarning)\n",
    "warnings.simplefilter(action='ignore', category=pd.errors.PerformanceWarning)"
   ]
  },
  {
   "cell_type": "markdown",
   "metadata": {},
   "source": [
    "#### Custom Files"
   ]
  },
  {
   "cell_type": "code",
   "execution_count": 3,
   "metadata": {},
   "outputs": [],
   "source": [
    "from data_io import DataIO # Custom IO file"
   ]
  },
  {
   "cell_type": "markdown",
   "metadata": {},
   "source": [
    "# Input/Output of RGA and Temperature Data"
   ]
  },
  {
   "cell_type": "code",
   "execution_count": 4,
   "metadata": {},
   "outputs": [],
   "source": [
    "Path = \"/home/ael59/project/run_data/2020_11_09/\" # data file path"
   ]
  },
  {
   "cell_type": "code",
   "execution_count": 5,
   "metadata": {},
   "outputs": [],
   "source": [
    "IO = DataIO(Path)"
   ]
  },
  {
   "cell_type": "code",
   "execution_count": 6,
   "metadata": {},
   "outputs": [],
   "source": [
    "IO.Unzip()"
   ]
  },
  {
   "cell_type": "code",
   "execution_count": 7,
   "metadata": {},
   "outputs": [],
   "source": [
    "RGA_Data = IO.GetRGAData()"
   ]
  },
  {
   "cell_type": "code",
   "execution_count": 8,
   "metadata": {},
   "outputs": [],
   "source": [
    "Temp = IO.GetTemperatureData()"
   ]
  },
  {
   "cell_type": "code",
   "execution_count": 9,
   "metadata": {},
   "outputs": [],
   "source": [
    "#data.to_hdf(p+\"10_19_rga_2020.h5\", key='data')"
   ]
  },
  {
   "cell_type": "code",
   "execution_count": 10,
   "metadata": {},
   "outputs": [
    {
     "data": {
      "text/html": [
       "<div>\n",
       "<style scoped>\n",
       "    .dataframe tbody tr th:only-of-type {\n",
       "        vertical-align: middle;\n",
       "    }\n",
       "\n",
       "    .dataframe tbody tr th {\n",
       "        vertical-align: top;\n",
       "    }\n",
       "\n",
       "    .dataframe thead th {\n",
       "        text-align: right;\n",
       "    }\n",
       "</style>\n",
       "<table border=\"1\" class=\"dataframe\">\n",
       "  <thead>\n",
       "    <tr style=\"text-align: right;\">\n",
       "      <th></th>\n",
       "      <th>Datetime</th>\n",
       "      <th>Mass</th>\n",
       "      <th>Pressure</th>\n",
       "    </tr>\n",
       "  </thead>\n",
       "  <tbody>\n",
       "    <tr>\n",
       "      <th>1244696</th>\n",
       "      <td>2020-11-09 16:59:53</td>\n",
       "      <td>1.0</td>\n",
       "      <td>1.930000e-09</td>\n",
       "    </tr>\n",
       "    <tr>\n",
       "      <th>1244697</th>\n",
       "      <td>2020-11-09 16:59:53</td>\n",
       "      <td>1.1</td>\n",
       "      <td>3.310000e-09</td>\n",
       "    </tr>\n",
       "    <tr>\n",
       "      <th>1244698</th>\n",
       "      <td>2020-11-09 16:59:53</td>\n",
       "      <td>1.2</td>\n",
       "      <td>6.480000e-08</td>\n",
       "    </tr>\n",
       "    <tr>\n",
       "      <th>1244699</th>\n",
       "      <td>2020-11-09 16:59:53</td>\n",
       "      <td>1.3</td>\n",
       "      <td>2.310000e-07</td>\n",
       "    </tr>\n",
       "    <tr>\n",
       "      <th>1244700</th>\n",
       "      <td>2020-11-09 16:59:53</td>\n",
       "      <td>1.4</td>\n",
       "      <td>4.750000e-08</td>\n",
       "    </tr>\n",
       "    <tr>\n",
       "      <th>...</th>\n",
       "      <td>...</td>\n",
       "      <td>...</td>\n",
       "      <td>...</td>\n",
       "    </tr>\n",
       "    <tr>\n",
       "      <th>3372368</th>\n",
       "      <td>2020-11-12 09:05:49</td>\n",
       "      <td>99.6</td>\n",
       "      <td>-1.820000e-10</td>\n",
       "    </tr>\n",
       "    <tr>\n",
       "      <th>3372369</th>\n",
       "      <td>2020-11-12 09:05:49</td>\n",
       "      <td>99.7</td>\n",
       "      <td>-1.330000e-10</td>\n",
       "    </tr>\n",
       "    <tr>\n",
       "      <th>3372370</th>\n",
       "      <td>2020-11-12 09:05:49</td>\n",
       "      <td>99.8</td>\n",
       "      <td>-8.180000e-11</td>\n",
       "    </tr>\n",
       "    <tr>\n",
       "      <th>3372371</th>\n",
       "      <td>2020-11-12 09:05:49</td>\n",
       "      <td>99.9</td>\n",
       "      <td>-4.670000e-11</td>\n",
       "    </tr>\n",
       "    <tr>\n",
       "      <th>3372372</th>\n",
       "      <td>2020-11-12 09:05:49</td>\n",
       "      <td>100.0</td>\n",
       "      <td>-3.160000e-11</td>\n",
       "    </tr>\n",
       "  </tbody>\n",
       "</table>\n",
       "<p>5517888 rows × 3 columns</p>\n",
       "</div>"
      ],
      "text/plain": [
       "                   Datetime   Mass      Pressure\n",
       "1244696 2020-11-09 16:59:53    1.0  1.930000e-09\n",
       "1244697 2020-11-09 16:59:53    1.1  3.310000e-09\n",
       "1244698 2020-11-09 16:59:53    1.2  6.480000e-08\n",
       "1244699 2020-11-09 16:59:53    1.3  2.310000e-07\n",
       "1244700 2020-11-09 16:59:53    1.4  4.750000e-08\n",
       "...                     ...    ...           ...\n",
       "3372368 2020-11-12 09:05:49   99.6 -1.820000e-10\n",
       "3372369 2020-11-12 09:05:49   99.7 -1.330000e-10\n",
       "3372370 2020-11-12 09:05:49   99.8 -8.180000e-11\n",
       "3372371 2020-11-12 09:05:49   99.9 -4.670000e-11\n",
       "3372372 2020-11-12 09:05:49  100.0 -3.160000e-11\n",
       "\n",
       "[5517888 rows x 3 columns]"
      ]
     },
     "execution_count": 10,
     "metadata": {},
     "output_type": "execute_result"
    }
   ],
   "source": [
    "RGA_Data.sort_values(by=['Datetime', 'Mass'], inplace=True)\n",
    "RGA_Data"
   ]
  },
  {
   "cell_type": "code",
   "execution_count": 11,
   "metadata": {},
   "outputs": [
    {
     "data": {
      "text/html": [
       "<div>\n",
       "<style scoped>\n",
       "    .dataframe tbody tr th:only-of-type {\n",
       "        vertical-align: middle;\n",
       "    }\n",
       "\n",
       "    .dataframe tbody tr th {\n",
       "        vertical-align: top;\n",
       "    }\n",
       "\n",
       "    .dataframe thead th {\n",
       "        text-align: right;\n",
       "    }\n",
       "</style>\n",
       "<table border=\"1\" class=\"dataframe\">\n",
       "  <thead>\n",
       "    <tr style=\"text-align: right;\">\n",
       "      <th></th>\n",
       "      <th>Date</th>\n",
       "      <th>Time</th>\n",
       "      <th>CH1</th>\n",
       "      <th>CH2</th>\n",
       "      <th>Datetime</th>\n",
       "    </tr>\n",
       "  </thead>\n",
       "  <tbody>\n",
       "    <tr>\n",
       "      <th>162129</th>\n",
       "      <td>11/10/2020</td>\n",
       "      <td>1:19:00</td>\n",
       "      <td>20.3</td>\n",
       "      <td>20.2</td>\n",
       "      <td>2020-11-10 01:19:00</td>\n",
       "    </tr>\n",
       "    <tr>\n",
       "      <th>162130</th>\n",
       "      <td>11/10/2020</td>\n",
       "      <td>1:19:01</td>\n",
       "      <td>20.3</td>\n",
       "      <td>20.3</td>\n",
       "      <td>2020-11-10 01:19:01</td>\n",
       "    </tr>\n",
       "    <tr>\n",
       "      <th>162131</th>\n",
       "      <td>11/10/2020</td>\n",
       "      <td>1:19:02</td>\n",
       "      <td>20.3</td>\n",
       "      <td>20.3</td>\n",
       "      <td>2020-11-10 01:19:02</td>\n",
       "    </tr>\n",
       "    <tr>\n",
       "      <th>162132</th>\n",
       "      <td>11/10/2020</td>\n",
       "      <td>1:19:03</td>\n",
       "      <td>20.3</td>\n",
       "      <td>20.3</td>\n",
       "      <td>2020-11-10 01:19:03</td>\n",
       "    </tr>\n",
       "    <tr>\n",
       "      <th>162133</th>\n",
       "      <td>11/10/2020</td>\n",
       "      <td>1:19:04</td>\n",
       "      <td>20.3</td>\n",
       "      <td>20.3</td>\n",
       "      <td>2020-11-10 01:19:04</td>\n",
       "    </tr>\n",
       "    <tr>\n",
       "      <th>...</th>\n",
       "      <td>...</td>\n",
       "      <td>...</td>\n",
       "      <td>...</td>\n",
       "      <td>...</td>\n",
       "      <td>...</td>\n",
       "    </tr>\n",
       "    <tr>\n",
       "      <th>49472</th>\n",
       "      <td>11/12/2020</td>\n",
       "      <td>9:34:07</td>\n",
       "      <td>20.4</td>\n",
       "      <td>20.3</td>\n",
       "      <td>2020-11-12 09:34:07</td>\n",
       "    </tr>\n",
       "    <tr>\n",
       "      <th>49473</th>\n",
       "      <td>11/12/2020</td>\n",
       "      <td>9:34:08</td>\n",
       "      <td>20.4</td>\n",
       "      <td>20.3</td>\n",
       "      <td>2020-11-12 09:34:08</td>\n",
       "    </tr>\n",
       "    <tr>\n",
       "      <th>49474</th>\n",
       "      <td>11/12/2020</td>\n",
       "      <td>9:34:09</td>\n",
       "      <td>20.4</td>\n",
       "      <td>20.3</td>\n",
       "      <td>2020-11-12 09:34:09</td>\n",
       "    </tr>\n",
       "    <tr>\n",
       "      <th>49475</th>\n",
       "      <td>11/12/2020</td>\n",
       "      <td>9:34:10</td>\n",
       "      <td>20.4</td>\n",
       "      <td>20.3</td>\n",
       "      <td>2020-11-12 09:34:10</td>\n",
       "    </tr>\n",
       "    <tr>\n",
       "      <th>49476</th>\n",
       "      <td>11/12/2020</td>\n",
       "      <td>9:34:11</td>\n",
       "      <td>20.4</td>\n",
       "      <td>20.3</td>\n",
       "      <td>2020-11-12 09:34:11</td>\n",
       "    </tr>\n",
       "  </tbody>\n",
       "</table>\n",
       "<p>189801 rows × 5 columns</p>\n",
       "</div>"
      ],
      "text/plain": [
       "              Date     Time   CH1   CH2            Datetime\n",
       "162129  11/10/2020  1:19:00  20.3  20.2 2020-11-10 01:19:00\n",
       "162130  11/10/2020  1:19:01  20.3  20.3 2020-11-10 01:19:01\n",
       "162131  11/10/2020  1:19:02  20.3  20.3 2020-11-10 01:19:02\n",
       "162132  11/10/2020  1:19:03  20.3  20.3 2020-11-10 01:19:03\n",
       "162133  11/10/2020  1:19:04  20.3  20.3 2020-11-10 01:19:04\n",
       "...            ...      ...   ...   ...                 ...\n",
       "49472   11/12/2020  9:34:07  20.4  20.3 2020-11-12 09:34:07\n",
       "49473   11/12/2020  9:34:08  20.4  20.3 2020-11-12 09:34:08\n",
       "49474   11/12/2020  9:34:09  20.4  20.3 2020-11-12 09:34:09\n",
       "49475   11/12/2020  9:34:10  20.4  20.3 2020-11-12 09:34:10\n",
       "49476   11/12/2020  9:34:11  20.4  20.3 2020-11-12 09:34:11\n",
       "\n",
       "[189801 rows x 5 columns]"
      ]
     },
     "execution_count": 11,
     "metadata": {},
     "output_type": "execute_result"
    }
   ],
   "source": [
    "Temp.sort_values(by='Datetime', inplace=True)\n",
    "Temp"
   ]
  },
  {
   "cell_type": "markdown",
   "metadata": {},
   "source": [
    "### Times"
   ]
  },
  {
   "cell_type": "code",
   "execution_count": 12,
   "metadata": {},
   "outputs": [
    {
     "data": {
      "text/plain": [
       "numpy.datetime64('2020-11-09T16:59:53.000000000')"
      ]
     },
     "execution_count": 12,
     "metadata": {},
     "output_type": "execute_result"
    }
   ],
   "source": [
    "# Starting RGA Time\n",
    "rga_start = RGA_Data['Datetime'].sort_values().unique()[0]\n",
    "rga_start"
   ]
  },
  {
   "cell_type": "code",
   "execution_count": 13,
   "metadata": {},
   "outputs": [
    {
     "data": {
      "text/plain": [
       "numpy.datetime64('2020-11-10T01:19:00.000000000')"
      ]
     },
     "execution_count": 13,
     "metadata": {},
     "output_type": "execute_result"
    }
   ],
   "source": [
    "# Starting temperature time\n",
    "temps_start = Temp['Datetime'].sort_values().unique()[0]\n",
    "temps_start"
   ]
  },
  {
   "cell_type": "code",
   "execution_count": 14,
   "metadata": {},
   "outputs": [],
   "source": [
    "# Find the EARLIEST time to calculate timedeltas from.\n",
    "if rga_start < temps_start:\n",
    "    start_datetime = rga_start\n",
    "else:\n",
    "    start_datetime = temps_start"
   ]
  },
  {
   "cell_type": "code",
   "execution_count": 15,
   "metadata": {},
   "outputs": [
    {
     "data": {
      "text/plain": [
       "numpy.datetime64('2020-11-09T16:59:53.000000000')"
      ]
     },
     "execution_count": 15,
     "metadata": {},
     "output_type": "execute_result"
    }
   ],
   "source": [
    "start_datetime"
   ]
  },
  {
   "cell_type": "code",
   "execution_count": 16,
   "metadata": {},
   "outputs": [
    {
     "data": {
      "text/plain": [
       "162129     29947.0\n",
       "162130     29948.0\n",
       "162131     29949.0\n",
       "162132     29950.0\n",
       "162133     29951.0\n",
       "            ...   \n",
       "49472     232454.0\n",
       "49473     232455.0\n",
       "49474     232456.0\n",
       "49475     232457.0\n",
       "49476     232458.0\n",
       "Name: Datetime, Length: 189801, dtype: float64"
      ]
     },
     "execution_count": 16,
     "metadata": {},
     "output_type": "execute_result"
    }
   ],
   "source": [
    "temp_times = (Temp['Datetime'] - start_datetime)/np.timedelta64(1, 's')\n",
    "temp_times"
   ]
  },
  {
   "cell_type": "code",
   "execution_count": 17,
   "metadata": {},
   "outputs": [],
   "source": [
    "# Separate by mass\n",
    "H2_data = RGA_Data[RGA_Data['Mass'] == 2.0]\n",
    "H2O_data = RGA_Data[RGA_Data['Mass'] == 18.0]\n",
    "N2_data = RGA_Data[RGA_Data['Mass'] == 28.0]\n",
    "O2_data = RGA_Data[RGA_Data['Mass'] == 32.0]\n",
    "CO2_data = RGA_Data[RGA_Data['Mass'] == 44.0]"
   ]
  },
  {
   "cell_type": "code",
   "execution_count": 18,
   "metadata": {},
   "outputs": [],
   "source": [
    "rga_times = (RGA_Data['Datetime'].unique() - start_datetime)/np.timedelta64(1, 's')\n",
    "H2_times = (H2_data['Datetime'] - start_datetime)/np.timedelta64(1, 's')\n",
    "H2O_times = (H2O_data['Datetime'] - start_datetime)/np.timedelta64(1, 's')\n",
    "N2_times = (N2_data['Datetime'] - start_datetime)/np.timedelta64(1, 's')\n",
    "O2_times = (O2_data['Datetime'] - start_datetime)/np.timedelta64(1, 's')\n",
    "CO2_times = (CO2_data['Datetime'] - start_datetime)/np.timedelta64(1, 's')"
   ]
  },
  {
   "cell_type": "code",
   "execution_count": 19,
   "metadata": {},
   "outputs": [
    {
     "data": {
      "text/plain": [
       "1245126         0.0\n",
       "3224153        41.0\n",
       "2963520        83.0\n",
       "748635        124.0\n",
       "1839726       166.0\n",
       "             ...   \n",
       "1775311    230590.0\n",
       "2526489    230632.0\n",
       "4378668    230673.0\n",
       "419623     230715.0\n",
       "3371812    230756.0\n",
       "Name: Datetime, Length: 5568, dtype: float64"
      ]
     },
     "execution_count": 19,
     "metadata": {},
     "output_type": "execute_result"
    }
   ],
   "source": [
    "CO2_times"
   ]
  },
  {
   "cell_type": "markdown",
   "metadata": {},
   "source": [
    "### Temperature Interpolation"
   ]
  },
  {
   "cell_type": "code",
   "execution_count": 20,
   "metadata": {},
   "outputs": [
    {
     "data": {
      "text/plain": [
       "162129    20.3\n",
       "162130    20.3\n",
       "162131    20.3\n",
       "162132    20.3\n",
       "162133    20.3\n",
       "          ... \n",
       "49472     20.4\n",
       "49473     20.4\n",
       "49474     20.4\n",
       "49475     20.4\n",
       "49476     20.4\n",
       "Name: CH1, Length: 189801, dtype: float64"
      ]
     },
     "execution_count": 20,
     "metadata": {},
     "output_type": "execute_result"
    }
   ],
   "source": [
    "pd.to_numeric(Temp['CH1'])"
   ]
  },
  {
   "cell_type": "code",
   "execution_count": 21,
   "metadata": {},
   "outputs": [],
   "source": [
    "CO2_ch1_lerp = np.interp(CO2_times, temp_times, pd.to_numeric(Temp['CH1']))\n",
    "CO2_ch2_lerp = np.interp(CO2_times, temp_times, pd.to_numeric(Temp['CH2']))"
   ]
  },
  {
   "cell_type": "markdown",
   "metadata": {},
   "source": [
    "### Final Data Frames"
   ]
  },
  {
   "cell_type": "code",
   "execution_count": 22,
   "metadata": {},
   "outputs": [
    {
     "data": {
      "text/html": [
       "<div>\n",
       "<style scoped>\n",
       "    .dataframe tbody tr th:only-of-type {\n",
       "        vertical-align: middle;\n",
       "    }\n",
       "\n",
       "    .dataframe tbody tr th {\n",
       "        vertical-align: top;\n",
       "    }\n",
       "\n",
       "    .dataframe thead th {\n",
       "        text-align: right;\n",
       "    }\n",
       "</style>\n",
       "<table border=\"1\" class=\"dataframe\">\n",
       "  <thead>\n",
       "    <tr style=\"text-align: right;\">\n",
       "      <th></th>\n",
       "      <th>Exp_Time</th>\n",
       "      <th>CO2_Pressure</th>\n",
       "      <th>ch1_lerp</th>\n",
       "      <th>ch2_lerp</th>\n",
       "      <th>temp_est</th>\n",
       "    </tr>\n",
       "  </thead>\n",
       "  <tbody>\n",
       "    <tr>\n",
       "      <th>1245126</th>\n",
       "      <td>0.0</td>\n",
       "      <td>7.660000e-07</td>\n",
       "      <td>293.5</td>\n",
       "      <td>293.4</td>\n",
       "      <td>293.45</td>\n",
       "    </tr>\n",
       "    <tr>\n",
       "      <th>3224153</th>\n",
       "      <td>41.0</td>\n",
       "      <td>7.640000e-07</td>\n",
       "      <td>293.5</td>\n",
       "      <td>293.4</td>\n",
       "      <td>293.45</td>\n",
       "    </tr>\n",
       "    <tr>\n",
       "      <th>2963520</th>\n",
       "      <td>83.0</td>\n",
       "      <td>7.720000e-07</td>\n",
       "      <td>293.5</td>\n",
       "      <td>293.4</td>\n",
       "      <td>293.45</td>\n",
       "    </tr>\n",
       "    <tr>\n",
       "      <th>748635</th>\n",
       "      <td>124.0</td>\n",
       "      <td>7.780000e-07</td>\n",
       "      <td>293.5</td>\n",
       "      <td>293.4</td>\n",
       "      <td>293.45</td>\n",
       "    </tr>\n",
       "    <tr>\n",
       "      <th>1839726</th>\n",
       "      <td>166.0</td>\n",
       "      <td>7.900000e-07</td>\n",
       "      <td>293.5</td>\n",
       "      <td>293.4</td>\n",
       "      <td>293.45</td>\n",
       "    </tr>\n",
       "    <tr>\n",
       "      <th>...</th>\n",
       "      <td>...</td>\n",
       "      <td>...</td>\n",
       "      <td>...</td>\n",
       "      <td>...</td>\n",
       "      <td>...</td>\n",
       "    </tr>\n",
       "    <tr>\n",
       "      <th>1775311</th>\n",
       "      <td>230590.0</td>\n",
       "      <td>1.390000e-08</td>\n",
       "      <td>293.6</td>\n",
       "      <td>293.5</td>\n",
       "      <td>293.55</td>\n",
       "    </tr>\n",
       "    <tr>\n",
       "      <th>2526489</th>\n",
       "      <td>230632.0</td>\n",
       "      <td>1.410000e-08</td>\n",
       "      <td>293.6</td>\n",
       "      <td>293.5</td>\n",
       "      <td>293.55</td>\n",
       "    </tr>\n",
       "    <tr>\n",
       "      <th>4378668</th>\n",
       "      <td>230673.0</td>\n",
       "      <td>1.420000e-08</td>\n",
       "      <td>293.6</td>\n",
       "      <td>293.5</td>\n",
       "      <td>293.55</td>\n",
       "    </tr>\n",
       "    <tr>\n",
       "      <th>419623</th>\n",
       "      <td>230715.0</td>\n",
       "      <td>1.400000e-08</td>\n",
       "      <td>293.6</td>\n",
       "      <td>293.5</td>\n",
       "      <td>293.55</td>\n",
       "    </tr>\n",
       "    <tr>\n",
       "      <th>3371812</th>\n",
       "      <td>230756.0</td>\n",
       "      <td>1.380000e-08</td>\n",
       "      <td>293.6</td>\n",
       "      <td>293.5</td>\n",
       "      <td>293.55</td>\n",
       "    </tr>\n",
       "  </tbody>\n",
       "</table>\n",
       "<p>5568 rows × 5 columns</p>\n",
       "</div>"
      ],
      "text/plain": [
       "         Exp_Time  CO2_Pressure  ch1_lerp  ch2_lerp  temp_est\n",
       "1245126       0.0  7.660000e-07     293.5     293.4    293.45\n",
       "3224153      41.0  7.640000e-07     293.5     293.4    293.45\n",
       "2963520      83.0  7.720000e-07     293.5     293.4    293.45\n",
       "748635      124.0  7.780000e-07     293.5     293.4    293.45\n",
       "1839726     166.0  7.900000e-07     293.5     293.4    293.45\n",
       "...           ...           ...       ...       ...       ...\n",
       "1775311  230590.0  1.390000e-08     293.6     293.5    293.55\n",
       "2526489  230632.0  1.410000e-08     293.6     293.5    293.55\n",
       "4378668  230673.0  1.420000e-08     293.6     293.5    293.55\n",
       "419623   230715.0  1.400000e-08     293.6     293.5    293.55\n",
       "3371812  230756.0  1.380000e-08     293.6     293.5    293.55\n",
       "\n",
       "[5568 rows x 5 columns]"
      ]
     },
     "execution_count": 22,
     "metadata": {},
     "output_type": "execute_result"
    }
   ],
   "source": [
    "## Build CO2 final data frame\n",
    "CO2_final_data = pd.DataFrame(data=CO2_times)\n",
    "CO2_final_data.columns = ['Exp_Time']\n",
    "# Microtorr now\n",
    "CO2_final_data['CO2_Pressure'] = CO2_data['Pressure']\n",
    "# Celsius to Kelvin\n",
    "CO2_final_data['ch1_lerp'] = CO2_ch1_lerp + 273.2\n",
    "CO2_final_data['ch2_lerp'] = CO2_ch2_lerp + 273.2\n",
    "CO2_final_data['temp_est'] = (CO2_final_data['ch1_lerp'] + CO2_final_data['ch2_lerp'])/2.0\n",
    "CO2_final_data"
   ]
  },
  {
   "cell_type": "code",
   "execution_count": 23,
   "metadata": {},
   "outputs": [
    {
     "data": {
      "text/html": [
       "<div>\n",
       "<style scoped>\n",
       "    .dataframe tbody tr th:only-of-type {\n",
       "        vertical-align: middle;\n",
       "    }\n",
       "\n",
       "    .dataframe tbody tr th {\n",
       "        vertical-align: top;\n",
       "    }\n",
       "\n",
       "    .dataframe thead th {\n",
       "        text-align: right;\n",
       "    }\n",
       "</style>\n",
       "<table border=\"1\" class=\"dataframe\">\n",
       "  <thead>\n",
       "    <tr style=\"text-align: right;\">\n",
       "      <th></th>\n",
       "      <th>Exp_Time</th>\n",
       "      <th>CO2_Pressure</th>\n",
       "      <th>ch1_lerp</th>\n",
       "      <th>ch2_lerp</th>\n",
       "      <th>temp_est</th>\n",
       "    </tr>\n",
       "  </thead>\n",
       "  <tbody>\n",
       "    <tr>\n",
       "      <th>1245126</th>\n",
       "      <td>0.0</td>\n",
       "      <td>7.660000e-07</td>\n",
       "      <td>293.5</td>\n",
       "      <td>293.4</td>\n",
       "      <td>293.45</td>\n",
       "    </tr>\n",
       "    <tr>\n",
       "      <th>3224153</th>\n",
       "      <td>41.0</td>\n",
       "      <td>7.640000e-07</td>\n",
       "      <td>293.5</td>\n",
       "      <td>293.4</td>\n",
       "      <td>293.45</td>\n",
       "    </tr>\n",
       "    <tr>\n",
       "      <th>2963520</th>\n",
       "      <td>83.0</td>\n",
       "      <td>7.720000e-07</td>\n",
       "      <td>293.5</td>\n",
       "      <td>293.4</td>\n",
       "      <td>293.45</td>\n",
       "    </tr>\n",
       "    <tr>\n",
       "      <th>748635</th>\n",
       "      <td>124.0</td>\n",
       "      <td>7.780000e-07</td>\n",
       "      <td>293.5</td>\n",
       "      <td>293.4</td>\n",
       "      <td>293.45</td>\n",
       "    </tr>\n",
       "    <tr>\n",
       "      <th>1839726</th>\n",
       "      <td>166.0</td>\n",
       "      <td>7.900000e-07</td>\n",
       "      <td>293.5</td>\n",
       "      <td>293.4</td>\n",
       "      <td>293.45</td>\n",
       "    </tr>\n",
       "    <tr>\n",
       "      <th>...</th>\n",
       "      <td>...</td>\n",
       "      <td>...</td>\n",
       "      <td>...</td>\n",
       "      <td>...</td>\n",
       "      <td>...</td>\n",
       "    </tr>\n",
       "    <tr>\n",
       "      <th>1775311</th>\n",
       "      <td>230590.0</td>\n",
       "      <td>1.390000e-08</td>\n",
       "      <td>293.6</td>\n",
       "      <td>293.5</td>\n",
       "      <td>293.55</td>\n",
       "    </tr>\n",
       "    <tr>\n",
       "      <th>2526489</th>\n",
       "      <td>230632.0</td>\n",
       "      <td>1.410000e-08</td>\n",
       "      <td>293.6</td>\n",
       "      <td>293.5</td>\n",
       "      <td>293.55</td>\n",
       "    </tr>\n",
       "    <tr>\n",
       "      <th>4378668</th>\n",
       "      <td>230673.0</td>\n",
       "      <td>1.420000e-08</td>\n",
       "      <td>293.6</td>\n",
       "      <td>293.5</td>\n",
       "      <td>293.55</td>\n",
       "    </tr>\n",
       "    <tr>\n",
       "      <th>419623</th>\n",
       "      <td>230715.0</td>\n",
       "      <td>1.400000e-08</td>\n",
       "      <td>293.6</td>\n",
       "      <td>293.5</td>\n",
       "      <td>293.55</td>\n",
       "    </tr>\n",
       "    <tr>\n",
       "      <th>3371812</th>\n",
       "      <td>230756.0</td>\n",
       "      <td>1.380000e-08</td>\n",
       "      <td>293.6</td>\n",
       "      <td>293.5</td>\n",
       "      <td>293.55</td>\n",
       "    </tr>\n",
       "  </tbody>\n",
       "</table>\n",
       "<p>5568 rows × 5 columns</p>\n",
       "</div>"
      ],
      "text/plain": [
       "         Exp_Time  CO2_Pressure  ch1_lerp  ch2_lerp  temp_est\n",
       "1245126       0.0  7.660000e-07     293.5     293.4    293.45\n",
       "3224153      41.0  7.640000e-07     293.5     293.4    293.45\n",
       "2963520      83.0  7.720000e-07     293.5     293.4    293.45\n",
       "748635      124.0  7.780000e-07     293.5     293.4    293.45\n",
       "1839726     166.0  7.900000e-07     293.5     293.4    293.45\n",
       "...           ...           ...       ...       ...       ...\n",
       "1775311  230590.0  1.390000e-08     293.6     293.5    293.55\n",
       "2526489  230632.0  1.410000e-08     293.6     293.5    293.55\n",
       "4378668  230673.0  1.420000e-08     293.6     293.5    293.55\n",
       "419623   230715.0  1.400000e-08     293.6     293.5    293.55\n",
       "3371812  230756.0  1.380000e-08     293.6     293.5    293.55\n",
       "\n",
       "[5568 rows x 5 columns]"
      ]
     },
     "execution_count": 23,
     "metadata": {},
     "output_type": "execute_result"
    }
   ],
   "source": [
    "CO2_final_data.sort_values(by='Exp_Time', inplace=True)\n",
    "CO2_final_data"
   ]
  },
  {
   "cell_type": "markdown",
   "metadata": {},
   "source": [
    "### Curve Fitting\n",
    "$$p(t,T) = A\\cdot \\exp\\left(-\\frac{b}{T}\\right)\\cdot\\exp\\left(-c\\cdot t\\cdot \\exp\\left(-\\frac{b}{T}\\right)\\right)$$"
   ]
  },
  {
   "cell_type": "code",
   "execution_count": 24,
   "metadata": {},
   "outputs": [],
   "source": [
    "def pressure_fit(tT, A, b, c):\n",
    "    # (k,M) array if there are k predictors\n",
    "    factor = np.exp(-1.0*b/tT[1])\n",
    "    return A * factor * np.exp(-1.0*c*tT[0]*factor)"
   ]
  },
  {
   "cell_type": "code",
   "execution_count": 25,
   "metadata": {},
   "outputs": [],
   "source": [
    "#O2_jump1 = O2_final_data[O2_final_data['Datetime'].between(51000, 65000)]"
   ]
  },
  {
   "cell_type": "code",
   "execution_count": 26,
   "metadata": {},
   "outputs": [],
   "source": [
    "#O2_Tdata = O2_jump1[['Datetime', 'temp_est']].T.to_numpy()\n",
    "#O2_Tdata.shape"
   ]
  },
  {
   "cell_type": "code",
   "execution_count": 27,
   "metadata": {},
   "outputs": [],
   "source": [
    "# Initial guess of uncertainties\n",
    "#O2_sigma = np.empty(O2_Tdata.shape[1]); O2_sigma.fill(1e-9)\n",
    "#O2_sigma.shape"
   ]
  },
  {
   "cell_type": "code",
   "execution_count": 28,
   "metadata": {},
   "outputs": [],
   "source": [
    "#popt, pcov = spo.curve_fit(pressure_fit, O2_Tdata, O2_jump1['O2_Pressure'], p0=[50, 5800, 980], bounds=([-np.inf, -np.inf, 0],np.inf), maxfev=8000)"
   ]
  },
  {
   "cell_type": "code",
   "execution_count": 29,
   "metadata": {},
   "outputs": [],
   "source": [
    "#popt"
   ]
  },
  {
   "cell_type": "code",
   "execution_count": 30,
   "metadata": {},
   "outputs": [],
   "source": [
    "#pcov"
   ]
  },
  {
   "cell_type": "code",
   "execution_count": 31,
   "metadata": {},
   "outputs": [],
   "source": [
    "#fit_vals = pressure_fit(O2_Tdata, popt[0], popt[1], popt[2])\n",
    "#fit_vals"
   ]
  },
  {
   "cell_type": "code",
   "execution_count": 32,
   "metadata": {},
   "outputs": [
    {
     "data": {
      "text/html": [
       "<div>\n",
       "<style scoped>\n",
       "    .dataframe tbody tr th:only-of-type {\n",
       "        vertical-align: middle;\n",
       "    }\n",
       "\n",
       "    .dataframe tbody tr th {\n",
       "        vertical-align: top;\n",
       "    }\n",
       "\n",
       "    .dataframe thead th {\n",
       "        text-align: right;\n",
       "    }\n",
       "</style>\n",
       "<table border=\"1\" class=\"dataframe\">\n",
       "  <thead>\n",
       "    <tr style=\"text-align: right;\">\n",
       "      <th></th>\n",
       "      <th>Exp_Time</th>\n",
       "      <th>CO2_Pressure</th>\n",
       "      <th>ch1_lerp</th>\n",
       "      <th>ch2_lerp</th>\n",
       "      <th>temp_est</th>\n",
       "    </tr>\n",
       "  </thead>\n",
       "  <tbody>\n",
       "    <tr>\n",
       "      <th>4650202</th>\n",
       "      <td>111006.0</td>\n",
       "      <td>1.040000e-07</td>\n",
       "      <td>321.3</td>\n",
       "      <td>328.7</td>\n",
       "      <td>325.00</td>\n",
       "    </tr>\n",
       "    <tr>\n",
       "      <th>5202189</th>\n",
       "      <td>111048.0</td>\n",
       "      <td>1.040000e-07</td>\n",
       "      <td>321.4</td>\n",
       "      <td>328.8</td>\n",
       "      <td>325.10</td>\n",
       "    </tr>\n",
       "    <tr>\n",
       "      <th>475119</th>\n",
       "      <td>111089.0</td>\n",
       "      <td>1.040000e-07</td>\n",
       "      <td>321.6</td>\n",
       "      <td>328.9</td>\n",
       "      <td>325.25</td>\n",
       "    </tr>\n",
       "    <tr>\n",
       "      <th>5149666</th>\n",
       "      <td>111131.0</td>\n",
       "      <td>1.060000e-07</td>\n",
       "      <td>321.7</td>\n",
       "      <td>329.0</td>\n",
       "      <td>325.35</td>\n",
       "    </tr>\n",
       "    <tr>\n",
       "      <th>5011917</th>\n",
       "      <td>111172.0</td>\n",
       "      <td>1.050000e-07</td>\n",
       "      <td>321.8</td>\n",
       "      <td>329.1</td>\n",
       "      <td>325.45</td>\n",
       "    </tr>\n",
       "    <tr>\n",
       "      <th>...</th>\n",
       "      <td>...</td>\n",
       "      <td>...</td>\n",
       "      <td>...</td>\n",
       "      <td>...</td>\n",
       "      <td>...</td>\n",
       "    </tr>\n",
       "    <tr>\n",
       "      <th>2635499</th>\n",
       "      <td>149804.0</td>\n",
       "      <td>7.210000e-08</td>\n",
       "      <td>328.3</td>\n",
       "      <td>331.0</td>\n",
       "      <td>329.65</td>\n",
       "    </tr>\n",
       "    <tr>\n",
       "      <th>2860456</th>\n",
       "      <td>149845.0</td>\n",
       "      <td>7.220000e-08</td>\n",
       "      <td>328.4</td>\n",
       "      <td>331.0</td>\n",
       "      <td>329.70</td>\n",
       "    </tr>\n",
       "    <tr>\n",
       "      <th>4538219</th>\n",
       "      <td>149887.0</td>\n",
       "      <td>7.260000e-08</td>\n",
       "      <td>328.3</td>\n",
       "      <td>331.0</td>\n",
       "      <td>329.65</td>\n",
       "    </tr>\n",
       "    <tr>\n",
       "      <th>1340262</th>\n",
       "      <td>149928.0</td>\n",
       "      <td>7.210000e-08</td>\n",
       "      <td>328.3</td>\n",
       "      <td>331.0</td>\n",
       "      <td>329.65</td>\n",
       "    </tr>\n",
       "    <tr>\n",
       "      <th>5435074</th>\n",
       "      <td>149970.0</td>\n",
       "      <td>7.270000e-08</td>\n",
       "      <td>328.3</td>\n",
       "      <td>331.0</td>\n",
       "      <td>329.65</td>\n",
       "    </tr>\n",
       "  </tbody>\n",
       "</table>\n",
       "<p>941 rows × 5 columns</p>\n",
       "</div>"
      ],
      "text/plain": [
       "         Exp_Time  CO2_Pressure  ch1_lerp  ch2_lerp  temp_est\n",
       "4650202  111006.0  1.040000e-07     321.3     328.7    325.00\n",
       "5202189  111048.0  1.040000e-07     321.4     328.8    325.10\n",
       "475119   111089.0  1.040000e-07     321.6     328.9    325.25\n",
       "5149666  111131.0  1.060000e-07     321.7     329.0    325.35\n",
       "5011917  111172.0  1.050000e-07     321.8     329.1    325.45\n",
       "...           ...           ...       ...       ...       ...\n",
       "2635499  149804.0  7.210000e-08     328.3     331.0    329.65\n",
       "2860456  149845.0  7.220000e-08     328.4     331.0    329.70\n",
       "4538219  149887.0  7.260000e-08     328.3     331.0    329.65\n",
       "1340262  149928.0  7.210000e-08     328.3     331.0    329.65\n",
       "5435074  149970.0  7.270000e-08     328.3     331.0    329.65\n",
       "\n",
       "[941 rows x 5 columns]"
      ]
     },
     "execution_count": 32,
     "metadata": {},
     "output_type": "execute_result"
    }
   ],
   "source": [
    "CO2_jump4 = CO2_final_data[CO2_final_data['Exp_Time'].between(111000, 150000)]\n",
    "CO2_jump4"
   ]
  },
  {
   "cell_type": "code",
   "execution_count": 33,
   "metadata": {},
   "outputs": [
    {
     "data": {
      "text/plain": [
       "111006.0"
      ]
     },
     "execution_count": 33,
     "metadata": {},
     "output_type": "execute_result"
    }
   ],
   "source": [
    "CO2_4T_start = CO2_jump4['Exp_Time'].unique()[0]\n",
    "CO2_4T_start"
   ]
  },
  {
   "cell_type": "code",
   "execution_count": 34,
   "metadata": {},
   "outputs": [
    {
     "name": "stderr",
     "output_type": "stream",
     "text": [
      "/gpfs/loomis/project/david_moore/ael59/conda_envs/nexo/lib/python3.7/site-packages/ipykernel_launcher.py:1: SettingWithCopyWarning: \n",
      "A value is trying to be set on a copy of a slice from a DataFrame.\n",
      "Try using .loc[row_indexer,col_indexer] = value instead\n",
      "\n",
      "See the caveats in the documentation: https://pandas.pydata.org/pandas-docs/stable/user_guide/indexing.html#returning-a-view-versus-a-copy\n",
      "  \"\"\"Entry point for launching an IPython kernel.\n"
     ]
    },
    {
     "data": {
      "text/html": [
       "<div>\n",
       "<style scoped>\n",
       "    .dataframe tbody tr th:only-of-type {\n",
       "        vertical-align: middle;\n",
       "    }\n",
       "\n",
       "    .dataframe tbody tr th {\n",
       "        vertical-align: top;\n",
       "    }\n",
       "\n",
       "    .dataframe thead th {\n",
       "        text-align: right;\n",
       "    }\n",
       "</style>\n",
       "<table border=\"1\" class=\"dataframe\">\n",
       "  <thead>\n",
       "    <tr style=\"text-align: right;\">\n",
       "      <th></th>\n",
       "      <th>Exp_Time</th>\n",
       "      <th>CO2_Pressure</th>\n",
       "      <th>ch1_lerp</th>\n",
       "      <th>ch2_lerp</th>\n",
       "      <th>temp_est</th>\n",
       "      <th>Jump_Time</th>\n",
       "    </tr>\n",
       "  </thead>\n",
       "  <tbody>\n",
       "    <tr>\n",
       "      <th>4650202</th>\n",
       "      <td>111006.0</td>\n",
       "      <td>1.040000e-07</td>\n",
       "      <td>321.3</td>\n",
       "      <td>328.7</td>\n",
       "      <td>325.00</td>\n",
       "      <td>0.0</td>\n",
       "    </tr>\n",
       "    <tr>\n",
       "      <th>5202189</th>\n",
       "      <td>111048.0</td>\n",
       "      <td>1.040000e-07</td>\n",
       "      <td>321.4</td>\n",
       "      <td>328.8</td>\n",
       "      <td>325.10</td>\n",
       "      <td>42.0</td>\n",
       "    </tr>\n",
       "    <tr>\n",
       "      <th>475119</th>\n",
       "      <td>111089.0</td>\n",
       "      <td>1.040000e-07</td>\n",
       "      <td>321.6</td>\n",
       "      <td>328.9</td>\n",
       "      <td>325.25</td>\n",
       "      <td>83.0</td>\n",
       "    </tr>\n",
       "    <tr>\n",
       "      <th>5149666</th>\n",
       "      <td>111131.0</td>\n",
       "      <td>1.060000e-07</td>\n",
       "      <td>321.7</td>\n",
       "      <td>329.0</td>\n",
       "      <td>325.35</td>\n",
       "      <td>125.0</td>\n",
       "    </tr>\n",
       "    <tr>\n",
       "      <th>5011917</th>\n",
       "      <td>111172.0</td>\n",
       "      <td>1.050000e-07</td>\n",
       "      <td>321.8</td>\n",
       "      <td>329.1</td>\n",
       "      <td>325.45</td>\n",
       "      <td>166.0</td>\n",
       "    </tr>\n",
       "    <tr>\n",
       "      <th>...</th>\n",
       "      <td>...</td>\n",
       "      <td>...</td>\n",
       "      <td>...</td>\n",
       "      <td>...</td>\n",
       "      <td>...</td>\n",
       "      <td>...</td>\n",
       "    </tr>\n",
       "    <tr>\n",
       "      <th>2635499</th>\n",
       "      <td>149804.0</td>\n",
       "      <td>7.210000e-08</td>\n",
       "      <td>328.3</td>\n",
       "      <td>331.0</td>\n",
       "      <td>329.65</td>\n",
       "      <td>38798.0</td>\n",
       "    </tr>\n",
       "    <tr>\n",
       "      <th>2860456</th>\n",
       "      <td>149845.0</td>\n",
       "      <td>7.220000e-08</td>\n",
       "      <td>328.4</td>\n",
       "      <td>331.0</td>\n",
       "      <td>329.70</td>\n",
       "      <td>38839.0</td>\n",
       "    </tr>\n",
       "    <tr>\n",
       "      <th>4538219</th>\n",
       "      <td>149887.0</td>\n",
       "      <td>7.260000e-08</td>\n",
       "      <td>328.3</td>\n",
       "      <td>331.0</td>\n",
       "      <td>329.65</td>\n",
       "      <td>38881.0</td>\n",
       "    </tr>\n",
       "    <tr>\n",
       "      <th>1340262</th>\n",
       "      <td>149928.0</td>\n",
       "      <td>7.210000e-08</td>\n",
       "      <td>328.3</td>\n",
       "      <td>331.0</td>\n",
       "      <td>329.65</td>\n",
       "      <td>38922.0</td>\n",
       "    </tr>\n",
       "    <tr>\n",
       "      <th>5435074</th>\n",
       "      <td>149970.0</td>\n",
       "      <td>7.270000e-08</td>\n",
       "      <td>328.3</td>\n",
       "      <td>331.0</td>\n",
       "      <td>329.65</td>\n",
       "      <td>38964.0</td>\n",
       "    </tr>\n",
       "  </tbody>\n",
       "</table>\n",
       "<p>941 rows × 6 columns</p>\n",
       "</div>"
      ],
      "text/plain": [
       "         Exp_Time  CO2_Pressure  ch1_lerp  ch2_lerp  temp_est  Jump_Time\n",
       "4650202  111006.0  1.040000e-07     321.3     328.7    325.00        0.0\n",
       "5202189  111048.0  1.040000e-07     321.4     328.8    325.10       42.0\n",
       "475119   111089.0  1.040000e-07     321.6     328.9    325.25       83.0\n",
       "5149666  111131.0  1.060000e-07     321.7     329.0    325.35      125.0\n",
       "5011917  111172.0  1.050000e-07     321.8     329.1    325.45      166.0\n",
       "...           ...           ...       ...       ...       ...        ...\n",
       "2635499  149804.0  7.210000e-08     328.3     331.0    329.65    38798.0\n",
       "2860456  149845.0  7.220000e-08     328.4     331.0    329.70    38839.0\n",
       "4538219  149887.0  7.260000e-08     328.3     331.0    329.65    38881.0\n",
       "1340262  149928.0  7.210000e-08     328.3     331.0    329.65    38922.0\n",
       "5435074  149970.0  7.270000e-08     328.3     331.0    329.65    38964.0\n",
       "\n",
       "[941 rows x 6 columns]"
      ]
     },
     "execution_count": 34,
     "metadata": {},
     "output_type": "execute_result"
    }
   ],
   "source": [
    "CO2_jump4['Jump_Time'] = CO2_jump4['Exp_Time'] - CO2_4T_start\n",
    "CO2_jump4"
   ]
  },
  {
   "cell_type": "code",
   "execution_count": 35,
   "metadata": {},
   "outputs": [],
   "source": [
    "CO2_4T = CO2_jump4[['Jump_Time', 'temp_est']].T.to_numpy()"
   ]
  },
  {
   "cell_type": "code",
   "execution_count": 36,
   "metadata": {},
   "outputs": [],
   "source": [
    "fit_jump = CO2_jump4['CO2_Pressure'].to_numpy()"
   ]
  },
  {
   "cell_type": "code",
   "execution_count": 37,
   "metadata": {},
   "outputs": [],
   "source": [
    "popt, pcov = spo.curve_fit(pressure_fit, CO2_4T, fit_jump, p0=[5.65, 5800, 658], maxfev=100000)"
   ]
  },
  {
   "cell_type": "code",
   "execution_count": 38,
   "metadata": {},
   "outputs": [
    {
     "data": {
      "text/plain": [
       "array([   6.10134371, 5824.92520071,  725.40372232])"
      ]
     },
     "execution_count": 38,
     "metadata": {},
     "output_type": "execute_result"
    }
   ],
   "source": [
    "popt"
   ]
  },
  {
   "cell_type": "code",
   "execution_count": 39,
   "metadata": {},
   "outputs": [
    {
     "data": {
      "text/plain": [
       "array([[9.75726044e-01, 5.25570651e+01, 1.16571753e+02],\n",
       "       [5.25570651e+01, 2.83099703e+03, 6.27895658e+03],\n",
       "       [1.16571753e+02, 6.27895658e+03, 1.39281144e+04]])"
      ]
     },
     "execution_count": 39,
     "metadata": {},
     "output_type": "execute_result"
    }
   ],
   "source": [
    "pcov"
   ]
  },
  {
   "cell_type": "code",
   "execution_count": 40,
   "metadata": {},
   "outputs": [],
   "source": [
    "CO2_4_fits = pressure_fit(CO2_4T, popt[0], popt[1], popt[2])"
   ]
  },
  {
   "cell_type": "markdown",
   "metadata": {},
   "source": [
    "### Plotting"
   ]
  },
  {
   "cell_type": "code",
   "execution_count": 41,
   "metadata": {},
   "outputs": [
    {
     "data": {
      "image/png": "[encoded data removed]",
      "text/plain": [
       "<Figure size 720x432 with 1 Axes>"
      ]
     },
     "metadata": {
      "needs_background": "light"
     },
     "output_type": "display_data"
    }
   ],
   "source": [
    "fig, ax = plt.subplots(figsize=(10,6))\n",
    "ax.scatter(CO2_jump4['Exp_Time']/3600, CO2_jump4['CO2_Pressure'], marker='.', color='red')\n",
    "ax.plot(CO2_jump4['Exp_Time']/3600, CO2_4_fits, color='black')\n",
    "ax.set_ylabel('Partial Pressure [torr]')\n",
    "ax.set_xlabel('Experiment Time [hours]')\n",
    "ax.set_title('$CO_2$ Jump 4 Plot and Fit')\n",
    "ax.set_yscale('log')\n",
    "fig.savefig('images/co2_4_fit_2020_11_09.png', dpi=144)\n",
    "\n",
    "plt.show()"
   ]
  },
  {
   "cell_type": "code",
   "execution_count": 42,
   "metadata": {},
   "outputs": [
    {
     "data": {
      "image/png": "[encoded data removed]",
      "text/plain": [
       "<Figure size 720x432 with 1 Axes>"
      ]
     },
     "metadata": {
      "needs_background": "light"
     },
     "output_type": "display_data"
    }
   ],
   "source": [
    "fig, ax = plt.subplots(figsize=(10,6))\n",
    "ax.scatter(CO2_jump4['Exp_Time']/3600, CO2_jump4['CO2_Pressure'] - CO2_4_fits, marker='.')\n",
    "ax.set_ylabel('Partial Pressure Residual [torr]')\n",
    "ax.set_xlabel('Experiment Time [hours]')\n",
    "ax.axhline(color='k')\n",
    "ax.set_title('$CO_2$ Jump 4 Residuals')\n",
    "#ax.set_yscale('log')\n",
    "fig.savefig('images/co2_4_resid_2020_11_09.png', dpi=144)\n",
    "\n",
    "plt.show()"
   ]
  },
  {
   "cell_type": "code",
   "execution_count": 43,
   "metadata": {},
   "outputs": [
    {
     "data": {
      "image/png": "[encoded data removed]",
      "text/plain": [
       "<Figure size 720x864 with 2 Axes>"
      ]
     },
     "metadata": {
      "needs_background": "light"
     },
     "output_type": "display_data"
    }
   ],
   "source": [
    "fig, ax = plt.subplots(figsize=(10,12),  nrows = 2, sharex=True)\n",
    "ax[0].scatter(H2_times, H2_data['Pressure'], marker='.', label='Hydrogen')\n",
    "ax[0].scatter(H2O_times, H2O_data['Pressure'], marker='.', label='Water Vapor')\n",
    "ax[0].scatter(N2_times, N2_data['Pressure'], marker='.', label='Nitrogen')\n",
    "ax[0].scatter(O2_times, O2_data['Pressure'], marker='.', label='Oxygen')\n",
    "ax[0].scatter(CO2_times, CO2_data['Pressure'], marker='.', label='Carbon Dioxide')\n",
    "ax[0].set_title('RGA Output for Impurities')\n",
    "ax[0].set_xlabel('Time')\n",
    "ax[0].set_ylabel('Partial Pressure (torr)')\n",
    "ax[0].legend()\n",
    "ax[0].set_yscale('log')\n",
    "\n",
    "ax[1].plot(temp_times, pd.to_numeric(Temp['CH1']), label='Channel 1')\n",
    "ax[1].plot(temp_times, pd.to_numeric(Temp['CH2']), label='Channel 2', color='darkorange')\n",
    "ax[1].set_title('Temperature over Time from Top and Bottom Channels')\n",
    "ax[1].set_xlabel('Time [sec]')\n",
    "ax[1].set_ylabel('Temperature (C)')\n",
    "ax[1].legend()\n",
    "\n",
    "fig.savefig('plot_out_2020_11_09.png', dpi=300)\n",
    "plt.show()"
   ]
  },
  {
   "cell_type": "code",
   "execution_count": 44,
   "metadata": {},
   "outputs": [
    {
     "data": {
      "image/png": "[encoded data removed]",
      "text/plain": [
       "<Figure size 720x432 with 1 Axes>"
      ]
     },
     "metadata": {
      "needs_background": "light"
     },
     "output_type": "display_data"
    }
   ],
   "source": [
    "fig, ax = plt.subplots(figsize=(10,6))\n",
    "ax.plot(CO2_final_data['Exp_Time'], CO2_final_data['ch1_lerp'], label='Interpolated CH1')\n",
    "ax.plot(CO2_final_data['Exp_Time'], CO2_final_data['ch2_lerp'], label='Interpolated CH2', color='darkorange')\n",
    "ax.plot(CO2_final_data['Exp_Time'], CO2_final_data['temp_est'], label='Average Interpolated', color='maroon')\n",
    "ax.legend()\n",
    "\n",
    "plt.show()"
   ]
  },
  {
   "cell_type": "code",
   "execution_count": 45,
   "metadata": {},
   "outputs": [],
   "source": [
    "#IO.RemoveZipDir()"
   ]
  },
  {
   "cell_type": "code",
   "execution_count": null,
   "metadata": {},
   "outputs": [],
   "source": []
  }
 ],
 "metadata": {
  "kernelspec": {
   "display_name": "Python 3",
   "language": "python",
   "name": "python3"
  },
  "language_info": {
   "codemirror_mode": {
    "name": "ipython",
    "version": 3
   },
   "file_extension": ".py",
   "mimetype": "text/x-python",
   "name": "python",
   "nbconvert_exporter": "python",
   "pygments_lexer": "ipython3",
   "version": "3.7.8"
  }
 },
 "nbformat": 4,
 "nbformat_minor": 4
}
