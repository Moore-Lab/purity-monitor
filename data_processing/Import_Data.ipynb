{
 "cells": [
  {
   "cell_type": "code",
   "execution_count": 1,
   "metadata": {},
   "outputs": [],
   "source": [
    "import numpy as np\n",
    "import pandas as pd\n",
    "import matplotlib.pyplot as plt\n",
    "import os\n",
    "plt.style.use('seaborn')"
   ]
  },
  {
   "cell_type": "code",
   "execution_count": 2,
   "metadata": {},
   "outputs": [],
   "source": [
    "from data_io import DataIO # Custom IO file"
   ]
  },
  {
   "cell_type": "code",
   "execution_count": 3,
   "metadata": {},
   "outputs": [],
   "source": [
    "run_label = '2021_05_06' ## change this as needed"
   ]
  },
  {
   "cell_type": "code",
   "execution_count": 4,
   "metadata": {},
   "outputs": [],
   "source": [
    "Path = \"/gpfs/loomis/project/david_moore/ael59/run_data/2021_05_06/\" # data file path"
   ]
  },
  {
   "cell_type": "code",
   "execution_count": 5,
   "metadata": {},
   "outputs": [],
   "source": [
    "IO = DataIO(Path)"
   ]
  },
  {
   "cell_type": "code",
   "execution_count": 6,
   "metadata": {},
   "outputs": [],
   "source": [
    "IO.Unzip()"
   ]
  },
  {
   "cell_type": "code",
   "execution_count": 7,
   "metadata": {},
   "outputs": [],
   "source": [
    "RGA_Data = IO.GetRGAData()"
   ]
  },
  {
   "cell_type": "code",
   "execution_count": 8,
   "metadata": {},
   "outputs": [],
   "source": [
    "Temp = IO.GetTemperatureData()"
   ]
  },
  {
   "cell_type": "code",
   "execution_count": 9,
   "metadata": {},
   "outputs": [],
   "source": [
    "RGA_Data.sort_values(by=['Datetime', 'Mass'], inplace=True)\n",
    "Temp.sort_values(by='Datetime', inplace=True)"
   ]
  },
  {
   "cell_type": "code",
   "execution_count": 10,
   "metadata": {},
   "outputs": [],
   "source": [
    "rga_start = RGA_Data['Datetime'].sort_values().unique()[0]\n",
    "temps_start = Temp['Datetime'].sort_values().unique()[0]"
   ]
  },
  {
   "cell_type": "code",
   "execution_count": 11,
   "metadata": {},
   "outputs": [],
   "source": [
    "if rga_start < temps_start:\n",
    "    start_datetime = rga_start\n",
    "else:\n",
    "    start_datetime = temps_start"
   ]
  },
  {
   "cell_type": "code",
   "execution_count": 12,
   "metadata": {},
   "outputs": [],
   "source": [
    "#start_datetime"
   ]
  },
  {
   "cell_type": "code",
   "execution_count": 13,
   "metadata": {},
   "outputs": [],
   "source": [
    "temp_times = (Temp['Datetime'] - start_datetime)/np.timedelta64(1, 's')"
   ]
  },
  {
   "cell_type": "code",
   "execution_count": 14,
   "metadata": {},
   "outputs": [],
   "source": [
    "gases = ['H2', 'H2O', 'N2', 'O2', 'CO2']\n",
    "gas_masses = [2.0, 18.0, 28.0, 32.0, 44.0]"
   ]
  },
  {
   "cell_type": "code",
   "execution_count": 15,
   "metadata": {},
   "outputs": [],
   "source": [
    "final_tables = [] # list of pandas tables containing final data for each gas\n",
    "\n",
    "for idx, gas in enumerate(gases):\n",
    "    \n",
    "    gas_data = RGA_Data[RGA_Data['Mass'] == gas_masses[idx]]\n",
    "    gas_times = (gas_data['Datetime'] - start_datetime)/np.timedelta64(1, 's')\n",
    "    gas_ch1_lerp = np.interp(gas_times, temp_times, pd.to_numeric(Temp['CH1']))\n",
    "    gas_ch2_lerp = np.interp(gas_times, temp_times, pd.to_numeric(Temp['CH2']))\n",
    "    \n",
    "    gas_final_data = pd.DataFrame(data=gas_times)\n",
    "    gas_final_data.columns = ['exp_time']\n",
    "    gas_final_data['pressure'] = gas_data['Pressure']\n",
    "    # Celsius to Kelvin\n",
    "    gas_final_data['ch1_lerp'] = gas_ch1_lerp + 273.2\n",
    "    gas_final_data['ch2_lerp'] = gas_ch2_lerp + 273.2\n",
    "    gas_final_data['mean_temp'] = (gas_final_data['ch1_lerp'] + gas_final_data['ch2_lerp'])/2.0\n",
    "    \n",
    "    final_tables.append(gas_final_data)"
   ]
  },
  {
   "cell_type": "code",
   "execution_count": 16,
   "metadata": {},
   "outputs": [],
   "source": [
    "hdf_name = '{}_clean_data.h5'.format(run_label)\n",
    "\n",
    "if os.path.exists(hdf_name):\n",
    "    os.remove(hdf_name) # I want to use the append feature, and I don't want old data frames still in the file\n",
    "\n",
    "for idx, gas in enumerate(gases):\n",
    "    final_tables[idx].sort_values(by='exp_time', inplace=True) # one more sort just to be sure\n",
    "    final_tables[idx].to_hdf(hdf_name, key=gas)"
   ]
  },
  {
   "cell_type": "code",
   "execution_count": null,
   "metadata": {},
   "outputs": [],
   "source": []
  }
 ],
 "metadata": {
  "kernelspec": {
   "display_name": "Python 3",
   "language": "python",
   "name": "python3"
  },
  "language_info": {
   "codemirror_mode": {
    "name": "ipython",
    "version": 3
   },
   "file_extension": ".py",
   "mimetype": "text/x-python",
   "name": "python",
   "nbconvert_exporter": "python",
   "pygments_lexer": "ipython3",
   "version": "3.7.8"
  }
 },
 "nbformat": 4,
 "nbformat_minor": 4
}
