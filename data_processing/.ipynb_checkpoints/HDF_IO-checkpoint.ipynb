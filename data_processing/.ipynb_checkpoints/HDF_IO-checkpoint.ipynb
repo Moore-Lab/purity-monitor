{
 "cells": [
  {
   "cell_type": "code",
   "execution_count": 1,
   "metadata": {},
   "outputs": [],
   "source": [
    "import numpy as np\n",
    "import pandas as pd\n",
    "import matplotlib.pyplot as plt\n",
    "import os\n",
    "import datetime\n",
    "import scipy.optimize as spo\n",
    "plt.style.use('seaborn')\n",
    "\n",
    "from datetime import datetime as dt"
   ]
  },
  {
   "cell_type": "markdown",
   "metadata": {},
   "source": [
    "#### Unimportant Warnings"
   ]
  },
  {
   "cell_type": "code",
   "execution_count": 2,
   "metadata": {},
   "outputs": [],
   "source": [
    "import warnings\n",
    "warnings.simplefilter(action='ignore', category=FutureWarning)\n",
    "warnings.simplefilter(action='ignore', category=pd.errors.PerformanceWarning)"
   ]
  },
  {
   "cell_type": "markdown",
   "metadata": {},
   "source": [
    "#### Custom Files"
   ]
  },
  {
   "cell_type": "code",
   "execution_count": 3,
   "metadata": {},
   "outputs": [],
   "source": [
    "from data_io import DataIO # Custom IO file"
   ]
  },
  {
   "cell_type": "markdown",
   "metadata": {},
   "source": [
    "# Input/Output of RGA and Temperature Data"
   ]
  },
  {
   "cell_type": "code",
   "execution_count": 4,
   "metadata": {},
   "outputs": [],
   "source": [
    "Path = \"/project/david_moore/aj487/Data_WL110/Outgassing_Setup/20201109/\" # data file path"
   ]
  },
  {
   "cell_type": "code",
   "execution_count": 5,
   "metadata": {},
   "outputs": [],
   "source": [
    "IO = DataIO(Path)"
   ]
  },
  {
   "cell_type": "code",
   "execution_count": 6,
   "metadata": {},
   "outputs": [],
   "source": [
    "IO.Unzip()"
   ]
  },
  {
   "cell_type": "code",
   "execution_count": 7,
   "metadata": {},
   "outputs": [],
   "source": [
    "RGA_Data = IO.GetRGAData()"
   ]
  },
  {
   "cell_type": "code",
   "execution_count": 8,
   "metadata": {},
   "outputs": [],
   "source": [
    "Temp = IO.GetTemperatureData()"
   ]
  },
  {
   "cell_type": "code",
   "execution_count": 9,
   "metadata": {},
   "outputs": [],
   "source": [
    "#data.to_hdf(p+\"10_19_rga_2020.h5\", key='data')"
   ]
  },
  {
   "cell_type": "code",
   "execution_count": 10,
   "metadata": {},
   "outputs": [
    {
     "data": {
      "text/html": [
       "<div>\n",
       "<style scoped>\n",
       "    .dataframe tbody tr th:only-of-type {\n",
       "        vertical-align: middle;\n",
       "    }\n",
       "\n",
       "    .dataframe tbody tr th {\n",
       "        vertical-align: top;\n",
       "    }\n",
       "\n",
       "    .dataframe thead th {\n",
       "        text-align: right;\n",
       "    }\n",
       "</style>\n",
       "<table border=\"1\" class=\"dataframe\">\n",
       "  <thead>\n",
       "    <tr style=\"text-align: right;\">\n",
       "      <th></th>\n",
       "      <th>Datetime</th>\n",
       "      <th>Mass</th>\n",
       "      <th>Pressure</th>\n",
       "    </tr>\n",
       "  </thead>\n",
       "  <tbody>\n",
       "    <tr>\n",
       "      <th>0</th>\n",
       "      <td>2020-11-11 15:34:22</td>\n",
       "      <td>1.0</td>\n",
       "      <td>7.810000e-10</td>\n",
       "    </tr>\n",
       "    <tr>\n",
       "      <th>1</th>\n",
       "      <td>2020-11-11 15:34:22</td>\n",
       "      <td>1.1</td>\n",
       "      <td>7.330000e-10</td>\n",
       "    </tr>\n",
       "    <tr>\n",
       "      <th>2</th>\n",
       "      <td>2020-11-11 15:34:22</td>\n",
       "      <td>1.2</td>\n",
       "      <td>8.430000e-10</td>\n",
       "    </tr>\n",
       "    <tr>\n",
       "      <th>3</th>\n",
       "      <td>2020-11-11 15:34:22</td>\n",
       "      <td>1.3</td>\n",
       "      <td>2.920000e-09</td>\n",
       "    </tr>\n",
       "    <tr>\n",
       "      <th>4</th>\n",
       "      <td>2020-11-11 15:34:22</td>\n",
       "      <td>1.4</td>\n",
       "      <td>1.580000e-08</td>\n",
       "    </tr>\n",
       "    <tr>\n",
       "      <th>...</th>\n",
       "      <td>...</td>\n",
       "      <td>...</td>\n",
       "      <td>...</td>\n",
       "    </tr>\n",
       "    <tr>\n",
       "      <th>5517883</th>\n",
       "      <td>2020-11-10 04:26:35</td>\n",
       "      <td>99.6</td>\n",
       "      <td>4.050000e-11</td>\n",
       "    </tr>\n",
       "    <tr>\n",
       "      <th>5517884</th>\n",
       "      <td>2020-11-10 04:26:35</td>\n",
       "      <td>99.7</td>\n",
       "      <td>-3.230000e-11</td>\n",
       "    </tr>\n",
       "    <tr>\n",
       "      <th>5517885</th>\n",
       "      <td>2020-11-10 04:26:35</td>\n",
       "      <td>99.8</td>\n",
       "      <td>1.030000e-11</td>\n",
       "    </tr>\n",
       "    <tr>\n",
       "      <th>5517886</th>\n",
       "      <td>2020-11-10 04:26:35</td>\n",
       "      <td>99.9</td>\n",
       "      <td>2.060000e-11</td>\n",
       "    </tr>\n",
       "    <tr>\n",
       "      <th>5517887</th>\n",
       "      <td>2020-11-10 04:26:35</td>\n",
       "      <td>100.0</td>\n",
       "      <td>-8.930000e-12</td>\n",
       "    </tr>\n",
       "  </tbody>\n",
       "</table>\n",
       "<p>5517888 rows × 3 columns</p>\n",
       "</div>"
      ],
      "text/plain": [
       "                   Datetime   Mass      Pressure\n",
       "0       2020-11-11 15:34:22    1.0  7.810000e-10\n",
       "1       2020-11-11 15:34:22    1.1  7.330000e-10\n",
       "2       2020-11-11 15:34:22    1.2  8.430000e-10\n",
       "3       2020-11-11 15:34:22    1.3  2.920000e-09\n",
       "4       2020-11-11 15:34:22    1.4  1.580000e-08\n",
       "...                     ...    ...           ...\n",
       "5517883 2020-11-10 04:26:35   99.6  4.050000e-11\n",
       "5517884 2020-11-10 04:26:35   99.7 -3.230000e-11\n",
       "5517885 2020-11-10 04:26:35   99.8  1.030000e-11\n",
       "5517886 2020-11-10 04:26:35   99.9  2.060000e-11\n",
       "5517887 2020-11-10 04:26:35  100.0 -8.930000e-12\n",
       "\n",
       "[5517888 rows x 3 columns]"
      ]
     },
     "execution_count": 10,
     "metadata": {},
     "output_type": "execute_result"
    }
   ],
   "source": [
    "RGA_Data"
   ]
  },
  {
   "cell_type": "code",
   "execution_count": 11,
   "metadata": {},
   "outputs": [
    {
     "data": {
      "text/html": [
       "<div>\n",
       "<style scoped>\n",
       "    .dataframe tbody tr th:only-of-type {\n",
       "        vertical-align: middle;\n",
       "    }\n",
       "\n",
       "    .dataframe tbody tr th {\n",
       "        vertical-align: top;\n",
       "    }\n",
       "\n",
       "    .dataframe thead th {\n",
       "        text-align: right;\n",
       "    }\n",
       "</style>\n",
       "<table border=\"1\" class=\"dataframe\">\n",
       "  <thead>\n",
       "    <tr style=\"text-align: right;\">\n",
       "      <th></th>\n",
       "      <th>Date</th>\n",
       "      <th>Time</th>\n",
       "      <th>CH1</th>\n",
       "      <th>CH2</th>\n",
       "      <th>Datetime</th>\n",
       "    </tr>\n",
       "  </thead>\n",
       "  <tbody>\n",
       "    <tr>\n",
       "      <th>0</th>\n",
       "      <td>2020/11/10</td>\n",
       "      <td>17:59:00</td>\n",
       "      <td>37.9</td>\n",
       "      <td>40.5</td>\n",
       "      <td>2020-11-10 17:59:00</td>\n",
       "    </tr>\n",
       "    <tr>\n",
       "      <th>1</th>\n",
       "      <td>2020/11/10</td>\n",
       "      <td>17:59:01</td>\n",
       "      <td>37.9</td>\n",
       "      <td>40.5</td>\n",
       "      <td>2020-11-10 17:59:01</td>\n",
       "    </tr>\n",
       "    <tr>\n",
       "      <th>2</th>\n",
       "      <td>2020/11/10</td>\n",
       "      <td>17:59:04</td>\n",
       "      <td>37.9</td>\n",
       "      <td>40.6</td>\n",
       "      <td>2020-11-10 17:59:04</td>\n",
       "    </tr>\n",
       "    <tr>\n",
       "      <th>3</th>\n",
       "      <td>2020/11/10</td>\n",
       "      <td>17:59:05</td>\n",
       "      <td>37.9</td>\n",
       "      <td>40.6</td>\n",
       "      <td>2020-11-10 17:59:05</td>\n",
       "    </tr>\n",
       "    <tr>\n",
       "      <th>4</th>\n",
       "      <td>2020/11/10</td>\n",
       "      <td>17:59:06</td>\n",
       "      <td>37.9</td>\n",
       "      <td>40.6</td>\n",
       "      <td>2020-11-10 17:59:06</td>\n",
       "    </tr>\n",
       "    <tr>\n",
       "      <th>...</th>\n",
       "      <td>...</td>\n",
       "      <td>...</td>\n",
       "      <td>...</td>\n",
       "      <td>...</td>\n",
       "      <td>...</td>\n",
       "    </tr>\n",
       "    <tr>\n",
       "      <th>218392</th>\n",
       "      <td>2020/11/10</td>\n",
       "      <td>09:38:54</td>\n",
       "      <td>28.9</td>\n",
       "      <td>29.7</td>\n",
       "      <td>2020-11-10 09:38:54</td>\n",
       "    </tr>\n",
       "    <tr>\n",
       "      <th>218393</th>\n",
       "      <td>2020/11/10</td>\n",
       "      <td>09:38:55</td>\n",
       "      <td>28.9</td>\n",
       "      <td>29.7</td>\n",
       "      <td>2020-11-10 09:38:55</td>\n",
       "    </tr>\n",
       "    <tr>\n",
       "      <th>218394</th>\n",
       "      <td>2020/11/10</td>\n",
       "      <td>09:38:56</td>\n",
       "      <td>28.9</td>\n",
       "      <td>29.7</td>\n",
       "      <td>2020-11-10 09:38:56</td>\n",
       "    </tr>\n",
       "    <tr>\n",
       "      <th>218395</th>\n",
       "      <td>2020/11/10</td>\n",
       "      <td>09:38:58</td>\n",
       "      <td>28.9</td>\n",
       "      <td>29.7</td>\n",
       "      <td>2020-11-10 09:38:58</td>\n",
       "    </tr>\n",
       "    <tr>\n",
       "      <th>218396</th>\n",
       "      <td>2020/11/10</td>\n",
       "      <td>09:38:59</td>\n",
       "      <td>28.9</td>\n",
       "      <td>29.7</td>\n",
       "      <td>2020-11-10 09:38:59</td>\n",
       "    </tr>\n",
       "  </tbody>\n",
       "</table>\n",
       "<p>218397 rows × 5 columns</p>\n",
       "</div>"
      ],
      "text/plain": [
       "              Date      Time   CH1   CH2            Datetime\n",
       "0       2020/11/10  17:59:00  37.9  40.5 2020-11-10 17:59:00\n",
       "1       2020/11/10  17:59:01  37.9  40.5 2020-11-10 17:59:01\n",
       "2       2020/11/10  17:59:04  37.9  40.6 2020-11-10 17:59:04\n",
       "3       2020/11/10  17:59:05  37.9  40.6 2020-11-10 17:59:05\n",
       "4       2020/11/10  17:59:06  37.9  40.6 2020-11-10 17:59:06\n",
       "...            ...       ...   ...   ...                 ...\n",
       "218392  2020/11/10  09:38:54  28.9  29.7 2020-11-10 09:38:54\n",
       "218393  2020/11/10  09:38:55  28.9  29.7 2020-11-10 09:38:55\n",
       "218394  2020/11/10  09:38:56  28.9  29.7 2020-11-10 09:38:56\n",
       "218395  2020/11/10  09:38:58  28.9  29.7 2020-11-10 09:38:58\n",
       "218396  2020/11/10  09:38:59  28.9  29.7 2020-11-10 09:38:59\n",
       "\n",
       "[218397 rows x 5 columns]"
      ]
     },
     "execution_count": 11,
     "metadata": {},
     "output_type": "execute_result"
    }
   ],
   "source": [
    "Temp"
   ]
  },
  {
   "cell_type": "markdown",
   "metadata": {},
   "source": [
    "### Times"
   ]
  },
  {
   "cell_type": "code",
   "execution_count": 94,
   "metadata": {},
   "outputs": [
    {
     "data": {
      "text/plain": [
       "numpy.datetime64('2020-11-09T16:59:53.000000000')"
      ]
     },
     "execution_count": 94,
     "metadata": {},
     "output_type": "execute_result"
    }
   ],
   "source": [
    "# Starting RGA Time\n",
    "rga_start = RGA_Data['Datetime'].sort_values().unique()[0]\n",
    "rga_start"
   ]
  },
  {
   "cell_type": "code",
   "execution_count": 95,
   "metadata": {},
   "outputs": [
    {
     "data": {
      "text/plain": [
       "numpy.datetime64('2020-11-09T16:59:00.000000000')"
      ]
     },
     "execution_count": 95,
     "metadata": {},
     "output_type": "execute_result"
    }
   ],
   "source": [
    "# Starting temperature time\n",
    "temps_start = Temp['Datetime'].sort_values().unique()[0]\n",
    "temps_start"
   ]
  },
  {
   "cell_type": "code",
   "execution_count": 14,
   "metadata": {},
   "outputs": [],
   "source": [
    "# Find the EARLIEST time to calculate timedeltas from.\n",
    "if rga_start < temps_start:\n",
    "    start_datetime = rga_start\n",
    "else:\n",
    "    start_datetime = temps_start"
   ]
  },
  {
   "cell_type": "code",
   "execution_count": 15,
   "metadata": {},
   "outputs": [
    {
     "data": {
      "text/plain": [
       "numpy.datetime64('2020-11-09T16:59:00.000000000')"
      ]
     },
     "execution_count": 15,
     "metadata": {},
     "output_type": "execute_result"
    }
   ],
   "source": [
    "start_datetime"
   ]
  },
  {
   "cell_type": "code",
   "execution_count": 16,
   "metadata": {},
   "outputs": [],
   "source": [
    "temp_times = (Temp['Datetime'] - start_datetime)/np.timedelta64(1, 's')"
   ]
  },
  {
   "cell_type": "code",
   "execution_count": 17,
   "metadata": {},
   "outputs": [],
   "source": [
    "# Separate by mass\n",
    "H2_data = RGA_Data[RGA_Data['Mass'] == 2.0]\n",
    "H2O_data = RGA_Data[RGA_Data['Mass'] == 18.0]\n",
    "N2_data = RGA_Data[RGA_Data['Mass'] == 28.0]\n",
    "O2_data = RGA_Data[RGA_Data['Mass'] == 32.0]\n",
    "CO2_data = RGA_Data[RGA_Data['Mass'] == 44.0]"
   ]
  },
  {
   "cell_type": "code",
   "execution_count": 18,
   "metadata": {},
   "outputs": [],
   "source": [
    "rga_times = (RGA_Data['Datetime'].unique() - start_datetime)/np.timedelta64(1, 's')\n",
    "H2_times = (H2_data['Datetime'] - start_datetime)/np.timedelta64(1, 's')\n",
    "H2O_times = (H2O_data['Datetime'] - start_datetime)/np.timedelta64(1, 's')\n",
    "N2_times = (N2_data['Datetime'] - start_datetime)/np.timedelta64(1, 's')\n",
    "O2_times = (O2_data['Datetime'] - start_datetime)/np.timedelta64(1, 's')\n",
    "CO2_times = (CO2_data['Datetime'] - start_datetime)/np.timedelta64(1, 's')"
   ]
  },
  {
   "cell_type": "code",
   "execution_count": 93,
   "metadata": {},
   "outputs": [
    {
     "data": {
      "text/plain": [
       "430        167722.0\n",
       "1421        38519.0\n",
       "2412        75412.0\n",
       "3403       155287.0\n",
       "4394       104593.0\n",
       "             ...   \n",
       "5513363    186789.0\n",
       "5514354    217131.0\n",
       "5515345      9669.0\n",
       "5516336    209835.0\n",
       "5517327     41255.0\n",
       "Name: Datetime, Length: 5568, dtype: float64"
      ]
     },
     "execution_count": 93,
     "metadata": {},
     "output_type": "execute_result"
    }
   ],
   "source": [
    "CO2_times"
   ]
  },
  {
   "cell_type": "markdown",
   "metadata": {},
   "source": [
    "### Temperature Interpolation"
   ]
  },
  {
   "cell_type": "code",
   "execution_count": 19,
   "metadata": {},
   "outputs": [],
   "source": [
    "CO2_ch1_lerp = np.interp(CO2_times, temp_times, pd.to_numeric(Temp['CH1']))\n",
    "CO2_ch2_lerp = np.interp(CO2_times, temp_times, pd.to_numeric(Temp['CH2']))"
   ]
  },
  {
   "cell_type": "markdown",
   "metadata": {},
   "source": [
    "### Final Data Frames"
   ]
  },
  {
   "cell_type": "code",
   "execution_count": 20,
   "metadata": {},
   "outputs": [
    {
     "data": {
      "text/html": [
       "<div>\n",
       "<style scoped>\n",
       "    .dataframe tbody tr th:only-of-type {\n",
       "        vertical-align: middle;\n",
       "    }\n",
       "\n",
       "    .dataframe tbody tr th {\n",
       "        vertical-align: top;\n",
       "    }\n",
       "\n",
       "    .dataframe thead th {\n",
       "        text-align: right;\n",
       "    }\n",
       "</style>\n",
       "<table border=\"1\" class=\"dataframe\">\n",
       "  <thead>\n",
       "    <tr style=\"text-align: right;\">\n",
       "      <th></th>\n",
       "      <th>Exp_Time</th>\n",
       "      <th>CO2_Pressure</th>\n",
       "      <th>ch1_lerp</th>\n",
       "      <th>ch2_lerp</th>\n",
       "      <th>temp_est</th>\n",
       "    </tr>\n",
       "  </thead>\n",
       "  <tbody>\n",
       "    <tr>\n",
       "      <th>430</th>\n",
       "      <td>167722.0</td>\n",
       "      <td>8.640000e-08</td>\n",
       "      <td>302.1</td>\n",
       "      <td>302.9</td>\n",
       "      <td>302.5</td>\n",
       "    </tr>\n",
       "    <tr>\n",
       "      <th>1421</th>\n",
       "      <td>38519.0</td>\n",
       "      <td>1.370000e-07</td>\n",
       "      <td>311.1</td>\n",
       "      <td>313.7</td>\n",
       "      <td>312.4</td>\n",
       "    </tr>\n",
       "    <tr>\n",
       "      <th>2412</th>\n",
       "      <td>75412.0</td>\n",
       "      <td>1.270000e-07</td>\n",
       "      <td>302.1</td>\n",
       "      <td>302.9</td>\n",
       "      <td>302.5</td>\n",
       "    </tr>\n",
       "    <tr>\n",
       "      <th>3403</th>\n",
       "      <td>155287.0</td>\n",
       "      <td>8.900000e-08</td>\n",
       "      <td>302.1</td>\n",
       "      <td>302.9</td>\n",
       "      <td>302.5</td>\n",
       "    </tr>\n",
       "    <tr>\n",
       "      <th>4394</th>\n",
       "      <td>104593.0</td>\n",
       "      <td>1.040000e-07</td>\n",
       "      <td>302.1</td>\n",
       "      <td>302.9</td>\n",
       "      <td>302.5</td>\n",
       "    </tr>\n",
       "    <tr>\n",
       "      <th>...</th>\n",
       "      <td>...</td>\n",
       "      <td>...</td>\n",
       "      <td>...</td>\n",
       "      <td>...</td>\n",
       "      <td>...</td>\n",
       "    </tr>\n",
       "    <tr>\n",
       "      <th>5513363</th>\n",
       "      <td>186789.0</td>\n",
       "      <td>2.430000e-08</td>\n",
       "      <td>302.1</td>\n",
       "      <td>302.9</td>\n",
       "      <td>302.5</td>\n",
       "    </tr>\n",
       "    <tr>\n",
       "      <th>5514354</th>\n",
       "      <td>217131.0</td>\n",
       "      <td>1.440000e-08</td>\n",
       "      <td>302.1</td>\n",
       "      <td>302.9</td>\n",
       "      <td>302.5</td>\n",
       "    </tr>\n",
       "    <tr>\n",
       "      <th>5515345</th>\n",
       "      <td>9669.0</td>\n",
       "      <td>4.770000e-07</td>\n",
       "      <td>311.1</td>\n",
       "      <td>313.7</td>\n",
       "      <td>312.4</td>\n",
       "    </tr>\n",
       "    <tr>\n",
       "      <th>5516336</th>\n",
       "      <td>209835.0</td>\n",
       "      <td>1.480000e-08</td>\n",
       "      <td>302.1</td>\n",
       "      <td>302.9</td>\n",
       "      <td>302.5</td>\n",
       "    </tr>\n",
       "    <tr>\n",
       "      <th>5517327</th>\n",
       "      <td>41255.0</td>\n",
       "      <td>1.290000e-07</td>\n",
       "      <td>311.1</td>\n",
       "      <td>313.7</td>\n",
       "      <td>312.4</td>\n",
       "    </tr>\n",
       "  </tbody>\n",
       "</table>\n",
       "<p>5568 rows × 5 columns</p>\n",
       "</div>"
      ],
      "text/plain": [
       "         Exp_Time  CO2_Pressure  ch1_lerp  ch2_lerp  temp_est\n",
       "430      167722.0  8.640000e-08     302.1     302.9     302.5\n",
       "1421      38519.0  1.370000e-07     311.1     313.7     312.4\n",
       "2412      75412.0  1.270000e-07     302.1     302.9     302.5\n",
       "3403     155287.0  8.900000e-08     302.1     302.9     302.5\n",
       "4394     104593.0  1.040000e-07     302.1     302.9     302.5\n",
       "...           ...           ...       ...       ...       ...\n",
       "5513363  186789.0  2.430000e-08     302.1     302.9     302.5\n",
       "5514354  217131.0  1.440000e-08     302.1     302.9     302.5\n",
       "5515345    9669.0  4.770000e-07     311.1     313.7     312.4\n",
       "5516336  209835.0  1.480000e-08     302.1     302.9     302.5\n",
       "5517327   41255.0  1.290000e-07     311.1     313.7     312.4\n",
       "\n",
       "[5568 rows x 5 columns]"
      ]
     },
     "execution_count": 20,
     "metadata": {},
     "output_type": "execute_result"
    }
   ],
   "source": [
    "## Build CO2 final data frame\n",
    "CO2_final_data = pd.DataFrame(data=CO2_times)\n",
    "CO2_final_data.columns = ['Exp_Time']\n",
    "# Microtorr now\n",
    "CO2_final_data['CO2_Pressure'] = CO2_data['Pressure']\n",
    "# Celsius to Kelvin\n",
    "CO2_final_data['ch1_lerp'] = CO2_ch1_lerp + 273.2\n",
    "CO2_final_data['ch2_lerp'] = CO2_ch2_lerp + 273.2\n",
    "CO2_final_data['temp_est'] = (CO2_final_data['ch1_lerp'] + CO2_final_data['ch2_lerp'])/2.0\n",
    "CO2_final_data"
   ]
  },
  {
   "cell_type": "code",
   "execution_count": 96,
   "metadata": {},
   "outputs": [
    {
     "data": {
      "text/html": [
       "<div>\n",
       "<style scoped>\n",
       "    .dataframe tbody tr th:only-of-type {\n",
       "        vertical-align: middle;\n",
       "    }\n",
       "\n",
       "    .dataframe tbody tr th {\n",
       "        vertical-align: top;\n",
       "    }\n",
       "\n",
       "    .dataframe thead th {\n",
       "        text-align: right;\n",
       "    }\n",
       "</style>\n",
       "<table border=\"1\" class=\"dataframe\">\n",
       "  <thead>\n",
       "    <tr style=\"text-align: right;\">\n",
       "      <th></th>\n",
       "      <th>Exp_Time</th>\n",
       "      <th>CO2_Pressure</th>\n",
       "      <th>ch1_lerp</th>\n",
       "      <th>ch2_lerp</th>\n",
       "      <th>temp_est</th>\n",
       "    </tr>\n",
       "  </thead>\n",
       "  <tbody>\n",
       "    <tr>\n",
       "      <th>1245126</th>\n",
       "      <td>53.0</td>\n",
       "      <td>7.660000e-07</td>\n",
       "      <td>311.1</td>\n",
       "      <td>313.7</td>\n",
       "      <td>312.4</td>\n",
       "    </tr>\n",
       "    <tr>\n",
       "      <th>3224153</th>\n",
       "      <td>94.0</td>\n",
       "      <td>7.640000e-07</td>\n",
       "      <td>311.1</td>\n",
       "      <td>313.7</td>\n",
       "      <td>312.4</td>\n",
       "    </tr>\n",
       "    <tr>\n",
       "      <th>2963520</th>\n",
       "      <td>136.0</td>\n",
       "      <td>7.720000e-07</td>\n",
       "      <td>311.1</td>\n",
       "      <td>313.7</td>\n",
       "      <td>312.4</td>\n",
       "    </tr>\n",
       "    <tr>\n",
       "      <th>748635</th>\n",
       "      <td>177.0</td>\n",
       "      <td>7.780000e-07</td>\n",
       "      <td>311.1</td>\n",
       "      <td>313.7</td>\n",
       "      <td>312.4</td>\n",
       "    </tr>\n",
       "    <tr>\n",
       "      <th>1839726</th>\n",
       "      <td>219.0</td>\n",
       "      <td>7.900000e-07</td>\n",
       "      <td>311.1</td>\n",
       "      <td>313.7</td>\n",
       "      <td>312.4</td>\n",
       "    </tr>\n",
       "    <tr>\n",
       "      <th>...</th>\n",
       "      <td>...</td>\n",
       "      <td>...</td>\n",
       "      <td>...</td>\n",
       "      <td>...</td>\n",
       "      <td>...</td>\n",
       "    </tr>\n",
       "    <tr>\n",
       "      <th>1775311</th>\n",
       "      <td>230643.0</td>\n",
       "      <td>1.390000e-08</td>\n",
       "      <td>302.1</td>\n",
       "      <td>302.9</td>\n",
       "      <td>302.5</td>\n",
       "    </tr>\n",
       "    <tr>\n",
       "      <th>2526489</th>\n",
       "      <td>230685.0</td>\n",
       "      <td>1.410000e-08</td>\n",
       "      <td>302.1</td>\n",
       "      <td>302.9</td>\n",
       "      <td>302.5</td>\n",
       "    </tr>\n",
       "    <tr>\n",
       "      <th>4378668</th>\n",
       "      <td>230726.0</td>\n",
       "      <td>1.420000e-08</td>\n",
       "      <td>302.1</td>\n",
       "      <td>302.9</td>\n",
       "      <td>302.5</td>\n",
       "    </tr>\n",
       "    <tr>\n",
       "      <th>419623</th>\n",
       "      <td>230768.0</td>\n",
       "      <td>1.400000e-08</td>\n",
       "      <td>302.1</td>\n",
       "      <td>302.9</td>\n",
       "      <td>302.5</td>\n",
       "    </tr>\n",
       "    <tr>\n",
       "      <th>3371812</th>\n",
       "      <td>230809.0</td>\n",
       "      <td>1.380000e-08</td>\n",
       "      <td>302.1</td>\n",
       "      <td>302.9</td>\n",
       "      <td>302.5</td>\n",
       "    </tr>\n",
       "  </tbody>\n",
       "</table>\n",
       "<p>5568 rows × 5 columns</p>\n",
       "</div>"
      ],
      "text/plain": [
       "         Exp_Time  CO2_Pressure  ch1_lerp  ch2_lerp  temp_est\n",
       "1245126      53.0  7.660000e-07     311.1     313.7     312.4\n",
       "3224153      94.0  7.640000e-07     311.1     313.7     312.4\n",
       "2963520     136.0  7.720000e-07     311.1     313.7     312.4\n",
       "748635      177.0  7.780000e-07     311.1     313.7     312.4\n",
       "1839726     219.0  7.900000e-07     311.1     313.7     312.4\n",
       "...           ...           ...       ...       ...       ...\n",
       "1775311  230643.0  1.390000e-08     302.1     302.9     302.5\n",
       "2526489  230685.0  1.410000e-08     302.1     302.9     302.5\n",
       "4378668  230726.0  1.420000e-08     302.1     302.9     302.5\n",
       "419623   230768.0  1.400000e-08     302.1     302.9     302.5\n",
       "3371812  230809.0  1.380000e-08     302.1     302.9     302.5\n",
       "\n",
       "[5568 rows x 5 columns]"
      ]
     },
     "execution_count": 96,
     "metadata": {},
     "output_type": "execute_result"
    }
   ],
   "source": [
    "CO2_final_data.sort_values(by='Exp_Time', inplace=True)\n",
    "CO2_final_data"
   ]
  },
  {
   "cell_type": "markdown",
   "metadata": {},
   "source": [
    "### Curve Fitting\n",
    "$$p(t,T) = A\\cdot \\exp\\left(-\\frac{b}{T}\\right)\\cdot\\exp\\left(-c\\cdot t\\cdot \\exp\\left(-\\frac{b}{T}\\right)\\right)$$"
   ]
  },
  {
   "cell_type": "code",
   "execution_count": 22,
   "metadata": {},
   "outputs": [],
   "source": [
    "def pressure_fit(tT, A, b, c):\n",
    "    # (k,M) array if there are k predictors\n",
    "    factor = np.exp(-1.0*b/tT[1])\n",
    "    return A * factor * np.exp(-1.0*c*tT[0]*factor)"
   ]
  },
  {
   "cell_type": "code",
   "execution_count": 23,
   "metadata": {},
   "outputs": [],
   "source": [
    "#O2_jump1 = O2_final_data[O2_final_data['Datetime'].between(51000, 65000)]"
   ]
  },
  {
   "cell_type": "code",
   "execution_count": 24,
   "metadata": {},
   "outputs": [],
   "source": [
    "#O2_Tdata = O2_jump1[['Datetime', 'temp_est']].T.to_numpy()\n",
    "#O2_Tdata.shape"
   ]
  },
  {
   "cell_type": "code",
   "execution_count": 25,
   "metadata": {},
   "outputs": [],
   "source": [
    "# Initial guess of uncertainties\n",
    "#O2_sigma = np.empty(O2_Tdata.shape[1]); O2_sigma.fill(1e-9)\n",
    "#O2_sigma.shape"
   ]
  },
  {
   "cell_type": "code",
   "execution_count": 26,
   "metadata": {},
   "outputs": [],
   "source": [
    "#popt, pcov = spo.curve_fit(pressure_fit, O2_Tdata, O2_jump1['O2_Pressure'], p0=[50, 5800, 980], bounds=([-np.inf, -np.inf, 0],np.inf), maxfev=8000)"
   ]
  },
  {
   "cell_type": "code",
   "execution_count": 27,
   "metadata": {},
   "outputs": [],
   "source": [
    "#popt"
   ]
  },
  {
   "cell_type": "code",
   "execution_count": 28,
   "metadata": {},
   "outputs": [],
   "source": [
    "#pcov"
   ]
  },
  {
   "cell_type": "code",
   "execution_count": 29,
   "metadata": {},
   "outputs": [],
   "source": [
    "#fit_vals = pressure_fit(O2_Tdata, popt[0], popt[1], popt[2])\n",
    "#fit_vals"
   ]
  },
  {
   "cell_type": "code",
   "execution_count": 30,
   "metadata": {},
   "outputs": [
    {
     "data": {
      "text/html": [
       "<div>\n",
       "<style scoped>\n",
       "    .dataframe tbody tr th:only-of-type {\n",
       "        vertical-align: middle;\n",
       "    }\n",
       "\n",
       "    .dataframe tbody tr th {\n",
       "        vertical-align: top;\n",
       "    }\n",
       "\n",
       "    .dataframe thead th {\n",
       "        text-align: right;\n",
       "    }\n",
       "</style>\n",
       "<table border=\"1\" class=\"dataframe\">\n",
       "  <thead>\n",
       "    <tr style=\"text-align: right;\">\n",
       "      <th></th>\n",
       "      <th>Exp_Time</th>\n",
       "      <th>CO2_Pressure</th>\n",
       "      <th>ch1_lerp</th>\n",
       "      <th>ch2_lerp</th>\n",
       "      <th>temp_est</th>\n",
       "    </tr>\n",
       "  </thead>\n",
       "  <tbody>\n",
       "    <tr>\n",
       "      <th>586111</th>\n",
       "      <td>111018.0</td>\n",
       "      <td>1.040000e-07</td>\n",
       "      <td>302.1</td>\n",
       "      <td>302.9</td>\n",
       "      <td>302.5</td>\n",
       "    </tr>\n",
       "    <tr>\n",
       "      <th>4650202</th>\n",
       "      <td>111059.0</td>\n",
       "      <td>1.040000e-07</td>\n",
       "      <td>302.1</td>\n",
       "      <td>302.9</td>\n",
       "      <td>302.5</td>\n",
       "    </tr>\n",
       "    <tr>\n",
       "      <th>5202189</th>\n",
       "      <td>111101.0</td>\n",
       "      <td>1.040000e-07</td>\n",
       "      <td>302.1</td>\n",
       "      <td>302.9</td>\n",
       "      <td>302.5</td>\n",
       "    </tr>\n",
       "    <tr>\n",
       "      <th>475119</th>\n",
       "      <td>111142.0</td>\n",
       "      <td>1.040000e-07</td>\n",
       "      <td>302.1</td>\n",
       "      <td>302.9</td>\n",
       "      <td>302.5</td>\n",
       "    </tr>\n",
       "    <tr>\n",
       "      <th>5149666</th>\n",
       "      <td>111184.0</td>\n",
       "      <td>1.060000e-07</td>\n",
       "      <td>302.1</td>\n",
       "      <td>302.9</td>\n",
       "      <td>302.5</td>\n",
       "    </tr>\n",
       "    <tr>\n",
       "      <th>...</th>\n",
       "      <td>...</td>\n",
       "      <td>...</td>\n",
       "      <td>...</td>\n",
       "      <td>...</td>\n",
       "      <td>...</td>\n",
       "    </tr>\n",
       "    <tr>\n",
       "      <th>679265</th>\n",
       "      <td>149816.0</td>\n",
       "      <td>7.290000e-08</td>\n",
       "      <td>302.1</td>\n",
       "      <td>302.9</td>\n",
       "      <td>302.5</td>\n",
       "    </tr>\n",
       "    <tr>\n",
       "      <th>2635499</th>\n",
       "      <td>149857.0</td>\n",
       "      <td>7.210000e-08</td>\n",
       "      <td>302.1</td>\n",
       "      <td>302.9</td>\n",
       "      <td>302.5</td>\n",
       "    </tr>\n",
       "    <tr>\n",
       "      <th>2860456</th>\n",
       "      <td>149898.0</td>\n",
       "      <td>7.220000e-08</td>\n",
       "      <td>302.1</td>\n",
       "      <td>302.9</td>\n",
       "      <td>302.5</td>\n",
       "    </tr>\n",
       "    <tr>\n",
       "      <th>4538219</th>\n",
       "      <td>149940.0</td>\n",
       "      <td>7.260000e-08</td>\n",
       "      <td>302.1</td>\n",
       "      <td>302.9</td>\n",
       "      <td>302.5</td>\n",
       "    </tr>\n",
       "    <tr>\n",
       "      <th>1340262</th>\n",
       "      <td>149981.0</td>\n",
       "      <td>7.210000e-08</td>\n",
       "      <td>302.1</td>\n",
       "      <td>302.9</td>\n",
       "      <td>302.5</td>\n",
       "    </tr>\n",
       "  </tbody>\n",
       "</table>\n",
       "<p>941 rows × 5 columns</p>\n",
       "</div>"
      ],
      "text/plain": [
       "         Exp_Time  CO2_Pressure  ch1_lerp  ch2_lerp  temp_est\n",
       "586111   111018.0  1.040000e-07     302.1     302.9     302.5\n",
       "4650202  111059.0  1.040000e-07     302.1     302.9     302.5\n",
       "5202189  111101.0  1.040000e-07     302.1     302.9     302.5\n",
       "475119   111142.0  1.040000e-07     302.1     302.9     302.5\n",
       "5149666  111184.0  1.060000e-07     302.1     302.9     302.5\n",
       "...           ...           ...       ...       ...       ...\n",
       "679265   149816.0  7.290000e-08     302.1     302.9     302.5\n",
       "2635499  149857.0  7.210000e-08     302.1     302.9     302.5\n",
       "2860456  149898.0  7.220000e-08     302.1     302.9     302.5\n",
       "4538219  149940.0  7.260000e-08     302.1     302.9     302.5\n",
       "1340262  149981.0  7.210000e-08     302.1     302.9     302.5\n",
       "\n",
       "[941 rows x 5 columns]"
      ]
     },
     "execution_count": 30,
     "metadata": {},
     "output_type": "execute_result"
    }
   ],
   "source": [
    "CO2_jump4 = CO2_final_data[CO2_final_data['Exp_Time'].between(111000, 150000)]\n",
    "CO2_jump4"
   ]
  },
  {
   "cell_type": "code",
   "execution_count": 31,
   "metadata": {},
   "outputs": [
    {
     "data": {
      "text/plain": [
       "111018.0"
      ]
     },
     "execution_count": 31,
     "metadata": {},
     "output_type": "execute_result"
    }
   ],
   "source": [
    "CO2_4T_start = CO2_jump4['Exp_Time'].unique()[0]\n",
    "CO2_4T_start"
   ]
  },
  {
   "cell_type": "code",
   "execution_count": 32,
   "metadata": {},
   "outputs": [
    {
     "name": "stderr",
     "output_type": "stream",
     "text": [
      "/gpfs/loomis/project/david_moore/ael59/conda_envs/nexo/lib/python3.7/site-packages/ipykernel_launcher.py:1: SettingWithCopyWarning: \n",
      "A value is trying to be set on a copy of a slice from a DataFrame.\n",
      "Try using .loc[row_indexer,col_indexer] = value instead\n",
      "\n",
      "See the caveats in the documentation: https://pandas.pydata.org/pandas-docs/stable/user_guide/indexing.html#returning-a-view-versus-a-copy\n",
      "  \"\"\"Entry point for launching an IPython kernel.\n"
     ]
    },
    {
     "data": {
      "text/html": [
       "<div>\n",
       "<style scoped>\n",
       "    .dataframe tbody tr th:only-of-type {\n",
       "        vertical-align: middle;\n",
       "    }\n",
       "\n",
       "    .dataframe tbody tr th {\n",
       "        vertical-align: top;\n",
       "    }\n",
       "\n",
       "    .dataframe thead th {\n",
       "        text-align: right;\n",
       "    }\n",
       "</style>\n",
       "<table border=\"1\" class=\"dataframe\">\n",
       "  <thead>\n",
       "    <tr style=\"text-align: right;\">\n",
       "      <th></th>\n",
       "      <th>Exp_Time</th>\n",
       "      <th>CO2_Pressure</th>\n",
       "      <th>ch1_lerp</th>\n",
       "      <th>ch2_lerp</th>\n",
       "      <th>temp_est</th>\n",
       "      <th>Jump_Time</th>\n",
       "    </tr>\n",
       "  </thead>\n",
       "  <tbody>\n",
       "    <tr>\n",
       "      <th>586111</th>\n",
       "      <td>111018.0</td>\n",
       "      <td>1.040000e-07</td>\n",
       "      <td>302.1</td>\n",
       "      <td>302.9</td>\n",
       "      <td>302.5</td>\n",
       "      <td>0.0</td>\n",
       "    </tr>\n",
       "    <tr>\n",
       "      <th>4650202</th>\n",
       "      <td>111059.0</td>\n",
       "      <td>1.040000e-07</td>\n",
       "      <td>302.1</td>\n",
       "      <td>302.9</td>\n",
       "      <td>302.5</td>\n",
       "      <td>41.0</td>\n",
       "    </tr>\n",
       "    <tr>\n",
       "      <th>5202189</th>\n",
       "      <td>111101.0</td>\n",
       "      <td>1.040000e-07</td>\n",
       "      <td>302.1</td>\n",
       "      <td>302.9</td>\n",
       "      <td>302.5</td>\n",
       "      <td>83.0</td>\n",
       "    </tr>\n",
       "    <tr>\n",
       "      <th>475119</th>\n",
       "      <td>111142.0</td>\n",
       "      <td>1.040000e-07</td>\n",
       "      <td>302.1</td>\n",
       "      <td>302.9</td>\n",
       "      <td>302.5</td>\n",
       "      <td>124.0</td>\n",
       "    </tr>\n",
       "    <tr>\n",
       "      <th>5149666</th>\n",
       "      <td>111184.0</td>\n",
       "      <td>1.060000e-07</td>\n",
       "      <td>302.1</td>\n",
       "      <td>302.9</td>\n",
       "      <td>302.5</td>\n",
       "      <td>166.0</td>\n",
       "    </tr>\n",
       "    <tr>\n",
       "      <th>...</th>\n",
       "      <td>...</td>\n",
       "      <td>...</td>\n",
       "      <td>...</td>\n",
       "      <td>...</td>\n",
       "      <td>...</td>\n",
       "      <td>...</td>\n",
       "    </tr>\n",
       "    <tr>\n",
       "      <th>679265</th>\n",
       "      <td>149816.0</td>\n",
       "      <td>7.290000e-08</td>\n",
       "      <td>302.1</td>\n",
       "      <td>302.9</td>\n",
       "      <td>302.5</td>\n",
       "      <td>38798.0</td>\n",
       "    </tr>\n",
       "    <tr>\n",
       "      <th>2635499</th>\n",
       "      <td>149857.0</td>\n",
       "      <td>7.210000e-08</td>\n",
       "      <td>302.1</td>\n",
       "      <td>302.9</td>\n",
       "      <td>302.5</td>\n",
       "      <td>38839.0</td>\n",
       "    </tr>\n",
       "    <tr>\n",
       "      <th>2860456</th>\n",
       "      <td>149898.0</td>\n",
       "      <td>7.220000e-08</td>\n",
       "      <td>302.1</td>\n",
       "      <td>302.9</td>\n",
       "      <td>302.5</td>\n",
       "      <td>38880.0</td>\n",
       "    </tr>\n",
       "    <tr>\n",
       "      <th>4538219</th>\n",
       "      <td>149940.0</td>\n",
       "      <td>7.260000e-08</td>\n",
       "      <td>302.1</td>\n",
       "      <td>302.9</td>\n",
       "      <td>302.5</td>\n",
       "      <td>38922.0</td>\n",
       "    </tr>\n",
       "    <tr>\n",
       "      <th>1340262</th>\n",
       "      <td>149981.0</td>\n",
       "      <td>7.210000e-08</td>\n",
       "      <td>302.1</td>\n",
       "      <td>302.9</td>\n",
       "      <td>302.5</td>\n",
       "      <td>38963.0</td>\n",
       "    </tr>\n",
       "  </tbody>\n",
       "</table>\n",
       "<p>941 rows × 6 columns</p>\n",
       "</div>"
      ],
      "text/plain": [
       "         Exp_Time  CO2_Pressure  ch1_lerp  ch2_lerp  temp_est  Jump_Time\n",
       "586111   111018.0  1.040000e-07     302.1     302.9     302.5        0.0\n",
       "4650202  111059.0  1.040000e-07     302.1     302.9     302.5       41.0\n",
       "5202189  111101.0  1.040000e-07     302.1     302.9     302.5       83.0\n",
       "475119   111142.0  1.040000e-07     302.1     302.9     302.5      124.0\n",
       "5149666  111184.0  1.060000e-07     302.1     302.9     302.5      166.0\n",
       "...           ...           ...       ...       ...       ...        ...\n",
       "679265   149816.0  7.290000e-08     302.1     302.9     302.5    38798.0\n",
       "2635499  149857.0  7.210000e-08     302.1     302.9     302.5    38839.0\n",
       "2860456  149898.0  7.220000e-08     302.1     302.9     302.5    38880.0\n",
       "4538219  149940.0  7.260000e-08     302.1     302.9     302.5    38922.0\n",
       "1340262  149981.0  7.210000e-08     302.1     302.9     302.5    38963.0\n",
       "\n",
       "[941 rows x 6 columns]"
      ]
     },
     "execution_count": 32,
     "metadata": {},
     "output_type": "execute_result"
    }
   ],
   "source": [
    "CO2_jump4['Jump_Time'] = CO2_jump4['Exp_Time'] - CO2_4T_start\n",
    "CO2_jump4"
   ]
  },
  {
   "cell_type": "code",
   "execution_count": 33,
   "metadata": {},
   "outputs": [
    {
     "data": {
      "text/plain": [
       "(2, 941)"
      ]
     },
     "execution_count": 33,
     "metadata": {},
     "output_type": "execute_result"
    }
   ],
   "source": [
    "CO2_4T = CO2_jump4[['Jump_Time', 'temp_est']].T.to_numpy()\n",
    "CO2_4T.shape"
   ]
  },
  {
   "cell_type": "code",
   "execution_count": 87,
   "metadata": {},
   "outputs": [],
   "source": [
    "popt, pcov = spo.curve_fit(pressure_fit, CO2_4T, CO2_jump4['CO2_Pressure'], p0=[18, 5800, 1500], bounds=([0, 0, 0],np.inf), maxfev=100000)"
   ]
  },
  {
   "cell_type": "code",
   "execution_count": 88,
   "metadata": {},
   "outputs": [
    {
     "data": {
      "text/plain": [
       "array([  18., 5800., 1500.])"
      ]
     },
     "execution_count": 88,
     "metadata": {},
     "output_type": "execute_result"
    }
   ],
   "source": [
    "popt"
   ]
  },
  {
   "cell_type": "code",
   "execution_count": 89,
   "metadata": {},
   "outputs": [
    {
     "data": {
      "text/plain": [
       "array([[3.68249463e+14, 6.18863769e+15, 3.06874477e+16],\n",
       "       [6.18863769e+15, 1.04003509e+17, 5.15719679e+17],\n",
       "       [3.06874477e+16, 5.15719679e+17, 2.55728667e+18]])"
      ]
     },
     "execution_count": 89,
     "metadata": {},
     "output_type": "execute_result"
    }
   ],
   "source": [
    "pcov"
   ]
  },
  {
   "cell_type": "code",
   "execution_count": 90,
   "metadata": {},
   "outputs": [],
   "source": [
    "CO2_4_fits = pressure_fit(CO2_4T, popt[0], popt[1], popt[2])"
   ]
  },
  {
   "cell_type": "markdown",
   "metadata": {},
   "source": [
    "### Plotting"
   ]
  },
  {
   "cell_type": "code",
   "execution_count": 91,
   "metadata": {},
   "outputs": [
    {
     "data": {
      "image/png": "[encoded data removed]",
      "text/plain": [
       "<Figure size 720x432 with 1 Axes>"
      ]
     },
     "metadata": {
      "needs_background": "light"
     },
     "output_type": "display_data"
    }
   ],
   "source": [
    "fig, ax = plt.subplots(figsize=(10,6))\n",
    "ax.scatter(CO2_jump4['Exp_Time']/3600, CO2_jump4['CO2_Pressure'], marker='.', color='red')\n",
    "ax.plot(CO2_jump4['Exp_Time']/3600, CO2_4_fits, color='black')\n",
    "ax.set_ylabel('Partial Pressure [torr]')\n",
    "ax.set_xlabel('Experiment Time [hours]')\n",
    "ax.set_yscale('log')\n",
    "\n",
    "plt.show()"
   ]
  },
  {
   "cell_type": "code",
   "execution_count": 39,
   "metadata": {},
   "outputs": [
    {
     "data": {
      "image/png": "[encoded data removed]",
      "text/plain": [
       "<Figure size 720x864 with 2 Axes>"
      ]
     },
     "metadata": {
      "needs_background": "light"
     },
     "output_type": "display_data"
    }
   ],
   "source": [
    "fig, ax = plt.subplots(figsize=(10,12),  nrows = 2, sharex=True)\n",
    "ax[0].scatter(H2_times, H2_data['Pressure'], marker='.', label='Hydrogen')\n",
    "ax[0].scatter(H2O_times, H2O_data['Pressure'], marker='.', label='Water Vapor')\n",
    "ax[0].scatter(N2_times, N2_data['Pressure'], marker='.', label='Nitrogen')\n",
    "ax[0].scatter(O2_times, O2_data['Pressure'], marker='.', label='Oxygen')\n",
    "ax[0].scatter(CO2_times, CO2_data['Pressure'], marker='.', label='Carbon Dioxide')\n",
    "ax[0].set_title('RGA Output for Impurities')\n",
    "ax[0].set_xlabel('Time')\n",
    "ax[0].set_ylabel('Partial Pressure (torr)')\n",
    "ax[0].legend()\n",
    "ax[0].set_yscale('log')\n",
    "\n",
    "ax[1].plot(temp_times, pd.to_numeric(Temp['CH1']), label='Channel 1')\n",
    "ax[1].plot(temp_times, pd.to_numeric(Temp['CH2']), label='Channel 2', color='darkorange')\n",
    "ax[1].set_title('Temperature over Time from Top and Bottom Channels')\n",
    "ax[1].set_xlabel('Time [sec]')\n",
    "ax[1].set_ylabel('Temperature (C)')\n",
    "ax[1].legend()\n",
    "\n",
    "fig.savefig('plot_out_2020_11_09.png', dpi=300)\n",
    "plt.show()"
   ]
  },
  {
   "cell_type": "code",
   "execution_count": 97,
   "metadata": {},
   "outputs": [
    {
     "data": {
      "image/png": "[encoded data removed]",
      "text/plain": [
       "<Figure size 720x432 with 1 Axes>"
      ]
     },
     "metadata": {
      "needs_background": "light"
     },
     "output_type": "display_data"
    }
   ],
   "source": [
    "fig, ax = plt.subplots(figsize=(10,6))\n",
    "ax.plot(CO2_final_data['Exp_Time'], CO2_final_data['ch1_lerp'], label='Interpolated CH1')\n",
    "ax.plot(CO2_final_data['Exp_Time'], CO2_final_data['ch2_lerp'], label='Interpolated CH2', color='darkorange')\n",
    "ax.plot(CO2_final_data['Exp_Time'], CO2_final_data['temp_est'], label='Average Interpolated', color='maroon')\n",
    "ax.legend()\n",
    "\n",
    "plt.show()"
   ]
  },
  {
   "cell_type": "code",
   "execution_count": 41,
   "metadata": {},
   "outputs": [],
   "source": [
    "#IO.RemoveZipDir()"
   ]
  },
  {
   "cell_type": "code",
   "execution_count": null,
   "metadata": {},
   "outputs": [],
   "source": []
  }
 ],
 "metadata": {
  "kernelspec": {
   "display_name": "Python 3",
   "language": "python",
   "name": "python3"
  },
  "language_info": {
   "codemirror_mode": {
    "name": "ipython",
    "version": 3
   },
   "file_extension": ".py",
   "mimetype": "text/x-python",
   "name": "python",
   "nbconvert_exporter": "python",
   "pygments_lexer": "ipython3",
   "version": "3.7.8"
  }
 },
 "nbformat": 4,
 "nbformat_minor": 4
}
