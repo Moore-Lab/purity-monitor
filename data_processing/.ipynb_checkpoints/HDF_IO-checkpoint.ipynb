{
 "cells": [
  {
   "cell_type": "code",
   "execution_count": 1,
   "metadata": {},
   "outputs": [],
   "source": [
    "import numpy as np\n",
    "import pandas as pd\n",
    "import matplotlib.pyplot as plt\n",
    "import os\n",
    "plt.style.use('seaborn')\n",
    "\n",
    "import data_io # Custom IO file"
   ]
  },
  {
   "cell_type": "markdown",
   "metadata": {},
   "source": [
    "# Input/Output of RGA and Temperature Data"
   ]
  },
  {
   "cell_type": "code",
   "execution_count": 2,
   "metadata": {},
   "outputs": [],
   "source": [
    "p = os.getcwd() # for now, data is in this directory"
   ]
  },
  {
   "cell_type": "code",
   "execution_count": 3,
   "metadata": {},
   "outputs": [],
   "source": [
    "data = data_io.read_rga_outs(p)"
   ]
  },
  {
   "cell_type": "code",
   "execution_count": 4,
   "metadata": {},
   "outputs": [
    {
     "data": {
      "text/html": [
       "<div>\n",
       "<style scoped>\n",
       "    .dataframe tbody tr th:only-of-type {\n",
       "        vertical-align: middle;\n",
       "    }\n",
       "\n",
       "    .dataframe tbody tr th {\n",
       "        vertical-align: top;\n",
       "    }\n",
       "\n",
       "    .dataframe thead th {\n",
       "        text-align: right;\n",
       "    }\n",
       "</style>\n",
       "<table border=\"1\" class=\"dataframe\">\n",
       "  <thead>\n",
       "    <tr style=\"text-align: right;\">\n",
       "      <th></th>\n",
       "      <th>Datetime</th>\n",
       "      <th>Mass_amu</th>\n",
       "      <th>Partial_Pressure_torr</th>\n",
       "    </tr>\n",
       "  </thead>\n",
       "  <tbody>\n",
       "    <tr>\n",
       "      <th>0</th>\n",
       "      <td>2019-05-15 10:36:29</td>\n",
       "      <td>1</td>\n",
       "      <td>8.71e-11</td>\n",
       "    </tr>\n",
       "    <tr>\n",
       "      <th>1</th>\n",
       "      <td>2019-05-15 10:36:29</td>\n",
       "      <td>1.1</td>\n",
       "      <td>1.99e-10</td>\n",
       "    </tr>\n",
       "    <tr>\n",
       "      <th>2</th>\n",
       "      <td>2019-05-15 10:36:29</td>\n",
       "      <td>1.2</td>\n",
       "      <td>1.81e-09</td>\n",
       "    </tr>\n",
       "    <tr>\n",
       "      <th>3</th>\n",
       "      <td>2019-05-15 10:36:29</td>\n",
       "      <td>1.3</td>\n",
       "      <td>3.57e-09</td>\n",
       "    </tr>\n",
       "    <tr>\n",
       "      <th>4</th>\n",
       "      <td>2019-05-15 10:36:29</td>\n",
       "      <td>1.4</td>\n",
       "      <td>2.29e-09</td>\n",
       "    </tr>\n",
       "    <tr>\n",
       "      <th>...</th>\n",
       "      <td>...</td>\n",
       "      <td>...</td>\n",
       "      <td>...</td>\n",
       "    </tr>\n",
       "    <tr>\n",
       "      <th>1636</th>\n",
       "      <td>2019-05-06 09:20:57</td>\n",
       "      <td>164.6</td>\n",
       "      <td>3.63e-11</td>\n",
       "    </tr>\n",
       "    <tr>\n",
       "      <th>1637</th>\n",
       "      <td>2019-05-06 09:20:57</td>\n",
       "      <td>164.7</td>\n",
       "      <td>2.69e-11</td>\n",
       "    </tr>\n",
       "    <tr>\n",
       "      <th>1638</th>\n",
       "      <td>2019-05-06 09:20:57</td>\n",
       "      <td>164.8</td>\n",
       "      <td>5.06e-10</td>\n",
       "    </tr>\n",
       "    <tr>\n",
       "      <th>1639</th>\n",
       "      <td>2019-05-06 09:20:57</td>\n",
       "      <td>164.9</td>\n",
       "      <td>9.73e-11</td>\n",
       "    </tr>\n",
       "    <tr>\n",
       "      <th>1640</th>\n",
       "      <td>2019-05-06 09:20:57</td>\n",
       "      <td>165</td>\n",
       "      <td>-1.34e-10</td>\n",
       "    </tr>\n",
       "  </tbody>\n",
       "</table>\n",
       "<p>2282 rows × 3 columns</p>\n",
       "</div>"
      ],
      "text/plain": [
       "                Datetime Mass_amu Partial_Pressure_torr\n",
       "0    2019-05-15 10:36:29        1              8.71e-11\n",
       "1    2019-05-15 10:36:29      1.1              1.99e-10\n",
       "2    2019-05-15 10:36:29      1.2              1.81e-09\n",
       "3    2019-05-15 10:36:29      1.3              3.57e-09\n",
       "4    2019-05-15 10:36:29      1.4              2.29e-09\n",
       "...                  ...      ...                   ...\n",
       "1636 2019-05-06 09:20:57    164.6              3.63e-11\n",
       "1637 2019-05-06 09:20:57    164.7              2.69e-11\n",
       "1638 2019-05-06 09:20:57    164.8              5.06e-10\n",
       "1639 2019-05-06 09:20:57    164.9              9.73e-11\n",
       "1640 2019-05-06 09:20:57      165             -1.34e-10\n",
       "\n",
       "[2282 rows x 3 columns]"
      ]
     },
     "execution_count": 4,
     "metadata": {},
     "output_type": "execute_result"
    }
   ],
   "source": [
    "data"
   ]
  },
  {
   "cell_type": "code",
   "execution_count": null,
   "metadata": {},
   "outputs": [],
   "source": []
  }
 ],
 "metadata": {
  "kernelspec": {
   "display_name": "Python 3",
   "language": "python",
   "name": "python3"
  },
  "language_info": {
   "codemirror_mode": {
    "name": "ipython",
    "version": 3
   },
   "file_extension": ".py",
   "mimetype": "text/x-python",
   "name": "python",
   "nbconvert_exporter": "python",
   "pygments_lexer": "ipython3",
   "version": "3.8.5"
  }
 },
 "nbformat": 4,
 "nbformat_minor": 4
}
