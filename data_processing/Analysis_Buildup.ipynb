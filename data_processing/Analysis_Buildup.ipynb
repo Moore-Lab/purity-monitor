{
 "cells": [
  {
   "cell_type": "code",
   "execution_count": 1,
   "metadata": {},
   "outputs": [],
   "source": [
    "import numpy as np\n",
    "import pandas as pd\n",
    "import matplotlib.pyplot as plt\n",
    "import datetime\n",
    "import scipy.optimize as spo\n",
    "import scipy.stats as sts\n",
    "plt.style.use('seaborn')"
   ]
  },
  {
   "cell_type": "markdown",
   "metadata": {},
   "source": [
    "# Pressure Analysis from the Ground Up\n",
    "This notebook follows all the steps of the pressure data analysis from `Data_Analysis.ipynb` as transparently and simply as possible. The notebook will be written in an order following the conceptual steps in the analysis, rather than separating plots and code."
   ]
  },
  {
   "cell_type": "markdown",
   "metadata": {},
   "source": [
    "## Data Import\n",
    "Data is imported from an HDF5 file which is created from ASCII in the `Import_Data.ipynb` notebook. Code is in place for future datasets to be labeled with a date string."
   ]
  },
  {
   "cell_type": "code",
   "execution_count": 2,
   "metadata": {},
   "outputs": [],
   "source": [
    "run_label = '2020_11_09' ## Change this to look at different runs\n",
    "hdf_name = '{}_clean_data.h5'.format(run_label)"
   ]
  },
  {
   "cell_type": "markdown",
   "metadata": {},
   "source": [
    "The HDF5 file stores data for each of the five gases with the name of the gas as the key. This notebook imports each table by key into a list of `pandas` tables by order of molecular weight.\n",
    "\n",
    "|Index|Gas           |\n",
    "|-----|--------------|\n",
    "|0    |Hydrogen      |\n",
    "|1    |Water Vapor   |\n",
    "|2    |Nitrogen      |\n",
    "|3    |Oxygen        |\n",
    "|4    |Carbon Dioxide|"
   ]
  },
  {
   "cell_type": "code",
   "execution_count": 3,
   "metadata": {},
   "outputs": [],
   "source": [
    "gases = ['H2', 'H2O', 'N2', 'O2', 'CO2']\n",
    "gas_tables = [] # appendable list of gas data tables from HDF5\n",
    "\n",
    "for gas in gases:\n",
    "    gas_tables.append(pd.read_hdf(hdf_name, key=gas))"
   ]
  },
  {
   "cell_type": "markdown",
   "metadata": {},
   "source": [
    "Checking the CO2 table:"
   ]
  },
  {
   "cell_type": "code",
   "execution_count": 4,
   "metadata": {},
   "outputs": [
    {
     "data": {
      "text/html": [
       "<div>\n",
       "<style scoped>\n",
       "    .dataframe tbody tr th:only-of-type {\n",
       "        vertical-align: middle;\n",
       "    }\n",
       "\n",
       "    .dataframe tbody tr th {\n",
       "        vertical-align: top;\n",
       "    }\n",
       "\n",
       "    .dataframe thead th {\n",
       "        text-align: right;\n",
       "    }\n",
       "</style>\n",
       "<table border=\"1\" class=\"dataframe\">\n",
       "  <thead>\n",
       "    <tr style=\"text-align: right;\">\n",
       "      <th></th>\n",
       "      <th>exp_time</th>\n",
       "      <th>pressure</th>\n",
       "      <th>ch1_lerp</th>\n",
       "      <th>ch2_lerp</th>\n",
       "      <th>mean_temp</th>\n",
       "    </tr>\n",
       "  </thead>\n",
       "  <tbody>\n",
       "    <tr>\n",
       "      <th>1245126</th>\n",
       "      <td>0.0</td>\n",
       "      <td>7.660000e-07</td>\n",
       "      <td>293.5</td>\n",
       "      <td>293.4</td>\n",
       "      <td>293.45</td>\n",
       "    </tr>\n",
       "    <tr>\n",
       "      <th>3224153</th>\n",
       "      <td>41.0</td>\n",
       "      <td>7.640000e-07</td>\n",
       "      <td>293.5</td>\n",
       "      <td>293.4</td>\n",
       "      <td>293.45</td>\n",
       "    </tr>\n",
       "    <tr>\n",
       "      <th>2963520</th>\n",
       "      <td>83.0</td>\n",
       "      <td>7.720000e-07</td>\n",
       "      <td>293.5</td>\n",
       "      <td>293.4</td>\n",
       "      <td>293.45</td>\n",
       "    </tr>\n",
       "    <tr>\n",
       "      <th>748635</th>\n",
       "      <td>124.0</td>\n",
       "      <td>7.780000e-07</td>\n",
       "      <td>293.5</td>\n",
       "      <td>293.4</td>\n",
       "      <td>293.45</td>\n",
       "    </tr>\n",
       "    <tr>\n",
       "      <th>1839726</th>\n",
       "      <td>166.0</td>\n",
       "      <td>7.900000e-07</td>\n",
       "      <td>293.5</td>\n",
       "      <td>293.4</td>\n",
       "      <td>293.45</td>\n",
       "    </tr>\n",
       "    <tr>\n",
       "      <th>...</th>\n",
       "      <td>...</td>\n",
       "      <td>...</td>\n",
       "      <td>...</td>\n",
       "      <td>...</td>\n",
       "      <td>...</td>\n",
       "    </tr>\n",
       "    <tr>\n",
       "      <th>1775311</th>\n",
       "      <td>230590.0</td>\n",
       "      <td>1.390000e-08</td>\n",
       "      <td>293.6</td>\n",
       "      <td>293.5</td>\n",
       "      <td>293.55</td>\n",
       "    </tr>\n",
       "    <tr>\n",
       "      <th>2526489</th>\n",
       "      <td>230632.0</td>\n",
       "      <td>1.410000e-08</td>\n",
       "      <td>293.6</td>\n",
       "      <td>293.5</td>\n",
       "      <td>293.55</td>\n",
       "    </tr>\n",
       "    <tr>\n",
       "      <th>4378668</th>\n",
       "      <td>230673.0</td>\n",
       "      <td>1.420000e-08</td>\n",
       "      <td>293.6</td>\n",
       "      <td>293.5</td>\n",
       "      <td>293.55</td>\n",
       "    </tr>\n",
       "    <tr>\n",
       "      <th>419623</th>\n",
       "      <td>230715.0</td>\n",
       "      <td>1.400000e-08</td>\n",
       "      <td>293.6</td>\n",
       "      <td>293.5</td>\n",
       "      <td>293.55</td>\n",
       "    </tr>\n",
       "    <tr>\n",
       "      <th>3371812</th>\n",
       "      <td>230756.0</td>\n",
       "      <td>1.380000e-08</td>\n",
       "      <td>293.6</td>\n",
       "      <td>293.5</td>\n",
       "      <td>293.55</td>\n",
       "    </tr>\n",
       "  </tbody>\n",
       "</table>\n",
       "<p>5568 rows × 5 columns</p>\n",
       "</div>"
      ],
      "text/plain": [
       "         exp_time      pressure  ch1_lerp  ch2_lerp  mean_temp\n",
       "1245126       0.0  7.660000e-07     293.5     293.4     293.45\n",
       "3224153      41.0  7.640000e-07     293.5     293.4     293.45\n",
       "2963520      83.0  7.720000e-07     293.5     293.4     293.45\n",
       "748635      124.0  7.780000e-07     293.5     293.4     293.45\n",
       "1839726     166.0  7.900000e-07     293.5     293.4     293.45\n",
       "...           ...           ...       ...       ...        ...\n",
       "1775311  230590.0  1.390000e-08     293.6     293.5     293.55\n",
       "2526489  230632.0  1.410000e-08     293.6     293.5     293.55\n",
       "4378668  230673.0  1.420000e-08     293.6     293.5     293.55\n",
       "419623   230715.0  1.400000e-08     293.6     293.5     293.55\n",
       "3371812  230756.0  1.380000e-08     293.6     293.5     293.55\n",
       "\n",
       "[5568 rows x 5 columns]"
      ]
     },
     "execution_count": 4,
     "metadata": {},
     "output_type": "execute_result"
    }
   ],
   "source": [
    "gas_tables[4]"
   ]
  },
  {
   "cell_type": "markdown",
   "metadata": {},
   "source": [
    "## The Pressure Fitting Function\n",
    "This is the fitting function for a single jump in temperature:\n",
    "$$p(t,T) = A\\cdot \\exp\\left(-\\frac{b}{T}\\right)\\cdot\\exp\\left(-c\\cdot t\\cdot \\exp\\left(-\\frac{b}{T}\\right)\\right)$$\n",
    "In order to use `scipy.optimize.curve_fit` with this function, the values of $t$ and $T$ must be input as a numpy array of shape `(k, M)` where `k` is the number of predictors and `M` is the sample size. This is from the [curve_fit documentation](https://docs.scipy.org/doc/scipy/reference/generated/scipy.optimize.curve_fit.html)."
   ]
  },
  {
   "cell_type": "code",
   "execution_count": 5,
   "metadata": {},
   "outputs": [],
   "source": [
    "def pressure_fit(tT, A, b, c):\n",
    "    \"\"\"Outputs the partial pressure for a given time (after the start of the temperature jump) and temperature.\n",
    "    \n",
    "    Arguments:\n",
    "    tT: a (2,M) numpy array of time and temperature values, where M is the number of observations in the jump.\n",
    "    A: the scaling parameter for the jump. Accounts for variables such as the initial concentration, etc.\n",
    "    b: the activation energy (multiplied by k_B) in kelvins.\n",
    "    c: the time constant which is proportional to the diffusion constant.\"\"\"\n",
    "    \n",
    "    factor = np.exp(-1.0*b/tT[1])\n",
    "    return A * factor * np.exp(-1.0*c*tT[0]*factor)"
   ]
  },
  {
   "cell_type": "markdown",
   "metadata": {},
   "source": [
    "## Analysis of a Single Jump"
   ]
  },
  {
   "cell_type": "markdown",
   "metadata": {},
   "source": [
    "### Finding the Jumps\n",
    "For now, jumps are found manually by plotting the pressure vs. time for a gas and successively narrowing the time window until a single smooth curve is found. I've been using $CO_2$ as the gas of choice to find these jumps, but all the gases should give the same answers."
   ]
  },
  {
   "cell_type": "code",
   "execution_count": 6,
   "metadata": {},
   "outputs": [
    {
     "data": {
      "image/png": "[encoded data removed]",
      "text/plain": [
       "<Figure size 720x432 with 1 Axes>"
      ]
     },
     "metadata": {
      "needs_background": "light"
     },
     "output_type": "display_data"
    }
   ],
   "source": [
    "checked_bounds = [152100, 178600]\n",
    "CO2_jump_table = gas_tables[4][gas_tables[4]['exp_time'].between(checked_bounds[0], checked_bounds[1])]\n",
    "\n",
    "fig, ax = plt.subplots(figsize=(10,6))\n",
    "ax.scatter(CO2_jump_table['exp_time'], CO2_jump_table['pressure'], marker='.', color='purple')\n",
    "\n",
    "ax.set_title('$CO_2$ Pressure vs. Time, Hunting for Jumps')\n",
    "ax.set_xlabel('Experiment Time [sec]')\n",
    "ax.set_ylabel('Pressure [torr]')\n",
    "ax.set_yscale('log')\n",
    "\n",
    "plt.show()"
   ]
  },
  {
   "cell_type": "markdown",
   "metadata": {},
   "source": [
    "As the bounds of a given jump are found, place them into a nested list."
   ]
  },
  {
   "cell_type": "code",
   "execution_count": 7,
   "metadata": {},
   "outputs": [],
   "source": [
    "jump_bounds = [[51000, 64600], [64601, 90000], [90001, 110200], [110201, 152100], [152101, 178600]]"
   ]
  },
  {
   "cell_type": "markdown",
   "metadata": {},
   "source": [
    "Note that since data is taken once every 41 or 42 seconds, double-counting data points would be very unlikely; however, just to be sure, I had each jump start \"one second\" after the previous one."
   ]
  },
  {
   "cell_type": "markdown",
   "metadata": {},
   "source": [
    "### Jump-Fitting Example: CO2 Jump 4\n",
    "Jump 4 of the $CO_2$ pressure data has a long enough fall time to make it the best jump in the dataset to fit. We'll build up the analysis of it first and then generalize."
   ]
  },
  {
   "cell_type": "markdown",
   "metadata": {},
   "source": [
    "#### Extract Jump Data from Gas Table\n",
    "We can use the `between` function from Pandas series to extract the experiment time, top temperature, and pressure from the jump."
   ]
  },
  {
   "cell_type": "code",
   "execution_count": 8,
   "metadata": {},
   "outputs": [
    {
     "data": {
      "text/html": [
       "<div>\n",
       "<style scoped>\n",
       "    .dataframe tbody tr th:only-of-type {\n",
       "        vertical-align: middle;\n",
       "    }\n",
       "\n",
       "    .dataframe tbody tr th {\n",
       "        vertical-align: top;\n",
       "    }\n",
       "\n",
       "    .dataframe thead th {\n",
       "        text-align: right;\n",
       "    }\n",
       "</style>\n",
       "<table border=\"1\" class=\"dataframe\">\n",
       "  <thead>\n",
       "    <tr style=\"text-align: right;\">\n",
       "      <th></th>\n",
       "      <th>exp_time</th>\n",
       "      <th>pressure</th>\n",
       "      <th>ch1_lerp</th>\n",
       "      <th>ch2_lerp</th>\n",
       "      <th>mean_temp</th>\n",
       "    </tr>\n",
       "  </thead>\n",
       "  <tbody>\n",
       "    <tr>\n",
       "      <th>0</th>\n",
       "      <td>110219.0</td>\n",
       "      <td>9.610000e-08</td>\n",
       "      <td>319.7</td>\n",
       "      <td>321.90</td>\n",
       "      <td>320.800</td>\n",
       "    </tr>\n",
       "    <tr>\n",
       "      <th>1</th>\n",
       "      <td>110260.0</td>\n",
       "      <td>9.610000e-08</td>\n",
       "      <td>319.7</td>\n",
       "      <td>322.30</td>\n",
       "      <td>321.000</td>\n",
       "    </tr>\n",
       "    <tr>\n",
       "      <th>2</th>\n",
       "      <td>110302.0</td>\n",
       "      <td>9.540000e-08</td>\n",
       "      <td>319.8</td>\n",
       "      <td>322.90</td>\n",
       "      <td>321.350</td>\n",
       "    </tr>\n",
       "    <tr>\n",
       "      <th>3</th>\n",
       "      <td>110343.0</td>\n",
       "      <td>9.730000e-08</td>\n",
       "      <td>319.8</td>\n",
       "      <td>323.40</td>\n",
       "      <td>321.600</td>\n",
       "    </tr>\n",
       "    <tr>\n",
       "      <th>4</th>\n",
       "      <td>110385.0</td>\n",
       "      <td>9.700000e-08</td>\n",
       "      <td>319.8</td>\n",
       "      <td>324.10</td>\n",
       "      <td>321.950</td>\n",
       "    </tr>\n",
       "    <tr>\n",
       "      <th>...</th>\n",
       "      <td>...</td>\n",
       "      <td>...</td>\n",
       "      <td>...</td>\n",
       "      <td>...</td>\n",
       "      <td>...</td>\n",
       "    </tr>\n",
       "    <tr>\n",
       "      <th>1006</th>\n",
       "      <td>151918.0</td>\n",
       "      <td>7.130000e-08</td>\n",
       "      <td>328.3</td>\n",
       "      <td>331.00</td>\n",
       "      <td>329.650</td>\n",
       "    </tr>\n",
       "    <tr>\n",
       "      <th>1007</th>\n",
       "      <td>151959.0</td>\n",
       "      <td>6.990000e-08</td>\n",
       "      <td>328.3</td>\n",
       "      <td>331.00</td>\n",
       "      <td>329.650</td>\n",
       "    </tr>\n",
       "    <tr>\n",
       "      <th>1008</th>\n",
       "      <td>152001.0</td>\n",
       "      <td>7.110000e-08</td>\n",
       "      <td>328.3</td>\n",
       "      <td>331.25</td>\n",
       "      <td>329.775</td>\n",
       "    </tr>\n",
       "    <tr>\n",
       "      <th>1009</th>\n",
       "      <td>152042.0</td>\n",
       "      <td>7.020000e-08</td>\n",
       "      <td>328.4</td>\n",
       "      <td>331.60</td>\n",
       "      <td>330.000</td>\n",
       "    </tr>\n",
       "    <tr>\n",
       "      <th>1010</th>\n",
       "      <td>152084.0</td>\n",
       "      <td>7.020000e-08</td>\n",
       "      <td>328.4</td>\n",
       "      <td>332.10</td>\n",
       "      <td>330.250</td>\n",
       "    </tr>\n",
       "  </tbody>\n",
       "</table>\n",
       "<p>1011 rows × 5 columns</p>\n",
       "</div>"
      ],
      "text/plain": [
       "      exp_time      pressure  ch1_lerp  ch2_lerp  mean_temp\n",
       "0     110219.0  9.610000e-08     319.7    321.90    320.800\n",
       "1     110260.0  9.610000e-08     319.7    322.30    321.000\n",
       "2     110302.0  9.540000e-08     319.8    322.90    321.350\n",
       "3     110343.0  9.730000e-08     319.8    323.40    321.600\n",
       "4     110385.0  9.700000e-08     319.8    324.10    321.950\n",
       "...        ...           ...       ...       ...        ...\n",
       "1006  151918.0  7.130000e-08     328.3    331.00    329.650\n",
       "1007  151959.0  6.990000e-08     328.3    331.00    329.650\n",
       "1008  152001.0  7.110000e-08     328.3    331.25    329.775\n",
       "1009  152042.0  7.020000e-08     328.4    331.60    330.000\n",
       "1010  152084.0  7.020000e-08     328.4    332.10    330.250\n",
       "\n",
       "[1011 rows x 5 columns]"
      ]
     },
     "execution_count": 8,
     "metadata": {},
     "output_type": "execute_result"
    }
   ],
   "source": [
    "CO2_jump4_table = gas_tables[4][gas_tables[4]['exp_time'].between(jump_bounds[3][0], jump_bounds[3][1])].reset_index(drop=True)\n",
    "CO2_jump4_table"
   ]
  },
  {
   "cell_type": "markdown",
   "metadata": {},
   "source": [
    "We need the time to be shifted so that the first data point is the start time of the jump. We do this by finding the smallest value of `exp_time` and subtracting it."
   ]
  },
  {
   "cell_type": "code",
   "execution_count": 9,
   "metadata": {},
   "outputs": [
    {
     "data": {
      "text/plain": [
       "110219.0"
      ]
     },
     "execution_count": 9,
     "metadata": {},
     "output_type": "execute_result"
    }
   ],
   "source": [
    "CO2_jump4_table['exp_time'].min()"
   ]
  },
  {
   "cell_type": "code",
   "execution_count": 10,
   "metadata": {},
   "outputs": [
    {
     "data": {
      "text/html": [
       "<div>\n",
       "<style scoped>\n",
       "    .dataframe tbody tr th:only-of-type {\n",
       "        vertical-align: middle;\n",
       "    }\n",
       "\n",
       "    .dataframe tbody tr th {\n",
       "        vertical-align: top;\n",
       "    }\n",
       "\n",
       "    .dataframe thead th {\n",
       "        text-align: right;\n",
       "    }\n",
       "</style>\n",
       "<table border=\"1\" class=\"dataframe\">\n",
       "  <thead>\n",
       "    <tr style=\"text-align: right;\">\n",
       "      <th></th>\n",
       "      <th>exp_time</th>\n",
       "      <th>pressure</th>\n",
       "      <th>ch1_lerp</th>\n",
       "      <th>ch2_lerp</th>\n",
       "      <th>mean_temp</th>\n",
       "      <th>jump_time</th>\n",
       "    </tr>\n",
       "  </thead>\n",
       "  <tbody>\n",
       "    <tr>\n",
       "      <th>0</th>\n",
       "      <td>110219.0</td>\n",
       "      <td>9.610000e-08</td>\n",
       "      <td>319.7</td>\n",
       "      <td>321.90</td>\n",
       "      <td>320.800</td>\n",
       "      <td>0.0</td>\n",
       "    </tr>\n",
       "    <tr>\n",
       "      <th>1</th>\n",
       "      <td>110260.0</td>\n",
       "      <td>9.610000e-08</td>\n",
       "      <td>319.7</td>\n",
       "      <td>322.30</td>\n",
       "      <td>321.000</td>\n",
       "      <td>41.0</td>\n",
       "    </tr>\n",
       "    <tr>\n",
       "      <th>2</th>\n",
       "      <td>110302.0</td>\n",
       "      <td>9.540000e-08</td>\n",
       "      <td>319.8</td>\n",
       "      <td>322.90</td>\n",
       "      <td>321.350</td>\n",
       "      <td>83.0</td>\n",
       "    </tr>\n",
       "    <tr>\n",
       "      <th>3</th>\n",
       "      <td>110343.0</td>\n",
       "      <td>9.730000e-08</td>\n",
       "      <td>319.8</td>\n",
       "      <td>323.40</td>\n",
       "      <td>321.600</td>\n",
       "      <td>124.0</td>\n",
       "    </tr>\n",
       "    <tr>\n",
       "      <th>4</th>\n",
       "      <td>110385.0</td>\n",
       "      <td>9.700000e-08</td>\n",
       "      <td>319.8</td>\n",
       "      <td>324.10</td>\n",
       "      <td>321.950</td>\n",
       "      <td>166.0</td>\n",
       "    </tr>\n",
       "    <tr>\n",
       "      <th>...</th>\n",
       "      <td>...</td>\n",
       "      <td>...</td>\n",
       "      <td>...</td>\n",
       "      <td>...</td>\n",
       "      <td>...</td>\n",
       "      <td>...</td>\n",
       "    </tr>\n",
       "    <tr>\n",
       "      <th>1006</th>\n",
       "      <td>151918.0</td>\n",
       "      <td>7.130000e-08</td>\n",
       "      <td>328.3</td>\n",
       "      <td>331.00</td>\n",
       "      <td>329.650</td>\n",
       "      <td>41699.0</td>\n",
       "    </tr>\n",
       "    <tr>\n",
       "      <th>1007</th>\n",
       "      <td>151959.0</td>\n",
       "      <td>6.990000e-08</td>\n",
       "      <td>328.3</td>\n",
       "      <td>331.00</td>\n",
       "      <td>329.650</td>\n",
       "      <td>41740.0</td>\n",
       "    </tr>\n",
       "    <tr>\n",
       "      <th>1008</th>\n",
       "      <td>152001.0</td>\n",
       "      <td>7.110000e-08</td>\n",
       "      <td>328.3</td>\n",
       "      <td>331.25</td>\n",
       "      <td>329.775</td>\n",
       "      <td>41782.0</td>\n",
       "    </tr>\n",
       "    <tr>\n",
       "      <th>1009</th>\n",
       "      <td>152042.0</td>\n",
       "      <td>7.020000e-08</td>\n",
       "      <td>328.4</td>\n",
       "      <td>331.60</td>\n",
       "      <td>330.000</td>\n",
       "      <td>41823.0</td>\n",
       "    </tr>\n",
       "    <tr>\n",
       "      <th>1010</th>\n",
       "      <td>152084.0</td>\n",
       "      <td>7.020000e-08</td>\n",
       "      <td>328.4</td>\n",
       "      <td>332.10</td>\n",
       "      <td>330.250</td>\n",
       "      <td>41865.0</td>\n",
       "    </tr>\n",
       "  </tbody>\n",
       "</table>\n",
       "<p>1011 rows × 6 columns</p>\n",
       "</div>"
      ],
      "text/plain": [
       "      exp_time      pressure  ch1_lerp  ch2_lerp  mean_temp  jump_time\n",
       "0     110219.0  9.610000e-08     319.7    321.90    320.800        0.0\n",
       "1     110260.0  9.610000e-08     319.7    322.30    321.000       41.0\n",
       "2     110302.0  9.540000e-08     319.8    322.90    321.350       83.0\n",
       "3     110343.0  9.730000e-08     319.8    323.40    321.600      124.0\n",
       "4     110385.0  9.700000e-08     319.8    324.10    321.950      166.0\n",
       "...        ...           ...       ...       ...        ...        ...\n",
       "1006  151918.0  7.130000e-08     328.3    331.00    329.650    41699.0\n",
       "1007  151959.0  6.990000e-08     328.3    331.00    329.650    41740.0\n",
       "1008  152001.0  7.110000e-08     328.3    331.25    329.775    41782.0\n",
       "1009  152042.0  7.020000e-08     328.4    331.60    330.000    41823.0\n",
       "1010  152084.0  7.020000e-08     328.4    332.10    330.250    41865.0\n",
       "\n",
       "[1011 rows x 6 columns]"
      ]
     },
     "execution_count": 10,
     "metadata": {},
     "output_type": "execute_result"
    }
   ],
   "source": [
    "CO2_jump4_table['jump_time'] = CO2_jump4_table['exp_time'] - CO2_jump4_table['exp_time'].min()\n",
    "CO2_jump4_table"
   ]
  },
  {
   "cell_type": "markdown",
   "metadata": {},
   "source": [
    "#### Getting the Pressure Fit Inputs\n",
    "The fitting function will need the time and temperature data (`tT`) as a numpy array of shape `(2,M)` and the observed pressure data `press_obs` as a numpy array of shape `(M,)`."
   ]
  },
  {
   "cell_type": "code",
   "execution_count": 11,
   "metadata": {},
   "outputs": [
    {
     "name": "stdout",
     "output_type": "stream",
     "text": [
      "tT shape: (2, 1011)\n",
      "Pressure shape: (1011,)\n"
     ]
    }
   ],
   "source": [
    "CO2_jump4_tT = CO2_jump4_table[['jump_time', 'ch1_lerp']].T.to_numpy() # we're using the top temperature channel for now\n",
    "CO2_jump4_press_obs = CO2_jump4_table['pressure'].to_numpy()\n",
    "\n",
    "print('tT shape: {}\\nPressure shape: {}'.format(CO2_jump4_tT.shape, CO2_jump4_press_obs.shape))"
   ]
  },
  {
   "cell_type": "markdown",
   "metadata": {},
   "source": [
    "#### Optimization\n",
    "We can now optimize over these inputs. The initial parameter guess will be based on previous fits."
   ]
  },
  {
   "cell_type": "code",
   "execution_count": 12,
   "metadata": {},
   "outputs": [],
   "source": [
    "init_params = [7, 1900, 0.005]"
   ]
  },
  {
   "cell_type": "code",
   "execution_count": 13,
   "metadata": {},
   "outputs": [],
   "source": [
    "CO2_jump4_fit = spo.curve_fit(pressure_fit, CO2_jump4_tT, CO2_jump4_press_obs, p0=init_params, maxfev=100000)"
   ]
  },
  {
   "cell_type": "code",
   "execution_count": 14,
   "metadata": {},
   "outputs": [
    {
     "data": {
      "text/plain": [
       "array([6.57229840e-03, 3.55459365e+03, 7.68064073e-01])"
      ]
     },
     "execution_count": 14,
     "metadata": {},
     "output_type": "execute_result"
    }
   ],
   "source": [
    "CO2_jump4_fit[0]"
   ]
  },
  {
   "cell_type": "markdown",
   "metadata": {},
   "source": [
    "#### Generate Predicted Values\n",
    "We can calculate the pressure fits with a regular function call using the fit values."
   ]
  },
  {
   "cell_type": "code",
   "execution_count": 15,
   "metadata": {},
   "outputs": [],
   "source": [
    "CO2_jump4_pred = pressure_fit(CO2_jump4_tT, *CO2_jump4_fit[0])"
   ]
  },
  {
   "cell_type": "code",
   "execution_count": 16,
   "metadata": {},
   "outputs": [
    {
     "data": {
      "image/png": "[encoded data removed]",
      "text/plain": [
       "<Figure size 720x432 with 1 Axes>"
      ]
     },
     "metadata": {
      "needs_background": "light"
     },
     "output_type": "display_data"
    }
   ],
   "source": [
    "fig, ax = plt.subplots(figsize=(10,6))\n",
    "ax.scatter(CO2_jump4_tT[0], CO2_jump4_press_obs, marker='.', color='steelblue')\n",
    "ax.plot(CO2_jump4_tT[0], CO2_jump4_pred, color='red')\n",
    "\n",
    "ax.set_title('$CO_2$ Pressure vs. Time, Jump 4')\n",
    "ax.set_xlabel('Jump Time [sec]')\n",
    "ax.set_ylabel('Pressure [torr]')\n",
    "ax.set_yscale('log')\n",
    "\n",
    "plt.show()"
   ]
  },
  {
   "cell_type": "markdown",
   "metadata": {},
   "source": [
    "Here is the corresponding residual plot."
   ]
  },
  {
   "cell_type": "code",
   "execution_count": 17,
   "metadata": {},
   "outputs": [
    {
     "data": {
      "image/png": "[encoded data removed]",
      "text/plain": [
       "<Figure size 720x432 with 1 Axes>"
      ]
     },
     "metadata": {
      "needs_background": "light"
     },
     "output_type": "display_data"
    }
   ],
   "source": [
    "fig, ax = plt.subplots(figsize=(10,6))\n",
    "ax.scatter(CO2_jump4_tT[0], CO2_jump4_pred-CO2_jump4_press_obs, marker='.', color='maroon')\n",
    "ax.axhline(color='k')\n",
    "\n",
    "ax.set_title('$CO_2$ Residuals, Jump 4')\n",
    "ax.set_xlabel('Jump Time [sec]')\n",
    "ax.set_ylabel('Residual [torr]')\n",
    "\n",
    "plt.show()"
   ]
  },
  {
   "cell_type": "code",
   "execution_count": null,
   "metadata": {},
   "outputs": [],
   "source": []
  }
 ],
 "metadata": {
  "kernelspec": {
   "display_name": "Python 3",
   "language": "python",
   "name": "python3"
  },
  "language_info": {
   "codemirror_mode": {
    "name": "ipython",
    "version": 3
   },
   "file_extension": ".py",
   "mimetype": "text/x-python",
   "name": "python",
   "nbconvert_exporter": "python",
   "pygments_lexer": "ipython3",
   "version": "3.7.8"
  }
 },
 "nbformat": 4,
 "nbformat_minor": 4
}
