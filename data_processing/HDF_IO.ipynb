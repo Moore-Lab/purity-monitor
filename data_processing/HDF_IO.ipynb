{
 "cells": [
  {
   "cell_type": "code",
   "execution_count": 1,
   "metadata": {},
   "outputs": [],
   "source": [
    "import numpy as np\n",
    "import pandas as pd\n",
    "import matplotlib.pyplot as plt\n",
    "import os\n",
    "import datetime\n",
    "import scipy.optimize as spo\n",
    "plt.style.use('seaborn')"
   ]
  },
  {
   "cell_type": "markdown",
   "metadata": {},
   "source": [
    "#### Unimportant Warnings"
   ]
  },
  {
   "cell_type": "code",
   "execution_count": 2,
   "metadata": {},
   "outputs": [],
   "source": [
    "import warnings\n",
    "warnings.simplefilter(action='ignore', category=FutureWarning)\n",
    "warnings.simplefilter(action='ignore', category=pd.errors.PerformanceWarning)"
   ]
  },
  {
   "cell_type": "markdown",
   "metadata": {},
   "source": [
    "#### Custom Files"
   ]
  },
  {
   "cell_type": "code",
   "execution_count": 3,
   "metadata": {},
   "outputs": [],
   "source": [
    "from data_io import DataIO # Custom IO file"
   ]
  },
  {
   "cell_type": "markdown",
   "metadata": {},
   "source": [
    "# Input/Output of RGA and Temperature Data"
   ]
  },
  {
   "cell_type": "code",
   "execution_count": 4,
   "metadata": {},
   "outputs": [],
   "source": [
    "Path = os.getcwd() + \"/data/2020_11_09/\" # data file path"
   ]
  },
  {
   "cell_type": "code",
   "execution_count": 5,
   "metadata": {},
   "outputs": [],
   "source": [
    "IO = DataIO(Path)"
   ]
  },
  {
   "cell_type": "code",
   "execution_count": 6,
   "metadata": {},
   "outputs": [],
   "source": [
    "IO.Unzip()"
   ]
  },
  {
   "cell_type": "code",
   "execution_count": null,
   "metadata": {},
   "outputs": [],
   "source": [
    "RGA_Data = IO.GetRGAData()"
   ]
  },
  {
   "cell_type": "code",
   "execution_count": 8,
   "metadata": {},
   "outputs": [],
   "source": [
    "Temp = IO.GetTemperatureData()"
   ]
  },
  {
   "cell_type": "code",
   "execution_count": 9,
   "metadata": {},
   "outputs": [],
   "source": [
    "#data.to_hdf(p+\"10_19_rga_2020.h5\", key='data')"
   ]
  },
  {
   "cell_type": "code",
   "execution_count": 10,
   "metadata": {},
   "outputs": [
    {
     "data": {
      "text/html": [
       "<div>\n",
       "<style scoped>\n",
       "    .dataframe tbody tr th:only-of-type {\n",
       "        vertical-align: middle;\n",
       "    }\n",
       "\n",
       "    .dataframe tbody tr th {\n",
       "        vertical-align: top;\n",
       "    }\n",
       "\n",
       "    .dataframe thead th {\n",
       "        text-align: right;\n",
       "    }\n",
       "</style>\n",
       "<table border=\"1\" class=\"dataframe\">\n",
       "  <thead>\n",
       "    <tr style=\"text-align: right;\">\n",
       "      <th></th>\n",
       "      <th>Datetime</th>\n",
       "      <th>Mass</th>\n",
       "      <th>Pressure</th>\n",
       "    </tr>\n",
       "  </thead>\n",
       "  <tbody>\n",
       "    <tr>\n",
       "      <th>0</th>\n",
       "      <td>2020-11-09 16:59:53</td>\n",
       "      <td>1</td>\n",
       "      <td>1.93e-09</td>\n",
       "    </tr>\n",
       "    <tr>\n",
       "      <th>1</th>\n",
       "      <td>2020-11-09 16:59:53</td>\n",
       "      <td>1.1</td>\n",
       "      <td>3.31e-09</td>\n",
       "    </tr>\n",
       "    <tr>\n",
       "      <th>2</th>\n",
       "      <td>2020-11-09 16:59:53</td>\n",
       "      <td>1.2</td>\n",
       "      <td>6.48e-08</td>\n",
       "    </tr>\n",
       "    <tr>\n",
       "      <th>3</th>\n",
       "      <td>2020-11-09 16:59:53</td>\n",
       "      <td>1.3</td>\n",
       "      <td>2.31e-07</td>\n",
       "    </tr>\n",
       "    <tr>\n",
       "      <th>4</th>\n",
       "      <td>2020-11-09 16:59:53</td>\n",
       "      <td>1.4</td>\n",
       "      <td>4.75e-08</td>\n",
       "    </tr>\n",
       "    <tr>\n",
       "      <th>...</th>\n",
       "      <td>...</td>\n",
       "      <td>...</td>\n",
       "      <td>...</td>\n",
       "    </tr>\n",
       "    <tr>\n",
       "      <th>5517883</th>\n",
       "      <td>2020-11-12 00:59:28</td>\n",
       "      <td>99.6</td>\n",
       "      <td>-1.68e-10</td>\n",
       "    </tr>\n",
       "    <tr>\n",
       "      <th>5517884</th>\n",
       "      <td>2020-11-12 00:59:28</td>\n",
       "      <td>99.7</td>\n",
       "      <td>-1.09e-10</td>\n",
       "    </tr>\n",
       "    <tr>\n",
       "      <th>5517885</th>\n",
       "      <td>2020-11-12 00:59:28</td>\n",
       "      <td>99.8</td>\n",
       "      <td>-9.69e-11</td>\n",
       "    </tr>\n",
       "    <tr>\n",
       "      <th>5517886</th>\n",
       "      <td>2020-11-12 00:59:28</td>\n",
       "      <td>99.9</td>\n",
       "      <td>-9.48e-11</td>\n",
       "    </tr>\n",
       "    <tr>\n",
       "      <th>5517887</th>\n",
       "      <td>2020-11-12 00:59:28</td>\n",
       "      <td>100</td>\n",
       "      <td>-2e-10</td>\n",
       "    </tr>\n",
       "  </tbody>\n",
       "</table>\n",
       "<p>5517888 rows × 3 columns</p>\n",
       "</div>"
      ],
      "text/plain": [
       "                   Datetime  Mass  Pressure\n",
       "0       2020-11-09 16:59:53     1  1.93e-09\n",
       "1       2020-11-09 16:59:53   1.1  3.31e-09\n",
       "2       2020-11-09 16:59:53   1.2  6.48e-08\n",
       "3       2020-11-09 16:59:53   1.3  2.31e-07\n",
       "4       2020-11-09 16:59:53   1.4  4.75e-08\n",
       "...                     ...   ...       ...\n",
       "5517883 2020-11-12 00:59:28  99.6 -1.68e-10\n",
       "5517884 2020-11-12 00:59:28  99.7 -1.09e-10\n",
       "5517885 2020-11-12 00:59:28  99.8 -9.69e-11\n",
       "5517886 2020-11-12 00:59:28  99.9 -9.48e-11\n",
       "5517887 2020-11-12 00:59:28   100    -2e-10\n",
       "\n",
       "[5517888 rows x 3 columns]"
      ]
     },
     "execution_count": 10,
     "metadata": {},
     "output_type": "execute_result"
    }
   ],
   "source": [
    "RGA_Data"
   ]
  },
  {
   "cell_type": "code",
   "execution_count": 11,
   "metadata": {},
   "outputs": [
    {
     "data": {
      "text/html": [
       "<div>\n",
       "<style scoped>\n",
       "    .dataframe tbody tr th:only-of-type {\n",
       "        vertical-align: middle;\n",
       "    }\n",
       "\n",
       "    .dataframe tbody tr th {\n",
       "        vertical-align: top;\n",
       "    }\n",
       "\n",
       "    .dataframe thead th {\n",
       "        text-align: right;\n",
       "    }\n",
       "</style>\n",
       "<table border=\"1\" class=\"dataframe\">\n",
       "  <thead>\n",
       "    <tr style=\"text-align: right;\">\n",
       "      <th></th>\n",
       "      <th>Date</th>\n",
       "      <th>Time</th>\n",
       "      <th>CH1</th>\n",
       "      <th>CH2</th>\n",
       "      <th>Datetime</th>\n",
       "    </tr>\n",
       "  </thead>\n",
       "  <tbody>\n",
       "    <tr>\n",
       "      <th>0</th>\n",
       "      <td>11/10/2020</td>\n",
       "      <td>1:19:00</td>\n",
       "      <td>20.3</td>\n",
       "      <td>20.2</td>\n",
       "      <td>2020-11-10 01:19:00</td>\n",
       "    </tr>\n",
       "    <tr>\n",
       "      <th>1</th>\n",
       "      <td>11/10/2020</td>\n",
       "      <td>1:19:01</td>\n",
       "      <td>20.3</td>\n",
       "      <td>20.3</td>\n",
       "      <td>2020-11-10 01:19:01</td>\n",
       "    </tr>\n",
       "    <tr>\n",
       "      <th>2</th>\n",
       "      <td>11/10/2020</td>\n",
       "      <td>1:19:02</td>\n",
       "      <td>20.3</td>\n",
       "      <td>20.3</td>\n",
       "      <td>2020-11-10 01:19:02</td>\n",
       "    </tr>\n",
       "    <tr>\n",
       "      <th>3</th>\n",
       "      <td>11/10/2020</td>\n",
       "      <td>1:19:03</td>\n",
       "      <td>20.3</td>\n",
       "      <td>20.3</td>\n",
       "      <td>2020-11-10 01:19:03</td>\n",
       "    </tr>\n",
       "    <tr>\n",
       "      <th>4</th>\n",
       "      <td>11/10/2020</td>\n",
       "      <td>1:19:04</td>\n",
       "      <td>20.3</td>\n",
       "      <td>20.3</td>\n",
       "      <td>2020-11-10 01:19:04</td>\n",
       "    </tr>\n",
       "    <tr>\n",
       "      <th>...</th>\n",
       "      <td>...</td>\n",
       "      <td>...</td>\n",
       "      <td>...</td>\n",
       "      <td>...</td>\n",
       "      <td>...</td>\n",
       "    </tr>\n",
       "    <tr>\n",
       "      <th>189796</th>\n",
       "      <td>11/12/2020</td>\n",
       "      <td>9:34:07</td>\n",
       "      <td>20.4</td>\n",
       "      <td>20.3</td>\n",
       "      <td>2020-11-12 09:34:07</td>\n",
       "    </tr>\n",
       "    <tr>\n",
       "      <th>189797</th>\n",
       "      <td>11/12/2020</td>\n",
       "      <td>9:34:08</td>\n",
       "      <td>20.4</td>\n",
       "      <td>20.3</td>\n",
       "      <td>2020-11-12 09:34:08</td>\n",
       "    </tr>\n",
       "    <tr>\n",
       "      <th>189798</th>\n",
       "      <td>11/12/2020</td>\n",
       "      <td>9:34:09</td>\n",
       "      <td>20.4</td>\n",
       "      <td>20.3</td>\n",
       "      <td>2020-11-12 09:34:09</td>\n",
       "    </tr>\n",
       "    <tr>\n",
       "      <th>189799</th>\n",
       "      <td>11/12/2020</td>\n",
       "      <td>9:34:10</td>\n",
       "      <td>20.4</td>\n",
       "      <td>20.3</td>\n",
       "      <td>2020-11-12 09:34:10</td>\n",
       "    </tr>\n",
       "    <tr>\n",
       "      <th>189800</th>\n",
       "      <td>11/12/2020</td>\n",
       "      <td>9:34:11</td>\n",
       "      <td>20.4</td>\n",
       "      <td>20.3</td>\n",
       "      <td>2020-11-12 09:34:11</td>\n",
       "    </tr>\n",
       "  </tbody>\n",
       "</table>\n",
       "<p>189801 rows × 5 columns</p>\n",
       "</div>"
      ],
      "text/plain": [
       "              Date     Time   CH1   CH2            Datetime\n",
       "0       11/10/2020  1:19:00  20.3  20.2 2020-11-10 01:19:00\n",
       "1       11/10/2020  1:19:01  20.3  20.3 2020-11-10 01:19:01\n",
       "2       11/10/2020  1:19:02  20.3  20.3 2020-11-10 01:19:02\n",
       "3       11/10/2020  1:19:03  20.3  20.3 2020-11-10 01:19:03\n",
       "4       11/10/2020  1:19:04  20.3  20.3 2020-11-10 01:19:04\n",
       "...            ...      ...   ...   ...                 ...\n",
       "189796  11/12/2020  9:34:07  20.4  20.3 2020-11-12 09:34:07\n",
       "189797  11/12/2020  9:34:08  20.4  20.3 2020-11-12 09:34:08\n",
       "189798  11/12/2020  9:34:09  20.4  20.3 2020-11-12 09:34:09\n",
       "189799  11/12/2020  9:34:10  20.4  20.3 2020-11-12 09:34:10\n",
       "189800  11/12/2020  9:34:11  20.4  20.3 2020-11-12 09:34:11\n",
       "\n",
       "[189801 rows x 5 columns]"
      ]
     },
     "execution_count": 11,
     "metadata": {},
     "output_type": "execute_result"
    }
   ],
   "source": [
    "Temp"
   ]
  },
  {
   "cell_type": "markdown",
   "metadata": {},
   "source": [
    "### Times"
   ]
  },
  {
   "cell_type": "code",
   "execution_count": 12,
   "metadata": {},
   "outputs": [],
   "source": [
    "# Starting RGA Time.\n",
    "rga_start = RGA_Data['Datetime'].sort_values().unique()[0]"
   ]
  },
  {
   "cell_type": "code",
   "execution_count": 13,
   "metadata": {},
   "outputs": [],
   "source": [
    "# Starting temperature time.\n",
    "temps_start = Temp['Datetime'].sort_values().unique()[0]"
   ]
  },
  {
   "cell_type": "code",
   "execution_count": 14,
   "metadata": {},
   "outputs": [],
   "source": [
    "# Find the EARLIEST time to calculate timedeltas from.\n",
    "if rga_start < temps_start:\n",
    "    start_datetime = rga_start\n",
    "else:\n",
    "    start_datetime = temps_start"
   ]
  },
  {
   "cell_type": "code",
   "execution_count": 15,
   "metadata": {},
   "outputs": [
    {
     "data": {
      "text/plain": [
       "numpy.datetime64('2020-11-09T16:59:53.000000000')"
      ]
     },
     "execution_count": 15,
     "metadata": {},
     "output_type": "execute_result"
    }
   ],
   "source": [
    "start_datetime"
   ]
  },
  {
   "cell_type": "code",
   "execution_count": 16,
   "metadata": {},
   "outputs": [],
   "source": [
    "temp_times = (Temp['Datetime'] - start_datetime)/np.timedelta64(1, 's')"
   ]
  },
  {
   "cell_type": "code",
   "execution_count": 17,
   "metadata": {},
   "outputs": [],
   "source": [
    "# Separate by mass\n",
    "H2_data = RGA_Data[RGA_Data['Mass'] == 2.0]\n",
    "H2O_data = RGA_Data[RGA_Data['Mass'] == 18.0]\n",
    "N2_data = RGA_Data[RGA_Data['Mass'] == 28.0]\n",
    "O2_data = RGA_Data[RGA_Data['Mass'] == 32.0]\n",
    "CO2_data = RGA_Data[RGA_Data['Mass'] == 44.0]"
   ]
  },
  {
   "cell_type": "code",
   "execution_count": 18,
   "metadata": {},
   "outputs": [],
   "source": [
    "rga_times = (RGA_Data['Datetime'].unique() - start_datetime)/np.timedelta64(1, 's')\n",
    "H2_times = (H2_data['Datetime'] - start_datetime)/np.timedelta64(1, 's')\n",
    "H2O_times = (H2O_data['Datetime'] - start_datetime)/np.timedelta64(1, 's')\n",
    "N2_times = (N2_data['Datetime'] - start_datetime)/np.timedelta64(1, 's')\n",
    "O2_times = (O2_data['Datetime'] - start_datetime)/np.timedelta64(1, 's')\n",
    "CO2_times = (CO2_data['Datetime'] - start_datetime)/np.timedelta64(1, 's')"
   ]
  },
  {
   "cell_type": "markdown",
   "metadata": {},
   "source": [
    "### Temperature Interpolation"
   ]
  },
  {
   "cell_type": "code",
   "execution_count": 19,
   "metadata": {},
   "outputs": [],
   "source": [
    "O2_ch1_lerp = np.interp(O2_times, temp_times, pd.to_numeric(Temp['CH1']))\n",
    "O2_ch2_lerp = np.interp(O2_times, temp_times, pd.to_numeric(Temp['CH2']))"
   ]
  },
  {
   "cell_type": "markdown",
   "metadata": {},
   "source": [
    "### Final Data Frames"
   ]
  },
  {
   "cell_type": "code",
   "execution_count": 20,
   "metadata": {},
   "outputs": [
    {
     "data": {
      "text/html": [
       "<div>\n",
       "<style scoped>\n",
       "    .dataframe tbody tr th:only-of-type {\n",
       "        vertical-align: middle;\n",
       "    }\n",
       "\n",
       "    .dataframe tbody tr th {\n",
       "        vertical-align: top;\n",
       "    }\n",
       "\n",
       "    .dataframe thead th {\n",
       "        text-align: right;\n",
       "    }\n",
       "</style>\n",
       "<table border=\"1\" class=\"dataframe\">\n",
       "  <thead>\n",
       "    <tr style=\"text-align: right;\">\n",
       "      <th></th>\n",
       "      <th>Datetime</th>\n",
       "      <th>O2_Pressure</th>\n",
       "      <th>ch1_lerp</th>\n",
       "      <th>ch2_lerp</th>\n",
       "      <th>temp_est</th>\n",
       "    </tr>\n",
       "  </thead>\n",
       "  <tbody>\n",
       "    <tr>\n",
       "      <th>310</th>\n",
       "      <td>0.0</td>\n",
       "      <td>1.68e-06</td>\n",
       "      <td>293.5</td>\n",
       "      <td>293.4</td>\n",
       "      <td>293.45</td>\n",
       "    </tr>\n",
       "    <tr>\n",
       "      <th>1301</th>\n",
       "      <td>41.0</td>\n",
       "      <td>1.61e-06</td>\n",
       "      <td>293.5</td>\n",
       "      <td>293.4</td>\n",
       "      <td>293.45</td>\n",
       "    </tr>\n",
       "    <tr>\n",
       "      <th>2292</th>\n",
       "      <td>83.0</td>\n",
       "      <td>1.53e-06</td>\n",
       "      <td>293.5</td>\n",
       "      <td>293.4</td>\n",
       "      <td>293.45</td>\n",
       "    </tr>\n",
       "    <tr>\n",
       "      <th>3283</th>\n",
       "      <td>124.0</td>\n",
       "      <td>1.45e-06</td>\n",
       "      <td>293.5</td>\n",
       "      <td>293.4</td>\n",
       "      <td>293.45</td>\n",
       "    </tr>\n",
       "    <tr>\n",
       "      <th>4274</th>\n",
       "      <td>166.0</td>\n",
       "      <td>1.37e-06</td>\n",
       "      <td>293.5</td>\n",
       "      <td>293.4</td>\n",
       "      <td>293.45</td>\n",
       "    </tr>\n",
       "    <tr>\n",
       "      <th>...</th>\n",
       "      <td>...</td>\n",
       "      <td>...</td>\n",
       "      <td>...</td>\n",
       "      <td>...</td>\n",
       "      <td>...</td>\n",
       "    </tr>\n",
       "    <tr>\n",
       "      <th>5513243</th>\n",
       "      <td>201409.0</td>\n",
       "      <td>7.62e-08</td>\n",
       "      <td>293.7</td>\n",
       "      <td>293.5</td>\n",
       "      <td>293.60</td>\n",
       "    </tr>\n",
       "    <tr>\n",
       "      <th>5514234</th>\n",
       "      <td>201451.0</td>\n",
       "      <td>7.51e-08</td>\n",
       "      <td>293.7</td>\n",
       "      <td>293.5</td>\n",
       "      <td>293.60</td>\n",
       "    </tr>\n",
       "    <tr>\n",
       "      <th>5515225</th>\n",
       "      <td>201492.0</td>\n",
       "      <td>7.55e-08</td>\n",
       "      <td>293.7</td>\n",
       "      <td>293.5</td>\n",
       "      <td>293.60</td>\n",
       "    </tr>\n",
       "    <tr>\n",
       "      <th>5516216</th>\n",
       "      <td>201534.0</td>\n",
       "      <td>7.53e-08</td>\n",
       "      <td>293.7</td>\n",
       "      <td>293.5</td>\n",
       "      <td>293.60</td>\n",
       "    </tr>\n",
       "    <tr>\n",
       "      <th>5517207</th>\n",
       "      <td>201575.0</td>\n",
       "      <td>7.56e-08</td>\n",
       "      <td>293.7</td>\n",
       "      <td>293.5</td>\n",
       "      <td>293.60</td>\n",
       "    </tr>\n",
       "  </tbody>\n",
       "</table>\n",
       "<p>5568 rows × 5 columns</p>\n",
       "</div>"
      ],
      "text/plain": [
       "         Datetime O2_Pressure  ch1_lerp  ch2_lerp  temp_est\n",
       "310           0.0    1.68e-06     293.5     293.4    293.45\n",
       "1301         41.0    1.61e-06     293.5     293.4    293.45\n",
       "2292         83.0    1.53e-06     293.5     293.4    293.45\n",
       "3283        124.0    1.45e-06     293.5     293.4    293.45\n",
       "4274        166.0    1.37e-06     293.5     293.4    293.45\n",
       "...           ...         ...       ...       ...       ...\n",
       "5513243  201409.0    7.62e-08     293.7     293.5    293.60\n",
       "5514234  201451.0    7.51e-08     293.7     293.5    293.60\n",
       "5515225  201492.0    7.55e-08     293.7     293.5    293.60\n",
       "5516216  201534.0    7.53e-08     293.7     293.5    293.60\n",
       "5517207  201575.0    7.56e-08     293.7     293.5    293.60\n",
       "\n",
       "[5568 rows x 5 columns]"
      ]
     },
     "execution_count": 20,
     "metadata": {},
     "output_type": "execute_result"
    }
   ],
   "source": [
    "## Build O2 final data frame\n",
    "O2_final_data = pd.DataFrame(data=O2_times)\n",
    "# Microtorr now\n",
    "O2_final_data['O2_Pressure'] = O2_data['Pressure']\n",
    "# Celsius to Kelvin\n",
    "O2_final_data['ch1_lerp'] = O2_ch1_lerp + 273.2\n",
    "O2_final_data['ch2_lerp'] = O2_ch2_lerp + 273.2\n",
    "O2_final_data['temp_est'] = (O2_final_data['ch1_lerp'] + O2_final_data['ch2_lerp'])/2.0\n",
    "O2_final_data"
   ]
  },
  {
   "cell_type": "markdown",
   "metadata": {},
   "source": [
    "### Curve Fitting\n",
    "$$p(t,T) = A\\cdot \\exp\\left(-\\frac{b}{T}\\right)\\cdot\\exp\\left(-c\\cdot t\\cdot \\exp\\left(-\\frac{b}{T}\\right)\\right)$$"
   ]
  },
  {
   "cell_type": "code",
   "execution_count": 21,
   "metadata": {},
   "outputs": [],
   "source": [
    "def pressure_fit(tT, A, b, c):\n",
    "    # (k,M) array if there are k predictors\n",
    "    factor = np.exp(-1.0*b/tT[1])\n",
    "    return A * factor * np.exp(-1.0*c*tT[0]*factor)"
   ]
  },
  {
   "cell_type": "code",
   "execution_count": 22,
   "metadata": {},
   "outputs": [],
   "source": [
    "O2_jump1 = O2_final_data[O2_final_data['Datetime'].between(51000, 65000)]"
   ]
  },
  {
   "cell_type": "code",
   "execution_count": 23,
   "metadata": {},
   "outputs": [
    {
     "data": {
      "text/plain": [
       "(2, 338)"
      ]
     },
     "execution_count": 23,
     "metadata": {},
     "output_type": "execute_result"
    }
   ],
   "source": [
    "O2_Tdata = O2_jump1[['Datetime', 'temp_est']].T.to_numpy()\n",
    "O2_Tdata.shape"
   ]
  },
  {
   "cell_type": "code",
   "execution_count": 24,
   "metadata": {},
   "outputs": [],
   "source": [
    "# Initial guess of uncertainties\n",
    "#O2_sigma = np.empty(O2_Tdata.shape[1]); O2_sigma.fill(1e-9)\n",
    "#O2_sigma.shape"
   ]
  },
  {
   "cell_type": "code",
   "execution_count": 25,
   "metadata": {},
   "outputs": [],
   "source": [
    "popt, pcov = spo.curve_fit(pressure_fit, O2_Tdata, O2_jump1['O2_Pressure'], p0=[50, 5800, 980], bounds=([-np.inf, -np.inf, 0],np.inf), maxfev=8000)"
   ]
  },
  {
   "cell_type": "code",
   "execution_count": 26,
   "metadata": {},
   "outputs": [
    {
     "data": {
      "text/plain": [
       "array([5.0e+01, 5.8e+03, 1.0e+00])"
      ]
     },
     "execution_count": 26,
     "metadata": {},
     "output_type": "execute_result"
    }
   ],
   "source": [
    "popt"
   ]
  },
  {
   "cell_type": "code",
   "execution_count": 27,
   "metadata": {},
   "outputs": [
    {
     "data": {
      "text/plain": [
       "array([[ 27718.7165281 , 161971.29164393,  67187.94834947],\n",
       "       [161971.29164393, 946600.96669068, 390931.17628262],\n",
       "       [ 67187.94834947, 390931.17628262, 183421.94459286]])"
      ]
     },
     "execution_count": 27,
     "metadata": {},
     "output_type": "execute_result"
    }
   ],
   "source": [
    "pcov"
   ]
  },
  {
   "cell_type": "code",
   "execution_count": 28,
   "metadata": {},
   "outputs": [],
   "source": [
    "fit_vals = pressure_fit(O2_Tdata, popt[0], popt[1], popt[2])\n",
    "#fit_vals"
   ]
  },
  {
   "cell_type": "code",
   "execution_count": 29,
   "metadata": {},
   "outputs": [],
   "source": [
    "O2_jump4 = O2_final_data[O2_final_data['Datetime'].between(110000, 150000)]"
   ]
  },
  {
   "cell_type": "code",
   "execution_count": 30,
   "metadata": {},
   "outputs": [
    {
     "data": {
      "text/plain": [
       "(2, 965)"
      ]
     },
     "execution_count": 30,
     "metadata": {},
     "output_type": "execute_result"
    }
   ],
   "source": [
    "O2_4T = O2_jump4[['Datetime', 'temp_est']].T.to_numpy()\n",
    "O2_4T.shape"
   ]
  },
  {
   "cell_type": "code",
   "execution_count": 31,
   "metadata": {},
   "outputs": [],
   "source": [
    "popt, pcov = spo.curve_fit(pressure_fit, O2_4T, O2_jump4['O2_Pressure'], p0=[15, 5800, 1], bounds=([-np.inf, -np.inf, 0],np.inf), maxfev=8000)"
   ]
  },
  {
   "cell_type": "code",
   "execution_count": 32,
   "metadata": {},
   "outputs": [
    {
     "data": {
      "text/plain": [
       "array([1.5e+01, 5.8e+03, 1.0e+00])"
      ]
     },
     "execution_count": 32,
     "metadata": {},
     "output_type": "execute_result"
    }
   ],
   "source": [
    "popt"
   ]
  },
  {
   "cell_type": "code",
   "execution_count": 33,
   "metadata": {},
   "outputs": [
    {
     "data": {
      "text/plain": [
       "array([[4.64761375e+02, 1.00113163e+04, 2.28965095e+02],\n",
       "       [1.00113163e+04, 2.15720653e+05, 4.86178341e+03],\n",
       "       [2.28965095e+02, 4.86178341e+03, 1.85127280e+02]])"
      ]
     },
     "execution_count": 33,
     "metadata": {},
     "output_type": "execute_result"
    }
   ],
   "source": [
    "pcov"
   ]
  },
  {
   "cell_type": "code",
   "execution_count": 34,
   "metadata": {},
   "outputs": [],
   "source": [
    "O2_4_fits = pressure_fit(O2_4T, popt[0], popt[1], popt[2])"
   ]
  },
  {
   "cell_type": "markdown",
   "metadata": {},
   "source": [
    "### Plotting"
   ]
  },
  {
   "cell_type": "code",
   "execution_count": 35,
   "metadata": {},
   "outputs": [
    {
     "data": {
      "image/png": "[encoded data removed]",
      "text/plain": [
       "<Figure size 720x432 with 1 Axes>"
      ]
     },
     "metadata": {},
     "output_type": "display_data"
    }
   ],
   "source": [
    "fig, ax = plt.subplots(figsize=(10,6))\n",
    "ax.scatter(O2_jump4['Datetime']/3600, O2_jump4['O2_Pressure'], marker='.')\n",
    "ax.plot(O2_jump4['Datetime']/3600, O2_4_fits, color='darkorange')\n",
    "ax.set_ylabel('Partial Pressure [torr]')\n",
    "ax.set_xlabel('Experiment Time [hours]')\n",
    "ax.set_yscale('log')\n",
    "\n",
    "plt.show()"
   ]
  },
  {
   "cell_type": "code",
   "execution_count": 36,
   "metadata": {},
   "outputs": [
    {
     "data": {
      "image/png": "[encoded data removed]",
      "text/plain": [
       "<Figure size 720x864 with 2 Axes>"
      ]
     },
     "metadata": {},
     "output_type": "display_data"
    }
   ],
   "source": [
    "fig, ax = plt.subplots(figsize=(10,12),  nrows = 2, sharex=True)\n",
    "ax[0].scatter(H2_times, H2_data['Pressure'], marker='.', label='Hydrogen')\n",
    "ax[0].scatter(H2O_times, H2O_data['Pressure'], marker='.', label='Water Vapor')\n",
    "ax[0].scatter(N2_times, N2_data['Pressure'], marker='.', label='Nitrogen')\n",
    "ax[0].scatter(O2_times, O2_data['Pressure'], marker='.', label='Oxygen')\n",
    "ax[0].scatter(CO2_times, CO2_data['Pressure'], marker='.', label='Carbon Dioxide')\n",
    "ax[0].set_title('RGA Output for Impurities')\n",
    "ax[0].set_xlabel('Time')\n",
    "ax[0].set_ylabel('Partial Pressure (torr)')\n",
    "ax[0].legend()\n",
    "ax[0].set_yscale('log')\n",
    "\n",
    "ax[1].plot(temp_times, pd.to_numeric(Temp['CH1']), label='Channel 1')\n",
    "ax[1].plot(temp_times, pd.to_numeric(Temp['CH2']), label='Channel 2', color='darkorange')\n",
    "ax[1].set_title('Temperature over Time from Top and Bottom Channels')\n",
    "ax[1].set_xlabel('Time [sec]')\n",
    "ax[1].set_ylabel('Temperature (C)')\n",
    "ax[1].legend()\n",
    "\n",
    "fig.savefig('plot_out_2020_11_09.png', dpi=300)\n",
    "plt.show()"
   ]
  },
  {
   "cell_type": "code",
   "execution_count": 41,
   "metadata": {},
   "outputs": [
    {
     "data": {
      "image/png": "[encoded data removed]",
      "text/plain": [
       "<Figure size 720x432 with 1 Axes>"
      ]
     },
     "metadata": {},
     "output_type": "display_data"
    }
   ],
   "source": [
    "fig, ax = plt.subplots(figsize=(10,6))\n",
    "ax.scatter(O2_times, O2_final_data['ch1_lerp'], marker='.', label='Interpolated CH1')\n",
    "ax.scatter(O2_times, O2_final_data['ch2_lerp'], marker='.', label='Interpolated CH2', color='darkorange')\n",
    "ax.scatter(O2_final_data['Datetime'], O2_final_data['temp_est'], marker='.', label='Average Interpolated', color='maroon')\n",
    "ax.legend()\n",
    "\n",
    "plt.show()"
   ]
  },
  {
   "cell_type": "code",
   "execution_count": null,
   "metadata": {},
   "outputs": [],
   "source": []
  }
 ],
 "metadata": {
  "kernelspec": {
   "display_name": "Python 3",
   "language": "python",
   "name": "python3"
  },
  "language_info": {
   "codemirror_mode": {
    "name": "ipython",
    "version": 3
   },
   "file_extension": ".py",
   "mimetype": "text/x-python",
   "name": "python",
   "nbconvert_exporter": "python",
   "pygments_lexer": "ipython3",
   "version": "3.8.5"
  }
 },
 "nbformat": 4,
 "nbformat_minor": 4
}
