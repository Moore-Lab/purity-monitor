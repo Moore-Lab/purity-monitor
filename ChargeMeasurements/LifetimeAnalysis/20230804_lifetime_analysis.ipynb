{
 "cells": [
  {
   "cell_type": "code",
   "execution_count": 1,
   "metadata": {},
   "outputs": [],
   "source": [
    "## Notebook to analyze the anode/cathode waveforms from the liquid purity monitor and calculate\n",
    "## the outgassing rate\n",
    "\n",
    "import numpy as np\n",
    "import matplotlib.pyplot as plt\n",
    "import sys\n",
    "sys.path.append('../../WaveformAnalysis/')\n",
    "import Dataset as ds"
   ]
  },
  {
   "cell_type": "code",
   "execution_count": 2,
   "metadata": {},
   "outputs": [],
   "source": [
    "## path to data\n",
    "data_path = '/Users/dcmoore/Library/CloudStorage/GoogleDrive-david.c.moore@yale.edu/My Drive/yale/nEXO/lifetime_analysis/data/20230804/'\n",
    "\n",
    "## glob string for filenames to use\n",
    "filename = 'LXe_C2700*.h5'"
   ]
  },
  {
   "cell_type": "code",
   "execution_count": 3,
   "metadata": {},
   "outputs": [],
   "source": [
    "## intialize the dataset object and import data\n",
    "dset = ds.Dataset(data_path, Selection=filename)\n",
    "ch = dset.InitializeChannels()\n",
    "for filename in dset.Files:\n",
    "    dset.ImportDataFromHDF5(filename, ch)"
   ]
  },
  {
   "cell_type": "code",
   "execution_count": null,
   "metadata": {},
   "outputs": [],
   "source": []
  }
 ],
 "metadata": {
  "kernelspec": {
   "display_name": "Python 3",
   "language": "python",
   "name": "python3"
  },
  "language_info": {
   "codemirror_mode": {
    "name": "ipython",
    "version": 3
   },
   "file_extension": ".py",
   "mimetype": "text/x-python",
   "name": "python",
   "nbconvert_exporter": "python",
   "pygments_lexer": "ipython3",
   "version": "3.9.6"
  }
 },
 "nbformat": 4,
 "nbformat_minor": 2
}
